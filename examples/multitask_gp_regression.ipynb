{
 "cells": [
  {
   "cell_type": "code",
   "execution_count": 1,
   "metadata": {
    "collapsed": true
   },
   "outputs": [],
   "source": [
    "import math\n",
    "import torch\n",
    "import gpytorch\n",
    "from matplotlib import pyplot as plt\n",
    "\n",
    "%matplotlib inline\n",
    "%load_ext autoreload\n",
    "%autoreload 2"
   ]
  },
  {
   "cell_type": "code",
   "execution_count": 2,
   "metadata": {
    "collapsed": true
   },
   "outputs": [],
   "source": [
    "from torch.autograd import Variable\n",
    "train_x = Variable(torch.linspace(0, 1, 11))\n",
    "y1_inds = Variable(torch.zeros(11).long())\n",
    "y2_inds = Variable(torch.ones(11).long())\n",
    "train_y1 = Variable(torch.sin(train_x.data * (2 * math.pi)) + torch.randn(train_x.size()) * 0.2)\n",
    "train_y2 = Variable(torch.cos(train_x.data * (2 * math.pi)) + torch.randn(train_x.size()) * 0.2)"
   ]
  },
  {
   "cell_type": "code",
   "execution_count": 3,
   "metadata": {
    "collapsed": true
   },
   "outputs": [],
   "source": [
    "from torch import optim\n",
    "from gpytorch.kernels import RBFKernel, IndexKernel\n",
    "from gpytorch.means import ConstantMean\n",
    "from gpytorch.likelihoods import GaussianLikelihood\n",
    "from gpytorch.random_variables import GaussianRandomVariable"
   ]
  },
  {
   "cell_type": "code",
   "execution_count": 4,
   "metadata": {
    "collapsed": false
   },
   "outputs": [],
   "source": [
    "class MultitaskGPModel(gpytorch.GPModel):\n",
    "    def __init__(self):\n",
    "        super(MultitaskGPModel,self).__init__(GaussianLikelihood(log_noise_bounds=(-6, 6)))\n",
    "        self.mean_module = ConstantMean()\n",
    "        self.covar_module = RBFKernel(log_lengthscale_bounds=(-3, 3))\n",
    "        self.task_covar_module = IndexKernel(n_tasks=2, rank=1)\n",
    "\n",
    "    def forward(self,x,i):\n",
    "        mean_x = self.mean_module(x)\n",
    "        covar_x = self.covar_module(x)\n",
    "        covar_i = self.task_covar_module(i)\n",
    "        covar_xi = covar_x.mul(covar_i)\n",
    "        return GaussianRandomVariable(mean_x, covar_xi)\n",
    "\n",
    "model = MultitaskGPModel()"
   ]
  },
  {
   "cell_type": "code",
   "execution_count": 5,
   "metadata": {
    "collapsed": true
   },
   "outputs": [],
   "source": [
    "def plot_model_and_predictions(model, plot_train_x=True):\n",
    "    f, (y1_ax,y2_ax) = plt.subplots(1, 2, figsize=(8, 3))\n",
    "    test_x = Variable(torch.linspace(0, 1, 51))\n",
    "    y1_inds_test = Variable(torch.zeros(51).long())\n",
    "    y2_inds_test = Variable(torch.ones(51).long())\n",
    "    \n",
    "    observed_pred_y1 = model(test_x,y1_inds_test)\n",
    "    observed_pred_y2 = model(test_x,y2_inds_test)\n",
    "\n",
    "    def ax_plot(ax, train_y, rand_var, title):\n",
    "        lower, upper = rand_var.confidence_region()\n",
    "        if plot_train_x:\n",
    "            ax.plot(train_x.data.numpy(), train_y.data.numpy(), 'k*')\n",
    "        ax.plot(test_x.data.numpy(), rand_var.mean().data.numpy(), 'b')\n",
    "        ax.fill_between(test_x.data.numpy(), lower.data.numpy(), upper.data.numpy(), alpha=0.5)\n",
    "        ax.set_ylim([-3, 3])\n",
    "        ax.legend(['Observed Data', 'Mean', 'Confidence'])\n",
    "        ax.set_title(title)\n",
    "    \n",
    "    ax_plot(y1_ax, train_y1, observed_pred_y1, 'Observed Values (Likelihood)')\n",
    "    ax_plot(y2_ax, train_y2, observed_pred_y2, 'Observed Values (Likelihood)')\n",
    "    \n",
    "    return f"
   ]
  },
  {
   "cell_type": "code",
   "execution_count": 6,
   "metadata": {
    "collapsed": false,
    "scrolled": false
   },
   "outputs": [
    {
     "data": {
      "image/png": "[encoded data removed]",
      "text/plain": [
       "<matplotlib.figure.Figure at 0x7f9bb34de7d0>"
      ]
     },
     "metadata": {},
     "output_type": "display_data"
    }
   ],
   "source": [
    "f = plot_model_and_predictions(model, plot_train_x=False)"
   ]
  },
  {
   "cell_type": "code",
   "execution_count": 7,
   "metadata": {
    "collapsed": false,
    "scrolled": false
   },
   "outputs": [
    {
     "name": "stdout",
     "output_type": "stream",
     "text": [
      "Iter 1/50 - Loss: 1.228\n",
      "Iter 2/50 - Loss: 1.201\n",
      "Iter 3/50 - Loss: 1.199\n",
      "Iter 4/50 - Loss: 1.126\n",
      "Iter 5/50 - Loss: 1.179\n",
      "Iter 6/50 - Loss: 1.076\n",
      "Iter 7/50 - Loss: 1.074\n",
      "Iter 8/50 - Loss: 1.047\n",
      "Iter 9/50 - Loss: 1.087\n",
      "Iter 10/50 - Loss: 0.970\n",
      "Iter 11/50 - Loss: 1.025\n",
      "Iter 12/50 - Loss: 0.932\n",
      "Iter 13/50 - Loss: 0.912\n",
      "Iter 14/50 - Loss: 0.930\n",
      "Iter 15/50 - Loss: 0.935\n",
      "Iter 16/50 - Loss: 0.808\n",
      "Iter 17/50 - Loss: 0.782\n",
      "Iter 18/50 - Loss: 0.878\n",
      "Iter 19/50 - Loss: 0.727\n",
      "Iter 20/50 - Loss: 0.774\n",
      "Iter 21/50 - Loss: 0.739\n",
      "Iter 22/50 - Loss: 0.668\n",
      "Iter 23/50 - Loss: 0.730\n",
      "Iter 24/50 - Loss: 0.613\n",
      "Iter 25/50 - Loss: 0.820\n",
      "Iter 26/50 - Loss: 0.708\n",
      "Iter 27/50 - Loss: 0.631\n",
      "Iter 28/50 - Loss: 0.688\n",
      "Iter 29/50 - Loss: 0.743\n",
      "Iter 30/50 - Loss: 0.658\n",
      "Iter 31/50 - Loss: 0.497\n",
      "Iter 32/50 - Loss: 0.495\n",
      "Iter 33/50 - Loss: 0.676\n",
      "Iter 34/50 - Loss: 0.680\n",
      "Iter 35/50 - Loss: 0.629\n",
      "Iter 36/50 - Loss: 0.582\n",
      "Iter 37/50 - Loss: 0.639\n",
      "Iter 38/50 - Loss: 0.671\n",
      "Iter 39/50 - Loss: 0.756\n",
      "Iter 40/50 - Loss: 0.599\n",
      "Iter 41/50 - Loss: 0.614\n",
      "Iter 42/50 - Loss: 0.602\n",
      "Iter 43/50 - Loss: 0.649\n",
      "Iter 44/50 - Loss: 0.718\n",
      "Iter 45/50 - Loss: 0.645\n",
      "Iter 46/50 - Loss: 0.553\n",
      "Iter 47/50 - Loss: 0.626\n",
      "Iter 48/50 - Loss: 0.661\n",
      "Iter 49/50 - Loss: 0.598\n",
      "Iter 50/50 - Loss: 0.716\n"
     ]
    }
   ],
   "source": [
    "# Find optimal model hyperparameters\n",
    "model.train()\n",
    "optimizer = optim.Adam(model.parameters(), lr=0.1)\n",
    "optimizer.n_iter = 0\n",
    "for i in range(50):\n",
    "    optimizer.zero_grad()\n",
    "    output = model(torch.cat([train_x, train_x]), torch.cat([y1_inds, y2_inds]))\n",
    "    loss = -model.marginal_log_likelihood(output, torch.cat([train_y1, train_y2]))\n",
    "    loss.backward()\n",
    "    optimizer.n_iter += 1\n",
    "    print('Iter %d/50 - Loss: %.3f' % (i + 1, loss.data[0]))\n",
    "    optimizer.step()\n",
    "    \n",
    "# Set back to eval mode\n",
    "model.eval()\n",
    "None"
   ]
  },
  {
   "cell_type": "code",
   "execution_count": 8,
   "metadata": {
    "collapsed": false,
    "scrolled": false
   },
   "outputs": [
    {
     "data": {
      "image/png": "[encoded data removed]",
      "text/plain": [
       "<matplotlib.figure.Figure at 0x7f9bb34de310>"
      ]
     },
     "metadata": {},
     "output_type": "display_data"
    }
   ],
   "source": [
    "model.condition((torch.cat([train_x, train_x]), torch.cat([y1_inds, y2_inds])), torch.cat([train_y1, train_y2]))\n",
    "f = plot_model_and_predictions(model)"
   ]
  },
  {
   "cell_type": "code",
   "execution_count": null,
   "metadata": {
    "collapsed": true
   },
   "outputs": [],
   "source": []
  }
 ],
 "metadata": {
  "anaconda-cloud": {},
  "kernelspec": {
   "display_name": "Python [default]",
   "language": "python",
   "name": "python2"
  },
  "language_info": {
   "codemirror_mode": {
    "name": "ipython",
    "version": 2
   },
   "file_extension": ".py",
   "mimetype": "text/x-python",
   "name": "python",
   "nbconvert_exporter": "python",
   "pygments_lexer": "ipython2",
   "version": "2.7.12"
  }
 },
 "nbformat": 4,
 "nbformat_minor": 1
}
