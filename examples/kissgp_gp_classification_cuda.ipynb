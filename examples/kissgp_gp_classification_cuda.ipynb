{
 "cells": [
  {
   "cell_type": "code",
   "execution_count": 1,
   "metadata": {
    "collapsed": false
   },
   "outputs": [],
   "source": [
    "import math\n",
    "import torch\n",
    "import gpytorch\n",
    "from matplotlib import pyplot as plt\n",
    "\n",
    "%matplotlib inline\n",
    "%load_ext autoreload\n",
    "%autoreload 2"
   ]
  },
  {
   "cell_type": "code",
   "execution_count": 16,
   "metadata": {
    "collapsed": false
   },
   "outputs": [],
   "source": [
    "from torch.autograd import Variable\n",
    "train_x = Variable(torch.linspace(0, 1, 1001)).cuda()\n",
    "train_y = Variable(torch.sign(torch.cos(train_x.data * (8 * math.pi)))).cuda()"
   ]
  },
  {
   "cell_type": "code",
   "execution_count": 17,
   "metadata": {
    "collapsed": true
   },
   "outputs": [],
   "source": [
    "from torch import nn, optim\n",
    "from gpytorch.kernels import RBFKernel, GridInterpolationKernel\n",
    "from gpytorch.means import ConstantMean\n",
    "from gpytorch.likelihoods import GaussianLikelihood, BernoulliLikelihood\n",
    "from gpytorch.random_variables import GaussianRandomVariable\n",
    "gpytorch.functions.use_toeplitz = False"
   ]
  },
  {
   "cell_type": "code",
   "execution_count": 18,
   "metadata": {
    "collapsed": false
   },
   "outputs": [],
   "source": [
    "class LatentFunction(gpytorch.GridInducingPointModule):\n",
    "    def __init__(self):\n",
    "        super(LatentFunction, self).__init__(grid_size=100, grid_bounds=[(0, 1)])\n",
    "        self.mean_module = ConstantMean(constant_bounds=[-1e-5,1e-5])\n",
    "        self.covar_module = RBFKernel(log_lengthscale_bounds=(-5, 6))\n",
    "        self.register_parameter('log_outputscale', nn.Parameter(torch.Tensor([0])), bounds=(-5,6))\n",
    "        \n",
    "    def forward(self,x):\n",
    "        mean_x = self.mean_module(x)\n",
    "        covar_x = self.covar_module(x)\n",
    "        covar_x = covar_x.mul(self.log_outputscale.exp())\n",
    "        latent_pred = GaussianRandomVariable(mean_x, covar_x)\n",
    "        return latent_pred\n",
    "\n",
    "class GPClassificationModel(gpytorch.GPModel):\n",
    "    def __init__(self):\n",
    "        super(GPClassificationModel,self).__init__(BernoulliLikelihood())\n",
    "        self.latent_function = LatentFunction()\n",
    "        \n",
    "    def forward(self, x):\n",
    "        return self.latent_function(x)\n",
    "\n",
    "model = GPClassificationModel().cuda()"
   ]
  },
  {
   "cell_type": "code",
   "execution_count": 19,
   "metadata": {
    "collapsed": true
   },
   "outputs": [],
   "source": [
    "def plot_model_and_predictions(model, plot_train_data=True):\n",
    "    f, observed_ax = plt.subplots(1, 1, figsize=(4, 3))\n",
    "    test_x = Variable(torch.linspace(0, 1, 1001)).cuda()\n",
    "    observed_pred = model(test_x)\n",
    "\n",
    "    def ax_plot(ax, rand_var, title):\n",
    "        if plot_train_data:\n",
    "            ax.plot(train_x.data.cpu().numpy(), train_y.data.cpu().numpy(), 'k*')\n",
    "        pred_labels = rand_var.mean().ge(0.5).float().mul(2).sub(1)\n",
    "        ax.plot(test_x.data.cpu().numpy(), pred_labels.data.cpu().numpy(), 'b')\n",
    "        ax.set_ylim([-3, 3])\n",
    "        ax.legend(['Observed Data', 'Mean', 'Confidence'])\n",
    "        ax.set_title(title)\n",
    "    \n",
    "    ax_plot(observed_ax, observed_pred, 'Observed Values (Likelihood)')\n",
    "    \n",
    "    return f"
   ]
  },
  {
   "cell_type": "code",
   "execution_count": 20,
   "metadata": {
    "collapsed": false,
    "scrolled": true
   },
   "outputs": [
    {
     "data": {
      "image/png": "[encoded data removed]",
      "text/plain": [
       "<matplotlib.figure.Figure at 0x7f84bb03ca50>"
      ]
     },
     "metadata": {},
     "output_type": "display_data"
    }
   ],
   "source": [
    "model.eval()\n",
    "f = plot_model_and_predictions(model, plot_train_data=False)"
   ]
  },
  {
   "cell_type": "code",
   "execution_count": 21,
   "metadata": {
    "collapsed": false,
    "scrolled": true
   },
   "outputs": [
    {
     "name": "stdout",
     "output_type": "stream",
     "text": [
      "Iter 1/200 - Loss: 477392.594   log_lengthscale: 0.000\n",
      "Iter 2/200 - Loss: 407821.156   log_lengthscale: -0.100\n",
      "Iter 3/200 - Loss: 292184.250   log_lengthscale: -0.178\n",
      "Iter 4/200 - Loss: 235534.562   log_lengthscale: -0.258\n",
      "Iter 5/200 - Loss: 215154.234   log_lengthscale: -0.345\n",
      "Iter 6/200 - Loss: 138470.500   log_lengthscale: -0.431\n",
      "Iter 7/200 - Loss: 146065.766   log_lengthscale: -0.512\n",
      "Iter 8/200 - Loss: 84000.516   log_lengthscale: -0.591\n",
      "Iter 9/200 - Loss: 83348.672   log_lengthscale: -0.667\n",
      "Iter 10/200 - Loss: 72316.297   log_lengthscale: -0.739\n",
      "Iter 11/200 - Loss: 42978.777   log_lengthscale: -0.817\n",
      "Iter 12/200 - Loss: 40873.098   log_lengthscale: -0.894\n",
      "Iter 13/200 - Loss: 19110.412   log_lengthscale: -0.978\n",
      "Iter 14/200 - Loss: 33059.316   log_lengthscale: -1.065\n",
      "Iter 15/200 - Loss: 13041.895   log_lengthscale: -1.143\n",
      "Iter 16/200 - Loss: 30295.285   log_lengthscale: -1.226\n",
      "Iter 17/200 - Loss: 29655.895   log_lengthscale: -1.305\n",
      "Iter 18/200 - Loss: 33604.660   log_lengthscale: -1.386\n",
      "Iter 19/200 - Loss: 42604.953   log_lengthscale: -1.467\n",
      "Iter 20/200 - Loss: 30992.934   log_lengthscale: -1.552\n",
      "Iter 21/200 - Loss: 26486.643   log_lengthscale: -1.641\n",
      "Iter 22/200 - Loss: 21458.459   log_lengthscale: -1.732\n",
      "Iter 23/200 - Loss: 17419.873   log_lengthscale: -1.816\n",
      "Iter 24/200 - Loss: 15607.979   log_lengthscale: -1.898\n",
      "Iter 25/200 - Loss: 16698.941   log_lengthscale: -1.984\n",
      "Iter 26/200 - Loss: 23383.703   log_lengthscale: -2.064\n",
      "Iter 27/200 - Loss: 17014.498   log_lengthscale: -2.153\n",
      "Iter 28/200 - Loss: 13225.246   log_lengthscale: -2.245\n",
      "Iter 29/200 - Loss: 11793.316   log_lengthscale: -2.344\n",
      "Iter 30/200 - Loss: 5090.840   log_lengthscale: -2.443\n",
      "Iter 31/200 - Loss: 4627.037   log_lengthscale: -2.542\n",
      "Iter 32/200 - Loss: 3868.863   log_lengthscale: -2.635\n",
      "Iter 33/200 - Loss: 5009.485   log_lengthscale: -2.724\n",
      "Iter 34/200 - Loss: 2087.804   log_lengthscale: -2.809\n",
      "Iter 35/200 - Loss: 3078.246   log_lengthscale: -2.894\n",
      "Iter 36/200 - Loss: 4427.626   log_lengthscale: -2.977\n",
      "Iter 37/200 - Loss: 3521.516   log_lengthscale: -3.057\n",
      "Iter 38/200 - Loss: 2641.869   log_lengthscale: -3.132\n",
      "Iter 39/200 - Loss: 1651.585   log_lengthscale: -3.206\n",
      "Iter 40/200 - Loss: 1631.209   log_lengthscale: -3.277\n",
      "Iter 41/200 - Loss: 1531.067   log_lengthscale: -3.346\n",
      "Iter 42/200 - Loss: 1327.568   log_lengthscale: -3.410\n",
      "Iter 43/200 - Loss: 1113.464   log_lengthscale: -3.470\n",
      "Iter 44/200 - Loss: 1130.919   log_lengthscale: -3.526\n",
      "Iter 45/200 - Loss: 1023.744   log_lengthscale: -3.578\n",
      "Iter 46/200 - Loss: 1123.141   log_lengthscale: -3.628\n",
      "Iter 47/200 - Loss: 1144.915   log_lengthscale: -3.673\n",
      "Iter 48/200 - Loss: 1104.410   log_lengthscale: -3.716\n",
      "Iter 49/200 - Loss: 965.548   log_lengthscale: -3.755\n",
      "Iter 50/200 - Loss: 1144.247   log_lengthscale: -3.792\n",
      "Iter 51/200 - Loss: 891.961   log_lengthscale: -3.826\n",
      "Iter 52/200 - Loss: 958.904   log_lengthscale: -3.858\n",
      "Iter 53/200 - Loss: 1013.637   log_lengthscale: -3.887\n",
      "Iter 54/200 - Loss: 1152.177   log_lengthscale: -3.915\n",
      "Iter 55/200 - Loss: 833.534   log_lengthscale: -3.940\n",
      "Iter 56/200 - Loss: 905.295   log_lengthscale: -3.964\n",
      "Iter 57/200 - Loss: 887.344   log_lengthscale: -3.986\n",
      "Iter 58/200 - Loss: 1037.003   log_lengthscale: -4.006\n",
      "Iter 59/200 - Loss: 1128.758   log_lengthscale: -4.024\n",
      "Iter 60/200 - Loss: 1052.908   log_lengthscale: -4.041\n",
      "Iter 61/200 - Loss: 979.366   log_lengthscale: -4.056\n",
      "Iter 62/200 - Loss: 970.379   log_lengthscale: -4.071\n",
      "Iter 63/200 - Loss: 903.664   log_lengthscale: -4.084\n",
      "Iter 64/200 - Loss: 962.448   log_lengthscale: -4.097\n",
      "Iter 65/200 - Loss: 1034.699   log_lengthscale: -4.109\n",
      "Iter 66/200 - Loss: 1184.958   log_lengthscale: -4.120\n",
      "Iter 67/200 - Loss: 932.296   log_lengthscale: -4.129\n",
      "Iter 68/200 - Loss: 927.969   log_lengthscale: -4.139\n",
      "Iter 69/200 - Loss: 959.829   log_lengthscale: -4.147\n",
      "Iter 70/200 - Loss: 987.318   log_lengthscale: -4.155\n",
      "Iter 71/200 - Loss: 947.188   log_lengthscale: -4.163\n",
      "Iter 72/200 - Loss: 851.140   log_lengthscale: -4.170\n",
      "Iter 73/200 - Loss: 997.383   log_lengthscale: -4.176\n",
      "Iter 74/200 - Loss: 813.161   log_lengthscale: -4.182\n",
      "Iter 75/200 - Loss: 904.846   log_lengthscale: -4.188\n",
      "Iter 76/200 - Loss: 852.989   log_lengthscale: -4.193\n",
      "Iter 77/200 - Loss: 864.663   log_lengthscale: -4.198\n",
      "Iter 78/200 - Loss: 818.101   log_lengthscale: -4.203\n",
      "Iter 79/200 - Loss: 963.928   log_lengthscale: -4.207\n",
      "Iter 80/200 - Loss: 863.847   log_lengthscale: -4.211\n",
      "Iter 81/200 - Loss: 794.546   log_lengthscale: -4.215\n",
      "Iter 82/200 - Loss: 806.913   log_lengthscale: -4.219\n",
      "Iter 83/200 - Loss: 827.606   log_lengthscale: -4.222\n",
      "Iter 84/200 - Loss: 833.216   log_lengthscale: -4.226\n",
      "Iter 85/200 - Loss: 901.364   log_lengthscale: -4.229\n",
      "Iter 86/200 - Loss: 808.595   log_lengthscale: -4.232\n",
      "Iter 87/200 - Loss: 886.901   log_lengthscale: -4.234\n",
      "Iter 88/200 - Loss: 759.037   log_lengthscale: -4.237\n",
      "Iter 89/200 - Loss: 664.728   log_lengthscale: -4.239\n",
      "Iter 90/200 - Loss: 827.564   log_lengthscale: -4.241\n",
      "Iter 91/200 - Loss: 700.238   log_lengthscale: -4.243\n",
      "Iter 92/200 - Loss: 720.318   log_lengthscale: -4.246\n",
      "Iter 93/200 - Loss: 734.457   log_lengthscale: -4.247\n",
      "Iter 94/200 - Loss: 700.761   log_lengthscale: -4.249\n",
      "Iter 95/200 - Loss: 714.634   log_lengthscale: -4.251\n",
      "Iter 96/200 - Loss: 862.952   log_lengthscale: -4.253\n",
      "Iter 97/200 - Loss: 746.705   log_lengthscale: -4.254\n",
      "Iter 98/200 - Loss: 739.163   log_lengthscale: -4.256\n",
      "Iter 99/200 - Loss: 818.861   log_lengthscale: -4.257\n",
      "Iter 100/200 - Loss: 674.252   log_lengthscale: -4.258\n",
      "Iter 101/200 - Loss: 704.114   log_lengthscale: -4.260\n",
      "Iter 102/200 - Loss: 814.569   log_lengthscale: -4.261\n",
      "Iter 103/200 - Loss: 745.609   log_lengthscale: -4.262\n",
      "Iter 104/200 - Loss: 738.228   log_lengthscale: -4.263\n",
      "Iter 105/200 - Loss: 651.293   log_lengthscale: -4.264\n",
      "Iter 106/200 - Loss: 704.884   log_lengthscale: -4.265\n",
      "Iter 107/200 - Loss: 647.703   log_lengthscale: -4.266\n",
      "Iter 108/200 - Loss: 754.695   log_lengthscale: -4.267\n",
      "Iter 109/200 - Loss: 655.693   log_lengthscale: -4.268\n",
      "Iter 110/200 - Loss: 673.787   log_lengthscale: -4.269\n",
      "Iter 111/200 - Loss: 743.239   log_lengthscale: -4.270\n",
      "Iter 112/200 - Loss: 708.912   log_lengthscale: -4.271\n",
      "Iter 113/200 - Loss: 691.912   log_lengthscale: -4.272\n",
      "Iter 114/200 - Loss: 663.685   log_lengthscale: -4.273\n",
      "Iter 115/200 - Loss: 695.582   log_lengthscale: -4.274\n",
      "Iter 116/200 - Loss: 627.672   log_lengthscale: -4.275\n",
      "Iter 117/200 - Loss: 589.557   log_lengthscale: -4.276\n",
      "Iter 118/200 - Loss: 666.498   log_lengthscale: -4.277\n",
      "Iter 119/200 - Loss: 587.823   log_lengthscale: -4.277\n",
      "Iter 120/200 - Loss: 598.951   log_lengthscale: -4.278\n",
      "Iter 121/200 - Loss: 636.997   log_lengthscale: -4.279\n",
      "Iter 122/200 - Loss: 652.353   log_lengthscale: -4.280\n",
      "Iter 123/200 - Loss: 582.766   log_lengthscale: -4.281\n",
      "Iter 124/200 - Loss: 631.750   log_lengthscale: -4.282\n",
      "Iter 125/200 - Loss: 687.692   log_lengthscale: -4.283\n",
      "Iter 126/200 - Loss: 682.798   log_lengthscale: -4.284\n",
      "Iter 127/200 - Loss: 585.124   log_lengthscale: -4.285\n",
      "Iter 128/200 - Loss: 569.520   log_lengthscale: -4.286\n",
      "Iter 129/200 - Loss: 582.491   log_lengthscale: -4.288\n",
      "Iter 130/200 - Loss: 630.807   log_lengthscale: -4.289\n",
      "Iter 131/200 - Loss: 535.980   log_lengthscale: -4.290\n",
      "Iter 132/200 - Loss: 561.661   log_lengthscale: -4.291\n",
      "Iter 133/200 - Loss: 540.880   log_lengthscale: -4.292\n",
      "Iter 134/200 - Loss: 581.981   log_lengthscale: -4.293\n",
      "Iter 135/200 - Loss: 550.713   log_lengthscale: -4.294\n",
      "Iter 136/200 - Loss: 524.565   log_lengthscale: -4.295\n",
      "Iter 137/200 - Loss: 594.458   log_lengthscale: -4.296\n",
      "Iter 138/200 - Loss: 550.924   log_lengthscale: -4.297\n",
      "Iter 139/200 - Loss: 568.260   log_lengthscale: -4.298\n",
      "Iter 140/200 - Loss: 511.385   log_lengthscale: -4.299\n",
      "Iter 141/200 - Loss: 581.852   log_lengthscale: -4.300\n",
      "Iter 142/200 - Loss: 492.261   log_lengthscale: -4.301\n",
      "Iter 143/200 - Loss: 579.490   log_lengthscale: -4.302\n",
      "Iter 144/200 - Loss: 512.885   log_lengthscale: -4.303\n",
      "Iter 145/200 - Loss: 533.424   log_lengthscale: -4.304\n",
      "Iter 146/200 - Loss: 516.326   log_lengthscale: -4.304\n",
      "Iter 147/200 - Loss: 459.787   log_lengthscale: -4.305\n",
      "Iter 148/200 - Loss: 502.209   log_lengthscale: -4.306\n",
      "Iter 149/200 - Loss: 524.989   log_lengthscale: -4.307\n",
      "Iter 150/200 - Loss: 516.178   log_lengthscale: -4.308\n",
      "Iter 151/200 - Loss: 535.174   log_lengthscale: -4.308\n",
      "Iter 152/200 - Loss: 509.289   log_lengthscale: -4.309\n",
      "Iter 153/200 - Loss: 515.061   log_lengthscale: -4.310\n",
      "Iter 154/200 - Loss: 456.440   log_lengthscale: -4.311\n",
      "Iter 155/200 - Loss: 459.024   log_lengthscale: -4.312\n",
      "Iter 156/200 - Loss: 491.220   log_lengthscale: -4.313\n",
      "Iter 157/200 - Loss: 447.884   log_lengthscale: -4.314\n",
      "Iter 158/200 - Loss: 451.268   log_lengthscale: -4.314\n",
      "Iter 159/200 - Loss: 468.516   log_lengthscale: -4.315\n",
      "Iter 160/200 - Loss: 469.454   log_lengthscale: -4.316\n",
      "Iter 161/200 - Loss: 449.398   log_lengthscale: -4.317\n",
      "Iter 162/200 - Loss: 475.095   log_lengthscale: -4.318\n",
      "Iter 163/200 - Loss: 473.023   log_lengthscale: -4.319\n",
      "Iter 164/200 - Loss: 462.563   log_lengthscale: -4.320\n",
      "Iter 165/200 - Loss: 452.953   log_lengthscale: -4.321\n",
      "Iter 166/200 - Loss: 486.912   log_lengthscale: -4.322\n",
      "Iter 167/200 - Loss: 465.217   log_lengthscale: -4.323\n",
      "Iter 168/200 - Loss: 438.214   log_lengthscale: -4.324\n",
      "Iter 169/200 - Loss: 440.440   log_lengthscale: -4.325\n",
      "Iter 170/200 - Loss: 421.944   log_lengthscale: -4.326\n",
      "Iter 171/200 - Loss: 423.371   log_lengthscale: -4.326\n",
      "Iter 172/200 - Loss: 464.418   log_lengthscale: -4.327\n",
      "Iter 173/200 - Loss: 483.054   log_lengthscale: -4.328\n",
      "Iter 174/200 - Loss: 425.116   log_lengthscale: -4.329\n",
      "Iter 175/200 - Loss: 407.016   log_lengthscale: -4.330\n",
      "Iter 176/200 - Loss: 421.581   log_lengthscale: -4.331\n",
      "Iter 177/200 - Loss: 445.992   log_lengthscale: -4.332\n",
      "Iter 178/200 - Loss: 432.827   log_lengthscale: -4.333\n",
      "Iter 179/200 - Loss: 457.846   log_lengthscale: -4.334\n",
      "Iter 180/200 - Loss: 408.309   log_lengthscale: -4.335\n",
      "Iter 181/200 - Loss: 415.453   log_lengthscale: -4.335\n",
      "Iter 182/200 - Loss: 397.445   log_lengthscale: -4.336\n",
      "Iter 183/200 - Loss: 428.986   log_lengthscale: -4.337\n",
      "Iter 184/200 - Loss: 427.073   log_lengthscale: -4.338\n",
      "Iter 185/200 - Loss: 392.406   log_lengthscale: -4.339\n",
      "Iter 186/200 - Loss: 376.754   log_lengthscale: -4.340\n",
      "Iter 187/200 - Loss: 407.948   log_lengthscale: -4.341\n",
      "Iter 188/200 - Loss: 383.814   log_lengthscale: -4.342\n",
      "Iter 189/200 - Loss: 401.065   log_lengthscale: -4.343\n",
      "Iter 190/200 - Loss: 393.316   log_lengthscale: -4.344\n",
      "Iter 191/200 - Loss: 357.905   log_lengthscale: -4.345\n",
      "Iter 192/200 - Loss: 371.423   log_lengthscale: -4.345\n",
      "Iter 193/200 - Loss: 394.076   log_lengthscale: -4.346\n",
      "Iter 194/200 - Loss: 389.151   log_lengthscale: -4.347\n",
      "Iter 195/200 - Loss: 416.681   log_lengthscale: -4.348\n",
      "Iter 196/200 - Loss: 387.686   log_lengthscale: -4.349\n",
      "Iter 197/200 - Loss: 373.308   log_lengthscale: -4.350\n",
      "Iter 198/200 - Loss: 356.424   log_lengthscale: -4.351\n",
      "Iter 199/200 - Loss: 384.079   log_lengthscale: -4.351\n",
      "Iter 200/200 - Loss: 359.416   log_lengthscale: -4.352\n"
     ]
    }
   ],
   "source": [
    "# Find optimal model hyperparameters\n",
    "model.train()\n",
    "optimizer = optim.Adam(model.parameters(), lr=0.1)\n",
    "optimizer.n_iter = 0\n",
    "for i in range(200):\n",
    "    optimizer.zero_grad()\n",
    "    output = model.forward(train_x)\n",
    "    loss = -model.marginal_log_likelihood(output, train_y)\n",
    "    loss.backward()\n",
    "    optimizer.n_iter += 1\n",
    "    print('Iter %d/200 - Loss: %.3f   log_lengthscale: %.3f' % (\n",
    "        i + 1, loss.data[0],\n",
    "        model.latent_function.covar_module.base_kernel_module.log_lengthscale.data.squeeze()[0],\n",
    "    ))\n",
    "    optimizer.step()\n",
    "    \n",
    "# Set back to eval mode\n",
    "model.eval()\n",
    "None"
   ]
  },
  {
   "cell_type": "code",
   "execution_count": 22,
   "metadata": {
    "collapsed": false,
    "scrolled": false
   },
   "outputs": [
    {
     "data": {
      "image/png": "[encoded data removed]",
      "text/plain": [
       "<matplotlib.figure.Figure at 0x7f84204b7450>"
      ]
     },
     "metadata": {},
     "output_type": "display_data"
    }
   ],
   "source": [
    "f = plot_model_and_predictions(model)"
   ]
  }
 ],
 "metadata": {
  "anaconda-cloud": {},
  "kernelspec": {
   "display_name": "Python [default]",
   "language": "python",
   "name": "python2"
  },
  "language_info": {
   "codemirror_mode": {
    "name": "ipython",
    "version": 2
   },
   "file_extension": ".py",
   "mimetype": "text/x-python",
   "name": "python",
   "nbconvert_exporter": "python",
   "pygments_lexer": "ipython2",
   "version": "2.7.12"
  }
 },
 "nbformat": 4,
 "nbformat_minor": 1
}
