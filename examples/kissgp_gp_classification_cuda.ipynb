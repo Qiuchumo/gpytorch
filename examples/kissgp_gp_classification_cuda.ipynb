{
 "cells": [
  {
   "cell_type": "code",
   "execution_count": 1,
   "metadata": {
    "collapsed": false
   },
   "outputs": [],
   "source": [
    "import math\n",
    "import torch\n",
    "import gpytorch\n",
    "from matplotlib import pyplot as plt\n",
    "\n",
    "%matplotlib inline\n",
    "%load_ext autoreload\n",
    "%autoreload 2"
   ]
  },
  {
   "cell_type": "code",
   "execution_count": 2,
   "metadata": {
    "collapsed": false
   },
   "outputs": [],
   "source": [
    "from torch.autograd import Variable\n",
    "train_x = Variable(torch.linspace(0, 1, 10001)).cuda()\n",
    "train_y = Variable(torch.sign(torch.cos(train_x.data * (8 * math.pi)))).cuda()"
   ]
  },
  {
   "cell_type": "code",
   "execution_count": 3,
   "metadata": {
    "collapsed": true
   },
   "outputs": [],
   "source": [
    "from torch import nn, optim\n",
    "from gpytorch.kernels import RBFKernel, GridInterpolationKernel\n",
    "from gpytorch.means import ConstantMean\n",
    "from gpytorch.likelihoods import GaussianLikelihood, BernoulliLikelihood\n",
    "from gpytorch.random_variables import GaussianRandomVariable"
   ]
  },
  {
   "cell_type": "code",
   "execution_count": 4,
   "metadata": {
    "collapsed": false
   },
   "outputs": [],
   "source": [
    "class LatentFunction(gpytorch.GridInducingPointModule):\n",
    "    def __init__(self):\n",
    "        super(LatentFunction, self).__init__(grid_size=30, grid_bounds=[(0, 1)])\n",
    "        self.mean_module = ConstantMean(constant_bounds=[-1e-5,1e-5])\n",
    "        self.covar_module = RBFKernel(log_lengthscale_bounds=(-5, 6))\n",
    "        self.register_parameter('log_outputscale', nn.Parameter(torch.Tensor([0])), bounds=(-5,6))\n",
    "        \n",
    "    def forward(self,x):\n",
    "        mean_x = self.mean_module(x)\n",
    "        covar_x = self.covar_module(x)\n",
    "        covar_x = covar_x.mul(self.log_outputscale.exp())\n",
    "        latent_pred = GaussianRandomVariable(mean_x, covar_x)\n",
    "        return latent_pred\n",
    "\n",
    "class GPClassificationModel(gpytorch.GPModel):\n",
    "    def __init__(self):\n",
    "        super(GPClassificationModel,self).__init__(BernoulliLikelihood())\n",
    "        self.latent_function = LatentFunction()\n",
    "        \n",
    "    def forward(self, x):\n",
    "        return self.latent_function(x)\n",
    "\n",
    "model = GPClassificationModel().cuda()"
   ]
  },
  {
   "cell_type": "code",
   "execution_count": 5,
   "metadata": {
    "collapsed": true
   },
   "outputs": [],
   "source": [
    "def plot_model_and_predictions(model, plot_train_data=True):\n",
    "    f, observed_ax = plt.subplots(1, 1, figsize=(4, 3))\n",
    "    test_x = Variable(torch.linspace(0, 1, 1001)).cuda()\n",
    "    observed_pred = model(test_x)\n",
    "\n",
    "    def ax_plot(ax, rand_var, title):\n",
    "        if plot_train_data:\n",
    "            ax.plot(train_x.data.cpu().numpy(), train_y.data.cpu().numpy(), 'k*')\n",
    "        pred_labels = rand_var.mean().ge(0.5).float().mul(2).sub(1)\n",
    "        ax.plot(test_x.data.cpu().numpy(), pred_labels.data.cpu().numpy(), 'b')\n",
    "        ax.set_ylim([-3, 3])\n",
    "        ax.legend(['Observed Data', 'Mean', 'Confidence'])\n",
    "        ax.set_title(title)\n",
    "    \n",
    "    ax_plot(observed_ax, observed_pred, 'Observed Values (Likelihood)')\n",
    "    \n",
    "    return f"
   ]
  },
  {
   "cell_type": "code",
   "execution_count": 6,
   "metadata": {
    "collapsed": false,
    "scrolled": true
   },
   "outputs": [
    {
     "data": {
      "image/png": "[encoded data removed]",
      "text/plain": [
       "<matplotlib.figure.Figure at 0x7f7372cd5810>"
      ]
     },
     "metadata": {},
     "output_type": "display_data"
    }
   ],
   "source": [
    "model.eval()\n",
    "f = plot_model_and_predictions(model, plot_train_data=False)"
   ]
  },
  {
   "cell_type": "code",
   "execution_count": 7,
   "metadata": {
    "collapsed": false,
    "scrolled": true
   },
   "outputs": [
    {
     "name": "stdout",
     "output_type": "stream",
     "text": [
      "Iter 1/200 - Loss: 135303.047   log_lengthscale: 0.000\n",
      "Iter 2/200 - Loss: 105395.211   log_lengthscale: -0.100\n",
      "Iter 3/200 - Loss: 79291.820   log_lengthscale: -0.197\n",
      "Iter 4/200 - Loss: 59728.645   log_lengthscale: -0.295\n",
      "Iter 5/200 - Loss: 49602.047   log_lengthscale: -0.389\n",
      "Iter 6/200 - Loss: 37766.188   log_lengthscale: -0.486\n",
      "Iter 7/200 - Loss: 33309.281   log_lengthscale: -0.583\n",
      "Iter 8/200 - Loss: 29976.496   log_lengthscale: -0.682\n",
      "Iter 9/200 - Loss: 20820.926   log_lengthscale: -0.782\n",
      "Iter 10/200 - Loss: 16286.612   log_lengthscale: -0.884\n",
      "Iter 11/200 - Loss: 16341.395   log_lengthscale: -0.986\n",
      "Iter 12/200 - Loss: 20888.533   log_lengthscale: -1.089\n",
      "Iter 13/200 - Loss: 16596.367   log_lengthscale: -1.190\n",
      "Iter 14/200 - Loss: 17902.766   log_lengthscale: -1.286\n",
      "Iter 15/200 - Loss: 14620.590   log_lengthscale: -1.383\n",
      "Iter 16/200 - Loss: 12729.295   log_lengthscale: -1.483\n",
      "Iter 17/200 - Loss: 10976.598   log_lengthscale: -1.583\n",
      "Iter 18/200 - Loss: 11625.962   log_lengthscale: -1.682\n",
      "Iter 19/200 - Loss: 9984.485   log_lengthscale: -1.781\n",
      "Iter 20/200 - Loss: 10359.377   log_lengthscale: -1.873\n",
      "Iter 21/200 - Loss: 9397.215   log_lengthscale: -1.961\n",
      "Iter 22/200 - Loss: 8161.364   log_lengthscale: -2.048\n",
      "Iter 23/200 - Loss: 8127.033   log_lengthscale: -2.131\n",
      "Iter 24/200 - Loss: 8647.009   log_lengthscale: -2.205\n",
      "Iter 25/200 - Loss: 7789.338   log_lengthscale: -2.279\n",
      "Iter 26/200 - Loss: 7232.001   log_lengthscale: -2.350\n",
      "Iter 27/200 - Loss: 6968.385   log_lengthscale: -2.418\n",
      "Iter 28/200 - Loss: 7327.539   log_lengthscale: -2.483\n",
      "Iter 29/200 - Loss: 7646.989   log_lengthscale: -2.546\n",
      "Iter 30/200 - Loss: 7433.741   log_lengthscale: -2.606\n",
      "Iter 31/200 - Loss: 7138.311   log_lengthscale: -2.664\n",
      "Iter 32/200 - Loss: 6406.935   log_lengthscale: -2.719\n",
      "Iter 33/200 - Loss: 6190.596   log_lengthscale: -2.773\n",
      "Iter 34/200 - Loss: 5545.037   log_lengthscale: -2.823\n",
      "Iter 35/200 - Loss: 5744.182   log_lengthscale: -2.871\n",
      "Iter 36/200 - Loss: 5064.411   log_lengthscale: -2.916\n",
      "Iter 37/200 - Loss: 4705.742   log_lengthscale: -2.957\n",
      "Iter 38/200 - Loss: 4994.338   log_lengthscale: -2.996\n",
      "Iter 39/200 - Loss: 5572.881   log_lengthscale: -3.033\n",
      "Iter 40/200 - Loss: 4002.667   log_lengthscale: -3.068\n",
      "Iter 41/200 - Loss: 3697.915   log_lengthscale: -3.100\n",
      "Iter 42/200 - Loss: 3517.202   log_lengthscale: -3.131\n",
      "Iter 43/200 - Loss: 3659.786   log_lengthscale: -3.160\n",
      "Iter 44/200 - Loss: 3858.738   log_lengthscale: -3.187\n",
      "Iter 45/200 - Loss: 3570.012   log_lengthscale: -3.213\n",
      "Iter 46/200 - Loss: 4177.463   log_lengthscale: -3.240\n",
      "Iter 47/200 - Loss: 5338.975   log_lengthscale: -3.269\n",
      "Iter 48/200 - Loss: 3231.733   log_lengthscale: -3.306\n",
      "Iter 49/200 - Loss: 2528.565   log_lengthscale: -3.341\n",
      "Iter 50/200 - Loss: 2375.633   log_lengthscale: -3.374\n",
      "Iter 51/200 - Loss: 2382.811   log_lengthscale: -3.404\n",
      "Iter 52/200 - Loss: 2425.494   log_lengthscale: -3.432\n",
      "Iter 53/200 - Loss: 2153.479   log_lengthscale: -3.457\n",
      "Iter 54/200 - Loss: 2154.033   log_lengthscale: -3.481\n",
      "Iter 55/200 - Loss: 1977.702   log_lengthscale: -3.502\n",
      "Iter 56/200 - Loss: 2022.991   log_lengthscale: -3.522\n",
      "Iter 57/200 - Loss: 2114.326   log_lengthscale: -3.540\n",
      "Iter 58/200 - Loss: 1915.669   log_lengthscale: -3.556\n",
      "Iter 59/200 - Loss: 1968.990   log_lengthscale: -3.571\n",
      "Iter 60/200 - Loss: 1813.550   log_lengthscale: -3.585\n",
      "Iter 61/200 - Loss: 1771.803   log_lengthscale: -3.598\n",
      "Iter 62/200 - Loss: 1737.829   log_lengthscale: -3.609\n",
      "Iter 63/200 - Loss: 1524.286   log_lengthscale: -3.620\n",
      "Iter 64/200 - Loss: 1577.767   log_lengthscale: -3.629\n",
      "Iter 65/200 - Loss: 1445.269   log_lengthscale: -3.638\n",
      "Iter 66/200 - Loss: 1513.083   log_lengthscale: -3.646\n",
      "Iter 67/200 - Loss: 1417.513   log_lengthscale: -3.654\n",
      "Iter 68/200 - Loss: 1340.915   log_lengthscale: -3.661\n",
      "Iter 69/200 - Loss: 1427.279   log_lengthscale: -3.667\n",
      "Iter 70/200 - Loss: 1337.333   log_lengthscale: -3.673\n",
      "Iter 71/200 - Loss: 1363.661   log_lengthscale: -3.678\n",
      "Iter 72/200 - Loss: 1323.763   log_lengthscale: -3.683\n",
      "Iter 73/200 - Loss: 1280.974   log_lengthscale: -3.688\n",
      "Iter 74/200 - Loss: 1215.654   log_lengthscale: -3.692\n",
      "Iter 75/200 - Loss: 1270.668   log_lengthscale: -3.697\n",
      "Iter 76/200 - Loss: 1171.597   log_lengthscale: -3.700\n",
      "Iter 77/200 - Loss: 1202.891   log_lengthscale: -3.704\n",
      "Iter 78/200 - Loss: 1149.746   log_lengthscale: -3.708\n",
      "Iter 79/200 - Loss: 1145.308   log_lengthscale: -3.711\n",
      "Iter 80/200 - Loss: 1140.859   log_lengthscale: -3.714\n",
      "Iter 81/200 - Loss: 1097.007   log_lengthscale: -3.717\n",
      "Iter 82/200 - Loss: 1103.714   log_lengthscale: -3.720\n",
      "Iter 83/200 - Loss: 1047.143   log_lengthscale: -3.723\n",
      "Iter 84/200 - Loss: 1060.224   log_lengthscale: -3.726\n",
      "Iter 85/200 - Loss: 1073.495   log_lengthscale: -3.729\n",
      "Iter 86/200 - Loss: 994.102   log_lengthscale: -3.732\n",
      "Iter 87/200 - Loss: 1027.694   log_lengthscale: -3.734\n",
      "Iter 88/200 - Loss: 994.826   log_lengthscale: -3.737\n",
      "Iter 89/200 - Loss: 990.367   log_lengthscale: -3.740\n",
      "Iter 90/200 - Loss: 1001.820   log_lengthscale: -3.743\n",
      "Iter 91/200 - Loss: 1013.773   log_lengthscale: -3.746\n",
      "Iter 92/200 - Loss: 957.751   log_lengthscale: -3.749\n",
      "Iter 93/200 - Loss: 1016.822   log_lengthscale: -3.752\n",
      "Iter 94/200 - Loss: 984.703   log_lengthscale: -3.755\n",
      "Iter 95/200 - Loss: 1014.119   log_lengthscale: -3.759\n",
      "Iter 96/200 - Loss: 1007.001   log_lengthscale: -3.763\n",
      "Iter 97/200 - Loss: 1024.660   log_lengthscale: -3.767\n",
      "Iter 98/200 - Loss: 1026.191   log_lengthscale: -3.772\n",
      "Iter 99/200 - Loss: 1009.394   log_lengthscale: -3.777\n",
      "Iter 100/200 - Loss: 1018.444   log_lengthscale: -3.782\n",
      "Iter 101/200 - Loss: 1024.870   log_lengthscale: -3.788\n",
      "Iter 102/200 - Loss: 1062.021   log_lengthscale: -3.795\n",
      "Iter 103/200 - Loss: 1185.971   log_lengthscale: -3.802\n",
      "Iter 104/200 - Loss: 1180.926   log_lengthscale: -3.811\n",
      "Iter 105/200 - Loss: 1146.815   log_lengthscale: -3.822\n",
      "Iter 106/200 - Loss: 1121.995   log_lengthscale: -3.834\n",
      "Iter 107/200 - Loss: 984.433   log_lengthscale: -3.848\n",
      "Iter 108/200 - Loss: 971.806   log_lengthscale: -3.861\n",
      "Iter 109/200 - Loss: 1042.882   log_lengthscale: -3.874\n",
      "Iter 110/200 - Loss: 1009.056   log_lengthscale: -3.886\n",
      "Iter 111/200 - Loss: 976.369   log_lengthscale: -3.899\n",
      "Iter 112/200 - Loss: 968.923   log_lengthscale: -3.911\n",
      "Iter 113/200 - Loss: 973.155   log_lengthscale: -3.924\n",
      "Iter 114/200 - Loss: 948.584   log_lengthscale: -3.936\n",
      "Iter 115/200 - Loss: 923.675   log_lengthscale: -3.947\n",
      "Iter 116/200 - Loss: 927.286   log_lengthscale: -3.958\n",
      "Iter 117/200 - Loss: 932.704   log_lengthscale: -3.968\n",
      "Iter 118/200 - Loss: 918.464   log_lengthscale: -3.978\n",
      "Iter 119/200 - Loss: 928.554   log_lengthscale: -3.988\n",
      "Iter 120/200 - Loss: 917.981   log_lengthscale: -3.997\n",
      "Iter 121/200 - Loss: 902.233   log_lengthscale: -4.006\n",
      "Iter 122/200 - Loss: 902.474   log_lengthscale: -4.014\n",
      "Iter 123/200 - Loss: 897.563   log_lengthscale: -4.022\n",
      "Iter 124/200 - Loss: 905.951   log_lengthscale: -4.029\n",
      "Iter 125/200 - Loss: 916.461   log_lengthscale: -4.036\n",
      "Iter 126/200 - Loss: 913.852   log_lengthscale: -4.043\n",
      "Iter 127/200 - Loss: 875.076   log_lengthscale: -4.050\n",
      "Iter 128/200 - Loss: 871.494   log_lengthscale: -4.057\n",
      "Iter 129/200 - Loss: 876.363   log_lengthscale: -4.063\n",
      "Iter 130/200 - Loss: 909.120   log_lengthscale: -4.069\n",
      "Iter 131/200 - Loss: 885.521   log_lengthscale: -4.075\n",
      "Iter 132/200 - Loss: 945.562   log_lengthscale: -4.081\n",
      "Iter 133/200 - Loss: 911.344   log_lengthscale: -4.087\n",
      "Iter 134/200 - Loss: 949.363   log_lengthscale: -4.093\n",
      "Iter 135/200 - Loss: 940.373   log_lengthscale: -4.100\n",
      "Iter 136/200 - Loss: 951.736   log_lengthscale: -4.106\n",
      "Iter 137/200 - Loss: 1037.130   log_lengthscale: -4.113\n",
      "Iter 138/200 - Loss: 996.736   log_lengthscale: -4.121\n",
      "Iter 139/200 - Loss: 970.221   log_lengthscale: -4.128\n",
      "Iter 140/200 - Loss: 912.499   log_lengthscale: -4.136\n",
      "Iter 141/200 - Loss: 896.291   log_lengthscale: -4.144\n",
      "Iter 142/200 - Loss: 865.258   log_lengthscale: -4.151\n",
      "Iter 143/200 - Loss: 865.817   log_lengthscale: -4.157\n",
      "Iter 144/200 - Loss: 865.195   log_lengthscale: -4.163\n",
      "Iter 145/200 - Loss: 849.993   log_lengthscale: -4.168\n",
      "Iter 146/200 - Loss: 830.518   log_lengthscale: -4.173\n",
      "Iter 147/200 - Loss: 872.103   log_lengthscale: -4.178\n",
      "Iter 148/200 - Loss: 849.404   log_lengthscale: -4.182\n",
      "Iter 149/200 - Loss: 823.733   log_lengthscale: -4.185\n",
      "Iter 150/200 - Loss: 822.032   log_lengthscale: -4.189\n",
      "Iter 151/200 - Loss: 833.337   log_lengthscale: -4.192\n",
      "Iter 152/200 - Loss: 838.330   log_lengthscale: -4.194\n",
      "Iter 153/200 - Loss: 841.216   log_lengthscale: -4.196\n",
      "Iter 154/200 - Loss: 838.312   log_lengthscale: -4.199\n",
      "Iter 155/200 - Loss: 824.094   log_lengthscale: -4.201\n",
      "Iter 156/200 - Loss: 803.623   log_lengthscale: -4.202\n",
      "Iter 157/200 - Loss: 815.606   log_lengthscale: -4.204\n",
      "Iter 158/200 - Loss: 782.249   log_lengthscale: -4.205\n",
      "Iter 159/200 - Loss: 798.443   log_lengthscale: -4.207\n",
      "Iter 160/200 - Loss: 820.358   log_lengthscale: -4.208\n",
      "Iter 161/200 - Loss: 802.695   log_lengthscale: -4.209\n",
      "Iter 162/200 - Loss: 808.675   log_lengthscale: -4.210\n",
      "Iter 163/200 - Loss: 792.003   log_lengthscale: -4.211\n",
      "Iter 164/200 - Loss: 780.142   log_lengthscale: -4.212\n",
      "Iter 165/200 - Loss: 756.711   log_lengthscale: -4.213\n",
      "Iter 166/200 - Loss: 792.651   log_lengthscale: -4.214\n",
      "Iter 167/200 - Loss: 771.443   log_lengthscale: -4.214\n",
      "Iter 168/200 - Loss: 759.778   log_lengthscale: -4.215\n",
      "Iter 169/200 - Loss: 745.660   log_lengthscale: -4.216\n",
      "Iter 170/200 - Loss: 760.382   log_lengthscale: -4.216\n",
      "Iter 171/200 - Loss: 759.186   log_lengthscale: -4.217\n",
      "Iter 172/200 - Loss: 762.011   log_lengthscale: -4.217\n",
      "Iter 173/200 - Loss: 757.177   log_lengthscale: -4.218\n",
      "Iter 174/200 - Loss: 745.829   log_lengthscale: -4.218\n",
      "Iter 175/200 - Loss: 757.572   log_lengthscale: -4.218\n",
      "Iter 176/200 - Loss: 728.506   log_lengthscale: -4.219\n",
      "Iter 177/200 - Loss: 732.601   log_lengthscale: -4.219\n",
      "Iter 178/200 - Loss: 733.531   log_lengthscale: -4.220\n",
      "Iter 179/200 - Loss: 732.407   log_lengthscale: -4.221\n",
      "Iter 180/200 - Loss: 716.505   log_lengthscale: -4.221\n",
      "Iter 181/200 - Loss: 724.832   log_lengthscale: -4.222\n",
      "Iter 182/200 - Loss: 720.202   log_lengthscale: -4.222\n",
      "Iter 183/200 - Loss: 721.927   log_lengthscale: -4.223\n",
      "Iter 184/200 - Loss: 731.569   log_lengthscale: -4.224\n",
      "Iter 185/200 - Loss: 724.762   log_lengthscale: -4.224\n",
      "Iter 186/200 - Loss: 706.461   log_lengthscale: -4.225\n",
      "Iter 187/200 - Loss: 717.763   log_lengthscale: -4.225\n",
      "Iter 188/200 - Loss: 703.261   log_lengthscale: -4.226\n",
      "Iter 189/200 - Loss: 687.569   log_lengthscale: -4.227\n",
      "Iter 190/200 - Loss: 697.113   log_lengthscale: -4.228\n",
      "Iter 191/200 - Loss: 695.996   log_lengthscale: -4.228\n",
      "Iter 192/200 - Loss: 712.862   log_lengthscale: -4.229\n",
      "Iter 193/200 - Loss: 687.497   log_lengthscale: -4.230\n",
      "Iter 194/200 - Loss: 695.583   log_lengthscale: -4.231\n",
      "Iter 195/200 - Loss: 689.435   log_lengthscale: -4.232\n",
      "Iter 196/200 - Loss: 699.891   log_lengthscale: -4.233\n",
      "Iter 197/200 - Loss: 681.200   log_lengthscale: -4.234\n",
      "Iter 198/200 - Loss: 689.940   log_lengthscale: -4.235\n",
      "Iter 199/200 - Loss: 691.240   log_lengthscale: -4.235\n",
      "Iter 200/200 - Loss: 669.244   log_lengthscale: -4.236\n"
     ]
    }
   ],
   "source": [
    "# Find optimal model hyperparameters\n",
    "model.train()\n",
    "optimizer = optim.Adam(model.parameters(), lr=0.1)\n",
    "optimizer.n_iter = 0\n",
    "for i in range(200):\n",
    "    optimizer.zero_grad()\n",
    "    output = model.forward(train_x)\n",
    "    loss = -model.marginal_log_likelihood(output, train_y)\n",
    "    loss.backward()\n",
    "    optimizer.n_iter += 1\n",
    "    print('Iter %d/200 - Loss: %.3f   log_lengthscale: %.3f' % (\n",
    "        i + 1, loss.data[0],\n",
    "        model.latent_function.covar_module.base_kernel_module.log_lengthscale.data.squeeze()[0],\n",
    "    ))\n",
    "    optimizer.step()\n",
    "    \n",
    "# Set back to eval mode\n",
    "model.eval()\n",
    "None"
   ]
  },
  {
   "cell_type": "code",
   "execution_count": 8,
   "metadata": {
    "collapsed": false,
    "scrolled": false
   },
   "outputs": [
    {
     "data": {
      "image/png": "[encoded data removed]",
      "text/plain": [
       "<matplotlib.figure.Figure at 0x7f73607c4410>"
      ]
     },
     "metadata": {},
     "output_type": "display_data"
    }
   ],
   "source": [
    "f = plot_model_and_predictions(model)"
   ]
  },
  {
   "cell_type": "code",
   "execution_count": null,
   "metadata": {
    "collapsed": true
   },
   "outputs": [],
   "source": []
  }
 ],
 "metadata": {
  "anaconda-cloud": {},
  "kernelspec": {
   "display_name": "Python [default]",
   "language": "python",
   "name": "python2"
  },
  "language_info": {
   "codemirror_mode": {
    "name": "ipython",
    "version": 2
   },
   "file_extension": ".py",
   "mimetype": "text/x-python",
   "name": "python",
   "nbconvert_exporter": "python",
   "pygments_lexer": "ipython2",
   "version": "2.7.12"
  }
 },
 "nbformat": 4,
 "nbformat_minor": 1
}
