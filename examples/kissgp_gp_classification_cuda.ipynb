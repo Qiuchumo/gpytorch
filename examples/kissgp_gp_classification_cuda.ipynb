{
 "cells": [
  {
   "cell_type": "code",
   "execution_count": 1,
   "metadata": {
    "collapsed": false
   },
   "outputs": [],
   "source": [
    "import math\n",
    "import torch\n",
    "import gpytorch\n",
    "from matplotlib import pyplot as plt\n",
    "\n",
    "%matplotlib inline\n",
    "%load_ext autoreload\n",
    "%autoreload 2"
   ]
  },
  {
   "cell_type": "code",
   "execution_count": 2,
   "metadata": {
    "collapsed": false
   },
   "outputs": [],
   "source": [
    "from torch.autograd import Variable\n",
    "train_x = Variable(torch.linspace(0, 1, 1001)).cuda()\n",
    "train_y = Variable(torch.sign(torch.cos(train_x.data * (8 * math.pi)))).cuda()"
   ]
  },
  {
   "cell_type": "code",
   "execution_count": 3,
   "metadata": {
    "collapsed": true
   },
   "outputs": [],
   "source": [
    "from torch import nn, optim\n",
    "from gpytorch.kernels import RBFKernel, GridInterpolationKernel\n",
    "from gpytorch.means import ConstantMean\n",
    "from gpytorch.likelihoods import GaussianLikelihood, BernoulliLikelihood\n",
    "from gpytorch.random_variables import GaussianRandomVariable\n",
    "gpytorch.functions.use_toeplitz = False"
   ]
  },
  {
   "cell_type": "code",
   "execution_count": 4,
   "metadata": {
    "collapsed": false
   },
   "outputs": [],
   "source": [
    "class LatentFunction(gpytorch.GridInducingPointModule):\n",
    "    def __init__(self):\n",
    "        super(LatentFunction, self).__init__(grid_size=100, grid_bounds=[(0, 1)])\n",
    "        self.mean_module = ConstantMean(constant_bounds=[-1e-5,1e-5])\n",
    "        self.covar_module = RBFKernel(log_lengthscale_bounds=(-5, 6))\n",
    "        self.register_parameter('log_outputscale', nn.Parameter(torch.Tensor([0])), bounds=(-5,6))\n",
    "        \n",
    "    def forward(self,x):\n",
    "        mean_x = self.mean_module(x)\n",
    "        covar_x = self.covar_module(x)\n",
    "        covar_x = covar_x.mul(self.log_outputscale.exp())\n",
    "        latent_pred = GaussianRandomVariable(mean_x, covar_x)\n",
    "        return latent_pred\n",
    "\n",
    "class GPClassificationModel(gpytorch.GPModel):\n",
    "    def __init__(self):\n",
    "        super(GPClassificationModel,self).__init__(BernoulliLikelihood())\n",
    "        self.latent_function = LatentFunction()\n",
    "        \n",
    "    def forward(self, x):\n",
    "        return self.latent_function(x)\n",
    "\n",
    "model = GPClassificationModel().cuda()"
   ]
  },
  {
   "cell_type": "code",
   "execution_count": 5,
   "metadata": {
    "collapsed": true
   },
   "outputs": [],
   "source": [
    "def plot_model_and_predictions(model, plot_train_data=True):\n",
    "    f, observed_ax = plt.subplots(1, 1, figsize=(4, 3))\n",
    "    test_x = Variable(torch.linspace(0, 1, 1001)).cuda()\n",
    "    observed_pred = model(test_x)\n",
    "\n",
    "    def ax_plot(ax, rand_var, title):\n",
    "        if plot_train_data:\n",
    "            ax.plot(train_x.data.cpu().numpy(), train_y.data.cpu().numpy(), 'k*')\n",
    "        pred_labels = rand_var.mean().ge(0.5).float().mul(2).sub(1)\n",
    "        ax.plot(test_x.data.cpu().numpy(), pred_labels.data.cpu().numpy(), 'b')\n",
    "        ax.set_ylim([-3, 3])\n",
    "        ax.legend(['Observed Data', 'Mean', 'Confidence'])\n",
    "        ax.set_title(title)\n",
    "    \n",
    "    ax_plot(observed_ax, observed_pred, 'Observed Values (Likelihood)')\n",
    "    \n",
    "    return f"
   ]
  },
  {
   "cell_type": "code",
   "execution_count": 6,
   "metadata": {
    "collapsed": false,
    "scrolled": true
   },
   "outputs": [
    {
     "data": {
      "image/png": "[encoded data removed]",
      "text/plain": [
       "<matplotlib.figure.Figure at 0x7fdba8c01910>"
      ]
     },
     "metadata": {},
     "output_type": "display_data"
    }
   ],
   "source": [
    "model.eval()\n",
    "f = plot_model_and_predictions(model, plot_train_data=False)"
   ]
  },
  {
   "cell_type": "code",
   "execution_count": 7,
   "metadata": {
    "collapsed": false,
    "scrolled": false
   },
   "outputs": [
    {
     "name": "stdout",
     "output_type": "stream",
     "text": [
      "Iter 1/200 - Loss: 470.578   log_lengthscale: 0.000\n",
      "Iter 2/200 - Loss: 396.278   log_lengthscale: -0.100\n",
      "Iter 3/200 - Loss: 253.462   log_lengthscale: -0.182\n",
      "Iter 4/200 - Loss: 248.328   log_lengthscale: -0.270\n",
      "Iter 5/200 - Loss: 185.168   log_lengthscale: -0.350\n",
      "Iter 6/200 - Loss: 127.184   log_lengthscale: -0.421\n",
      "Iter 7/200 - Loss: 90.881   log_lengthscale: -0.493\n",
      "Iter 8/200 - Loss: 55.261   log_lengthscale: -0.566\n",
      "Iter 9/200 - Loss: 32.702   log_lengthscale: -0.638\n",
      "Iter 10/200 - Loss: 28.636   log_lengthscale: -0.706\n",
      "Iter 11/200 - Loss: 19.553   log_lengthscale: -0.774\n",
      "Iter 12/200 - Loss: 12.409   log_lengthscale: -0.842\n",
      "Iter 13/200 - Loss: 6.843   log_lengthscale: -0.908\n",
      "Iter 14/200 - Loss: 8.335   log_lengthscale: -0.977\n",
      "Iter 15/200 - Loss: 10.673   log_lengthscale: -1.038\n",
      "Iter 16/200 - Loss: 8.030   log_lengthscale: -1.088\n",
      "Iter 17/200 - Loss: 7.798   log_lengthscale: -1.137\n",
      "Iter 18/200 - Loss: 9.588   log_lengthscale: -1.184\n",
      "Iter 19/200 - Loss: 12.419   log_lengthscale: -1.229\n",
      "Iter 20/200 - Loss: 11.085   log_lengthscale: -1.276\n",
      "Iter 21/200 - Loss: 10.128   log_lengthscale: -1.326\n",
      "Iter 22/200 - Loss: 11.896   log_lengthscale: -1.376\n",
      "Iter 23/200 - Loss: 14.498   log_lengthscale: -1.431\n",
      "Iter 24/200 - Loss: 14.947   log_lengthscale: -1.493\n",
      "Iter 25/200 - Loss: 7.764   log_lengthscale: -1.554\n",
      "Iter 26/200 - Loss: 4.504   log_lengthscale: -1.615\n",
      "Iter 27/200 - Loss: 2.933   log_lengthscale: -1.673\n",
      "Iter 28/200 - Loss: 2.460   log_lengthscale: -1.729\n",
      "Iter 29/200 - Loss: 3.019   log_lengthscale: -1.786\n",
      "Iter 30/200 - Loss: 1.702   log_lengthscale: -1.840\n",
      "Iter 31/200 - Loss: 1.167   log_lengthscale: -1.898\n",
      "Iter 32/200 - Loss: 1.300   log_lengthscale: -1.957\n",
      "Iter 33/200 - Loss: 1.687   log_lengthscale: -2.019\n",
      "Iter 34/200 - Loss: 1.635   log_lengthscale: -2.076\n",
      "Iter 35/200 - Loss: 1.847   log_lengthscale: -2.129\n",
      "Iter 36/200 - Loss: 1.142   log_lengthscale: -2.178\n",
      "Iter 37/200 - Loss: 0.999   log_lengthscale: -2.222\n",
      "Iter 38/200 - Loss: 1.060   log_lengthscale: -2.263\n",
      "Iter 39/200 - Loss: 1.017   log_lengthscale: -2.299\n",
      "Iter 40/200 - Loss: 0.974   log_lengthscale: -2.334\n",
      "Iter 41/200 - Loss: 1.097   log_lengthscale: -2.367\n",
      "Iter 42/200 - Loss: 0.948   log_lengthscale: -2.396\n",
      "Iter 43/200 - Loss: 0.961   log_lengthscale: -2.421\n",
      "Iter 44/200 - Loss: 1.216   log_lengthscale: -2.446\n",
      "Iter 45/200 - Loss: 1.004   log_lengthscale: -2.470\n",
      "Iter 46/200 - Loss: 0.961   log_lengthscale: -2.491\n",
      "Iter 47/200 - Loss: 1.057   log_lengthscale: -2.510\n",
      "Iter 48/200 - Loss: 0.772   log_lengthscale: -2.526\n",
      "Iter 49/200 - Loss: 1.391   log_lengthscale: -2.541\n",
      "Iter 50/200 - Loss: 0.790   log_lengthscale: -2.554\n",
      "Iter 51/200 - Loss: 0.897   log_lengthscale: -2.566\n",
      "Iter 52/200 - Loss: 0.923   log_lengthscale: -2.579\n",
      "Iter 53/200 - Loss: 1.070   log_lengthscale: -2.589\n",
      "Iter 54/200 - Loss: 1.026   log_lengthscale: -2.597\n",
      "Iter 55/200 - Loss: 0.889   log_lengthscale: -2.603\n",
      "Iter 56/200 - Loss: 0.908   log_lengthscale: -2.609\n",
      "Iter 57/200 - Loss: 1.005   log_lengthscale: -2.616\n",
      "Iter 58/200 - Loss: 0.884   log_lengthscale: -2.623\n",
      "Iter 59/200 - Loss: 0.958   log_lengthscale: -2.628\n",
      "Iter 60/200 - Loss: 0.871   log_lengthscale: -2.633\n",
      "Iter 61/200 - Loss: 0.854   log_lengthscale: -2.637\n",
      "Iter 62/200 - Loss: 0.993   log_lengthscale: -2.640\n",
      "Iter 63/200 - Loss: 0.852   log_lengthscale: -2.643\n",
      "Iter 64/200 - Loss: 0.863   log_lengthscale: -2.644\n",
      "Iter 65/200 - Loss: 0.799   log_lengthscale: -2.645\n",
      "Iter 66/200 - Loss: 0.849   log_lengthscale: -2.649\n",
      "Iter 67/200 - Loss: 0.735   log_lengthscale: -2.652\n",
      "Iter 68/200 - Loss: 0.761   log_lengthscale: -2.655\n",
      "Iter 69/200 - Loss: 0.763   log_lengthscale: -2.659\n",
      "Iter 70/200 - Loss: 0.755   log_lengthscale: -2.661\n",
      "Iter 71/200 - Loss: 0.896   log_lengthscale: -2.662\n",
      "Iter 72/200 - Loss: 0.745   log_lengthscale: -2.662\n",
      "Iter 73/200 - Loss: 0.701   log_lengthscale: -2.664\n",
      "Iter 74/200 - Loss: 0.895   log_lengthscale: -2.665\n",
      "Iter 75/200 - Loss: 0.779   log_lengthscale: -2.666\n",
      "Iter 76/200 - Loss: 0.798   log_lengthscale: -2.667\n",
      "Iter 77/200 - Loss: 0.924   log_lengthscale: -2.668\n",
      "Iter 78/200 - Loss: 0.689   log_lengthscale: -2.669\n",
      "Iter 79/200 - Loss: 0.850   log_lengthscale: -2.670\n",
      "Iter 80/200 - Loss: 0.668   log_lengthscale: -2.672\n",
      "Iter 81/200 - Loss: 0.619   log_lengthscale: -2.674\n",
      "Iter 82/200 - Loss: 0.739   log_lengthscale: -2.676\n",
      "Iter 83/200 - Loss: 0.617   log_lengthscale: -2.678\n",
      "Iter 84/200 - Loss: 0.659   log_lengthscale: -2.679\n",
      "Iter 85/200 - Loss: 0.651   log_lengthscale: -2.682\n",
      "Iter 86/200 - Loss: 0.795   log_lengthscale: -2.685\n",
      "Iter 87/200 - Loss: 0.664   log_lengthscale: -2.687\n",
      "Iter 88/200 - Loss: 0.712   log_lengthscale: -2.690\n",
      "Iter 89/200 - Loss: 0.737   log_lengthscale: -2.693\n",
      "Iter 90/200 - Loss: 0.725   log_lengthscale: -2.695\n",
      "Iter 91/200 - Loss: 0.708   log_lengthscale: -2.699\n",
      "Iter 92/200 - Loss: 0.715   log_lengthscale: -2.703\n",
      "Iter 93/200 - Loss: 0.673   log_lengthscale: -2.707\n",
      "Iter 94/200 - Loss: 0.676   log_lengthscale: -2.711\n",
      "Iter 95/200 - Loss: 0.792   log_lengthscale: -2.716\n",
      "Iter 96/200 - Loss: 0.711   log_lengthscale: -2.720\n",
      "Iter 97/200 - Loss: 0.599   log_lengthscale: -2.724\n",
      "Iter 98/200 - Loss: 0.775   log_lengthscale: -2.727\n",
      "Iter 99/200 - Loss: 0.635   log_lengthscale: -2.729\n",
      "Iter 100/200 - Loss: 0.723   log_lengthscale: -2.732\n",
      "Iter 101/200 - Loss: 0.659   log_lengthscale: -2.733\n",
      "Iter 102/200 - Loss: 0.662   log_lengthscale: -2.734\n",
      "Iter 103/200 - Loss: 0.626   log_lengthscale: -2.736\n",
      "Iter 104/200 - Loss: 0.816   log_lengthscale: -2.738\n",
      "Iter 105/200 - Loss: 0.753   log_lengthscale: -2.740\n",
      "Iter 106/200 - Loss: 0.609   log_lengthscale: -2.742\n",
      "Iter 107/200 - Loss: 0.646   log_lengthscale: -2.744\n",
      "Iter 108/200 - Loss: 0.740   log_lengthscale: -2.746\n",
      "Iter 109/200 - Loss: 0.658   log_lengthscale: -2.749\n",
      "Iter 110/200 - Loss: 0.709   log_lengthscale: -2.752\n",
      "Iter 111/200 - Loss: 0.645   log_lengthscale: -2.755\n",
      "Iter 112/200 - Loss: 0.655   log_lengthscale: -2.758\n",
      "Iter 113/200 - Loss: 0.684   log_lengthscale: -2.760\n",
      "Iter 114/200 - Loss: 0.614   log_lengthscale: -2.762\n",
      "Iter 115/200 - Loss: 0.629   log_lengthscale: -2.765\n",
      "Iter 116/200 - Loss: 0.574   log_lengthscale: -2.766\n",
      "Iter 117/200 - Loss: 0.635   log_lengthscale: -2.768\n",
      "Iter 118/200 - Loss: 0.569   log_lengthscale: -2.770\n",
      "Iter 119/200 - Loss: 0.622   log_lengthscale: -2.772\n",
      "Iter 120/200 - Loss: 0.635   log_lengthscale: -2.775\n",
      "Iter 121/200 - Loss: 0.649   log_lengthscale: -2.777\n",
      "Iter 122/200 - Loss: 0.613   log_lengthscale: -2.778\n",
      "Iter 123/200 - Loss: 0.623   log_lengthscale: -2.781\n",
      "Iter 124/200 - Loss: 0.678   log_lengthscale: -2.784\n",
      "Iter 125/200 - Loss: 0.537   log_lengthscale: -2.787\n",
      "Iter 126/200 - Loss: 0.560   log_lengthscale: -2.790\n",
      "Iter 127/200 - Loss: 0.544   log_lengthscale: -2.792\n",
      "Iter 128/200 - Loss: 0.662   log_lengthscale: -2.795\n",
      "Iter 129/200 - Loss: 0.562   log_lengthscale: -2.797\n",
      "Iter 130/200 - Loss: 0.560   log_lengthscale: -2.799\n",
      "Iter 131/200 - Loss: 0.577   log_lengthscale: -2.800\n",
      "Iter 132/200 - Loss: 0.559   log_lengthscale: -2.802\n",
      "Iter 133/200 - Loss: 0.520   log_lengthscale: -2.803\n",
      "Iter 134/200 - Loss: 0.581   log_lengthscale: -2.805\n",
      "Iter 135/200 - Loss: 0.645   log_lengthscale: -2.808\n",
      "Iter 136/200 - Loss: 0.571   log_lengthscale: -2.810\n",
      "Iter 137/200 - Loss: 0.524   log_lengthscale: -2.812\n",
      "Iter 138/200 - Loss: 0.520   log_lengthscale: -2.815\n",
      "Iter 139/200 - Loss: 0.558   log_lengthscale: -2.817\n",
      "Iter 140/200 - Loss: 0.587   log_lengthscale: -2.821\n",
      "Iter 141/200 - Loss: 0.555   log_lengthscale: -2.825\n",
      "Iter 142/200 - Loss: 0.537   log_lengthscale: -2.828\n",
      "Iter 143/200 - Loss: 0.592   log_lengthscale: -2.832\n",
      "Iter 144/200 - Loss: 0.530   log_lengthscale: -2.836\n",
      "Iter 145/200 - Loss: 0.516   log_lengthscale: -2.839\n",
      "Iter 146/200 - Loss: 0.535   log_lengthscale: -2.844\n",
      "Iter 147/200 - Loss: 0.546   log_lengthscale: -2.849\n",
      "Iter 148/200 - Loss: 0.563   log_lengthscale: -2.853\n",
      "Iter 149/200 - Loss: 0.567   log_lengthscale: -2.858\n",
      "Iter 150/200 - Loss: 0.520   log_lengthscale: -2.863\n",
      "Iter 151/200 - Loss: 0.506   log_lengthscale: -2.867\n",
      "Iter 152/200 - Loss: 0.536   log_lengthscale: -2.872\n",
      "Iter 153/200 - Loss: 0.524   log_lengthscale: -2.877\n",
      "Iter 154/200 - Loss: 0.530   log_lengthscale: -2.881\n",
      "Iter 155/200 - Loss: 0.530   log_lengthscale: -2.887\n",
      "Iter 156/200 - Loss: 0.556   log_lengthscale: -2.892\n",
      "Iter 157/200 - Loss: 0.496   log_lengthscale: -2.897\n",
      "Iter 158/200 - Loss: 0.478   log_lengthscale: -2.902\n",
      "Iter 159/200 - Loss: 0.463   log_lengthscale: -2.906\n",
      "Iter 160/200 - Loss: 0.528   log_lengthscale: -2.910\n",
      "Iter 161/200 - Loss: 0.555   log_lengthscale: -2.914\n",
      "Iter 162/200 - Loss: 0.493   log_lengthscale: -2.918\n",
      "Iter 163/200 - Loss: 0.539   log_lengthscale: -2.921\n",
      "Iter 164/200 - Loss: 0.455   log_lengthscale: -2.925\n",
      "Iter 165/200 - Loss: 0.469   log_lengthscale: -2.928\n",
      "Iter 166/200 - Loss: 0.482   log_lengthscale: -2.931\n",
      "Iter 167/200 - Loss: 0.476   log_lengthscale: -2.934\n",
      "Iter 168/200 - Loss: 0.472   log_lengthscale: -2.937\n",
      "Iter 169/200 - Loss: 0.477   log_lengthscale: -2.941\n",
      "Iter 170/200 - Loss: 0.453   log_lengthscale: -2.944\n",
      "Iter 171/200 - Loss: 0.421   log_lengthscale: -2.946\n",
      "Iter 172/200 - Loss: 0.489   log_lengthscale: -2.949\n",
      "Iter 173/200 - Loss: 0.456   log_lengthscale: -2.951\n",
      "Iter 174/200 - Loss: 0.535   log_lengthscale: -2.953\n",
      "Iter 175/200 - Loss: 0.503   log_lengthscale: -2.956\n",
      "Iter 176/200 - Loss: 0.453   log_lengthscale: -2.959\n",
      "Iter 177/200 - Loss: 0.460   log_lengthscale: -2.961\n",
      "Iter 178/200 - Loss: 0.429   log_lengthscale: -2.963\n",
      "Iter 179/200 - Loss: 0.466   log_lengthscale: -2.965\n",
      "Iter 180/200 - Loss: 0.431   log_lengthscale: -2.968\n",
      "Iter 181/200 - Loss: 0.494   log_lengthscale: -2.969\n",
      "Iter 182/200 - Loss: 0.459   log_lengthscale: -2.971\n",
      "Iter 183/200 - Loss: 0.483   log_lengthscale: -2.974\n",
      "Iter 184/200 - Loss: 0.439   log_lengthscale: -2.976\n",
      "Iter 185/200 - Loss: 0.436   log_lengthscale: -2.978\n",
      "Iter 186/200 - Loss: 0.475   log_lengthscale: -2.981\n",
      "Iter 187/200 - Loss: 0.429   log_lengthscale: -2.983\n",
      "Iter 188/200 - Loss: 0.476   log_lengthscale: -2.986\n",
      "Iter 189/200 - Loss: 0.450   log_lengthscale: -2.989\n",
      "Iter 190/200 - Loss: 0.404   log_lengthscale: -2.991\n",
      "Iter 191/200 - Loss: 0.401   log_lengthscale: -2.993\n",
      "Iter 192/200 - Loss: 0.389   log_lengthscale: -2.996\n",
      "Iter 193/200 - Loss: 0.408   log_lengthscale: -2.998\n",
      "Iter 194/200 - Loss: 0.427   log_lengthscale: -3.000\n",
      "Iter 195/200 - Loss: 0.443   log_lengthscale: -3.002\n",
      "Iter 196/200 - Loss: 0.412   log_lengthscale: -3.003\n",
      "Iter 197/200 - Loss: 0.423   log_lengthscale: -3.005\n",
      "Iter 198/200 - Loss: 0.400   log_lengthscale: -3.007\n",
      "Iter 199/200 - Loss: 0.427   log_lengthscale: -3.009\n",
      "Iter 200/200 - Loss: 0.390   log_lengthscale: -3.010\n"
     ]
    }
   ],
   "source": [
    "# Find optimal model hyperparameters\n",
    "model.train()\n",
    "optimizer = optim.Adam(model.parameters(), lr=0.1)\n",
    "optimizer.n_iter = 0\n",
    "for i in range(200):\n",
    "    optimizer.zero_grad()\n",
    "    output = model.forward(train_x)\n",
    "    loss = -model.marginal_log_likelihood(output, train_y)\n",
    "    loss.backward()\n",
    "    optimizer.n_iter += 1\n",
    "    print('Iter %d/200 - Loss: %.3f   log_lengthscale: %.3f' % (\n",
    "        i + 1, loss.data[0],\n",
    "        model.latent_function.covar_module.base_kernel_module.log_lengthscale.data.squeeze()[0],\n",
    "    ))\n",
    "    optimizer.step()\n",
    "    \n",
    "# Set back to eval mode\n",
    "model.eval()\n",
    "None"
   ]
  },
  {
   "cell_type": "code",
   "execution_count": 8,
   "metadata": {
    "collapsed": false,
    "scrolled": false
   },
   "outputs": [
    {
     "data": {
      "image/png": "[encoded data removed]",
      "text/plain": [
       "<matplotlib.figure.Figure at 0x7fdb98046790>"
      ]
     },
     "metadata": {},
     "output_type": "display_data"
    }
   ],
   "source": [
    "f = plot_model_and_predictions(model)"
   ]
  }
 ],
 "metadata": {
  "anaconda-cloud": {},
  "kernelspec": {
   "display_name": "Python [default]",
   "language": "python",
   "name": "python2"
  },
  "language_info": {
   "codemirror_mode": {
    "name": "ipython",
    "version": 2
   },
   "file_extension": ".py",
   "mimetype": "text/x-python",
   "name": "python",
   "nbconvert_exporter": "python",
   "pygments_lexer": "ipython2",
   "version": "2.7.12"
  }
 },
 "nbformat": 4,
 "nbformat_minor": 1
}
