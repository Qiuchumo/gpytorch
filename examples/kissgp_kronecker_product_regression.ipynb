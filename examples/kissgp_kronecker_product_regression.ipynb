{
 "cells": [
  {
   "cell_type": "code",
   "execution_count": 1,
   "metadata": {
    "collapsed": true
   },
   "outputs": [],
   "source": [
    "import math\n",
    "import torch\n",
    "import gpytorch\n",
    "import numpy\n",
    "from matplotlib import pyplot as plt\n",
    "from torch import nn, optim\n",
    "from torch.autograd import Variable\n",
    "from gpytorch.kernels import RBFKernel, GridInterpolationKernel\n",
    "from gpytorch.means import ConstantMean\n",
    "from gpytorch.likelihoods import GaussianLikelihood\n",
    "from gpytorch.random_variables import GaussianRandomVariable\n",
    "\n",
    "%matplotlib inline"
   ]
  },
  {
   "cell_type": "code",
   "execution_count": 2,
   "metadata": {
    "collapsed": true
   },
   "outputs": [],
   "source": [
    "n = 40\n",
    "train_x = torch.zeros(pow(n, 2), 2)\n",
    "for i in range(n):\n",
    "    for j in range(n):\n",
    "        train_x[i * n + j][0] = float(i) / (n-1)\n",
    "        train_x[i * n + j][1] = float(j) / (n-1)\n",
    "train_x = Variable(train_x)\n",
    "train_y = Variable(torch.sin(((train_x.data[:, 0] + train_x.data[:, 1]) * (2 * math.pi))))"
   ]
  },
  {
   "cell_type": "code",
   "execution_count": 7,
   "metadata": {
    "collapsed": false
   },
   "outputs": [],
   "source": [
    "class LatentFunction(gpytorch.GridInducingPointModule):\n",
    "    def __init__(self):\n",
    "        super(LatentFunction, self).__init__(grid_size=20, grid_bounds=[(0, 1), (0, 1)])\n",
    "        self.mean_module = ConstantMean(constant_bounds=[-1e-5,1e-5])\n",
    "        self.covar_module = RBFKernel(log_lengthscale_bounds=(-5, 6))\n",
    "        self.register_parameter('log_outputscale', nn.Parameter(torch.Tensor([0])), bounds=(-5,6))\n",
    "        \n",
    "    def forward(self,x):\n",
    "        mean_x = self.mean_module(x)\n",
    "        covar_x = self.covar_module(x)\n",
    "        covar_x = covar_x.mul(self.log_outputscale.exp())\n",
    "        latent_pred = GaussianRandomVariable(mean_x, covar_x)\n",
    "        return latent_pred\n",
    "\n",
    "class GPRegressionModel(gpytorch.GPModel):\n",
    "    def __init__(self):\n",
    "        super(GPRegressionModel,self).__init__(GaussianLikelihood())\n",
    "        self.latent_function = LatentFunction()\n",
    "        \n",
    "    def forward(self, x):\n",
    "        return self.latent_function(x)\n",
    "    \n",
    "model = GPRegressionModel()"
   ]
  },
  {
   "cell_type": "code",
   "execution_count": 8,
   "metadata": {
    "collapsed": true
   },
   "outputs": [],
   "source": [
    "def plot_model_and_predictions(model):\n",
    "    n = 10\n",
    "    test_x = Variable(torch.zeros(int(pow(n, 2)), 2))\n",
    "    for i in range(n):\n",
    "        for j in range(n):\n",
    "            test_x.data[i * n + j][0] = float(i) / (n-1)\n",
    "            test_x.data[i * n + j][1] = float(j) / (n-1)\n",
    "\n",
    "    observed_pred = model(test_x)\n",
    "    pred_labels = observed_pred.mean().view(n, n).data.numpy()\n",
    "    \n",
    "    test_y_actual = torch.sin(((test_x.data[:, 0] + test_x.data[:, 1]) * (2 * math.pi))).numpy().reshape(n, n)\n",
    "    delta_y = numpy.absolute(pred_labels - test_y_actual)\n",
    "    \n",
    "    def ax_plot(f, ax, y_labels, title):\n",
    "        im = ax.imshow(y_labels)\n",
    "        ax.set_title(title)\n",
    "        f.colorbar(im)\n",
    "    \n",
    "    f, observed_ax = plt.subplots(1, 1, figsize=(4, 3))\n",
    "    ax_plot(f, observed_ax, pred_labels, 'Predicted Values (Likelihood)')\n",
    "    \n",
    "    f, observed_ax2 = plt.subplots(1, 1, figsize=(4, 3))\n",
    "    ax_plot(f, observed_ax2, test_y_actual, 'Actual Values (Likelihood)')\n",
    "\n",
    "    f, observed_ax3 = plt.subplots(1, 1, figsize=(4, 3))\n",
    "    ax_plot(f, observed_ax3, delta_y, 'Absolute Error Surface')\n",
    "    \n",
    "    return f"
   ]
  },
  {
   "cell_type": "code",
   "execution_count": 9,
   "metadata": {
    "collapsed": false
   },
   "outputs": [
    {
     "name": "stdout",
     "output_type": "stream",
     "text": [
      "Iter 1/60 - Loss: 1725.539\n",
      "Iter 2/60 - Loss: 1645.503\n",
      "Iter 3/60 - Loss: 1568.839\n",
      "Iter 4/60 - Loss: 1492.605\n",
      "Iter 5/60 - Loss: 1412.380\n",
      "Iter 6/60 - Loss: 1328.061\n",
      "Iter 7/60 - Loss: 1246.100\n",
      "Iter 8/60 - Loss: 1146.549\n",
      "Iter 9/60 - Loss: 1038.561\n",
      "Iter 10/60 - Loss: 910.670\n",
      "Iter 11/60 - Loss: 806.377\n",
      "Iter 12/60 - Loss: 699.642\n",
      "Iter 13/60 - Loss: 595.665\n",
      "Iter 14/60 - Loss: 497.513\n",
      "Iter 15/60 - Loss: 420.571\n",
      "Iter 16/60 - Loss: 347.139\n",
      "Iter 17/60 - Loss: 249.666\n",
      "Iter 18/60 - Loss: 180.042\n",
      "Iter 19/60 - Loss: 97.575\n",
      "Iter 20/60 - Loss: 20.142\n",
      "Iter 21/60 - Loss: -52.561\n",
      "Iter 22/60 - Loss: -119.171\n",
      "Iter 23/60 - Loss: -191.274\n",
      "Iter 24/60 - Loss: -235.056\n",
      "Iter 25/60 - Loss: -314.924\n",
      "Iter 26/60 - Loss: -327.982\n",
      "Iter 27/60 - Loss: -365.891\n",
      "Iter 28/60 - Loss: -410.905\n",
      "Iter 29/60 - Loss: -443.720\n",
      "Iter 30/60 - Loss: -438.949\n",
      "Iter 31/60 - Loss: -435.717\n",
      "Iter 32/60 - Loss: -474.906\n",
      "Iter 33/60 - Loss: -441.107\n",
      "Iter 34/60 - Loss: -363.770\n",
      "Iter 35/60 - Loss: -350.626\n",
      "Iter 36/60 - Loss: -355.465\n",
      "Iter 37/60 - Loss: -251.523\n",
      "Iter 38/60 - Loss: -286.247\n",
      "Iter 39/60 - Loss: -196.430\n",
      "Iter 40/60 - Loss: -261.449\n",
      "Iter 41/60 - Loss: -241.161\n",
      "Iter 42/60 - Loss: -189.840\n",
      "Iter 43/60 - Loss: -229.845\n",
      "Iter 44/60 - Loss: -204.978\n",
      "Iter 45/60 - Loss: -251.028\n",
      "Iter 46/60 - Loss: -248.471\n",
      "Iter 47/60 - Loss: -321.123\n",
      "Iter 48/60 - Loss: -249.823\n",
      "Iter 49/60 - Loss: -340.128\n",
      "Iter 50/60 - Loss: -407.166\n",
      "Iter 51/60 - Loss: -325.496\n",
      "Iter 52/60 - Loss: -473.928\n",
      "Iter 53/60 - Loss: -443.652\n",
      "Iter 54/60 - Loss: -514.266\n",
      "Iter 55/60 - Loss: -471.107\n",
      "Iter 56/60 - Loss: -527.880\n",
      "Iter 57/60 - Loss: -578.776\n",
      "Iter 58/60 - Loss: -607.185\n",
      "Iter 59/60 - Loss: -634.778\n",
      "Iter 60/60 - Loss: -644.996\n"
     ]
    }
   ],
   "source": [
    "# Optimize the model\n",
    "model.train()\n",
    "optimizer = optim.Adam(model.parameters(), lr=0.1)\n",
    "optimizer.n_iter = 0\n",
    "for i in range(60):\n",
    "    optimizer.zero_grad()\n",
    "    output = model(train_x)\n",
    "    loss = -model.marginal_log_likelihood(output, train_y)\n",
    "    loss.backward()\n",
    "    optimizer.n_iter += 1\n",
    "    print('Iter %d/60 - Loss: %.3f' % (i + 1, loss.data[0]))\n",
    "    optimizer.step()\n",
    "\n",
    "_ = model.eval()"
   ]
  },
  {
   "cell_type": "code",
   "execution_count": 10,
   "metadata": {
    "collapsed": false
   },
   "outputs": [
    {
     "data": {
      "image/png": "[encoded data removed]",
      "text/plain": [
       "<matplotlib.figure.Figure at 0x7f92d43a3a10>"
      ]
     },
     "metadata": {},
     "output_type": "display_data"
    },
    {
     "data": {
      "image/png": "[encoded data removed]",
      "text/plain": [
       "<matplotlib.figure.Figure at 0x7f92641dfc50>"
      ]
     },
     "metadata": {},
     "output_type": "display_data"
    },
    {
     "data": {
      "image/png": "[encoded data removed]",
      "text/plain": [
       "<matplotlib.figure.Figure at 0x7f92640f0e10>"
      ]
     },
     "metadata": {},
     "output_type": "display_data"
    }
   ],
   "source": [
    "model.condition(train_x, train_y)\n",
    "f = plot_model_and_predictions(model)"
   ]
  },
  {
   "cell_type": "code",
   "execution_count": null,
   "metadata": {
    "collapsed": true
   },
   "outputs": [],
   "source": []
  }
 ],
 "metadata": {
  "anaconda-cloud": {},
  "kernelspec": {
   "display_name": "Python [default]",
   "language": "python",
   "name": "python2"
  },
  "language_info": {
   "codemirror_mode": {
    "name": "ipython",
    "version": 2
   },
   "file_extension": ".py",
   "mimetype": "text/x-python",
   "name": "python",
   "nbconvert_exporter": "python",
   "pygments_lexer": "ipython2",
   "version": "2.7.12"
  }
 },
 "nbformat": 4,
 "nbformat_minor": 2
}
