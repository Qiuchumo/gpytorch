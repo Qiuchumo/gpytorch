{
 "cells": [
  {
   "cell_type": "code",
   "execution_count": 1,
   "metadata": {
    "collapsed": true
   },
   "outputs": [],
   "source": [
    "import math\n",
    "import torch\n",
    "import gpytorch\n",
    "import numpy\n",
    "from matplotlib import pyplot as plt\n",
    "from torch import nn, optim\n",
    "from torch.autograd import Variable\n",
    "from gpytorch.kernels import RBFKernel, GridInterpolationKernel\n",
    "from gpytorch.means import ConstantMean\n",
    "from gpytorch.likelihoods import GaussianLikelihood\n",
    "from gpytorch.random_variables import GaussianRandomVariable\n",
    "\n",
    "%matplotlib inline"
   ]
  },
  {
   "cell_type": "code",
   "execution_count": 2,
   "metadata": {
    "collapsed": true
   },
   "outputs": [],
   "source": [
    "n = 40\n",
    "train_x = torch.zeros(pow(n, 2), 2)\n",
    "for i in range(n):\n",
    "    for j in range(n):\n",
    "        train_x[i * n + j][0] = float(i) / (n-1)\n",
    "        train_x[i * n + j][1] = float(j) / (n-1)\n",
    "train_x = Variable(train_x)\n",
    "train_y = Variable(torch.sin(((train_x.data[:, 0] + train_x.data[:, 1]) * (2 * math.pi))))"
   ]
  },
  {
   "cell_type": "code",
   "execution_count": 3,
   "metadata": {
    "collapsed": false
   },
   "outputs": [],
   "source": [
    "class LatentFunction(gpytorch.GridInducingPointModule):\n",
    "    def __init__(self):\n",
    "        super(LatentFunction, self).__init__(grid_size=20, grid_bounds=[(0, 1), (0, 1)])\n",
    "        self.mean_module = ConstantMean(constant_bounds=[-1e-5,1e-5])\n",
    "        self.covar_module = RBFKernel(log_lengthscale_bounds=(-5, 6))\n",
    "        self.register_parameter('log_outputscale', nn.Parameter(torch.Tensor([0])), bounds=(-5,6))\n",
    "        \n",
    "    def forward(self,x):\n",
    "        mean_x = self.mean_module(x)\n",
    "        covar_x = self.covar_module(x)\n",
    "        covar_x = covar_x.mul(self.log_outputscale.exp())\n",
    "        latent_pred = GaussianRandomVariable(mean_x, covar_x)\n",
    "        return latent_pred\n",
    "\n",
    "class GPRegressionModel(gpytorch.GPModel):\n",
    "    def __init__(self):\n",
    "        super(GPRegressionModel,self).__init__(GaussianLikelihood())\n",
    "        self.latent_function = LatentFunction()\n",
    "        \n",
    "    def forward(self, x):\n",
    "        return self.latent_function(x)\n",
    "    \n",
    "model = GPRegressionModel()"
   ]
  },
  {
   "cell_type": "code",
   "execution_count": 4,
   "metadata": {
    "collapsed": true
   },
   "outputs": [],
   "source": [
    "def plot_model_and_predictions(model):\n",
    "    n = 10\n",
    "    test_x = Variable(torch.zeros(int(pow(n, 2)), 2))\n",
    "    for i in range(n):\n",
    "        for j in range(n):\n",
    "            test_x.data[i * n + j][0] = float(i) / (n-1)\n",
    "            test_x.data[i * n + j][1] = float(j) / (n-1)\n",
    "\n",
    "    observed_pred = model(test_x)\n",
    "    pred_labels = observed_pred.mean().view(n, n).data.numpy()\n",
    "    \n",
    "    test_y_actual = torch.sin(((test_x.data[:, 0] + test_x.data[:, 1]) * (2 * math.pi))).numpy().reshape(n, n)\n",
    "    delta_y = numpy.absolute(pred_labels - test_y_actual)\n",
    "    \n",
    "    def ax_plot(f, ax, y_labels, title):\n",
    "        im = ax.imshow(y_labels)\n",
    "        ax.set_title(title)\n",
    "        f.colorbar(im)\n",
    "    \n",
    "    f, observed_ax = plt.subplots(1, 1, figsize=(4, 3))\n",
    "    ax_plot(f, observed_ax, pred_labels, 'Predicted Values (Likelihood)')\n",
    "    \n",
    "    f, observed_ax2 = plt.subplots(1, 1, figsize=(4, 3))\n",
    "    ax_plot(f, observed_ax2, test_y_actual, 'Actual Values (Likelihood)')\n",
    "\n",
    "    f, observed_ax3 = plt.subplots(1, 1, figsize=(4, 3))\n",
    "    ax_plot(f, observed_ax3, delta_y, 'Absolute Error Surface')\n",
    "    \n",
    "    return f"
   ]
  },
  {
   "cell_type": "code",
   "execution_count": 5,
   "metadata": {
    "collapsed": false
   },
   "outputs": [
    {
     "name": "stdout",
     "output_type": "stream",
     "text": [
      "Iter 1/60 - Loss: 1.078\n",
      "Iter 2/60 - Loss: 1.029\n",
      "Iter 3/60 - Loss: 0.984\n",
      "Iter 4/60 - Loss: 0.935\n",
      "Iter 5/60 - Loss: 0.883\n",
      "Iter 6/60 - Loss: 0.834\n",
      "Iter 7/60 - Loss: 0.781\n",
      "Iter 8/60 - Loss: 0.715\n",
      "Iter 9/60 - Loss: 0.646\n",
      "Iter 10/60 - Loss: 0.570\n",
      "Iter 11/60 - Loss: 0.505\n",
      "Iter 12/60 - Loss: 0.439\n",
      "Iter 13/60 - Loss: 0.374\n",
      "Iter 14/60 - Loss: 0.312\n",
      "Iter 15/60 - Loss: 0.260\n",
      "Iter 16/60 - Loss: 0.205\n",
      "Iter 17/60 - Loss: 0.156\n",
      "Iter 18/60 - Loss: 0.110\n",
      "Iter 19/60 - Loss: 0.068\n",
      "Iter 20/60 - Loss: 0.017\n",
      "Iter 21/60 - Loss: -0.031\n",
      "Iter 22/60 - Loss: -0.081\n",
      "Iter 23/60 - Loss: -0.122\n",
      "Iter 24/60 - Loss: -0.165\n",
      "Iter 25/60 - Loss: -0.195\n",
      "Iter 26/60 - Loss: -0.239\n",
      "Iter 27/60 - Loss: -0.258\n",
      "Iter 28/60 - Loss: -0.258\n",
      "Iter 29/60 - Loss: -0.281\n",
      "Iter 30/60 - Loss: -0.278\n",
      "Iter 31/60 - Loss: -0.282\n",
      "Iter 32/60 - Loss: -0.286\n",
      "Iter 33/60 - Loss: -0.286\n",
      "Iter 34/60 - Loss: -0.239\n",
      "Iter 35/60 - Loss: -0.226\n",
      "Iter 36/60 - Loss: -0.209\n",
      "Iter 37/60 - Loss: -0.167\n",
      "Iter 38/60 - Loss: -0.203\n",
      "Iter 39/60 - Loss: -0.144\n",
      "Iter 40/60 - Loss: -0.146\n",
      "Iter 41/60 - Loss: -0.143\n",
      "Iter 42/60 - Loss: -0.128\n",
      "Iter 43/60 - Loss: -0.068\n",
      "Iter 44/60 - Loss: -0.127\n",
      "Iter 45/60 - Loss: -0.121\n",
      "Iter 46/60 - Loss: -0.147\n",
      "Iter 47/60 - Loss: -0.110\n",
      "Iter 48/60 - Loss: -0.131\n",
      "Iter 49/60 - Loss: -0.166\n",
      "Iter 50/60 - Loss: -0.178\n",
      "Iter 51/60 - Loss: -0.240\n",
      "Iter 52/60 - Loss: -0.198\n",
      "Iter 53/60 - Loss: -0.240\n",
      "Iter 54/60 - Loss: -0.182\n",
      "Iter 55/60 - Loss: -0.216\n",
      "Iter 56/60 - Loss: -0.252\n",
      "Iter 57/60 - Loss: -0.281\n",
      "Iter 58/60 - Loss: -0.295\n",
      "Iter 59/60 - Loss: -0.321\n",
      "Iter 60/60 - Loss: -0.367\n"
     ]
    }
   ],
   "source": [
    "# Optimize the model\n",
    "model.train()\n",
    "optimizer = optim.Adam(model.parameters(), lr=0.1)\n",
    "optimizer.n_iter = 0\n",
    "for i in range(60):\n",
    "    optimizer.zero_grad()\n",
    "    output = model(train_x)\n",
    "    loss = -model.marginal_log_likelihood(output, train_y)\n",
    "    loss.backward()\n",
    "    optimizer.n_iter += 1\n",
    "    print('Iter %d/60 - Loss: %.3f' % (i + 1, loss.data[0]))\n",
    "    optimizer.step()\n",
    "\n",
    "_ = model.eval()"
   ]
  },
  {
   "cell_type": "code",
   "execution_count": 6,
   "metadata": {
    "collapsed": false
   },
   "outputs": [
    {
     "data": {
      "image/png": "[encoded data removed]",
      "text/plain": [
       "<matplotlib.figure.Figure at 0x7fbd5f823950>"
      ]
     },
     "metadata": {},
     "output_type": "display_data"
    },
    {
     "data": {
      "image/png": "[encoded data removed]",
      "text/plain": [
       "<matplotlib.figure.Figure at 0x7fbd5c874c10>"
      ]
     },
     "metadata": {},
     "output_type": "display_data"
    },
    {
     "data": {
      "image/png": "[encoded data removed]",
      "text/plain": [
       "<matplotlib.figure.Figure at 0x7fbd5c694590>"
      ]
     },
     "metadata": {},
     "output_type": "display_data"
    }
   ],
   "source": [
    "model.condition(train_x, train_y)\n",
    "f = plot_model_and_predictions(model)"
   ]
  },
  {
   "cell_type": "code",
   "execution_count": null,
   "metadata": {
    "collapsed": true
   },
   "outputs": [],
   "source": []
  }
 ],
 "metadata": {
  "anaconda-cloud": {},
  "kernelspec": {
   "display_name": "Python [default]",
   "language": "python",
   "name": "python2"
  },
  "language_info": {
   "codemirror_mode": {
    "name": "ipython",
    "version": 2
   },
   "file_extension": ".py",
   "mimetype": "text/x-python",
   "name": "python",
   "nbconvert_exporter": "python",
   "pygments_lexer": "ipython2",
   "version": "2.7.12"
  }
 },
 "nbformat": 4,
 "nbformat_minor": 2
}
