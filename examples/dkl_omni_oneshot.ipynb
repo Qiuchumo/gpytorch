{
 "cells": [
  {
   "cell_type": "code",
   "execution_count": 1,
   "metadata": {
    "collapsed": true
   },
   "outputs": [],
   "source": [
    "import gpytorch\n",
    "import torch\n",
    "import torchvision\n",
    "from torch import nn\n",
    "from torch.autograd import Variable\n",
    "from torchvision import transforms\n",
    "\n",
    "gpytorch.functions.use_toeplitz = False"
   ]
  },
  {
   "cell_type": "code",
   "execution_count": 2,
   "metadata": {
    "collapsed": true
   },
   "outputs": [],
   "source": [
    "ways = 20\n",
    "shots = 5\n",
    "train_dir_str = \"way%dshot%d\" %(ways, shots)\n",
    "test_dir_str = \"way%dtest\" %ways"
   ]
  },
  {
   "cell_type": "code",
   "execution_count": 3,
   "metadata": {
    "scrolled": true
   },
   "outputs": [
    {
     "name": "stderr",
     "output_type": "stream",
     "text": [
      "/home/bw462/anaconda2/lib/python2.7/site-packages/torchvision-0.2.0-py2.7.egg/torchvision/transforms/transforms.py:156: UserWarning: The use of the transforms.Scale transform is deprecated, please use transforms.Resize instead.\n"
     ]
    },
    {
     "data": {
      "text/plain": [
       "\"\\ntest_mnist = torchvision.datasets.ImageFolder('/tmp', split='test',\\n                                        download=True, transform=transforms.Compose([\\n                       transforms.ToTensor()\\n                   ]))\\n\""
      ]
     },
     "execution_count": 3,
     "metadata": {},
     "output_type": "execute_result"
    }
   ],
   "source": [
    "train_base_omni = torchvision.datasets.ImageFolder('/scratch/bw462/omni_data/general', transform=transforms.Compose([\n",
    "                        transforms.Scale((28,28)),\n",
    "                        transforms.ToTensor()\n",
    "                   ]))                                              \n",
    "\"\"\"\n",
    "test_mnist = torchvision.datasets.ImageFolder('/tmp', split='test',\n",
    "                                        download=True, transform=transforms.Compose([\n",
    "                       transforms.ToTensor()\n",
    "                   ]))\n",
    "\"\"\""
   ]
  },
  {
   "cell_type": "code",
   "execution_count": 4,
   "metadata": {
    "collapsed": true
   },
   "outputs": [],
   "source": [
    "class FeatureExtractor(nn.Sequential):\n",
    "    \n",
    "    def __init__(self):\n",
    "        super(FeatureExtractor, self).__init__(nn.Conv2d(1, 32, kernel_size=5, padding=2),\n",
    "                                 nn.BatchNorm2d(32),\n",
    "                                 nn.ReLU(),\n",
    "                                 nn.MaxPool2d(2, 2),\n",
    "                                 nn.Conv2d(32, 64, kernel_size=5, padding=2),\n",
    "                                 nn.BatchNorm2d(64),\n",
    "                                 nn.ReLU(),\n",
    "                                 nn.MaxPool2d(2, 2))\n",
    "        \n",
    "class Bottleneck(nn.Sequential):\n",
    "    \n",
    "    def __init__(self):\n",
    "        super(Bottleneck, self).__init__(nn.Linear(64*7*7, 128),\n",
    "                                         nn.BatchNorm1d(128),\n",
    "                                 nn.ReLU(),\n",
    "                                 nn.Linear(128, 128),\n",
    "                                 nn.BatchNorm1d(128),\n",
    "                                 nn.ReLU(),\n",
    "                                 nn.Linear(128,64),\n",
    "                                 nn.BatchNorm1d(64))\n",
    "\n",
    "class LeNet(nn.Module):\n",
    "    \n",
    "    def __init__(self):\n",
    "        super(LeNet, self).__init__()\n",
    "        self.feature_extractor = FeatureExtractor()\n",
    "        self.bottleneck = Bottleneck()\n",
    "        self.final_layer = nn.Sequential(\n",
    "                                 nn.ReLU(),\n",
    "                                 nn.Linear(64,1319))\n",
    "    \n",
    "    def forward(self, x):\n",
    "        input_x = x[:,0,:,:].unsqueeze(1)\n",
    "        features = self.feature_extractor(input_x)\n",
    "        bottlenecked_features = self.bottleneck(features.view(-1, 64 * 7 * 7))\n",
    "        classification = self.final_layer(bottlenecked_features)\n",
    "        return classification\n",
    "        "
   ]
  },
  {
   "cell_type": "code",
   "execution_count": 5,
   "metadata": {
    "collapsed": true
   },
   "outputs": [],
   "source": [
    "train_data_loader = torch.utils.data.DataLoader(train_base_omni, shuffle=True, pin_memory=True, batch_size=256)"
   ]
  },
  {
   "cell_type": "code",
   "execution_count": 6,
   "metadata": {
    "collapsed": true
   },
   "outputs": [],
   "source": [
    "criterion = nn.CrossEntropyLoss().cuda()"
   ]
  },
  {
   "cell_type": "code",
   "execution_count": 7,
   "metadata": {
    "collapsed": true
   },
   "outputs": [],
   "source": [
    "model = LeNet().cuda() \n",
    "optimizer = torch.optim.SGD(model.parameters(), lr=0.5)"
   ]
  },
  {
   "cell_type": "code",
   "execution_count": 8,
   "metadata": {
    "collapsed": true
   },
   "outputs": [],
   "source": [
    "num_epochs = 0\n",
    "if num_epochs > 0:\n",
    "    model.train()\n",
    "    for i in range(num_epochs):\n",
    "        for x, y in train_data_loader:\n",
    "            optimizer.zero_grad()\n",
    "            x = Variable(x).cuda()\n",
    "            y = Variable(y).cuda()\n",
    "            output = model(x)\n",
    "            loss = criterion(output, y)\n",
    "            loss.backward()\n",
    "            optimizer.step()\n",
    "        print(\"Loss: %.3f\" % loss.data[0])\n",
    "    torch.save(model.state_dict(), '/scratch/bw462/omni_net.dat')\n",
    "else:\n",
    "    model.load_state_dict(torch.load('/scratch/bw462/omni_net.dat'))\n"
   ]
  },
  {
   "cell_type": "code",
   "execution_count": 9,
   "metadata": {},
   "outputs": [
    {
     "name": "stdout",
     "output_type": "stream",
     "text": [
      "Accuracy: 0.9991\n"
     ]
    }
   ],
   "source": [
    "model.eval()\n",
    "#test_data_loader = torch.utils.data.DataLoader(test_mnist, shuffle=False, pin_memory=True, batch_size=256)\n",
    "avg = 0.\n",
    "i = 0.\n",
    "for test_batch_x, test_batch_y in train_data_loader:\n",
    "    predictions = model(Variable(test_batch_x).cuda()).max(-1)[1]\n",
    "    test_batch_y = Variable(test_batch_y).cuda()\n",
    "    avg += torch.eq(predictions, test_batch_y).float().mean().data[0]\n",
    "    i += 1.\n",
    "print('Accuracy: %.4f' % (avg / i))"
   ]
  },
  {
   "cell_type": "code",
   "execution_count": 10,
   "metadata": {
    "collapsed": true
   },
   "outputs": [],
   "source": [
    "list(model.bottleneck.modules())[-1].weight.data.fill_(1)\n",
    "None"
   ]
  },
  {
   "cell_type": "code",
   "execution_count": 11,
   "metadata": {
    "collapsed": true
   },
   "outputs": [],
   "source": [
    "from gpytorch.kernels import RBFKernel, GridInterpolationKernel\n",
    "\n",
    "class DeepKernel(gpytorch.Module):\n",
    "    def __init__(self, model):\n",
    "        super(DeepKernel, self).__init__()\n",
    "        self.feature_extractor = model.feature_extractor\n",
    "        self.bottleneck = model.bottleneck\n",
    "        self.gp_layer = GPLayer()\n",
    "        \n",
    "    def forward(self, x):\n",
    "        features = self.feature_extractor(x[:,0,:,:].unsqueeze(1))\n",
    "        bottlenecked_features = self.bottleneck(features.view(-1, 64 * 7 * 7))\n",
    "        gp_output = self.gp_layer(0.1*bottlenecked_features)\n",
    "        return gp_output\n",
    "    \n",
    "    \n",
    "class LatentFunction(gpytorch.AdditiveGridInducingPointModule):\n",
    "    def __init__(self):\n",
    "        super(LatentFunction, self).__init__(grid_size=256, grid_bounds=[(-7, 7)],\n",
    "                                             n_components=64, mixing_params=False, sum_output=False)\n",
    "        cov_module = RBFKernel()\n",
    "        cov_module.initialize(log_lengthscale=2)\n",
    "        self.cov_module = cov_module\n",
    "        \n",
    "    def forward(self, x):\n",
    "        mean = Variable(x.data.new(len(x)).zero_())\n",
    "        covar = self.cov_module(x)\n",
    "        return gpytorch.random_variables.GaussianRandomVariable(mean, covar)\n",
    "\n",
    "    \n",
    "class GPLayer(gpytorch.GPModel):\n",
    "    def __init__(self, n_dims=64):\n",
    "        super(GPLayer, self).__init__(gpytorch.likelihoods.SoftmaxLikelihood(n_features=64, n_classes=1319))\n",
    "        self.latent_function = LatentFunction()\n",
    "    \n",
    "    def forward(self, x):\n",
    "        res = self.latent_function(x)\n",
    "        return res\n",
    "    "
   ]
  },
  {
   "cell_type": "code",
   "execution_count": 12,
   "metadata": {
    "collapsed": true
   },
   "outputs": [],
   "source": [
    "deep_kernel = DeepKernel(model).cuda()"
   ]
  },
  {
   "cell_type": "code",
   "execution_count": 13,
   "metadata": {
    "scrolled": false
   },
   "outputs": [
    {
     "name": "stderr",
     "output_type": "stream",
     "text": [
      "/home/bw462/gpytorch/gpytorch/likelihoods/softmax_likelihood.py:46: UserWarning: Implicit dimension choice for softmax has been deprecated. Change the call to include dim=X as an argument.\n",
      "  softmax = nn.functional.softmax(mixed_fs.t()).view(n_data, n_samples, self.n_classes)\n"
     ]
    },
    {
     "name": "stdout",
     "output_type": "stream",
     "text": [
      "Score\n",
      "0.999472128378\n"
     ]
    },
    {
     "data": {
      "text/plain": [
       "DeepKernel(\n",
       "  (feature_extractor): FeatureExtractor(\n",
       "    (0): Conv2d (1, 32, kernel_size=(5, 5), stride=(1, 1), padding=(2, 2))\n",
       "    (1): BatchNorm2d(32, eps=1e-05, momentum=0.1, affine=True)\n",
       "    (2): ReLU()\n",
       "    (3): MaxPool2d(kernel_size=(2, 2), stride=(2, 2), dilation=(1, 1))\n",
       "    (4): Conv2d (32, 64, kernel_size=(5, 5), stride=(1, 1), padding=(2, 2))\n",
       "    (5): BatchNorm2d(64, eps=1e-05, momentum=0.1, affine=True)\n",
       "    (6): ReLU()\n",
       "    (7): MaxPool2d(kernel_size=(2, 2), stride=(2, 2), dilation=(1, 1))\n",
       "  )\n",
       "  (bottleneck): Bottleneck(\n",
       "    (0): Linear(in_features=3136, out_features=128)\n",
       "    (1): BatchNorm1d(128, eps=1e-05, momentum=0.1, affine=True)\n",
       "    (2): ReLU()\n",
       "    (3): Linear(in_features=128, out_features=128)\n",
       "    (4): BatchNorm1d(128, eps=1e-05, momentum=0.1, affine=True)\n",
       "    (5): ReLU()\n",
       "    (6): Linear(in_features=128, out_features=64)\n",
       "    (7): BatchNorm1d(64, eps=1e-05, momentum=0.1, affine=True)\n",
       "  )\n",
       "  (gp_layer): GPLayer(\n",
       "    (likelihood): SoftmaxLikelihood(\n",
       "    )\n",
       "    (latent_function): LatentFunction(\n",
       "      (cov_module): GridInterpolationKernel(\n",
       "        (base_kernel_module): RBFKernel(\n",
       "        )\n",
       "      )\n",
       "    )\n",
       "  )\n",
       ")"
      ]
     },
     "execution_count": 13,
     "metadata": {},
     "output_type": "execute_result"
    }
   ],
   "source": [
    "# Find optimal model hyperparameters\n",
    "optimizer = torch.optim.Adam(deep_kernel.gp_layer.parameters(), lr=0.01)\n",
    "optimizer.n_iter = 0\n",
    "num_epochs = 0\n",
    "if num_epochs > 0:\n",
    "    deep_kernel.train()\n",
    "    for i in range(num_epochs):\n",
    "        for j, (train_x_batch, train_y_batch) in enumerate(train_data_loader):\n",
    "            train_x_batch = Variable(train_x_batch).cuda()\n",
    "            train_y_batch = Variable(train_y_batch).cuda()\n",
    "            optimizer.zero_grad()\n",
    "            output = deep_kernel(train_x_batch)\n",
    "            loss = -deep_kernel.gp_layer.marginal_log_likelihood(output, train_y_batch, n_data=len(train_base_omni))\n",
    "            loss.backward()\n",
    "            optimizer.n_iter += 1\n",
    "            print('Iter %d/%d - Loss: %.3f' % (\n",
    "                i + 1, num_epochs, loss.data[0],\n",
    "            ))\n",
    "            optimizer.step()\n",
    "    torch.save(deep_kernel.state_dict(), '/scratch/bw462/omni_gp.dat')\n",
    "else:\n",
    "    deep_kernel.load_state_dict(torch.load('/scratch/bw462/omni_gp.dat'))\n",
    "    \n",
    "    \n",
    "deep_kernel.eval()\n",
    "avg = 0.\n",
    "i = 0.\n",
    "for test_batch_x, test_batch_y in train_data_loader:\n",
    "    predictions = deep_kernel(Variable(test_batch_x).cuda()).argmax()\n",
    "    test_batch_y = Variable(test_batch_y).cuda()\n",
    "    avg += torch.eq(predictions, test_batch_y).float().mean().data[0]\n",
    "    i += 1.\n",
    "\n",
    "print('Score')\n",
    "print(avg / i)\n",
    "deep_kernel.train()\n"
   ]
  },
  {
   "cell_type": "code",
   "execution_count": 14,
   "metadata": {},
   "outputs": [
    {
     "name": "stdout",
     "output_type": "stream",
     "text": [
      "Accuracy: 0.9995\n"
     ]
    }
   ],
   "source": [
    "deep_kernel.eval()\n",
    "for test_batch_x, test_batch_y in train_data_loader:\n",
    "    predictions = deep_kernel(Variable(test_batch_x).cuda()).representation().max(-1)[1]\n",
    "    test_batch_y = Variable(test_batch_y).cuda()\n",
    "    avg += torch.eq(predictions, test_batch_y).float().mean().data[0]\n",
    "    i += 1.\n",
    "print('Accuracy: %.4f' % (avg / i))\n"
   ]
  },
  {
   "cell_type": "code",
   "execution_count": 15,
   "metadata": {
    "collapsed": true
   },
   "outputs": [],
   "source": [
    "train_shots_omni = torchvision.datasets.ImageFolder('/scratch/bw462/omni_data/' + train_dir_str, transform=transforms.Compose([\n",
    "                        transforms.Scale((28,28)),\n",
    "                        transforms.ToTensor()\n",
    "                   ]))    "
   ]
  },
  {
   "cell_type": "code",
   "execution_count": null,
   "metadata": {
    "collapsed": true
   },
   "outputs": [],
   "source": [
    "oneshot_model = DeepKernel(model).cuda()\n",
    "oneshot_model.load_state_dict(deep_kernel.state_dict())\n",
    "oneshot_model.gp_layer.likelihood = gpytorch.likelihoods.SoftmaxLikelihood(n_features=64, n_classes=1319).cuda()\n",
    "oneshot_model.gp_layer.likelihood.mixing_weights.data.copy_(deep_kernel.gp_layer.likelihood.mixing_weights.data)\n",
    "shots_loader = torch.utils.data.DataLoader(train_shots_omni, batch_size=512., pin_memory=True, shuffle=True)"
   ]
  },
  {
   "cell_type": "code",
   "execution_count": null,
   "metadata": {},
   "outputs": [
    {
     "name": "stdout",
     "output_type": "stream",
     "text": [
      "Iter 1/200 - Loss: -2.151\n",
      "Iter 2/200 - Loss: -14.873\n",
      "Iter 3/200 - Loss: -4.665\n",
      "Iter 4/200 - Loss: -8.629\n",
      "Iter 5/200 - Loss: -17.232\n",
      "Iter 6/200 - Loss: -0.352\n",
      "Iter 7/200 - Loss: -12.967\n",
      "Iter 8/200 - Loss: -14.857\n",
      "Iter 9/200 - Loss: -9.479\n",
      "Iter 10/200 - Loss: -15.892\n",
      "Iter 11/200 - Loss: -18.099\n",
      "Iter 12/200 - Loss: -21.921\n",
      "Iter 13/200 - Loss: -27.655\n",
      "Iter 14/200 - Loss: -10.720\n",
      "Iter 15/200 - Loss: -13.404\n",
      "Iter 16/200 - Loss: -14.092\n",
      "Iter 17/200 - Loss: -16.256\n",
      "Iter 18/200 - Loss: -24.171\n",
      "Iter 19/200 - Loss: -12.913\n",
      "Iter 20/200 - Loss: -13.120\n",
      "Iter 21/200 - Loss: -21.209\n",
      "Iter 22/200 - Loss: -20.958\n",
      "Iter 23/200 - Loss: -16.627\n",
      "Iter 24/200 - Loss: -17.640\n",
      "Iter 25/200 - Loss: -10.245\n",
      "Iter 26/200 - Loss: -13.132\n",
      "Iter 27/200 - Loss: -19.974\n",
      "Iter 28/200 - Loss: -20.297\n",
      "Iter 29/200 - Loss: -9.161\n",
      "Iter 30/200 - Loss: -28.606\n",
      "Iter 31/200 - Loss: -14.243\n",
      "Iter 32/200 - Loss: -15.966\n",
      "Iter 33/200 - Loss: -23.250\n",
      "Iter 34/200 - Loss: -18.034\n",
      "Iter 35/200 - Loss: -10.276\n",
      "Iter 36/200 - Loss: -11.331\n",
      "Iter 37/200 - Loss: -20.944\n",
      "Iter 38/200 - Loss: -19.472\n",
      "Iter 39/200 - Loss: -18.980\n",
      "Iter 40/200 - Loss: -17.146\n",
      "Iter 41/200 - Loss: -21.414\n",
      "Iter 42/200 - Loss: -20.415\n",
      "Iter 43/200 - Loss: -23.018\n",
      "Iter 44/200 - Loss: -38.900\n",
      "Iter 45/200 - Loss: -22.191\n",
      "Iter 46/200 - Loss: -23.521\n",
      "Iter 47/200 - Loss: -15.272\n",
      "Iter 48/200 - Loss: -20.398\n",
      "Iter 49/200 - Loss: -27.343\n",
      "Iter 50/200 - Loss: -16.968\n",
      "Iter 51/200 - Loss: -22.857\n",
      "Iter 52/200 - Loss: -19.980\n",
      "Iter 53/200 - Loss: -8.449\n",
      "Iter 54/200 - Loss: -26.166\n",
      "Iter 55/200 - Loss: -17.569\n",
      "Iter 56/200 - Loss: -23.688\n",
      "Iter 57/200 - Loss: -6.745\n",
      "Iter 58/200 - Loss: -5.508\n",
      "Iter 59/200 - Loss: -20.597\n",
      "Iter 60/200 - Loss: -24.495\n",
      "Iter 61/200 - Loss: -17.007\n",
      "Iter 62/200 - Loss: -33.557\n",
      "Iter 63/200 - Loss: -34.905\n",
      "Iter 64/200 - Loss: -6.328\n",
      "Iter 65/200 - Loss: -16.375\n",
      "Iter 66/200 - Loss: -5.145\n",
      "Iter 67/200 - Loss: -22.141\n",
      "Iter 68/200 - Loss: -23.287\n",
      "Iter 69/200 - Loss: -15.059\n",
      "Iter 70/200 - Loss: -33.037\n",
      "Iter 71/200 - Loss: -10.342\n",
      "Iter 72/200 - Loss: -19.068\n",
      "Iter 73/200 - Loss: -19.665\n",
      "Iter 74/200 - Loss: -0.626\n",
      "Iter 75/200 - Loss: -32.561\n",
      "Iter 76/200 - Loss: -17.199\n",
      "Iter 77/200 - Loss: -20.722\n",
      "Iter 78/200 - Loss: -25.808\n",
      "Iter 79/200 - Loss: -22.854\n",
      "Iter 80/200 - Loss: -24.758\n",
      "Iter 81/200 - Loss: -10.538\n",
      "Iter 82/200 - Loss: -28.413\n",
      "Iter 83/200 - Loss: -23.987\n",
      "Iter 84/200 - Loss: -33.186\n",
      "Iter 85/200 - Loss: -22.354\n",
      "Iter 86/200 - Loss: -18.232\n",
      "Iter 87/200 - Loss: -24.712\n",
      "Iter 88/200 - Loss: -17.833\n",
      "Iter 89/200 - Loss: -19.579\n",
      "Iter 90/200 - Loss: -27.496\n",
      "Iter 91/200 - Loss: -9.870\n",
      "Iter 92/200 - Loss: -17.481\n",
      "Iter 93/200 - Loss: -31.395\n",
      "Iter 94/200 - Loss: -18.171\n",
      "Iter 95/200 - Loss: -27.648\n",
      "Iter 96/200 - Loss: -24.798\n",
      "Iter 97/200 - Loss: -25.847\n",
      "Iter 98/200 - Loss: -13.617\n",
      "Iter 99/200 - Loss: -29.967\n",
      "Iter 100/200 - Loss: -16.425\n",
      "Iter 101/200 - Loss: -25.523\n",
      "Iter 102/200 - Loss: -23.626\n",
      "Iter 103/200 - Loss: -24.846\n",
      "Iter 104/200 - Loss: -15.007\n",
      "Iter 105/200 - Loss: -14.716\n",
      "Iter 106/200 - Loss: -26.877\n",
      "Iter 107/200 - Loss: -12.993\n",
      "Iter 108/200 - Loss: -21.549\n",
      "Iter 109/200 - Loss: -17.645\n",
      "Iter 110/200 - Loss: -24.609\n",
      "Iter 111/200 - Loss: -22.961\n",
      "Iter 112/200 - Loss: -30.036\n",
      "Iter 113/200 - Loss: -34.460\n",
      "Iter 114/200 - Loss: -30.967\n",
      "Iter 115/200 - Loss: -17.320\n",
      "Iter 116/200 - Loss: 3.173\n",
      "Iter 117/200 - Loss: -24.005\n",
      "Iter 118/200 - Loss: -19.163\n",
      "Iter 119/200 - Loss: -25.785\n",
      "Iter 120/200 - Loss: -27.330\n",
      "Iter 121/200 - Loss: -25.837\n",
      "Iter 122/200 - Loss: -26.058\n",
      "Iter 123/200 - Loss: -20.153\n",
      "Iter 124/200 - Loss: -16.875\n",
      "Iter 125/200 - Loss: 9.983\n",
      "Iter 126/200 - Loss: -16.582\n",
      "Iter 127/200 - Loss: -17.736\n",
      "Iter 128/200 - Loss: -12.083\n",
      "Iter 129/200 - Loss: -22.997\n",
      "Iter 130/200 - Loss: -23.460\n",
      "Iter 131/200 - Loss: -26.899\n",
      "Iter 132/200 - Loss: -22.513\n",
      "Iter 133/200 - Loss: -9.694\n",
      "Iter 134/200 - Loss: -21.659\n",
      "Iter 135/200 - Loss: -24.492\n",
      "Iter 136/200 - Loss: -7.296\n",
      "Iter 137/200 - Loss: -27.189\n",
      "Iter 138/200 - Loss: -22.710\n",
      "Iter 139/200 - Loss: -21.464\n",
      "Iter 140/200 - Loss: -27.998\n",
      "Iter 141/200 - Loss: -18.187\n",
      "Iter 142/200 - Loss: -6.016\n",
      "Iter 143/200 - Loss: -21.025\n",
      "Iter 144/200 - Loss: -16.712\n",
      "Iter 145/200 - Loss: -17.313\n",
      "Iter 146/200 - Loss: -11.516\n",
      "Iter 147/200 - Loss: -15.735\n",
      "Iter 148/200 - Loss: -20.979\n",
      "Iter 149/200 - Loss: -13.460\n",
      "Iter 150/200 - Loss: -25.056\n",
      "Iter 151/200 - Loss: -19.550\n",
      "Iter 152/200 - Loss: -14.445\n",
      "Iter 153/200 - Loss: -25.784\n",
      "Iter 154/200 - Loss: -32.956\n",
      "Iter 155/200 - Loss: -25.541\n",
      "Iter 156/200 - Loss: -18.174\n",
      "Iter 157/200 - Loss: -16.645\n",
      "Iter 158/200 - Loss: -21.878\n",
      "Iter 159/200 - Loss: -19.210\n",
      "Iter 160/200 - Loss: -32.896\n",
      "Iter 161/200 - Loss: -16.889\n",
      "Iter 162/200 - Loss: -20.259\n",
      "Iter 163/200 - Loss: -20.300\n",
      "Iter 164/200 - Loss: -22.610\n",
      "Iter 165/200 - Loss: -14.940\n",
      "Iter 166/200 - Loss: -13.617\n",
      "Iter 167/200 - Loss: -23.197\n",
      "Iter 168/200 - Loss: -8.704\n",
      "Iter 169/200 - Loss: -29.811\n",
      "Iter 170/200 - Loss: -13.439\n",
      "Iter 171/200 - Loss: -17.106\n",
      "Iter 172/200 - Loss: -13.393\n",
      "Iter 173/200 - Loss: -15.789\n",
      "Iter 174/200 - Loss: -23.188\n",
      "Iter 175/200 - Loss: -7.335\n"
     ]
    }
   ],
   "source": [
    "# Find optimal model hyperparameters\n",
    "oneshot_model.train()\n",
    "oneshot_model.feature_extractor.eval()\n",
    "oneshot_model.bottleneck.eval()\n",
    "\n",
    "optimizer = torch.optim.Adam(oneshot_model.gp_layer.likelihood.parameters(), lr=0.01)\n",
    "optimizer.n_iter = 0\n",
    "num_epochs = 200\n",
    "for i in range(num_epochs):\n",
    "    for j, (train_x_batch, train_y_batch) in enumerate(shots_loader):\n",
    "        train_x_batch = Variable(train_x_batch).cuda()\n",
    "        train_y_batch = Variable(train_y_batch).cuda()\n",
    "        optimizer.zero_grad()\n",
    "        output = oneshot_model(train_x_batch)\n",
    "        loss = -oneshot_model.gp_layer.marginal_log_likelihood(output, train_y_batch, n_data=len(train_shots_omni))\n",
    "        #kl = oneshot_model.gp_layer.likelihood.kl_div() / len(train_mnist)\n",
    "        #loss = loss + kl\n",
    "        loss.backward()\n",
    "        optimizer.n_iter += 1\n",
    "        print('Iter %d/%d - Loss: %.3f' % (\n",
    "            i + 1, num_epochs, loss.data[0],\n",
    "        ))\n",
    "        optimizer.step()\n",
    "\n"
   ]
  },
  {
   "cell_type": "code",
   "execution_count": null,
   "metadata": {},
   "outputs": [],
   "source": [
    "oneshot_model.eval()\n",
    "test_shots_omni = torchvision.datasets.ImageFolder('/scratch/bw462/omni_data/' + test_dir_str, transform=transforms.Compose([\n",
    "                        transforms.Scale((28,28)),\n",
    "                        transforms.ToTensor()\n",
    "                   ]))    \n",
    "test_shots_loader = torch.utils.data.DataLoader(test_shots_omni, batch_size=512., pin_memory=True, shuffle=True)\n",
    "avg = 0.\n",
    "summed_confidence = 0.\n",
    "i = 0.\n",
    "for test_batch_x, test_batch_y in test_shots_loader:\n",
    "    model_output = oneshot_model(Variable(test_batch_x).cuda())\n",
    "    predictions = model_output.argmax()\n",
    "    confidences = model_output.mass_function.max(-1)[0]\n",
    "    avg_confidence = confidences.mean()\n",
    "    summed_confidence += avg_confidence\n",
    "    test_batch_y = Variable(test_batch_y).cuda()\n",
    "    avg += torch.eq(predictions, test_batch_y).float().mean().data[0]\n",
    "    i += 1.\n",
    "\n",
    "#for pred, y in zip(predictions.data, test_batch_y.data):\n",
    "#    print(pred, y)\n",
    "print('Score')\n",
    "print(avg / i)\n",
    "print('Average Confidence')\n",
    "print(summed_confidence.data[0] / i)"
   ]
  },
  {
   "cell_type": "code",
   "execution_count": null,
   "metadata": {},
   "outputs": [],
   "source": [
    "# 5 way 5 shot  93% accuracy % confidence\n",
    "# 5 way 1 shot  56% accuracy % confidence\n",
    "# 20 way 5 shot 89% accuracy % confidence\n",
    "# 20 way 1 shot 57% accuracy % confidence\n"
   ]
  },
  {
   "cell_type": "code",
   "execution_count": null,
   "metadata": {},
   "outputs": [],
   "source": [
    "model_output.mass_function.max(-1)[0].mean().data[0]"
   ]
  },
  {
   "cell_type": "code",
   "execution_count": null,
   "metadata": {
    "collapsed": true
   },
   "outputs": [],
   "source": []
  }
 ],
 "metadata": {
  "anaconda-cloud": {},
  "kernelspec": {
   "display_name": "Python 2",
   "language": "python",
   "name": "python2"
  },
  "language_info": {
   "codemirror_mode": {
    "name": "ipython",
    "version": 2
   },
   "file_extension": ".py",
   "mimetype": "text/x-python",
   "name": "python",
   "nbconvert_exporter": "python",
   "pygments_lexer": "ipython2",
   "version": "2.7.14"
  }
 },
 "nbformat": 4,
 "nbformat_minor": 1
}
