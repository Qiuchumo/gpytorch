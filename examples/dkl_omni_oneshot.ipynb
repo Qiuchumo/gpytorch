{
 "cells": [
  {
   "cell_type": "code",
   "execution_count": 1,
   "metadata": {
    "collapsed": true
   },
   "outputs": [],
   "source": [
    "import gpytorch\n",
    "import torch\n",
    "import torchvision\n",
    "from torch import nn\n",
    "from torch.autograd import Variable\n",
    "from torchvision import transforms\n",
    "\n",
    "gpytorch.functions.use_toeplitz = False"
   ]
  },
  {
   "cell_type": "code",
   "execution_count": 2,
   "metadata": {
    "collapsed": true
   },
   "outputs": [],
   "source": [
    "ways = 5\n",
    "shots = 1\n",
    "train_dir_str = \"way%dshot%d\" %(ways, shots)\n",
    "test_dir_str = \"way%dtest\" %ways"
   ]
  },
  {
   "cell_type": "code",
   "execution_count": 3,
   "metadata": {
    "scrolled": true
   },
   "outputs": [
    {
     "name": "stderr",
     "output_type": "stream",
     "text": [
      "/home/bw462/anaconda2/lib/python2.7/site-packages/torchvision-0.2.0-py2.7.egg/torchvision/transforms/transforms.py:156: UserWarning: The use of the transforms.Scale transform is deprecated, please use transforms.Resize instead.\n"
     ]
    },
    {
     "data": {
      "text/plain": [
       "\"\\ntest_mnist = torchvision.datasets.ImageFolder('/tmp', split='test',\\n                                        download=True, transform=transforms.Compose([\\n                       transforms.ToTensor()\\n                   ]))\\n\""
      ]
     },
     "execution_count": 3,
     "metadata": {},
     "output_type": "execute_result"
    }
   ],
   "source": [
    "train_base_omni = torchvision.datasets.ImageFolder('/scratch/bw462/omni_data/general', transform=transforms.Compose([\n",
    "                        transforms.Scale((28,28)),\n",
    "                        transforms.ToTensor()\n",
    "                   ]))                                              \n",
    "\"\"\"\n",
    "test_mnist = torchvision.datasets.ImageFolder('/tmp', split='test',\n",
    "                                        download=True, transform=transforms.Compose([\n",
    "                       transforms.ToTensor()\n",
    "                   ]))\n",
    "\"\"\""
   ]
  },
  {
   "cell_type": "code",
   "execution_count": 4,
   "metadata": {
    "collapsed": true
   },
   "outputs": [],
   "source": [
    "class FeatureExtractor(nn.Sequential):\n",
    "    \n",
    "    def __init__(self):\n",
    "        super(FeatureExtractor, self).__init__(nn.Conv2d(1, 32, kernel_size=5, padding=2),\n",
    "                                 nn.BatchNorm2d(32),\n",
    "                                 nn.ReLU(),\n",
    "                                 nn.MaxPool2d(2, 2),\n",
    "                                 nn.Conv2d(32, 64, kernel_size=5, padding=2),\n",
    "                                 nn.BatchNorm2d(64),\n",
    "                                 nn.ReLU(),\n",
    "                                 nn.MaxPool2d(2, 2))\n",
    "        \n",
    "class Bottleneck(nn.Sequential):\n",
    "    \n",
    "    def __init__(self):\n",
    "        super(Bottleneck, self).__init__(nn.Linear(64*7*7, 128),\n",
    "                                         nn.BatchNorm1d(128),\n",
    "                                 nn.ReLU(),\n",
    "                                 nn.Linear(128, 128),\n",
    "                                 nn.BatchNorm1d(128),\n",
    "                                 nn.ReLU(),\n",
    "                                 nn.Linear(128,64),\n",
    "                                 nn.BatchNorm1d(64))\n",
    "\n",
    "class LeNet(nn.Module):\n",
    "    \n",
    "    def __init__(self):\n",
    "        super(LeNet, self).__init__()\n",
    "        self.feature_extractor = FeatureExtractor()\n",
    "        self.bottleneck = Bottleneck()\n",
    "        self.final_layer = nn.Sequential(\n",
    "                                 nn.ReLU(),\n",
    "                                 nn.Linear(64,1319))\n",
    "    \n",
    "    def forward(self, x):\n",
    "        input_x = x[:,0,:,:].unsqueeze(1)\n",
    "        features = self.feature_extractor(input_x)\n",
    "        bottlenecked_features = self.bottleneck(features.view(-1, 64 * 7 * 7))\n",
    "        classification = self.final_layer(bottlenecked_features)\n",
    "        return classification\n",
    "        "
   ]
  },
  {
   "cell_type": "code",
   "execution_count": 5,
   "metadata": {
    "collapsed": true
   },
   "outputs": [],
   "source": [
    "train_data_loader = torch.utils.data.DataLoader(train_base_omni, shuffle=True, pin_memory=True, batch_size=256)"
   ]
  },
  {
   "cell_type": "code",
   "execution_count": 6,
   "metadata": {
    "collapsed": true
   },
   "outputs": [],
   "source": [
    "criterion = nn.CrossEntropyLoss().cuda()"
   ]
  },
  {
   "cell_type": "code",
   "execution_count": 7,
   "metadata": {
    "collapsed": true
   },
   "outputs": [],
   "source": [
    "model = LeNet().cuda() \n",
    "optimizer = torch.optim.SGD(model.parameters(), lr=0.5)"
   ]
  },
  {
   "cell_type": "code",
   "execution_count": 8,
   "metadata": {
    "collapsed": true
   },
   "outputs": [],
   "source": [
    "num_epochs = 0\n",
    "if num_epochs > 0:\n",
    "    model.train()\n",
    "    for i in range(num_epochs):\n",
    "        for x, y in train_data_loader:\n",
    "            optimizer.zero_grad()\n",
    "            x = Variable(x).cuda()\n",
    "            y = Variable(y).cuda()\n",
    "            output = model(x)\n",
    "            loss = criterion(output, y)\n",
    "            loss.backward()\n",
    "            optimizer.step()\n",
    "        print(\"Loss: %.3f\" % loss.data[0])\n",
    "    torch.save(model.state_dict(), '/scratch/bw462/omni_net.dat')\n",
    "else:\n",
    "    model.load_state_dict(torch.load('/scratch/bw462/omni_net.dat'))\n"
   ]
  },
  {
   "cell_type": "code",
   "execution_count": 9,
   "metadata": {},
   "outputs": [
    {
     "name": "stdout",
     "output_type": "stream",
     "text": [
      "Accuracy: 0.9992\n"
     ]
    }
   ],
   "source": [
    "model.eval()\n",
    "#test_data_loader = torch.utils.data.DataLoader(test_mnist, shuffle=False, pin_memory=True, batch_size=256)\n",
    "avg = 0.\n",
    "i = 0.\n",
    "for test_batch_x, test_batch_y in train_data_loader:\n",
    "    predictions = model(Variable(test_batch_x).cuda()).max(-1)[1]\n",
    "    test_batch_y = Variable(test_batch_y).cuda()\n",
    "    avg += torch.eq(predictions, test_batch_y).float().mean().data[0]\n",
    "    i += 1.\n",
    "print('Accuracy: %.4f' % (avg / i))"
   ]
  },
  {
   "cell_type": "code",
   "execution_count": 10,
   "metadata": {
    "collapsed": true
   },
   "outputs": [],
   "source": [
    "list(model.bottleneck.modules())[-1].weight.data.fill_(1)\n",
    "None"
   ]
  },
  {
   "cell_type": "code",
   "execution_count": 11,
   "metadata": {
    "collapsed": true
   },
   "outputs": [],
   "source": [
    "from gpytorch.kernels import RBFKernel, GridInterpolationKernel\n",
    "\n",
    "class DeepKernel(gpytorch.Module):\n",
    "    def __init__(self, model):\n",
    "        super(DeepKernel, self).__init__()\n",
    "        self.feature_extractor = model.feature_extractor\n",
    "        self.bottleneck = model.bottleneck\n",
    "        self.gp_layer = GPLayer()\n",
    "        \n",
    "    def forward(self, x):\n",
    "        features = self.feature_extractor(x[:,0,:,:].unsqueeze(1))\n",
    "        bottlenecked_features = self.bottleneck(features.view(-1, 64 * 7 * 7))\n",
    "        gp_output = self.gp_layer(0.1*bottlenecked_features)\n",
    "        return gp_output\n",
    "    \n",
    "    \n",
    "class LatentFunction(gpytorch.AdditiveGridInducingPointModule):\n",
    "    def __init__(self):\n",
    "        super(LatentFunction, self).__init__(grid_size=256, grid_bounds=[(-7, 7)],\n",
    "                                             n_components=64, mixing_params=False, sum_output=False)\n",
    "        cov_module = RBFKernel()\n",
    "        cov_module.initialize(log_lengthscale=2)\n",
    "        self.cov_module = cov_module\n",
    "        \n",
    "    def forward(self, x):\n",
    "        mean = Variable(x.data.new(len(x)).zero_())\n",
    "        covar = self.cov_module(x)\n",
    "        return gpytorch.random_variables.GaussianRandomVariable(mean, covar)\n",
    "\n",
    "    \n",
    "class GPLayer(gpytorch.GPModel):\n",
    "    def __init__(self, n_dims=64):\n",
    "        super(GPLayer, self).__init__(gpytorch.likelihoods.SoftmaxLikelihood(n_features=64, n_classes=1319))\n",
    "        self.latent_function = LatentFunction()\n",
    "    \n",
    "    def forward(self, x):\n",
    "        res = self.latent_function(x)\n",
    "        return res\n",
    "    "
   ]
  },
  {
   "cell_type": "code",
   "execution_count": 12,
   "metadata": {
    "collapsed": true
   },
   "outputs": [],
   "source": [
    "deep_kernel = DeepKernel(model).cuda()"
   ]
  },
  {
   "cell_type": "code",
   "execution_count": 13,
   "metadata": {
    "scrolled": false
   },
   "outputs": [
    {
     "name": "stderr",
     "output_type": "stream",
     "text": [
      "/home/bw462/gpytorch/gpytorch/likelihoods/softmax_likelihood.py:46: UserWarning: Implicit dimension choice for softmax has been deprecated. Change the call to include dim=X as an argument.\n",
      "  softmax = nn.functional.softmax(mixed_fs.t()).view(n_data, n_samples, self.n_classes)\n"
     ]
    },
    {
     "name": "stdout",
     "output_type": "stream",
     "text": [
      "Score\n",
      "0.999524915541\n"
     ]
    },
    {
     "data": {
      "text/plain": [
       "DeepKernel(\n",
       "  (feature_extractor): FeatureExtractor(\n",
       "    (0): Conv2d (1, 32, kernel_size=(5, 5), stride=(1, 1), padding=(2, 2))\n",
       "    (1): BatchNorm2d(32, eps=1e-05, momentum=0.1, affine=True)\n",
       "    (2): ReLU()\n",
       "    (3): MaxPool2d(kernel_size=(2, 2), stride=(2, 2), dilation=(1, 1))\n",
       "    (4): Conv2d (32, 64, kernel_size=(5, 5), stride=(1, 1), padding=(2, 2))\n",
       "    (5): BatchNorm2d(64, eps=1e-05, momentum=0.1, affine=True)\n",
       "    (6): ReLU()\n",
       "    (7): MaxPool2d(kernel_size=(2, 2), stride=(2, 2), dilation=(1, 1))\n",
       "  )\n",
       "  (bottleneck): Bottleneck(\n",
       "    (0): Linear(in_features=3136, out_features=128)\n",
       "    (1): BatchNorm1d(128, eps=1e-05, momentum=0.1, affine=True)\n",
       "    (2): ReLU()\n",
       "    (3): Linear(in_features=128, out_features=128)\n",
       "    (4): BatchNorm1d(128, eps=1e-05, momentum=0.1, affine=True)\n",
       "    (5): ReLU()\n",
       "    (6): Linear(in_features=128, out_features=64)\n",
       "    (7): BatchNorm1d(64, eps=1e-05, momentum=0.1, affine=True)\n",
       "  )\n",
       "  (gp_layer): GPLayer(\n",
       "    (likelihood): SoftmaxLikelihood(\n",
       "    )\n",
       "    (latent_function): LatentFunction(\n",
       "      (cov_module): GridInterpolationKernel(\n",
       "        (base_kernel_module): RBFKernel(\n",
       "        )\n",
       "      )\n",
       "    )\n",
       "  )\n",
       ")"
      ]
     },
     "execution_count": 13,
     "metadata": {},
     "output_type": "execute_result"
    }
   ],
   "source": [
    "# Find optimal model hyperparameters\n",
    "optimizer = torch.optim.Adam(deep_kernel.gp_layer.parameters(), lr=0.01)\n",
    "optimizer.n_iter = 0\n",
    "num_epochs = 0\n",
    "if num_epochs > 0:\n",
    "    deep_kernel.train()\n",
    "    for i in range(num_epochs):\n",
    "        for j, (train_x_batch, train_y_batch) in enumerate(train_data_loader):\n",
    "            train_x_batch = Variable(train_x_batch).cuda()\n",
    "            train_y_batch = Variable(train_y_batch).cuda()\n",
    "            optimizer.zero_grad()\n",
    "            output = deep_kernel(train_x_batch)\n",
    "            loss = -deep_kernel.gp_layer.marginal_log_likelihood(output, train_y_batch, n_data=len(train_base_omni))\n",
    "            loss.backward()\n",
    "            optimizer.n_iter += 1\n",
    "            print('Iter %d/%d - Loss: %.3f' % (\n",
    "                i + 1, num_epochs, loss.data[0],\n",
    "            ))\n",
    "            optimizer.step()\n",
    "    torch.save(deep_kernel.state_dict(), '/scratch/bw462/omni_gp.dat')\n",
    "else:\n",
    "    deep_kernel.load_state_dict(torch.load('/scratch/bw462/omni_gp.dat'))\n",
    "    \n",
    "    \n",
    "deep_kernel.eval()\n",
    "avg = 0.\n",
    "i = 0.\n",
    "for test_batch_x, test_batch_y in train_data_loader:\n",
    "    predictions = deep_kernel(Variable(test_batch_x).cuda()).argmax()\n",
    "    test_batch_y = Variable(test_batch_y).cuda()\n",
    "    avg += torch.eq(predictions, test_batch_y).float().mean().data[0]\n",
    "    i += 1.\n",
    "\n",
    "print('Score')\n",
    "print(avg / i)\n",
    "deep_kernel.train()\n"
   ]
  },
  {
   "cell_type": "code",
   "execution_count": 14,
   "metadata": {},
   "outputs": [
    {
     "name": "stdout",
     "output_type": "stream",
     "text": [
      "Accuracy: 0.9995\n"
     ]
    }
   ],
   "source": [
    "deep_kernel.eval()\n",
    "for test_batch_x, test_batch_y in train_data_loader:\n",
    "    predictions = deep_kernel(Variable(test_batch_x).cuda()).representation().max(-1)[1]\n",
    "    test_batch_y = Variable(test_batch_y).cuda()\n",
    "    avg += torch.eq(predictions, test_batch_y).float().mean().data[0]\n",
    "    i += 1.\n",
    "print('Accuracy: %.4f' % (avg / i))\n"
   ]
  },
  {
   "cell_type": "code",
   "execution_count": 15,
   "metadata": {
    "collapsed": true
   },
   "outputs": [],
   "source": [
    "train_shots_omni = torchvision.datasets.ImageFolder('/scratch/bw462/omni_data/' + train_dir_str, transform=transforms.Compose([\n",
    "                        transforms.Scale((28,28)),\n",
    "                        transforms.ToTensor()\n",
    "                   ]))    "
   ]
  },
  {
   "cell_type": "code",
   "execution_count": 16,
   "metadata": {
    "collapsed": true
   },
   "outputs": [],
   "source": [
    "oneshot_model = DeepKernel(model).cuda()\n",
    "oneshot_model.load_state_dict(deep_kernel.state_dict())\n",
    "oneshot_model.gp_layer.likelihood = gpytorch.likelihoods.SoftmaxLikelihood(n_features=64, n_classes=1319).cuda()\n",
    "oneshot_model.gp_layer.likelihood.mixing_weights.data.copy_(deep_kernel.gp_layer.likelihood.mixing_weights.data)\n",
    "shots_loader = torch.utils.data.DataLoader(train_shots_omni, batch_size=512., pin_memory=True, shuffle=True)"
   ]
  },
  {
   "cell_type": "code",
   "execution_count": 17,
   "metadata": {},
   "outputs": [
    {
     "name": "stdout",
     "output_type": "stream",
     "text": [
      "Iter 1/150 - Loss: -497.201\n",
      "Iter 2/150 - Loss: -431.766\n",
      "Iter 3/150 - Loss: -390.186\n",
      "Iter 4/150 - Loss: -576.945\n",
      "Iter 5/150 - Loss: -391.984\n",
      "Iter 6/150 - Loss: 14.401\n",
      "Iter 7/150 - Loss: -541.198\n",
      "Iter 8/150 - Loss: -266.349\n",
      "Iter 9/150 - Loss: -547.955\n",
      "Iter 10/150 - Loss: -665.183\n",
      "Iter 11/150 - Loss: -558.744\n",
      "Iter 12/150 - Loss: -401.641\n",
      "Iter 13/150 - Loss: -538.792\n",
      "Iter 14/150 - Loss: -384.426\n",
      "Iter 15/150 - Loss: -791.887\n",
      "Iter 16/150 - Loss: -391.881\n",
      "Iter 17/150 - Loss: -625.384\n",
      "Iter 18/150 - Loss: -793.368\n",
      "Iter 19/150 - Loss: -699.367\n",
      "Iter 20/150 - Loss: -539.044\n",
      "Iter 21/150 - Loss: -532.682\n",
      "Iter 22/150 - Loss: -184.579\n",
      "Iter 23/150 - Loss: -411.529\n",
      "Iter 24/150 - Loss: -548.979\n",
      "Iter 25/150 - Loss: -610.429\n",
      "Iter 26/150 - Loss: -479.863\n",
      "Iter 27/150 - Loss: -526.928\n",
      "Iter 28/150 - Loss: -362.538\n",
      "Iter 29/150 - Loss: -585.395\n",
      "Iter 30/150 - Loss: -386.101\n",
      "Iter 31/150 - Loss: -494.971\n",
      "Iter 32/150 - Loss: -689.253\n",
      "Iter 33/150 - Loss: -526.872\n",
      "Iter 34/150 - Loss: -648.764\n",
      "Iter 35/150 - Loss: -657.219\n",
      "Iter 36/150 - Loss: -602.206\n",
      "Iter 37/150 - Loss: -291.460\n",
      "Iter 38/150 - Loss: -423.047\n",
      "Iter 39/150 - Loss: -413.268\n",
      "Iter 40/150 - Loss: -654.808\n",
      "Iter 41/150 - Loss: -795.079\n",
      "Iter 42/150 - Loss: -576.958\n",
      "Iter 43/150 - Loss: -676.158\n",
      "Iter 44/150 - Loss: -550.971\n",
      "Iter 45/150 - Loss: -496.272\n",
      "Iter 46/150 - Loss: -674.183\n",
      "Iter 47/150 - Loss: -509.744\n",
      "Iter 48/150 - Loss: -372.628\n",
      "Iter 49/150 - Loss: -254.596\n",
      "Iter 50/150 - Loss: -605.967\n",
      "Iter 51/150 - Loss: -260.234\n",
      "Iter 52/150 - Loss: -311.787\n",
      "Iter 53/150 - Loss: -306.669\n",
      "Iter 54/150 - Loss: -475.301\n",
      "Iter 55/150 - Loss: -471.534\n",
      "Iter 56/150 - Loss: -593.265\n",
      "Iter 57/150 - Loss: -465.962\n",
      "Iter 58/150 - Loss: -576.437\n",
      "Iter 59/150 - Loss: -443.732\n",
      "Iter 60/150 - Loss: -727.595\n",
      "Iter 61/150 - Loss: -462.739\n",
      "Iter 62/150 - Loss: -308.951\n",
      "Iter 63/150 - Loss: -667.718\n",
      "Iter 64/150 - Loss: -808.501\n",
      "Iter 65/150 - Loss: -623.199\n",
      "Iter 66/150 - Loss: -614.812\n",
      "Iter 67/150 - Loss: -468.111\n",
      "Iter 68/150 - Loss: -1010.722\n",
      "Iter 69/150 - Loss: -433.962\n",
      "Iter 70/150 - Loss: -82.325\n",
      "Iter 71/150 - Loss: -565.494\n",
      "Iter 72/150 - Loss: -352.529\n",
      "Iter 73/150 - Loss: -466.924\n",
      "Iter 74/150 - Loss: -351.795\n",
      "Iter 75/150 - Loss: -299.329\n",
      "Iter 76/150 - Loss: -769.833\n",
      "Iter 77/150 - Loss: -476.838\n",
      "Iter 78/150 - Loss: -430.908\n",
      "Iter 79/150 - Loss: -779.210\n",
      "Iter 80/150 - Loss: -688.738\n",
      "Iter 81/150 - Loss: -652.507\n",
      "Iter 82/150 - Loss: -755.885\n",
      "Iter 83/150 - Loss: -754.579\n",
      "Iter 84/150 - Loss: -529.502\n",
      "Iter 85/150 - Loss: 112.657\n",
      "Iter 86/150 - Loss: -796.586\n",
      "Iter 87/150 - Loss: -187.436\n",
      "Iter 88/150 - Loss: -566.894\n",
      "Iter 89/150 - Loss: -612.465\n",
      "Iter 90/150 - Loss: -778.618\n",
      "Iter 91/150 - Loss: -476.569\n",
      "Iter 92/150 - Loss: -770.067\n",
      "Iter 93/150 - Loss: -331.727\n",
      "Iter 94/150 - Loss: -366.435\n",
      "Iter 95/150 - Loss: -337.288\n",
      "Iter 96/150 - Loss: -714.364\n",
      "Iter 97/150 - Loss: -538.535\n",
      "Iter 98/150 - Loss: -649.740\n",
      "Iter 99/150 - Loss: -506.482\n",
      "Iter 100/150 - Loss: -551.676\n",
      "Iter 101/150 - Loss: -476.213\n",
      "Iter 102/150 - Loss: -413.035\n",
      "Iter 103/150 - Loss: -815.163\n",
      "Iter 104/150 - Loss: -766.625\n",
      "Iter 105/150 - Loss: -380.657\n",
      "Iter 106/150 - Loss: -603.529\n",
      "Iter 107/150 - Loss: -542.828\n",
      "Iter 108/150 - Loss: -702.166\n",
      "Iter 109/150 - Loss: -521.602\n",
      "Iter 110/150 - Loss: -450.516\n",
      "Iter 111/150 - Loss: -259.890\n",
      "Iter 112/150 - Loss: -503.393\n",
      "Iter 113/150 - Loss: -370.499\n",
      "Iter 114/150 - Loss: -391.717\n",
      "Iter 115/150 - Loss: -891.996\n",
      "Iter 116/150 - Loss: -863.726\n",
      "Iter 117/150 - Loss: -508.070\n",
      "Iter 118/150 - Loss: -792.804\n",
      "Iter 119/150 - Loss: -423.446\n",
      "Iter 120/150 - Loss: -361.369\n",
      "Iter 121/150 - Loss: -366.945\n",
      "Iter 122/150 - Loss: -618.699\n",
      "Iter 123/150 - Loss: -876.726\n",
      "Iter 124/150 - Loss: -422.999\n",
      "Iter 125/150 - Loss: -270.847\n",
      "Iter 126/150 - Loss: -287.203\n",
      "Iter 127/150 - Loss: -734.003\n",
      "Iter 128/150 - Loss: -649.345\n",
      "Iter 129/150 - Loss: -289.358\n",
      "Iter 130/150 - Loss: -548.336\n",
      "Iter 131/150 - Loss: -423.185\n",
      "Iter 132/150 - Loss: -742.163\n",
      "Iter 133/150 - Loss: -896.526\n",
      "Iter 134/150 - Loss: -694.134\n",
      "Iter 135/150 - Loss: -680.778\n",
      "Iter 136/150 - Loss: -308.842\n",
      "Iter 137/150 - Loss: -507.414\n",
      "Iter 138/150 - Loss: -761.375\n",
      "Iter 139/150 - Loss: -345.003\n",
      "Iter 140/150 - Loss: -311.286\n",
      "Iter 141/150 - Loss: -641.913\n",
      "Iter 142/150 - Loss: -865.603\n",
      "Iter 143/150 - Loss: -546.883\n",
      "Iter 144/150 - Loss: -105.944\n",
      "Iter 145/150 - Loss: -531.487\n",
      "Iter 146/150 - Loss: -511.371\n",
      "Iter 147/150 - Loss: -467.225\n",
      "Iter 148/150 - Loss: -828.643\n",
      "Iter 149/150 - Loss: -731.792\n",
      "Iter 150/150 - Loss: -299.457\n"
     ]
    }
   ],
   "source": [
    "# Find optimal model hyperparameters\n",
    "oneshot_model.train()\n",
    "oneshot_model.feature_extractor.eval()\n",
    "oneshot_model.bottleneck.eval()\n",
    "\n",
    "optimizer = torch.optim.Adam(oneshot_model.gp_layer.likelihood.parameters(), lr=0.01)\n",
    "optimizer.n_iter = 0\n",
    "num_epochs = 150\n",
    "for i in range(num_epochs):\n",
    "    for j, (train_x_batch, train_y_batch) in enumerate(shots_loader):\n",
    "        train_x_batch = Variable(train_x_batch).cuda()\n",
    "        train_y_batch = Variable(train_y_batch).cuda()\n",
    "        optimizer.zero_grad()\n",
    "        output = oneshot_model(train_x_batch)\n",
    "        loss = -oneshot_model.gp_layer.marginal_log_likelihood(output, train_y_batch, n_data=len(train_shots_omni))\n",
    "        #kl = oneshot_model.gp_layer.likelihood.kl_div() / len(train_mnist)\n",
    "        #loss = loss + kl\n",
    "        loss.backward()\n",
    "        optimizer.n_iter += 1\n",
    "        print('Iter %d/%d - Loss: %.3f' % (\n",
    "            i + 1, num_epochs, loss.data[0],\n",
    "        ))\n",
    "        optimizer.step()\n",
    "\n"
   ]
  },
  {
   "cell_type": "code",
   "execution_count": 18,
   "metadata": {},
   "outputs": [
    {
     "name": "stdout",
     "output_type": "stream",
     "text": [
      "Score\n",
      "0.557142853737\n",
      "Average Confidence\n",
      "0.620458543301\n"
     ]
    }
   ],
   "source": [
    "oneshot_model.eval()\n",
    "test_shots_omni = torchvision.datasets.ImageFolder('/scratch/bw462/omni_data/' + test_dir_str, transform=transforms.Compose([\n",
    "                        transforms.Scale((28,28)),\n",
    "                        transforms.ToTensor()\n",
    "                   ]))    \n",
    "test_shots_loader = torch.utils.data.DataLoader(test_shots_omni, batch_size=512., pin_memory=True, shuffle=True)\n",
    "avg = 0.\n",
    "summed_confidence = 0.\n",
    "i = 0.\n",
    "for test_batch_x, test_batch_y in test_shots_loader:\n",
    "    model_output = oneshot_model(Variable(test_batch_x).cuda())\n",
    "    predictions = model_output.argmax()\n",
    "    confidences = model_output.mass_function.max(-1)[0]\n",
    "    avg_confidence = confidences.mean()\n",
    "    summed_confidence += avg_confidence\n",
    "    test_batch_y = Variable(test_batch_y).cuda()\n",
    "    avg += torch.eq(predictions, test_batch_y).float().mean().data[0]\n",
    "    i += 1.\n",
    "\n",
    "#for pred, y in zip(predictions.data, test_batch_y.data):\n",
    "#    print(pred, y)\n",
    "print('Score')\n",
    "print(avg / i)\n",
    "print('Average Confidence')\n",
    "print(summed_confidence.data[0] / i)"
   ]
  },
  {
   "cell_type": "code",
   "execution_count": 19,
   "metadata": {},
   "outputs": [],
   "source": [
    "# 5 way 1 shot  56% accuracy 62% confidence\n",
    "# 5 way 5 shot  93% accuracy 94% confidence\n",
    "# 20 way 1 shot 57% accuracy 62% confidence\n",
    "# 20 way 5 shot 89% accuracy 81% confidence\n"
   ]
  },
  {
   "cell_type": "code",
   "execution_count": null,
   "metadata": {
    "collapsed": true
   },
   "outputs": [],
   "source": []
  }
 ],
 "metadata": {
  "anaconda-cloud": {},
  "kernelspec": {
   "display_name": "Python 2",
   "language": "python",
   "name": "python2"
  },
  "language_info": {
   "codemirror_mode": {
    "name": "ipython",
    "version": 2
   },
   "file_extension": ".py",
   "mimetype": "text/x-python",
   "name": "python",
   "nbconvert_exporter": "python",
   "pygments_lexer": "ipython2",
   "version": "2.7.14"
  }
 },
 "nbformat": 4,
 "nbformat_minor": 1
}
