{
 "cells": [
  {
   "cell_type": "code",
   "execution_count": 1,
   "metadata": {
    "collapsed": true
   },
   "outputs": [],
   "source": [
    "import gpytorch\n",
    "import torch\n",
    "import torchvision\n",
    "from torch import nn\n",
    "from torch.autograd import Variable\n",
    "from torchvision import transforms\n",
    "\n",
    "gpytorch.functions.use_toeplitz = False"
   ]
  },
  {
   "cell_type": "code",
   "execution_count": 2,
   "metadata": {
    "collapsed": true
   },
   "outputs": [],
   "source": [
    "ways = 20\n",
    "shots = 5\n",
    "train_dir_str = \"way%dshot%d\" %(ways, shots)\n",
    "test_dir_str = \"way%dtest\" %ways"
   ]
  },
  {
   "cell_type": "code",
   "execution_count": 3,
   "metadata": {
    "scrolled": true
   },
   "outputs": [
    {
     "name": "stderr",
     "output_type": "stream",
     "text": [
      "/home/bw462/anaconda2/lib/python2.7/site-packages/torchvision-0.2.0-py2.7.egg/torchvision/transforms/transforms.py:156: UserWarning: The use of the transforms.Scale transform is deprecated, please use transforms.Resize instead.\n"
     ]
    },
    {
     "data": {
      "text/plain": [
       "\"\\ntest_mnist = torchvision.datasets.ImageFolder('/tmp', split='test',\\n                                        download=True, transform=transforms.Compose([\\n                       transforms.ToTensor()\\n                   ]))\\n\""
      ]
     },
     "execution_count": 3,
     "metadata": {},
     "output_type": "execute_result"
    }
   ],
   "source": [
    "train_base_omni = torchvision.datasets.ImageFolder('/scratch/bw462/omni_data/general', transform=transforms.Compose([\n",
    "                        transforms.Scale((28,28)),\n",
    "                        transforms.ToTensor()\n",
    "                   ]))                                              \n",
    "\"\"\"\n",
    "test_mnist = torchvision.datasets.ImageFolder('/tmp', split='test',\n",
    "                                        download=True, transform=transforms.Compose([\n",
    "                       transforms.ToTensor()\n",
    "                   ]))\n",
    "\"\"\""
   ]
  },
  {
   "cell_type": "code",
   "execution_count": 4,
   "metadata": {
    "collapsed": true
   },
   "outputs": [],
   "source": [
    "class FeatureExtractor(nn.Sequential):\n",
    "    \n",
    "    def __init__(self):\n",
    "        super(FeatureExtractor, self).__init__(nn.Conv2d(1, 32, kernel_size=5, padding=2),\n",
    "                                 nn.BatchNorm2d(32),\n",
    "                                 nn.ReLU(),\n",
    "                                 nn.MaxPool2d(2, 2),\n",
    "                                 nn.Conv2d(32, 64, kernel_size=5, padding=2),\n",
    "                                 nn.BatchNorm2d(64),\n",
    "                                 nn.ReLU(),\n",
    "                                 nn.MaxPool2d(2, 2))\n",
    "        \n",
    "class Bottleneck(nn.Sequential):\n",
    "    \n",
    "    def __init__(self):\n",
    "        super(Bottleneck, self).__init__(nn.Linear(64*7*7, 128),\n",
    "                                         nn.BatchNorm1d(128),\n",
    "                                 nn.ReLU(),\n",
    "                                 nn.Linear(128, 128),\n",
    "                                 nn.BatchNorm1d(128),\n",
    "                                 nn.ReLU(),\n",
    "                                 nn.Linear(128,64),\n",
    "                                 nn.BatchNorm1d(64))\n",
    "\n",
    "class LeNet(nn.Module):\n",
    "    \n",
    "    def __init__(self):\n",
    "        super(LeNet, self).__init__()\n",
    "        self.feature_extractor = FeatureExtractor()\n",
    "        self.bottleneck = Bottleneck()\n",
    "        self.final_layer = nn.Sequential(\n",
    "                                 nn.ReLU(),\n",
    "                                 nn.Linear(64,1319))\n",
    "    \n",
    "    def forward(self, x):\n",
    "        input_x = x[:,0,:,:].unsqueeze(1)\n",
    "        features = self.feature_extractor(input_x)\n",
    "        bottlenecked_features = self.bottleneck(features.view(-1, 64 * 7 * 7))\n",
    "        classification = self.final_layer(bottlenecked_features)\n",
    "        return classification\n",
    "        "
   ]
  },
  {
   "cell_type": "code",
   "execution_count": 5,
   "metadata": {
    "collapsed": true
   },
   "outputs": [],
   "source": [
    "train_data_loader = torch.utils.data.DataLoader(train_base_omni, shuffle=True, pin_memory=True, batch_size=256)"
   ]
  },
  {
   "cell_type": "code",
   "execution_count": 6,
   "metadata": {
    "collapsed": true
   },
   "outputs": [],
   "source": [
    "criterion = nn.CrossEntropyLoss().cuda()"
   ]
  },
  {
   "cell_type": "code",
   "execution_count": 7,
   "metadata": {
    "collapsed": true
   },
   "outputs": [],
   "source": [
    "model = LeNet().cuda() \n",
    "optimizer = torch.optim.SGD(model.parameters(), lr=0.5)"
   ]
  },
  {
   "cell_type": "code",
   "execution_count": 8,
   "metadata": {
    "collapsed": true
   },
   "outputs": [],
   "source": [
    "num_epochs = 0\n",
    "if num_epochs > 0:\n",
    "    model.train()\n",
    "    for i in range(num_epochs):\n",
    "        for x, y in train_data_loader:\n",
    "            optimizer.zero_grad()\n",
    "            x = Variable(x).cuda()\n",
    "            y = Variable(y).cuda()\n",
    "            output = model(x)\n",
    "            loss = criterion(output, y)\n",
    "            loss.backward()\n",
    "            optimizer.step()\n",
    "        print(\"Loss: %.3f\" % loss.data[0])\n",
    "    torch.save(model.state_dict(), '/scratch/bw462/omni_net.dat')\n",
    "else:\n",
    "    model.load_state_dict(torch.load('/scratch/bw462/omni_net.dat'))\n"
   ]
  },
  {
   "cell_type": "code",
   "execution_count": 9,
   "metadata": {},
   "outputs": [
    {
     "name": "stdout",
     "output_type": "stream",
     "text": [
      "Accuracy: 0.9992\n"
     ]
    }
   ],
   "source": [
    "model.eval()\n",
    "#test_data_loader = torch.utils.data.DataLoader(test_mnist, shuffle=False, pin_memory=True, batch_size=256)\n",
    "avg = 0.\n",
    "i = 0.\n",
    "for test_batch_x, test_batch_y in train_data_loader:\n",
    "    predictions = model(Variable(test_batch_x).cuda()).max(-1)[1]\n",
    "    test_batch_y = Variable(test_batch_y).cuda()\n",
    "    avg += torch.eq(predictions, test_batch_y).float().mean().data[0]\n",
    "    i += 1.\n",
    "print('Accuracy: %.4f' % (avg / i))"
   ]
  },
  {
   "cell_type": "code",
   "execution_count": 10,
   "metadata": {
    "collapsed": true
   },
   "outputs": [],
   "source": [
    "list(model.bottleneck.modules())[-1].weight.data.fill_(1)\n",
    "None"
   ]
  },
  {
   "cell_type": "code",
   "execution_count": 11,
   "metadata": {
    "collapsed": true
   },
   "outputs": [],
   "source": [
    "from gpytorch.kernels import RBFKernel, GridInterpolationKernel\n",
    "\n",
    "class DeepKernel(gpytorch.Module):\n",
    "    def __init__(self, model):\n",
    "        super(DeepKernel, self).__init__()\n",
    "        self.feature_extractor = model.feature_extractor\n",
    "        self.bottleneck = model.bottleneck\n",
    "        self.gp_layer = GPLayer()\n",
    "        \n",
    "    def forward(self, x):\n",
    "        features = self.feature_extractor(x[:,0,:,:].unsqueeze(1))\n",
    "        bottlenecked_features = self.bottleneck(features.view(-1, 64 * 7 * 7))\n",
    "        gp_output = self.gp_layer(0.1*bottlenecked_features)\n",
    "        return gp_output\n",
    "    \n",
    "    \n",
    "class LatentFunction(gpytorch.AdditiveGridInducingPointModule):\n",
    "    def __init__(self):\n",
    "        super(LatentFunction, self).__init__(grid_size=256, grid_bounds=[(-7, 7)],\n",
    "                                             n_components=64, mixing_params=False, sum_output=False)\n",
    "        cov_module = RBFKernel()\n",
    "        cov_module.initialize(log_lengthscale=2)\n",
    "        self.cov_module = cov_module\n",
    "        \n",
    "    def forward(self, x):\n",
    "        mean = Variable(x.data.new(len(x)).zero_())\n",
    "        covar = self.cov_module(x)\n",
    "        return gpytorch.random_variables.GaussianRandomVariable(mean, covar)\n",
    "\n",
    "    \n",
    "class GPLayer(gpytorch.GPModel):\n",
    "    def __init__(self, n_dims=64):\n",
    "        super(GPLayer, self).__init__(gpytorch.likelihoods.SoftmaxLikelihood(n_features=64, n_classes=1319))\n",
    "        self.latent_function = LatentFunction()\n",
    "    \n",
    "    def forward(self, x):\n",
    "        res = self.latent_function(x)\n",
    "        return res\n",
    "    "
   ]
  },
  {
   "cell_type": "code",
   "execution_count": 12,
   "metadata": {},
   "outputs": [],
   "source": [
    "deep_kernel = DeepKernel(model).cuda()"
   ]
  },
  {
   "cell_type": "code",
   "execution_count": 13,
   "metadata": {
    "scrolled": false
   },
   "outputs": [
    {
     "name": "stderr",
     "output_type": "stream",
     "text": [
      "/home/bw462/gpytorch/gpytorch/likelihoods/softmax_likelihood.py:46: UserWarning: Implicit dimension choice for softmax has been deprecated. Change the call to include dim=X as an argument.\n",
      "  softmax = nn.functional.softmax(mixed_fs.t()).view(n_data, n_samples, self.n_classes)\n"
     ]
    },
    {
     "name": "stdout",
     "output_type": "stream",
     "text": [
      "Score\n",
      "0.999430816721\n"
     ]
    },
    {
     "data": {
      "text/plain": [
       "DeepKernel(\n",
       "  (feature_extractor): FeatureExtractor(\n",
       "    (0): Conv2d (1, 32, kernel_size=(5, 5), stride=(1, 1), padding=(2, 2))\n",
       "    (1): BatchNorm2d(32, eps=1e-05, momentum=0.1, affine=True)\n",
       "    (2): ReLU()\n",
       "    (3): MaxPool2d(kernel_size=(2, 2), stride=(2, 2), dilation=(1, 1))\n",
       "    (4): Conv2d (32, 64, kernel_size=(5, 5), stride=(1, 1), padding=(2, 2))\n",
       "    (5): BatchNorm2d(64, eps=1e-05, momentum=0.1, affine=True)\n",
       "    (6): ReLU()\n",
       "    (7): MaxPool2d(kernel_size=(2, 2), stride=(2, 2), dilation=(1, 1))\n",
       "  )\n",
       "  (bottleneck): Bottleneck(\n",
       "    (0): Linear(in_features=3136, out_features=128)\n",
       "    (1): BatchNorm1d(128, eps=1e-05, momentum=0.1, affine=True)\n",
       "    (2): ReLU()\n",
       "    (3): Linear(in_features=128, out_features=128)\n",
       "    (4): BatchNorm1d(128, eps=1e-05, momentum=0.1, affine=True)\n",
       "    (5): ReLU()\n",
       "    (6): Linear(in_features=128, out_features=64)\n",
       "    (7): BatchNorm1d(64, eps=1e-05, momentum=0.1, affine=True)\n",
       "  )\n",
       "  (gp_layer): GPLayer(\n",
       "    (likelihood): SoftmaxLikelihood(\n",
       "    )\n",
       "    (latent_function): LatentFunction(\n",
       "      (cov_module): GridInterpolationKernel(\n",
       "        (base_kernel_module): RBFKernel(\n",
       "        )\n",
       "      )\n",
       "    )\n",
       "  )\n",
       ")"
      ]
     },
     "execution_count": 13,
     "metadata": {},
     "output_type": "execute_result"
    }
   ],
   "source": [
    "# Find optimal model hyperparameters\n",
    "optimizer = torch.optim.Adam(deep_kernel.gp_layer.parameters(), lr=0.01)\n",
    "optimizer.n_iter = 0\n",
    "num_epochs = 0\n",
    "if num_epochs > 0:\n",
    "    deep_kernel.train()\n",
    "    for i in range(num_epochs):\n",
    "        for j, (train_x_batch, train_y_batch) in enumerate(train_data_loader):\n",
    "            train_x_batch = Variable(train_x_batch).cuda()\n",
    "            train_y_batch = Variable(train_y_batch).cuda()\n",
    "            optimizer.zero_grad()\n",
    "            output = deep_kernel(train_x_batch)\n",
    "            loss = -deep_kernel.gp_layer.marginal_log_likelihood(output, train_y_batch, n_data=len(train_base_omni))\n",
    "            loss.backward()\n",
    "            optimizer.n_iter += 1\n",
    "            print('Iter %d/%d - Loss: %.3f' % (\n",
    "                i + 1, num_epochs, loss.data[0],\n",
    "            ))\n",
    "            optimizer.step()\n",
    "    torch.save(deep_kernel.state_dict(), '/scratch/bw462/omni_gp.dat')\n",
    "else:\n",
    "    deep_kernel.load_state_dict(torch.load('/scratch/bw462/omni_gp.dat'))\n",
    "    \n",
    "    \n",
    "deep_kernel.eval()\n",
    "avg = 0.\n",
    "i = 0.\n",
    "for test_batch_x, test_batch_y in train_data_loader:\n",
    "    predictions = deep_kernel(Variable(test_batch_x).cuda()).argmax()\n",
    "    test_batch_y = Variable(test_batch_y).cuda()\n",
    "    avg += torch.eq(predictions, test_batch_y).float().mean().data[0]\n",
    "    i += 1.\n",
    "\n",
    "print('Score')\n",
    "print(avg / i)\n",
    "deep_kernel.train()\n"
   ]
  },
  {
   "cell_type": "code",
   "execution_count": 14,
   "metadata": {},
   "outputs": [
    {
     "name": "stdout",
     "output_type": "stream",
     "text": [
      "Accuracy: 0.9995\n"
     ]
    }
   ],
   "source": [
    "deep_kernel.eval()\n",
    "for test_batch_x, test_batch_y in train_data_loader:\n",
    "    predictions = deep_kernel(Variable(test_batch_x).cuda()).representation().max(-1)[1]\n",
    "    test_batch_y = Variable(test_batch_y).cuda()\n",
    "    avg += torch.eq(predictions, test_batch_y).float().mean().data[0]\n",
    "    i += 1.\n",
    "print('Accuracy: %.4f' % (avg / i))\n"
   ]
  },
  {
   "cell_type": "code",
   "execution_count": 15,
   "metadata": {
    "collapsed": true
   },
   "outputs": [],
   "source": [
    "train_shots_omni = torchvision.datasets.ImageFolder('/scratch/bw462/omni_data/' + train_dir_str, transform=transforms.Compose([\n",
    "                        transforms.Scale((28,28)),\n",
    "                        transforms.ToTensor()\n",
    "                   ]))    "
   ]
  },
  {
   "cell_type": "code",
   "execution_count": null,
   "metadata": {},
   "outputs": [],
   "source": [
    "oneshot_model = DeepKernel(model).cuda()\n",
    "oneshot_model.load_state_dict(deep_kernel.state_dict())\n",
    "oneshot_model.gp_layer.likelihood = gpytorch.likelihoods.SoftmaxLikelihood(n_features=64, n_classes=1319).cuda()\n",
    "oneshot_model.gp_layer.likelihood.mixing_weights.data.copy_(deep_kernel.gp_layer.likelihood.mixing_weights.data)\n",
    "shots_loader = torch.utils.data.DataLoader(train_shots_omni, batch_size=512., pin_memory=True, shuffle=True)"
   ]
  },
  {
   "cell_type": "code",
   "execution_count": null,
   "metadata": {},
   "outputs": [
    {
     "name": "stdout",
     "output_type": "stream",
     "text": [
      "Iter 1/200 - Loss: -6.428\n",
      "Iter 2/200 - Loss: 0.400\n",
      "Iter 3/200 - Loss: -5.932\n",
      "Iter 4/200 - Loss: -12.092\n",
      "Iter 5/200 - Loss: -10.318\n",
      "Iter 6/200 - Loss: -4.788\n",
      "Iter 7/200 - Loss: -28.008\n",
      "Iter 8/200 - Loss: -1.009\n",
      "Iter 9/200 - Loss: -25.432\n",
      "Iter 10/200 - Loss: -12.824\n",
      "Iter 11/200 - Loss: -17.991\n",
      "Iter 12/200 - Loss: -19.355\n",
      "Iter 13/200 - Loss: -2.389\n",
      "Iter 14/200 - Loss: -13.802\n",
      "Iter 15/200 - Loss: -9.664\n",
      "Iter 16/200 - Loss: -18.831\n",
      "Iter 17/200 - Loss: -12.354\n",
      "Iter 18/200 - Loss: -13.188\n",
      "Iter 19/200 - Loss: -5.409\n",
      "Iter 20/200 - Loss: -15.509\n",
      "Iter 21/200 - Loss: -8.623\n",
      "Iter 22/200 - Loss: -7.873\n",
      "Iter 23/200 - Loss: -6.253\n",
      "Iter 24/200 - Loss: -21.786\n",
      "Iter 25/200 - Loss: -21.526\n",
      "Iter 26/200 - Loss: -9.331\n",
      "Iter 27/200 - Loss: -20.266\n",
      "Iter 28/200 - Loss: -2.299\n",
      "Iter 29/200 - Loss: -8.111\n",
      "Iter 30/200 - Loss: -14.811\n",
      "Iter 31/200 - Loss: -13.430\n",
      "Iter 32/200 - Loss: -11.535\n",
      "Iter 33/200 - Loss: -5.491\n",
      "Iter 34/200 - Loss: -10.419\n",
      "Iter 35/200 - Loss: -15.463\n",
      "Iter 36/200 - Loss: -17.764\n",
      "Iter 37/200 - Loss: -21.533\n",
      "Iter 38/200 - Loss: -18.262\n",
      "Iter 39/200 - Loss: -4.962\n",
      "Iter 40/200 - Loss: -25.213\n",
      "Iter 41/200 - Loss: -21.599\n",
      "Iter 42/200 - Loss: -16.408\n",
      "Iter 43/200 - Loss: -24.122\n",
      "Iter 44/200 - Loss: -24.758\n",
      "Iter 45/200 - Loss: -25.434\n",
      "Iter 46/200 - Loss: -18.445\n",
      "Iter 47/200 - Loss: -21.686\n",
      "Iter 48/200 - Loss: -21.011\n",
      "Iter 49/200 - Loss: -23.149\n",
      "Iter 50/200 - Loss: -19.511\n",
      "Iter 51/200 - Loss: -23.970\n",
      "Iter 52/200 - Loss: -21.027\n",
      "Iter 53/200 - Loss: -18.151\n",
      "Iter 54/200 - Loss: -28.876\n",
      "Iter 55/200 - Loss: -10.876\n",
      "Iter 56/200 - Loss: -12.965\n",
      "Iter 57/200 - Loss: -29.712\n",
      "Iter 58/200 - Loss: -19.879\n",
      "Iter 59/200 - Loss: -31.639\n",
      "Iter 60/200 - Loss: -13.845\n",
      "Iter 61/200 - Loss: -13.985\n",
      "Iter 62/200 - Loss: -19.980\n",
      "Iter 63/200 - Loss: -26.947\n",
      "Iter 64/200 - Loss: -22.586\n",
      "Iter 65/200 - Loss: -29.626\n",
      "Iter 66/200 - Loss: -22.852\n",
      "Iter 67/200 - Loss: -18.487\n",
      "Iter 68/200 - Loss: -19.697\n",
      "Iter 69/200 - Loss: -8.534\n",
      "Iter 70/200 - Loss: -20.535\n",
      "Iter 71/200 - Loss: -17.288\n",
      "Iter 72/200 - Loss: -17.049\n",
      "Iter 73/200 - Loss: -19.445\n",
      "Iter 74/200 - Loss: -11.480\n",
      "Iter 75/200 - Loss: -27.581\n",
      "Iter 76/200 - Loss: -15.555\n",
      "Iter 77/200 - Loss: -36.235\n",
      "Iter 78/200 - Loss: -23.968\n",
      "Iter 79/200 - Loss: -3.157\n",
      "Iter 80/200 - Loss: -21.234\n",
      "Iter 81/200 - Loss: -20.756\n",
      "Iter 82/200 - Loss: -26.153\n",
      "Iter 83/200 - Loss: -22.054\n",
      "Iter 84/200 - Loss: -22.215\n",
      "Iter 85/200 - Loss: -9.664\n",
      "Iter 86/200 - Loss: -15.518\n",
      "Iter 87/200 - Loss: -19.625\n",
      "Iter 88/200 - Loss: -22.929\n",
      "Iter 89/200 - Loss: -20.809\n",
      "Iter 90/200 - Loss: -15.824\n",
      "Iter 91/200 - Loss: -12.108\n",
      "Iter 92/200 - Loss: -29.677\n",
      "Iter 93/200 - Loss: -19.808\n",
      "Iter 94/200 - Loss: -32.886\n",
      "Iter 95/200 - Loss: -24.738\n",
      "Iter 96/200 - Loss: -20.221\n",
      "Iter 97/200 - Loss: -27.143\n",
      "Iter 98/200 - Loss: -30.499\n",
      "Iter 99/200 - Loss: -19.233\n",
      "Iter 100/200 - Loss: -25.216\n",
      "Iter 101/200 - Loss: -34.207\n",
      "Iter 102/200 - Loss: -24.419\n",
      "Iter 103/200 - Loss: -13.600\n",
      "Iter 104/200 - Loss: -16.711\n",
      "Iter 105/200 - Loss: -13.952\n",
      "Iter 106/200 - Loss: -29.808\n",
      "Iter 107/200 - Loss: -13.751\n",
      "Iter 108/200 - Loss: -20.899\n",
      "Iter 109/200 - Loss: -14.890\n",
      "Iter 110/200 - Loss: -33.041\n",
      "Iter 111/200 - Loss: -42.068\n",
      "Iter 112/200 - Loss: 9.646\n",
      "Iter 113/200 - Loss: -19.459\n",
      "Iter 114/200 - Loss: -26.456\n",
      "Iter 115/200 - Loss: -27.435\n",
      "Iter 116/200 - Loss: -20.746\n",
      "Iter 117/200 - Loss: -28.828\n",
      "Iter 118/200 - Loss: -21.813\n",
      "Iter 119/200 - Loss: -26.897\n",
      "Iter 120/200 - Loss: -28.166\n",
      "Iter 121/200 - Loss: -19.273\n",
      "Iter 122/200 - Loss: -21.958\n",
      "Iter 123/200 - Loss: -19.508\n",
      "Iter 124/200 - Loss: -23.026\n",
      "Iter 125/200 - Loss: -29.853\n",
      "Iter 126/200 - Loss: -24.025\n",
      "Iter 127/200 - Loss: -23.455\n",
      "Iter 128/200 - Loss: -16.139\n",
      "Iter 129/200 - Loss: -30.895\n",
      "Iter 130/200 - Loss: -21.424\n",
      "Iter 131/200 - Loss: -20.685\n",
      "Iter 132/200 - Loss: -29.130\n",
      "Iter 133/200 - Loss: -7.224\n",
      "Iter 134/200 - Loss: -16.600\n",
      "Iter 135/200 - Loss: -22.055\n",
      "Iter 136/200 - Loss: -21.271\n",
      "Iter 137/200 - Loss: -21.054\n",
      "Iter 138/200 - Loss: -12.648\n",
      "Iter 139/200 - Loss: -22.134\n",
      "Iter 140/200 - Loss: -18.154\n",
      "Iter 141/200 - Loss: -5.215\n",
      "Iter 142/200 - Loss: -21.401\n",
      "Iter 143/200 - Loss: -16.402\n",
      "Iter 144/200 - Loss: -25.936\n",
      "Iter 145/200 - Loss: -22.092\n",
      "Iter 146/200 - Loss: -25.318\n",
      "Iter 147/200 - Loss: -37.114\n",
      "Iter 148/200 - Loss: -24.298\n",
      "Iter 149/200 - Loss: -22.756\n",
      "Iter 150/200 - Loss: -12.857\n",
      "Iter 151/200 - Loss: -19.960\n",
      "Iter 152/200 - Loss: -21.308\n",
      "Iter 153/200 - Loss: -24.311\n",
      "Iter 154/200 - Loss: -22.970\n",
      "Iter 155/200 - Loss: -19.429\n",
      "Iter 156/200 - Loss: -36.275\n",
      "Iter 157/200 - Loss: -13.098\n",
      "Iter 158/200 - Loss: -22.676\n",
      "Iter 159/200 - Loss: -29.616\n",
      "Iter 160/200 - Loss: -21.734\n",
      "Iter 161/200 - Loss: -15.030\n",
      "Iter 162/200 - Loss: -23.680\n",
      "Iter 163/200 - Loss: -14.318\n",
      "Iter 164/200 - Loss: -38.694\n",
      "Iter 165/200 - Loss: -17.222\n",
      "Iter 166/200 - Loss: -34.545\n",
      "Iter 167/200 - Loss: -4.765\n",
      "Iter 168/200 - Loss: -19.050\n",
      "Iter 169/200 - Loss: -31.765\n",
      "Iter 170/200 - Loss: -17.748\n",
      "Iter 171/200 - Loss: -26.866\n",
      "Iter 172/200 - Loss: -26.042\n",
      "Iter 173/200 - Loss: -12.436\n",
      "Iter 174/200 - Loss: -23.012\n",
      "Iter 175/200 - Loss: -10.581\n",
      "Iter 176/200 - Loss: -6.781\n",
      "Iter 177/200 - Loss: -17.804\n",
      "Iter 178/200 - Loss: -16.500\n",
      "Iter 179/200 - Loss: -3.877\n",
      "Iter 180/200 - Loss: -37.895\n",
      "Iter 181/200 - Loss: -35.897\n",
      "Iter 182/200 - Loss: -19.453\n",
      "Iter 183/200 - Loss: -19.222\n",
      "Iter 184/200 - Loss: -8.659\n",
      "Iter 185/200 - Loss: -9.558\n",
      "Iter 186/200 - Loss: -22.366\n",
      "Iter 187/200 - Loss: -28.213\n",
      "Iter 188/200 - Loss: -37.307\n",
      "Iter 189/200 - Loss: -12.903\n",
      "Iter 190/200 - Loss: -26.532\n",
      "Iter 191/200 - Loss: -25.401\n",
      "Iter 192/200 - Loss: -14.866\n",
      "Iter 193/200 - Loss: -23.624\n",
      "Iter 194/200 - Loss: -23.664\n",
      "Iter 195/200 - Loss: -26.652\n",
      "Iter 196/200 - Loss: -19.622\n",
      "Iter 197/200 - Loss: -21.313\n",
      "Iter 198/200 - Loss: -23.576\n",
      "Iter 199/200 - Loss: -17.174\n"
     ]
    }
   ],
   "source": [
    "# Find optimal model hyperparameters\n",
    "oneshot_model.train()\n",
    "oneshot_model.feature_extractor.eval()\n",
    "oneshot_model.bottleneck.eval()\n",
    "\n",
    "optimizer = torch.optim.Adam(oneshot_model.gp_layer.likelihood.parameters(), lr=0.01)\n",
    "optimizer.n_iter = 0\n",
    "for i in range(200):\n",
    "    for j, (train_x_batch, train_y_batch) in enumerate(shots_loader):\n",
    "        train_x_batch = Variable(train_x_batch).cuda()\n",
    "        train_y_batch = Variable(train_y_batch).cuda()\n",
    "        optimizer.zero_grad()\n",
    "        output = oneshot_model(train_x_batch)\n",
    "        loss = -oneshot_model.gp_layer.marginal_log_likelihood(output, train_y_batch, n_data=len(train_shots_omni))\n",
    "        #kl = oneshot_model.gp_layer.likelihood.kl_div() / len(train_mnist)\n",
    "        #loss = loss + kl\n",
    "        loss.backward()\n",
    "        optimizer.n_iter += 1\n",
    "        print('Iter %d/200 - Loss: %.3f' % (\n",
    "            i + 1, loss.data[0],\n",
    "        ))\n",
    "        optimizer.step()\n",
    "\n",
    "oneshot_model.eval()\n",
    "test_shots_omni = torchvision.datasets.ImageFolder('/scratch/bw462/omni_data/' + test_dir_str, transform=transforms.Compose([\n",
    "                        transforms.Scale((28,28)),\n",
    "                        transforms.ToTensor()\n",
    "                   ]))    \n",
    "test_shots_loader = torch.utils.data.DataLoader(test_shots_omni, batch_size=512., pin_memory=True, shuffle=True)\n",
    "avg = 0.\n",
    "i = 0.\n",
    "for test_batch_x, test_batch_y in test_shots_loader:\n",
    "    predictions = oneshot_model(Variable(test_batch_x).cuda()).argmax()\n",
    "    test_batch_y = Variable(test_batch_y).cuda()\n",
    "    avg += torch.eq(predictions, test_batch_y).float().mean().data[0]\n",
    "    i += 1.\n",
    "\n",
    "#for pred, y in zip(predictions.data, test_batch_y.data):\n",
    "#    print(pred, y)\n",
    "print('Score')\n",
    "print(avg / i)"
   ]
  },
  {
   "cell_type": "code",
   "execution_count": null,
   "metadata": {},
   "outputs": [],
   "source": [
    "deep_kernel.eval()\n",
    "avg = 0.\n",
    "i = 0.\n",
    "for test_batch_x, test_batch_y in train_data_loader:\n",
    "    predictions = deep_kernel(Variable(test_batch_x).cuda()).argmax()\n",
    "    test_batch_y = Variable(test_batch_y).cuda()\n",
    "    avg += torch.eq(predictions, test_batch_y).float().mean().data[0]\n",
    "    i += 1.\n",
    "\n",
    "print('Score')\n",
    "print(avg / i)"
   ]
  },
  {
   "cell_type": "code",
   "execution_count": null,
   "metadata": {
    "collapsed": true
   },
   "outputs": [],
   "source": [
    "# 5 way 5 shot  93% accuracy\n",
    "# 5 way 1 shot  56% accuracy\n",
    "# 20 way 5 shot \n",
    "# 20 way 1 shot 57% accuracy\n"
   ]
  },
  {
   "cell_type": "code",
   "execution_count": null,
   "metadata": {
    "collapsed": true
   },
   "outputs": [],
   "source": []
  }
 ],
 "metadata": {
  "anaconda-cloud": {},
  "kernelspec": {
   "display_name": "Python 2",
   "language": "python",
   "name": "python2"
  },
  "language_info": {
   "codemirror_mode": {
    "name": "ipython",
    "version": 2
   },
   "file_extension": ".py",
   "mimetype": "text/x-python",
   "name": "python",
   "nbconvert_exporter": "python",
   "pygments_lexer": "ipython2",
   "version": "2.7.14"
  }
 },
 "nbformat": 4,
 "nbformat_minor": 1
}
