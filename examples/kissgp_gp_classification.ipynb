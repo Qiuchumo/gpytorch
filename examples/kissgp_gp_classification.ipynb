{
 "cells": [
  {
   "cell_type": "code",
   "execution_count": 1,
   "metadata": {
    "collapsed": false
   },
   "outputs": [],
   "source": [
    "import math\n",
    "import torch\n",
    "import gpytorch\n",
    "from matplotlib import pyplot as plt\n",
    "\n",
    "%matplotlib inline\n",
    "%load_ext autoreload\n",
    "%autoreload 2"
   ]
  },
  {
   "cell_type": "code",
   "execution_count": 2,
   "metadata": {
    "collapsed": true
   },
   "outputs": [],
   "source": [
    "from torch.autograd import Variable\n",
    "train_x = Variable(torch.linspace(0, 1, 26))\n",
    "train_y = Variable(torch.sign(torch.cos(train_x.data * (8 * math.pi))))"
   ]
  },
  {
   "cell_type": "code",
   "execution_count": 3,
   "metadata": {
    "collapsed": true
   },
   "outputs": [],
   "source": [
    "from torch import nn, optim\n",
    "from gpytorch.kernels import RBFKernel, GridInterpolationKernel\n",
    "from gpytorch.means import ConstantMean\n",
    "from gpytorch.likelihoods import GaussianLikelihood, BernoulliLikelihood\n",
    "from gpytorch.random_variables import GaussianRandomVariable"
   ]
  },
  {
   "cell_type": "code",
   "execution_count": 4,
   "metadata": {
    "collapsed": false
   },
   "outputs": [],
   "source": [
    "class LatentFunction(gpytorch.GridInducingPointModule):\n",
    "    def __init__(self):\n",
    "        super(LatentFunction, self).__init__(grid_size=30, grid_bounds=[(0, 1)])\n",
    "        self.mean_module = ConstantMean(constant_bounds=[-1e-5,1e-5])\n",
    "        self.covar_module = RBFKernel(log_lengthscale_bounds=(-5, 6))\n",
    "        self.register_parameter('log_outputscale', nn.Parameter(torch.Tensor([0])), bounds=(-5,6))\n",
    "        \n",
    "    def forward(self,x):\n",
    "        mean_x = self.mean_module(x)\n",
    "        covar_x = self.covar_module(x)\n",
    "        covar_x = covar_x.mul(self.log_outputscale.exp())\n",
    "        latent_pred = GaussianRandomVariable(mean_x, covar_x)\n",
    "        return latent_pred\n",
    "\n",
    "class GPClassificationModel(gpytorch.GPModel):\n",
    "    def __init__(self):\n",
    "        super(GPClassificationModel,self).__init__(BernoulliLikelihood())\n",
    "        self.latent_function = LatentFunction()\n",
    "        \n",
    "    def forward(self, x):\n",
    "        return self.latent_function(x)\n",
    "\n",
    "model = GPClassificationModel()"
   ]
  },
  {
   "cell_type": "code",
   "execution_count": 5,
   "metadata": {
    "collapsed": true
   },
   "outputs": [],
   "source": [
    "def plot_model_and_predictions(model, plot_train_data=True):\n",
    "    f, observed_ax = plt.subplots(1, 1, figsize=(4, 3))\n",
    "    test_x = Variable(torch.linspace(0, 1, 100))\n",
    "    observed_pred = model(test_x)\n",
    "\n",
    "    def ax_plot(ax, rand_var, title):\n",
    "        if plot_train_data:\n",
    "            ax.plot(train_x.data.numpy(), train_y.data.numpy(), 'k*')\n",
    "        pred_labels = rand_var.mean().ge(0.5).float().mul(2).sub(1)\n",
    "        ax.plot(test_x.data.numpy(), pred_labels.data.numpy(), 'b')\n",
    "        ax.set_ylim([-3, 3])\n",
    "        ax.legend(['Observed Data', 'Mean', 'Confidence'])\n",
    "        ax.set_title(title)\n",
    "    \n",
    "    ax_plot(observed_ax, observed_pred, 'Observed Values (Likelihood)')\n",
    "    \n",
    "    return f"
   ]
  },
  {
   "cell_type": "code",
   "execution_count": 6,
   "metadata": {
    "collapsed": false,
    "scrolled": true
   },
   "outputs": [
    {
     "data": {
      "image/png": "[encoded data removed]",
      "text/plain": [
       "<matplotlib.figure.Figure at 0x7f5784b7e690>"
      ]
     },
     "metadata": {},
     "output_type": "display_data"
    }
   ],
   "source": [
    "model.eval()\n",
    "f = plot_model_and_predictions(model, plot_train_data=False)"
   ]
  },
  {
   "cell_type": "code",
   "execution_count": 7,
   "metadata": {
    "collapsed": false,
    "scrolled": true
   },
   "outputs": [
    {
     "name": "stdout",
     "output_type": "stream",
     "text": [
      "Iter 1/200 - Loss: 121979.547   log_lengthscale: 0.000\n",
      "Iter 2/200 - Loss: 97975.547   log_lengthscale: -0.100\n",
      "Iter 3/200 - Loss: 69301.602   log_lengthscale: -0.198\n",
      "Iter 4/200 - Loss: 54349.961   log_lengthscale: -0.297\n",
      "Iter 5/200 - Loss: 45906.730   log_lengthscale: -0.383\n",
      "Iter 6/200 - Loss: 37191.086   log_lengthscale: -0.474\n",
      "Iter 7/200 - Loss: 26053.510   log_lengthscale: -0.568\n",
      "Iter 8/200 - Loss: 22436.814   log_lengthscale: -0.662\n",
      "Iter 9/200 - Loss: 15922.641   log_lengthscale: -0.757\n",
      "Iter 10/200 - Loss: 12945.996   log_lengthscale: -0.854\n",
      "Iter 11/200 - Loss: 12728.147   log_lengthscale: -0.953\n",
      "Iter 12/200 - Loss: 8295.676   log_lengthscale: -1.045\n",
      "Iter 13/200 - Loss: 6244.176   log_lengthscale: -1.136\n",
      "Iter 14/200 - Loss: 8580.206   log_lengthscale: -1.225\n",
      "Iter 15/200 - Loss: 7395.032   log_lengthscale: -1.309\n",
      "Iter 16/200 - Loss: 6631.735   log_lengthscale: -1.395\n",
      "Iter 17/200 - Loss: 4284.264   log_lengthscale: -1.473\n",
      "Iter 18/200 - Loss: 4623.083   log_lengthscale: -1.549\n",
      "Iter 19/200 - Loss: 4722.565   log_lengthscale: -1.630\n",
      "Iter 20/200 - Loss: 5028.493   log_lengthscale: -1.707\n",
      "Iter 21/200 - Loss: 5164.090   log_lengthscale: -1.785\n",
      "Iter 22/200 - Loss: 4304.526   log_lengthscale: -1.865\n",
      "Iter 23/200 - Loss: 3697.413   log_lengthscale: -1.942\n",
      "Iter 24/200 - Loss: 2793.601   log_lengthscale: -2.020\n",
      "Iter 25/200 - Loss: 3397.691   log_lengthscale: -2.095\n",
      "Iter 26/200 - Loss: 4920.671   log_lengthscale: -2.166\n",
      "Iter 27/200 - Loss: 1542.610   log_lengthscale: -2.233\n",
      "Iter 28/200 - Loss: 1648.196   log_lengthscale: -2.299\n",
      "Iter 29/200 - Loss: 477.518   log_lengthscale: -2.363\n",
      "Iter 30/200 - Loss: 1193.067   log_lengthscale: -2.424\n",
      "Iter 31/200 - Loss: 731.971   log_lengthscale: -2.480\n",
      "Iter 32/200 - Loss: 264.829   log_lengthscale: -2.535\n",
      "Iter 33/200 - Loss: 209.730   log_lengthscale: -2.587\n",
      "Iter 34/200 - Loss: 339.121   log_lengthscale: -2.643\n",
      "Iter 35/200 - Loss: 436.728   log_lengthscale: -2.697\n",
      "Iter 36/200 - Loss: 179.815   log_lengthscale: -2.751\n",
      "Iter 37/200 - Loss: 238.700   log_lengthscale: -2.801\n",
      "Iter 38/200 - Loss: 158.361   log_lengthscale: -2.850\n",
      "Iter 39/200 - Loss: 192.856   log_lengthscale: -2.895\n",
      "Iter 40/200 - Loss: 144.468   log_lengthscale: -2.938\n",
      "Iter 41/200 - Loss: 138.450   log_lengthscale: -2.977\n",
      "Iter 42/200 - Loss: 68.791   log_lengthscale: -3.014\n",
      "Iter 43/200 - Loss: 145.001   log_lengthscale: -3.048\n",
      "Iter 44/200 - Loss: 77.930   log_lengthscale: -3.081\n",
      "Iter 45/200 - Loss: 113.909   log_lengthscale: -3.112\n",
      "Iter 46/200 - Loss: 138.677   log_lengthscale: -3.140\n",
      "Iter 47/200 - Loss: 120.611   log_lengthscale: -3.166\n",
      "Iter 48/200 - Loss: 148.830   log_lengthscale: -3.191\n",
      "Iter 49/200 - Loss: 77.478   log_lengthscale: -3.215\n",
      "Iter 50/200 - Loss: 101.117   log_lengthscale: -3.237\n",
      "Iter 51/200 - Loss: 245.602   log_lengthscale: -3.259\n",
      "Iter 52/200 - Loss: 187.624   log_lengthscale: -3.281\n",
      "Iter 53/200 - Loss: 47.249   log_lengthscale: -3.301\n",
      "Iter 54/200 - Loss: 73.029   log_lengthscale: -3.320\n",
      "Iter 55/200 - Loss: 73.409   log_lengthscale: -3.337\n",
      "Iter 56/200 - Loss: 61.788   log_lengthscale: -3.354\n",
      "Iter 57/200 - Loss: 77.386   log_lengthscale: -3.369\n",
      "Iter 58/200 - Loss: 53.966   log_lengthscale: -3.383\n",
      "Iter 59/200 - Loss: 69.128   log_lengthscale: -3.396\n",
      "Iter 60/200 - Loss: 92.545   log_lengthscale: -3.408\n",
      "Iter 61/200 - Loss: 98.456   log_lengthscale: -3.419\n",
      "Iter 62/200 - Loss: 85.582   log_lengthscale: -3.430\n",
      "Iter 63/200 - Loss: 87.752   log_lengthscale: -3.441\n",
      "Iter 64/200 - Loss: 73.841   log_lengthscale: -3.450\n",
      "Iter 65/200 - Loss: 66.369   log_lengthscale: -3.459\n",
      "Iter 66/200 - Loss: 89.637   log_lengthscale: -3.468\n",
      "Iter 67/200 - Loss: 112.641   log_lengthscale: -3.477\n",
      "Iter 68/200 - Loss: 47.475   log_lengthscale: -3.486\n",
      "Iter 69/200 - Loss: 54.484   log_lengthscale: -3.495\n",
      "Iter 70/200 - Loss: 63.960   log_lengthscale: -3.504\n",
      "Iter 71/200 - Loss: 59.538   log_lengthscale: -3.512\n",
      "Iter 72/200 - Loss: 54.156   log_lengthscale: -3.519\n",
      "Iter 73/200 - Loss: 60.322   log_lengthscale: -3.527\n",
      "Iter 74/200 - Loss: 43.849   log_lengthscale: -3.533\n",
      "Iter 75/200 - Loss: 54.481   log_lengthscale: -3.540\n",
      "Iter 76/200 - Loss: 50.223   log_lengthscale: -3.547\n",
      "Iter 77/200 - Loss: 43.642   log_lengthscale: -3.552\n",
      "Iter 78/200 - Loss: 38.857   log_lengthscale: -3.558\n",
      "Iter 79/200 - Loss: 41.951   log_lengthscale: -3.564\n",
      "Iter 80/200 - Loss: 54.526   log_lengthscale: -3.569\n",
      "Iter 81/200 - Loss: 42.588   log_lengthscale: -3.574\n",
      "Iter 82/200 - Loss: 50.401   log_lengthscale: -3.579\n",
      "Iter 83/200 - Loss: 47.412   log_lengthscale: -3.584\n",
      "Iter 84/200 - Loss: 71.804   log_lengthscale: -3.589\n",
      "Iter 85/200 - Loss: 63.420   log_lengthscale: -3.594\n",
      "Iter 86/200 - Loss: 63.408   log_lengthscale: -3.598\n",
      "Iter 87/200 - Loss: 40.789   log_lengthscale: -3.602\n",
      "Iter 88/200 - Loss: 60.165   log_lengthscale: -3.606\n",
      "Iter 89/200 - Loss: 72.405   log_lengthscale: -3.611\n",
      "Iter 90/200 - Loss: 49.123   log_lengthscale: -3.614\n",
      "Iter 91/200 - Loss: 68.976   log_lengthscale: -3.618\n",
      "Iter 92/200 - Loss: 59.111   log_lengthscale: -3.622\n",
      "Iter 93/200 - Loss: 40.800   log_lengthscale: -3.625\n",
      "Iter 94/200 - Loss: 56.852   log_lengthscale: -3.629\n",
      "Iter 95/200 - Loss: 58.982   log_lengthscale: -3.633\n",
      "Iter 96/200 - Loss: 66.666   log_lengthscale: -3.637\n",
      "Iter 97/200 - Loss: 29.911   log_lengthscale: -3.641\n",
      "Iter 98/200 - Loss: 57.882   log_lengthscale: -3.645\n",
      "Iter 99/200 - Loss: 65.974   log_lengthscale: -3.649\n",
      "Iter 100/200 - Loss: 48.603   log_lengthscale: -3.653\n",
      "Iter 101/200 - Loss: 59.955   log_lengthscale: -3.657\n",
      "Iter 102/200 - Loss: 71.629   log_lengthscale: -3.661\n",
      "Iter 103/200 - Loss: 60.743   log_lengthscale: -3.666\n",
      "Iter 104/200 - Loss: 61.335   log_lengthscale: -3.670\n",
      "Iter 105/200 - Loss: 85.988   log_lengthscale: -3.674\n",
      "Iter 106/200 - Loss: 45.607   log_lengthscale: -3.677\n",
      "Iter 107/200 - Loss: 65.456   log_lengthscale: -3.680\n",
      "Iter 108/200 - Loss: 53.639   log_lengthscale: -3.683\n",
      "Iter 109/200 - Loss: 55.660   log_lengthscale: -3.686\n",
      "Iter 110/200 - Loss: 58.424   log_lengthscale: -3.689\n",
      "Iter 111/200 - Loss: 62.854   log_lengthscale: -3.692\n",
      "Iter 112/200 - Loss: 53.630   log_lengthscale: -3.695\n",
      "Iter 113/200 - Loss: 56.568   log_lengthscale: -3.697\n",
      "Iter 114/200 - Loss: 45.850   log_lengthscale: -3.700\n",
      "Iter 115/200 - Loss: 55.212   log_lengthscale: -3.703\n",
      "Iter 116/200 - Loss: 44.527   log_lengthscale: -3.706\n",
      "Iter 117/200 - Loss: 40.822   log_lengthscale: -3.709\n",
      "Iter 118/200 - Loss: 39.352   log_lengthscale: -3.712\n",
      "Iter 119/200 - Loss: 59.441   log_lengthscale: -3.714\n",
      "Iter 120/200 - Loss: 57.486   log_lengthscale: -3.717\n",
      "Iter 121/200 - Loss: 62.409   log_lengthscale: -3.719\n",
      "Iter 122/200 - Loss: 56.381   log_lengthscale: -3.722\n",
      "Iter 123/200 - Loss: 54.007   log_lengthscale: -3.724\n",
      "Iter 124/200 - Loss: 55.915   log_lengthscale: -3.726\n",
      "Iter 125/200 - Loss: 35.636   log_lengthscale: -3.729\n",
      "Iter 126/200 - Loss: 53.563   log_lengthscale: -3.731\n",
      "Iter 127/200 - Loss: 45.929   log_lengthscale: -3.733\n",
      "Iter 128/200 - Loss: 70.741   log_lengthscale: -3.735\n",
      "Iter 129/200 - Loss: 51.299   log_lengthscale: -3.738\n",
      "Iter 130/200 - Loss: 58.507   log_lengthscale: -3.740\n",
      "Iter 131/200 - Loss: 48.249   log_lengthscale: -3.743\n",
      "Iter 132/200 - Loss: 51.786   log_lengthscale: -3.745\n",
      "Iter 133/200 - Loss: 40.877   log_lengthscale: -3.747\n",
      "Iter 134/200 - Loss: 75.554   log_lengthscale: -3.750\n",
      "Iter 135/200 - Loss: 72.051   log_lengthscale: -3.753\n",
      "Iter 136/200 - Loss: 45.151   log_lengthscale: -3.755\n",
      "Iter 137/200 - Loss: 50.318   log_lengthscale: -3.758\n",
      "Iter 138/200 - Loss: 49.333   log_lengthscale: -3.761\n",
      "Iter 139/200 - Loss: 46.039   log_lengthscale: -3.763\n",
      "Iter 140/200 - Loss: 57.037   log_lengthscale: -3.766\n",
      "Iter 141/200 - Loss: 56.318   log_lengthscale: -3.768\n",
      "Iter 142/200 - Loss: 51.836   log_lengthscale: -3.771\n",
      "Iter 143/200 - Loss: 27.924   log_lengthscale: -3.773\n",
      "Iter 144/200 - Loss: 53.038   log_lengthscale: -3.775\n",
      "Iter 145/200 - Loss: 63.849   log_lengthscale: -3.777\n",
      "Iter 146/200 - Loss: 67.733   log_lengthscale: -3.780\n",
      "Iter 147/200 - Loss: 52.189   log_lengthscale: -3.782\n",
      "Iter 148/200 - Loss: 53.935   log_lengthscale: -3.784\n",
      "Iter 149/200 - Loss: 46.585   log_lengthscale: -3.786\n",
      "Iter 150/200 - Loss: 51.913   log_lengthscale: -3.788\n",
      "Iter 151/200 - Loss: 51.712   log_lengthscale: -3.790\n",
      "Iter 152/200 - Loss: 41.703   log_lengthscale: -3.792\n",
      "Iter 153/200 - Loss: 64.626   log_lengthscale: -3.794\n",
      "Iter 154/200 - Loss: 36.824   log_lengthscale: -3.795\n",
      "Iter 155/200 - Loss: 51.261   log_lengthscale: -3.797\n",
      "Iter 156/200 - Loss: 45.436   log_lengthscale: -3.799\n",
      "Iter 157/200 - Loss: 36.843   log_lengthscale: -3.800\n",
      "Iter 158/200 - Loss: 46.391   log_lengthscale: -3.802\n",
      "Iter 159/200 - Loss: 52.427   log_lengthscale: -3.804\n",
      "Iter 160/200 - Loss: 53.080   log_lengthscale: -3.805\n",
      "Iter 161/200 - Loss: 55.100   log_lengthscale: -3.807\n",
      "Iter 162/200 - Loss: 48.427   log_lengthscale: -3.808\n",
      "Iter 163/200 - Loss: 58.049   log_lengthscale: -3.810\n",
      "Iter 164/200 - Loss: 45.175   log_lengthscale: -3.812\n",
      "Iter 165/200 - Loss: 41.907   log_lengthscale: -3.814\n",
      "Iter 166/200 - Loss: 48.740   log_lengthscale: -3.815\n",
      "Iter 167/200 - Loss: 54.098   log_lengthscale: -3.817\n",
      "Iter 168/200 - Loss: 43.377   log_lengthscale: -3.818\n",
      "Iter 169/200 - Loss: 36.204   log_lengthscale: -3.820\n",
      "Iter 170/200 - Loss: 54.006   log_lengthscale: -3.822\n",
      "Iter 171/200 - Loss: 37.116   log_lengthscale: -3.824\n",
      "Iter 172/200 - Loss: 44.135   log_lengthscale: -3.826\n",
      "Iter 173/200 - Loss: 51.037   log_lengthscale: -3.828\n",
      "Iter 174/200 - Loss: 50.404   log_lengthscale: -3.830\n",
      "Iter 175/200 - Loss: 38.871   log_lengthscale: -3.832\n",
      "Iter 176/200 - Loss: 53.149   log_lengthscale: -3.833\n",
      "Iter 177/200 - Loss: 51.149   log_lengthscale: -3.835\n",
      "Iter 178/200 - Loss: 58.289   log_lengthscale: -3.837\n",
      "Iter 179/200 - Loss: 48.338   log_lengthscale: -3.839\n",
      "Iter 180/200 - Loss: 46.826   log_lengthscale: -3.841\n",
      "Iter 181/200 - Loss: 51.258   log_lengthscale: -3.843\n",
      "Iter 182/200 - Loss: 68.003   log_lengthscale: -3.845\n",
      "Iter 183/200 - Loss: 46.437   log_lengthscale: -3.847\n",
      "Iter 184/200 - Loss: 59.832   log_lengthscale: -3.848\n",
      "Iter 185/200 - Loss: 36.761   log_lengthscale: -3.850\n",
      "Iter 186/200 - Loss: 46.652   log_lengthscale: -3.852\n",
      "Iter 187/200 - Loss: 41.560   log_lengthscale: -3.853\n",
      "Iter 188/200 - Loss: 53.277   log_lengthscale: -3.855\n",
      "Iter 189/200 - Loss: 43.279   log_lengthscale: -3.856\n",
      "Iter 190/200 - Loss: 44.589   log_lengthscale: -3.858\n",
      "Iter 191/200 - Loss: 43.904   log_lengthscale: -3.859\n",
      "Iter 192/200 - Loss: 49.638   log_lengthscale: -3.860\n",
      "Iter 193/200 - Loss: 43.071   log_lengthscale: -3.862\n",
      "Iter 194/200 - Loss: 47.944   log_lengthscale: -3.863\n",
      "Iter 195/200 - Loss: 37.960   log_lengthscale: -3.865\n",
      "Iter 196/200 - Loss: 44.020   log_lengthscale: -3.866\n",
      "Iter 197/200 - Loss: 52.004   log_lengthscale: -3.867\n",
      "Iter 198/200 - Loss: 36.212   log_lengthscale: -3.869\n",
      "Iter 199/200 - Loss: 63.433   log_lengthscale: -3.870\n",
      "Iter 200/200 - Loss: 39.451   log_lengthscale: -3.871\n"
     ]
    }
   ],
   "source": [
    "# Find optimal model hyperparameters\n",
    "model.train()\n",
    "optimizer = optim.Adam(model.parameters(), lr=0.1)\n",
    "optimizer.n_iter = 0\n",
    "for i in range(200):\n",
    "    optimizer.zero_grad()\n",
    "    output = model.forward(train_x)\n",
    "    loss = -model.marginal_log_likelihood(output, train_y)\n",
    "    loss.backward()\n",
    "    optimizer.n_iter += 1\n",
    "    print('Iter %d/200 - Loss: %.3f   log_lengthscale: %.3f' % (\n",
    "        i + 1, loss.data[0],\n",
    "        model.latent_function.covar_module.base_kernel_module.log_lengthscale.data.squeeze()[0],\n",
    "    ))\n",
    "    optimizer.step()\n",
    "    \n",
    "# Set back to eval mode\n",
    "model.eval()\n",
    "None"
   ]
  },
  {
   "cell_type": "code",
   "execution_count": 8,
   "metadata": {
    "collapsed": false,
    "scrolled": false
   },
   "outputs": [
    {
     "data": {
      "image/png": "[encoded data removed]",
      "text/plain": [
       "<matplotlib.figure.Figure at 0x7f5784aedb90>"
      ]
     },
     "metadata": {},
     "output_type": "display_data"
    }
   ],
   "source": [
    "model.condition(train_x, train_y)\n",
    "f = plot_model_and_predictions(model)"
   ]
  },
  {
   "cell_type": "code",
   "execution_count": null,
   "metadata": {
    "collapsed": true
   },
   "outputs": [],
   "source": []
  }
 ],
 "metadata": {
  "anaconda-cloud": {},
  "kernelspec": {
   "display_name": "Python [default]",
   "language": "python",
   "name": "python2"
  },
  "language_info": {
   "codemirror_mode": {
    "name": "ipython",
    "version": 2
   },
   "file_extension": ".py",
   "mimetype": "text/x-python",
   "name": "python",
   "nbconvert_exporter": "python",
   "pygments_lexer": "ipython2",
   "version": "2.7.12"
  }
 },
 "nbformat": 4,
 "nbformat_minor": 1
}
