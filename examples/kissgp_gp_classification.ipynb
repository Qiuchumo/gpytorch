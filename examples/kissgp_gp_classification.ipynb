{
 "cells": [
  {
   "cell_type": "code",
   "execution_count": 1,
   "metadata": {
    "collapsed": false
   },
   "outputs": [],
   "source": [
    "import math\n",
    "import torch\n",
    "import gpytorch\n",
    "from matplotlib import pyplot as plt\n",
    "\n",
    "%matplotlib inline\n",
    "%load_ext autoreload\n",
    "%autoreload 2"
   ]
  },
  {
   "cell_type": "code",
   "execution_count": 2,
   "metadata": {
    "collapsed": true
   },
   "outputs": [],
   "source": [
    "from torch.autograd import Variable\n",
    "train_x = Variable(torch.linspace(0, 1, 26))\n",
    "train_y = Variable(torch.sign(torch.cos(train_x.data * (8 * math.pi))))"
   ]
  },
  {
   "cell_type": "code",
   "execution_count": 3,
   "metadata": {
    "collapsed": true
   },
   "outputs": [],
   "source": [
    "from torch import nn, optim\n",
    "from gpytorch.kernels import RBFKernel, GridInterpolationKernel\n",
    "from gpytorch.means import ConstantMean\n",
    "from gpytorch.likelihoods import GaussianLikelihood, BernoulliLikelihood\n",
    "from gpytorch.random_variables import GaussianRandomVariable"
   ]
  },
  {
   "cell_type": "code",
   "execution_count": 4,
   "metadata": {
    "collapsed": false
   },
   "outputs": [],
   "source": [
    "class LatentFunction(gpytorch.GridInducingPointModule):\n",
    "    def __init__(self):\n",
    "        super(LatentFunction, self).__init__(grid_size=30, grid_bounds=[(0, 1)])\n",
    "        self.mean_module = ConstantMean(constant_bounds=[-1e-5,1e-5])\n",
    "        self.covar_module = RBFKernel(log_lengthscale_bounds=(-5, 6))\n",
    "        self.register_parameter('log_outputscale', nn.Parameter(torch.Tensor([0])), bounds=(-5,6))\n",
    "        \n",
    "    def forward(self,x):\n",
    "        mean_x = self.mean_module(x)\n",
    "        covar_x = self.covar_module(x)\n",
    "        covar_x = covar_x.mul(self.log_outputscale.exp())\n",
    "        latent_pred = GaussianRandomVariable(mean_x, covar_x)\n",
    "        return latent_pred\n",
    "\n",
    "class GPClassificationModel(gpytorch.GPModel):\n",
    "    def __init__(self):\n",
    "        super(GPClassificationModel,self).__init__(BernoulliLikelihood())\n",
    "        self.latent_function = LatentFunction()\n",
    "        \n",
    "    def forward(self, x):\n",
    "        return self.latent_function(x)\n",
    "\n",
    "model = GPClassificationModel()"
   ]
  },
  {
   "cell_type": "code",
   "execution_count": 5,
   "metadata": {
    "collapsed": true
   },
   "outputs": [],
   "source": [
    "def plot_model_and_predictions(model, plot_train_data=True):\n",
    "    f, observed_ax = plt.subplots(1, 1, figsize=(4, 3))\n",
    "    test_x = Variable(torch.linspace(0, 1, 100))\n",
    "    observed_pred = model(test_x)\n",
    "\n",
    "    def ax_plot(ax, rand_var, title):\n",
    "        if plot_train_data:\n",
    "            ax.plot(train_x.data.numpy(), train_y.data.numpy(), 'k*')\n",
    "        pred_labels = rand_var.mean().ge(0.5).float().mul(2).sub(1)\n",
    "        ax.plot(test_x.data.numpy(), pred_labels.data.numpy(), 'b')\n",
    "        ax.set_ylim([-3, 3])\n",
    "        ax.legend(['Observed Data', 'Mean', 'Confidence'])\n",
    "        ax.set_title(title)\n",
    "    \n",
    "    ax_plot(observed_ax, observed_pred, 'Observed Values (Likelihood)')\n",
    "    \n",
    "    return f"
   ]
  },
  {
   "cell_type": "code",
   "execution_count": 6,
   "metadata": {
    "collapsed": false,
    "scrolled": true
   },
   "outputs": [
    {
     "data": {
      "image/png": "[encoded data removed]",
      "text/plain": [
       "<matplotlib.figure.Figure at 0x7f54ce1e9610>"
      ]
     },
     "metadata": {},
     "output_type": "display_data"
    }
   ],
   "source": [
    "model.eval()\n",
    "f = plot_model_and_predictions(model, plot_train_data=False)"
   ]
  },
  {
   "cell_type": "code",
   "execution_count": 7,
   "metadata": {
    "collapsed": false,
    "scrolled": true
   },
   "outputs": [
    {
     "name": "stdout",
     "output_type": "stream",
     "text": [
      "Iter 1/200 - Loss: 4805.296   log_lengthscale: 0.000\n",
      "Iter 2/200 - Loss: 3950.002   log_lengthscale: -0.100\n",
      "Iter 3/200 - Loss: 2337.153   log_lengthscale: -0.198\n",
      "Iter 4/200 - Loss: 2004.068   log_lengthscale: -0.297\n",
      "Iter 5/200 - Loss: 1343.244   log_lengthscale: -0.397\n",
      "Iter 6/200 - Loss: 935.677   log_lengthscale: -0.494\n",
      "Iter 7/200 - Loss: 728.134   log_lengthscale: -0.588\n",
      "Iter 8/200 - Loss: 361.769   log_lengthscale: -0.680\n",
      "Iter 9/200 - Loss: 366.419   log_lengthscale: -0.773\n",
      "Iter 10/200 - Loss: 226.487   log_lengthscale: -0.867\n",
      "Iter 11/200 - Loss: 169.920   log_lengthscale: -0.959\n",
      "Iter 12/200 - Loss: 113.704   log_lengthscale: -1.051\n",
      "Iter 13/200 - Loss: 62.100   log_lengthscale: -1.139\n",
      "Iter 14/200 - Loss: 95.080   log_lengthscale: -1.230\n",
      "Iter 15/200 - Loss: 95.427   log_lengthscale: -1.313\n",
      "Iter 16/200 - Loss: 82.768   log_lengthscale: -1.394\n",
      "Iter 17/200 - Loss: 99.185   log_lengthscale: -1.472\n",
      "Iter 18/200 - Loss: 84.587   log_lengthscale: -1.554\n",
      "Iter 19/200 - Loss: 36.475   log_lengthscale: -1.640\n",
      "Iter 20/200 - Loss: 20.135   log_lengthscale: -1.730\n",
      "Iter 21/200 - Loss: 33.280   log_lengthscale: -1.820\n",
      "Iter 22/200 - Loss: 44.093   log_lengthscale: -1.905\n",
      "Iter 23/200 - Loss: 21.316   log_lengthscale: -1.987\n",
      "Iter 24/200 - Loss: 24.191   log_lengthscale: -2.062\n",
      "Iter 25/200 - Loss: 21.860   log_lengthscale: -2.140\n",
      "Iter 26/200 - Loss: 26.425   log_lengthscale: -2.215\n",
      "Iter 27/200 - Loss: 8.038   log_lengthscale: -2.288\n",
      "Iter 28/200 - Loss: 11.379   log_lengthscale: -2.353\n",
      "Iter 29/200 - Loss: 4.324   log_lengthscale: -2.414\n",
      "Iter 30/200 - Loss: 5.775   log_lengthscale: -2.469\n",
      "Iter 31/200 - Loss: 4.776   log_lengthscale: -2.519\n",
      "Iter 32/200 - Loss: 4.394   log_lengthscale: -2.565\n",
      "Iter 33/200 - Loss: 4.034   log_lengthscale: -2.609\n",
      "Iter 34/200 - Loss: 2.562   log_lengthscale: -2.648\n",
      "Iter 35/200 - Loss: 1.060   log_lengthscale: -2.687\n",
      "Iter 36/200 - Loss: 3.124   log_lengthscale: -2.723\n",
      "Iter 37/200 - Loss: 3.064   log_lengthscale: -2.757\n",
      "Iter 38/200 - Loss: 4.451   log_lengthscale: -2.788\n",
      "Iter 39/200 - Loss: 3.669   log_lengthscale: -2.816\n",
      "Iter 40/200 - Loss: 1.276   log_lengthscale: -2.844\n",
      "Iter 41/200 - Loss: -0.132   log_lengthscale: -2.869\n",
      "Iter 42/200 - Loss: 1.911   log_lengthscale: -2.892\n",
      "Iter 43/200 - Loss: 1.968   log_lengthscale: -2.913\n",
      "Iter 44/200 - Loss: 1.478   log_lengthscale: -2.932\n",
      "Iter 45/200 - Loss: 1.712   log_lengthscale: -2.950\n",
      "Iter 46/200 - Loss: 1.437   log_lengthscale: -2.967\n",
      "Iter 47/200 - Loss: 0.661   log_lengthscale: -2.983\n",
      "Iter 48/200 - Loss: 1.732   log_lengthscale: -2.998\n",
      "Iter 49/200 - Loss: 1.332   log_lengthscale: -3.011\n",
      "Iter 50/200 - Loss: 1.509   log_lengthscale: -3.023\n",
      "Iter 51/200 - Loss: 1.865   log_lengthscale: -3.034\n",
      "Iter 52/200 - Loss: 1.862   log_lengthscale: -3.042\n",
      "Iter 53/200 - Loss: 1.390   log_lengthscale: -3.050\n",
      "Iter 54/200 - Loss: 1.534   log_lengthscale: -3.057\n",
      "Iter 55/200 - Loss: 1.959   log_lengthscale: -3.064\n",
      "Iter 56/200 - Loss: 1.223   log_lengthscale: -3.070\n",
      "Iter 57/200 - Loss: 1.900   log_lengthscale: -3.076\n",
      "Iter 58/200 - Loss: 1.410   log_lengthscale: -3.081\n",
      "Iter 59/200 - Loss: 1.578   log_lengthscale: -3.085\n",
      "Iter 60/200 - Loss: 0.863   log_lengthscale: -3.089\n",
      "Iter 61/200 - Loss: 1.617   log_lengthscale: -3.092\n",
      "Iter 62/200 - Loss: 1.675   log_lengthscale: -3.095\n",
      "Iter 63/200 - Loss: 1.743   log_lengthscale: -3.097\n",
      "Iter 64/200 - Loss: 1.617   log_lengthscale: -3.098\n",
      "Iter 65/200 - Loss: 1.453   log_lengthscale: -3.100\n",
      "Iter 66/200 - Loss: 0.989   log_lengthscale: -3.100\n",
      "Iter 67/200 - Loss: 1.178   log_lengthscale: -3.100\n",
      "Iter 68/200 - Loss: 1.289   log_lengthscale: -3.098\n",
      "Iter 69/200 - Loss: 1.718   log_lengthscale: -3.097\n",
      "Iter 70/200 - Loss: 1.095   log_lengthscale: -3.096\n",
      "Iter 71/200 - Loss: 1.858   log_lengthscale: -3.095\n",
      "Iter 72/200 - Loss: 0.680   log_lengthscale: -3.094\n",
      "Iter 73/200 - Loss: 1.495   log_lengthscale: -3.093\n",
      "Iter 74/200 - Loss: 1.399   log_lengthscale: -3.092\n",
      "Iter 75/200 - Loss: 1.460   log_lengthscale: -3.091\n",
      "Iter 76/200 - Loss: 1.764   log_lengthscale: -3.090\n",
      "Iter 77/200 - Loss: 1.222   log_lengthscale: -3.088\n",
      "Iter 78/200 - Loss: 1.428   log_lengthscale: -3.086\n",
      "Iter 79/200 - Loss: 1.689   log_lengthscale: -3.085\n",
      "Iter 80/200 - Loss: 1.135   log_lengthscale: -3.084\n",
      "Iter 81/200 - Loss: 1.018   log_lengthscale: -3.083\n",
      "Iter 82/200 - Loss: 1.506   log_lengthscale: -3.083\n",
      "Iter 83/200 - Loss: 1.583   log_lengthscale: -3.082\n",
      "Iter 84/200 - Loss: 1.908   log_lengthscale: -3.081\n",
      "Iter 85/200 - Loss: 1.552   log_lengthscale: -3.081\n",
      "Iter 86/200 - Loss: 1.425   log_lengthscale: -3.081\n",
      "Iter 87/200 - Loss: 1.481   log_lengthscale: -3.081\n",
      "Iter 88/200 - Loss: 0.803   log_lengthscale: -3.081\n",
      "Iter 89/200 - Loss: 1.051   log_lengthscale: -3.080\n",
      "Iter 90/200 - Loss: 1.024   log_lengthscale: -3.079\n",
      "Iter 91/200 - Loss: 1.206   log_lengthscale: -3.077\n",
      "Iter 92/200 - Loss: 0.918   log_lengthscale: -3.075\n",
      "Iter 93/200 - Loss: 1.767   log_lengthscale: -3.073\n",
      "Iter 94/200 - Loss: 0.979   log_lengthscale: -3.071\n",
      "Iter 95/200 - Loss: 1.448   log_lengthscale: -3.069\n",
      "Iter 96/200 - Loss: 1.606   log_lengthscale: -3.068\n",
      "Iter 97/200 - Loss: 1.381   log_lengthscale: -3.067\n",
      "Iter 98/200 - Loss: 1.092   log_lengthscale: -3.066\n",
      "Iter 99/200 - Loss: 1.021   log_lengthscale: -3.066\n",
      "Iter 100/200 - Loss: 1.368   log_lengthscale: -3.066\n",
      "Iter 101/200 - Loss: 1.107   log_lengthscale: -3.066\n",
      "Iter 102/200 - Loss: 0.995   log_lengthscale: -3.065\n",
      "Iter 103/200 - Loss: 1.669   log_lengthscale: -3.065\n",
      "Iter 104/200 - Loss: 0.674   log_lengthscale: -3.066\n",
      "Iter 105/200 - Loss: 1.190   log_lengthscale: -3.066\n",
      "Iter 106/200 - Loss: 1.115   log_lengthscale: -3.065\n",
      "Iter 107/200 - Loss: 0.434   log_lengthscale: -3.063\n",
      "Iter 108/200 - Loss: 0.921   log_lengthscale: -3.060\n",
      "Iter 109/200 - Loss: 1.290   log_lengthscale: -3.058\n",
      "Iter 110/200 - Loss: 1.268   log_lengthscale: -3.054\n",
      "Iter 111/200 - Loss: 0.366   log_lengthscale: -3.050\n",
      "Iter 112/200 - Loss: 1.344   log_lengthscale: -3.046\n",
      "Iter 113/200 - Loss: 0.193   log_lengthscale: -3.043\n",
      "Iter 114/200 - Loss: 0.888   log_lengthscale: -3.040\n",
      "Iter 115/200 - Loss: 1.059   log_lengthscale: -3.036\n",
      "Iter 116/200 - Loss: 0.684   log_lengthscale: -3.031\n",
      "Iter 117/200 - Loss: 0.799   log_lengthscale: -3.028\n",
      "Iter 118/200 - Loss: 1.171   log_lengthscale: -3.025\n",
      "Iter 119/200 - Loss: 1.058   log_lengthscale: -3.023\n",
      "Iter 120/200 - Loss: 0.883   log_lengthscale: -3.021\n",
      "Iter 121/200 - Loss: 0.669   log_lengthscale: -3.019\n",
      "Iter 122/200 - Loss: 1.178   log_lengthscale: -3.017\n",
      "Iter 123/200 - Loss: 1.293   log_lengthscale: -3.015\n",
      "Iter 124/200 - Loss: 0.935   log_lengthscale: -3.014\n",
      "Iter 125/200 - Loss: 0.852   log_lengthscale: -3.013\n",
      "Iter 126/200 - Loss: 0.995   log_lengthscale: -3.012\n",
      "Iter 127/200 - Loss: 0.870   log_lengthscale: -3.011\n",
      "Iter 128/200 - Loss: 0.706   log_lengthscale: -3.010\n",
      "Iter 129/200 - Loss: 0.842   log_lengthscale: -3.009\n",
      "Iter 130/200 - Loss: 0.589   log_lengthscale: -3.008\n",
      "Iter 131/200 - Loss: 1.146   log_lengthscale: -3.007\n",
      "Iter 132/200 - Loss: 1.027   log_lengthscale: -3.006\n",
      "Iter 133/200 - Loss: 0.546   log_lengthscale: -3.004\n",
      "Iter 134/200 - Loss: 1.204   log_lengthscale: -3.003\n",
      "Iter 135/200 - Loss: 1.292   log_lengthscale: -3.000\n",
      "Iter 136/200 - Loss: 0.477   log_lengthscale: -2.996\n",
      "Iter 137/200 - Loss: 1.024   log_lengthscale: -2.991\n",
      "Iter 138/200 - Loss: 1.053   log_lengthscale: -2.988\n",
      "Iter 139/200 - Loss: 1.071   log_lengthscale: -2.986\n",
      "Iter 140/200 - Loss: 1.175   log_lengthscale: -2.984\n",
      "Iter 141/200 - Loss: 0.995   log_lengthscale: -2.980\n",
      "Iter 142/200 - Loss: 1.322   log_lengthscale: -2.976\n",
      "Iter 143/200 - Loss: 0.867   log_lengthscale: -2.974\n",
      "Iter 144/200 - Loss: 1.143   log_lengthscale: -2.970\n",
      "Iter 145/200 - Loss: 1.311   log_lengthscale: -2.967\n",
      "Iter 146/200 - Loss: 0.930   log_lengthscale: -2.964\n",
      "Iter 147/200 - Loss: 1.018   log_lengthscale: -2.962\n",
      "Iter 148/200 - Loss: 1.271   log_lengthscale: -2.959\n",
      "Iter 149/200 - Loss: 1.424   log_lengthscale: -2.956\n",
      "Iter 150/200 - Loss: 0.641   log_lengthscale: -2.953\n",
      "Iter 151/200 - Loss: 1.043   log_lengthscale: -2.952\n",
      "Iter 152/200 - Loss: 0.691   log_lengthscale: -2.950\n",
      "Iter 153/200 - Loss: 0.711   log_lengthscale: -2.947\n",
      "Iter 154/200 - Loss: 1.110   log_lengthscale: -2.943\n",
      "Iter 155/200 - Loss: 0.830   log_lengthscale: -2.938\n",
      "Iter 156/200 - Loss: 1.133   log_lengthscale: -2.935\n",
      "Iter 157/200 - Loss: 1.417   log_lengthscale: -2.933\n",
      "Iter 158/200 - Loss: 0.841   log_lengthscale: -2.929\n",
      "Iter 159/200 - Loss: 0.980   log_lengthscale: -2.923\n",
      "Iter 160/200 - Loss: 0.539   log_lengthscale: -2.916\n",
      "Iter 161/200 - Loss: 0.873   log_lengthscale: -2.912\n",
      "Iter 162/200 - Loss: 0.997   log_lengthscale: -2.909\n",
      "Iter 163/200 - Loss: 0.815   log_lengthscale: -2.907\n",
      "Iter 164/200 - Loss: 0.963   log_lengthscale: -2.905\n",
      "Iter 165/200 - Loss: 1.428   log_lengthscale: -2.903\n",
      "Iter 166/200 - Loss: 1.384   log_lengthscale: -2.902\n",
      "Iter 167/200 - Loss: 1.078   log_lengthscale: -2.901\n",
      "Iter 168/200 - Loss: 1.013   log_lengthscale: -2.901\n",
      "Iter 169/200 - Loss: 0.931   log_lengthscale: -2.900\n",
      "Iter 170/200 - Loss: 1.551   log_lengthscale: -2.899\n",
      "Iter 171/200 - Loss: 0.917   log_lengthscale: -2.898\n",
      "Iter 172/200 - Loss: 1.075   log_lengthscale: -2.898\n",
      "Iter 173/200 - Loss: 0.994   log_lengthscale: -2.897\n",
      "Iter 174/200 - Loss: 1.162   log_lengthscale: -2.896\n",
      "Iter 175/200 - Loss: 0.526   log_lengthscale: -2.895\n",
      "Iter 176/200 - Loss: 0.988   log_lengthscale: -2.895\n",
      "Iter 177/200 - Loss: 1.130   log_lengthscale: -2.895\n",
      "Iter 178/200 - Loss: 0.908   log_lengthscale: -2.895\n",
      "Iter 179/200 - Loss: 0.987   log_lengthscale: -2.895\n",
      "Iter 180/200 - Loss: 1.270   log_lengthscale: -2.895\n",
      "Iter 181/200 - Loss: 0.870   log_lengthscale: -2.895\n",
      "Iter 182/200 - Loss: 0.780   log_lengthscale: -2.896\n",
      "Iter 183/200 - Loss: 0.530   log_lengthscale: -2.897\n",
      "Iter 184/200 - Loss: 1.137   log_lengthscale: -2.897\n",
      "Iter 185/200 - Loss: 0.798   log_lengthscale: -2.898\n",
      "Iter 186/200 - Loss: 1.531   log_lengthscale: -2.899\n",
      "Iter 187/200 - Loss: 0.844   log_lengthscale: -2.900\n",
      "Iter 188/200 - Loss: 1.017   log_lengthscale: -2.900\n",
      "Iter 189/200 - Loss: 1.342   log_lengthscale: -2.901\n",
      "Iter 190/200 - Loss: 0.843   log_lengthscale: -2.903\n",
      "Iter 191/200 - Loss: 1.263   log_lengthscale: -2.905\n",
      "Iter 192/200 - Loss: 1.073   log_lengthscale: -2.908\n",
      "Iter 193/200 - Loss: 0.953   log_lengthscale: -2.910\n",
      "Iter 194/200 - Loss: 1.068   log_lengthscale: -2.912\n",
      "Iter 195/200 - Loss: 1.163   log_lengthscale: -2.915\n",
      "Iter 196/200 - Loss: 0.324   log_lengthscale: -2.918\n",
      "Iter 197/200 - Loss: 0.926   log_lengthscale: -2.921\n",
      "Iter 198/200 - Loss: 0.972   log_lengthscale: -2.923\n",
      "Iter 199/200 - Loss: 0.864   log_lengthscale: -2.924\n",
      "Iter 200/200 - Loss: 0.829   log_lengthscale: -2.925\n"
     ]
    }
   ],
   "source": [
    "# Find optimal model hyperparameters\n",
    "model.train()\n",
    "optimizer = optim.Adam(model.parameters(), lr=0.1)\n",
    "optimizer.n_iter = 0\n",
    "for i in range(200):\n",
    "    optimizer.zero_grad()\n",
    "    output = model.forward(train_x)\n",
    "    loss = -model.marginal_log_likelihood(output, train_y)\n",
    "    loss.backward()\n",
    "    optimizer.n_iter += 1\n",
    "    print('Iter %d/200 - Loss: %.3f   log_lengthscale: %.3f' % (\n",
    "        i + 1, loss.data[0],\n",
    "        model.latent_function.covar_module.base_kernel_module.log_lengthscale.data.squeeze()[0],\n",
    "    ))\n",
    "    optimizer.step()\n",
    "    \n",
    "# Set back to eval mode\n",
    "model.eval()\n",
    "None"
   ]
  },
  {
   "cell_type": "code",
   "execution_count": 8,
   "metadata": {
    "collapsed": false,
    "scrolled": false
   },
   "outputs": [
    {
     "data": {
      "image/png": "[encoded data removed]",
      "text/plain": [
       "<matplotlib.figure.Figure at 0x7f54ce0fd590>"
      ]
     },
     "metadata": {},
     "output_type": "display_data"
    }
   ],
   "source": [
    "f = plot_model_and_predictions(model)"
   ]
  },
  {
   "cell_type": "code",
   "execution_count": null,
   "metadata": {
    "collapsed": true
   },
   "outputs": [],
   "source": []
  }
 ],
 "metadata": {
  "anaconda-cloud": {},
  "kernelspec": {
   "display_name": "Python [default]",
   "language": "python",
   "name": "python2"
  },
  "language_info": {
   "codemirror_mode": {
    "name": "ipython",
    "version": 2
   },
   "file_extension": ".py",
   "mimetype": "text/x-python",
   "name": "python",
   "nbconvert_exporter": "python",
   "pygments_lexer": "ipython2",
   "version": "2.7.12"
  }
 },
 "nbformat": 4,
 "nbformat_minor": 1
}
