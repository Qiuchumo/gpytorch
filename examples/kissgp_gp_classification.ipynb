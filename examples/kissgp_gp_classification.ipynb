{
 "cells": [
  {
   "cell_type": "code",
   "execution_count": 1,
   "metadata": {
    "collapsed": false
   },
   "outputs": [],
   "source": [
    "import math\n",
    "import torch\n",
    "import gpytorch\n",
    "from matplotlib import pyplot as plt\n",
    "\n",
    "%matplotlib inline\n",
    "%load_ext autoreload\n",
    "%autoreload 2"
   ]
  },
  {
   "cell_type": "code",
   "execution_count": 2,
   "metadata": {
    "collapsed": true
   },
   "outputs": [],
   "source": [
    "from torch.autograd import Variable\n",
    "train_x = Variable(torch.linspace(0, 1, 26))\n",
    "train_y = Variable(torch.sign(torch.cos(train_x.data * (8 * math.pi))))"
   ]
  },
  {
   "cell_type": "code",
   "execution_count": 3,
   "metadata": {
    "collapsed": true
   },
   "outputs": [],
   "source": [
    "from torch import nn, optim\n",
    "from gpytorch.kernels import RBFKernel, GridInterpolationKernel\n",
    "from gpytorch.means import ConstantMean\n",
    "from gpytorch.likelihoods import GaussianLikelihood, BernoulliLikelihood\n",
    "from gpytorch.random_variables import GaussianRandomVariable"
   ]
  },
  {
   "cell_type": "code",
   "execution_count": 4,
   "metadata": {
    "collapsed": false
   },
   "outputs": [],
   "source": [
    "class LatentFunction(gpytorch.GridInducingPointModule):\n",
    "    def __init__(self):\n",
    "        super(LatentFunction, self).__init__(grid_size=30, grid_bounds=[(0, 1)])\n",
    "        self.mean_module = ConstantMean(constant_bounds=[-1e-5,1e-5])\n",
    "        self.covar_module = RBFKernel(log_lengthscale_bounds=(-5, 6))\n",
    "        self.register_parameter('log_outputscale', nn.Parameter(torch.Tensor([0])), bounds=(-5,6))\n",
    "        \n",
    "    def forward(self,x):\n",
    "        mean_x = self.mean_module(x)\n",
    "        covar_x = self.covar_module(x)\n",
    "        covar_x = covar_x.mul(self.log_outputscale.exp())\n",
    "        latent_pred = GaussianRandomVariable(mean_x, covar_x)\n",
    "        return latent_pred\n",
    "\n",
    "class GPClassificationModel(gpytorch.GPModel):\n",
    "    def __init__(self):\n",
    "        super(GPClassificationModel,self).__init__(BernoulliLikelihood())\n",
    "        self.latent_function = LatentFunction()\n",
    "        \n",
    "    def forward(self, x):\n",
    "        return self.latent_function(x)\n",
    "\n",
    "model = GPClassificationModel()"
   ]
  },
  {
   "cell_type": "code",
   "execution_count": 5,
   "metadata": {
    "collapsed": true
   },
   "outputs": [],
   "source": [
    "def plot_model_and_predictions(model, plot_train_data=True):\n",
    "    f, observed_ax = plt.subplots(1, 1, figsize=(4, 3))\n",
    "    test_x = Variable(torch.linspace(0, 1, 100))\n",
    "    observed_pred = model(test_x)\n",
    "\n",
    "    def ax_plot(ax, rand_var, title):\n",
    "        if plot_train_data:\n",
    "            ax.plot(train_x.data.numpy(), train_y.data.numpy(), 'k*')\n",
    "        pred_labels = rand_var.mean().ge(0.5).float().mul(2).sub(1)\n",
    "        ax.plot(test_x.data.numpy(), pred_labels.data.numpy(), 'b')\n",
    "        ax.set_ylim([-3, 3])\n",
    "        ax.legend(['Observed Data', 'Mean', 'Confidence'])\n",
    "        ax.set_title(title)\n",
    "    \n",
    "    ax_plot(observed_ax, observed_pred, 'Observed Values (Likelihood)')\n",
    "    \n",
    "    return f"
   ]
  },
  {
   "cell_type": "code",
   "execution_count": 6,
   "metadata": {
    "collapsed": false,
    "scrolled": true
   },
   "outputs": [
    {
     "data": {
      "image/png": "[encoded data removed]",
      "text/plain": [
       "<matplotlib.figure.Figure at 0x7f118e6d4950>"
      ]
     },
     "metadata": {},
     "output_type": "display_data"
    }
   ],
   "source": [
    "model.eval()\n",
    "f = plot_model_and_predictions(model, plot_train_data=False)"
   ]
  },
  {
   "cell_type": "code",
   "execution_count": 7,
   "metadata": {
    "collapsed": false,
    "scrolled": true
   },
   "outputs": [
    {
     "name": "stdout",
     "output_type": "stream",
     "text": [
      "Iter 1/200 - Loss: 124967.320   log_lengthscale: 0.000\n",
      "Iter 2/200 - Loss: 93033.484   log_lengthscale: -0.100\n",
      "Iter 3/200 - Loss: 66119.883   log_lengthscale: -0.198\n",
      "Iter 4/200 - Loss: 56587.480   log_lengthscale: -0.293\n",
      "Iter 5/200 - Loss: 38287.824   log_lengthscale: -0.384\n",
      "Iter 6/200 - Loss: 23578.432   log_lengthscale: -0.476\n",
      "Iter 7/200 - Loss: 19894.857   log_lengthscale: -0.564\n",
      "Iter 8/200 - Loss: 17211.477   log_lengthscale: -0.655\n",
      "Iter 9/200 - Loss: 16296.064   log_lengthscale: -0.749\n",
      "Iter 10/200 - Loss: 10513.018   log_lengthscale: -0.846\n",
      "Iter 11/200 - Loss: 6222.535   log_lengthscale: -0.945\n",
      "Iter 12/200 - Loss: 9408.852   log_lengthscale: -1.044\n",
      "Iter 13/200 - Loss: 12151.138   log_lengthscale: -1.140\n",
      "Iter 14/200 - Loss: 6928.283   log_lengthscale: -1.237\n",
      "Iter 15/200 - Loss: 5881.216   log_lengthscale: -1.332\n",
      "Iter 16/200 - Loss: 5080.096   log_lengthscale: -1.428\n",
      "Iter 17/200 - Loss: 5106.375   log_lengthscale: -1.523\n",
      "Iter 18/200 - Loss: 2151.080   log_lengthscale: -1.616\n",
      "Iter 19/200 - Loss: 2513.493   log_lengthscale: -1.708\n",
      "Iter 20/200 - Loss: 2377.455   log_lengthscale: -1.795\n",
      "Iter 21/200 - Loss: 4296.565   log_lengthscale: -1.877\n",
      "Iter 22/200 - Loss: 3075.148   log_lengthscale: -1.959\n",
      "Iter 23/200 - Loss: 2011.593   log_lengthscale: -2.036\n",
      "Iter 24/200 - Loss: 1961.911   log_lengthscale: -2.112\n",
      "Iter 25/200 - Loss: 866.857   log_lengthscale: -2.180\n",
      "Iter 26/200 - Loss: 596.602   log_lengthscale: -2.254\n",
      "Iter 27/200 - Loss: 326.413   log_lengthscale: -2.323\n",
      "Iter 28/200 - Loss: 493.999   log_lengthscale: -2.388\n",
      "Iter 29/200 - Loss: 827.017   log_lengthscale: -2.449\n",
      "Iter 30/200 - Loss: 535.366   log_lengthscale: -2.509\n",
      "Iter 31/200 - Loss: 575.717   log_lengthscale: -2.568\n",
      "Iter 32/200 - Loss: 289.785   log_lengthscale: -2.624\n",
      "Iter 33/200 - Loss: 247.371   log_lengthscale: -2.678\n",
      "Iter 34/200 - Loss: 335.740   log_lengthscale: -2.729\n",
      "Iter 35/200 - Loss: 234.420   log_lengthscale: -2.777\n",
      "Iter 36/200 - Loss: 197.964   log_lengthscale: -2.823\n",
      "Iter 37/200 - Loss: 179.176   log_lengthscale: -2.865\n",
      "Iter 38/200 - Loss: 188.919   log_lengthscale: -2.905\n",
      "Iter 39/200 - Loss: 84.739   log_lengthscale: -2.942\n",
      "Iter 40/200 - Loss: 107.029   log_lengthscale: -2.978\n",
      "Iter 41/200 - Loss: 187.461   log_lengthscale: -3.011\n",
      "Iter 42/200 - Loss: 137.133   log_lengthscale: -3.043\n",
      "Iter 43/200 - Loss: 114.162   log_lengthscale: -3.073\n",
      "Iter 44/200 - Loss: 100.567   log_lengthscale: -3.102\n",
      "Iter 45/200 - Loss: 111.187   log_lengthscale: -3.130\n",
      "Iter 46/200 - Loss: 106.436   log_lengthscale: -3.156\n",
      "Iter 47/200 - Loss: 69.992   log_lengthscale: -3.180\n",
      "Iter 48/200 - Loss: 46.742   log_lengthscale: -3.202\n",
      "Iter 49/200 - Loss: 119.802   log_lengthscale: -3.223\n",
      "Iter 50/200 - Loss: 84.247   log_lengthscale: -3.243\n",
      "Iter 51/200 - Loss: 123.906   log_lengthscale: -3.261\n",
      "Iter 52/200 - Loss: 63.438   log_lengthscale: -3.278\n",
      "Iter 53/200 - Loss: 126.818   log_lengthscale: -3.294\n",
      "Iter 54/200 - Loss: 52.784   log_lengthscale: -3.310\n",
      "Iter 55/200 - Loss: 79.815   log_lengthscale: -3.324\n",
      "Iter 56/200 - Loss: 52.394   log_lengthscale: -3.338\n",
      "Iter 57/200 - Loss: 70.747   log_lengthscale: -3.350\n",
      "Iter 58/200 - Loss: 69.875   log_lengthscale: -3.362\n",
      "Iter 59/200 - Loss: 61.303   log_lengthscale: -3.374\n",
      "Iter 60/200 - Loss: 54.043   log_lengthscale: -3.384\n",
      "Iter 61/200 - Loss: 38.743   log_lengthscale: -3.395\n",
      "Iter 62/200 - Loss: 74.641   log_lengthscale: -3.404\n",
      "Iter 63/200 - Loss: 56.613   log_lengthscale: -3.412\n",
      "Iter 64/200 - Loss: 37.327   log_lengthscale: -3.419\n",
      "Iter 65/200 - Loss: 86.587   log_lengthscale: -3.427\n",
      "Iter 66/200 - Loss: 31.354   log_lengthscale: -3.433\n",
      "Iter 67/200 - Loss: 59.964   log_lengthscale: -3.439\n",
      "Iter 68/200 - Loss: 89.801   log_lengthscale: -3.445\n",
      "Iter 69/200 - Loss: 96.164   log_lengthscale: -3.451\n",
      "Iter 70/200 - Loss: 58.554   log_lengthscale: -3.457\n",
      "Iter 71/200 - Loss: 40.397   log_lengthscale: -3.462\n",
      "Iter 72/200 - Loss: 69.562   log_lengthscale: -3.467\n",
      "Iter 73/200 - Loss: 48.893   log_lengthscale: -3.472\n",
      "Iter 74/200 - Loss: 45.045   log_lengthscale: -3.477\n",
      "Iter 75/200 - Loss: 65.408   log_lengthscale: -3.482\n",
      "Iter 76/200 - Loss: 36.866   log_lengthscale: -3.487\n",
      "Iter 77/200 - Loss: 64.121   log_lengthscale: -3.492\n",
      "Iter 78/200 - Loss: 24.190   log_lengthscale: -3.497\n",
      "Iter 79/200 - Loss: 54.513   log_lengthscale: -3.501\n",
      "Iter 80/200 - Loss: 48.583   log_lengthscale: -3.506\n",
      "Iter 81/200 - Loss: 52.893   log_lengthscale: -3.510\n",
      "Iter 82/200 - Loss: 63.735   log_lengthscale: -3.514\n",
      "Iter 83/200 - Loss: 74.947   log_lengthscale: -3.517\n",
      "Iter 84/200 - Loss: 52.010   log_lengthscale: -3.521\n",
      "Iter 85/200 - Loss: 78.041   log_lengthscale: -3.524\n",
      "Iter 86/200 - Loss: 44.773   log_lengthscale: -3.527\n",
      "Iter 87/200 - Loss: 46.763   log_lengthscale: -3.530\n",
      "Iter 88/200 - Loss: 40.594   log_lengthscale: -3.534\n",
      "Iter 89/200 - Loss: 47.168   log_lengthscale: -3.537\n",
      "Iter 90/200 - Loss: 33.460   log_lengthscale: -3.540\n",
      "Iter 91/200 - Loss: 36.927   log_lengthscale: -3.543\n",
      "Iter 92/200 - Loss: 51.475   log_lengthscale: -3.546\n",
      "Iter 93/200 - Loss: 46.331   log_lengthscale: -3.549\n",
      "Iter 94/200 - Loss: 33.350   log_lengthscale: -3.552\n",
      "Iter 95/200 - Loss: 32.985   log_lengthscale: -3.554\n",
      "Iter 96/200 - Loss: 54.914   log_lengthscale: -3.557\n",
      "Iter 97/200 - Loss: 61.929   log_lengthscale: -3.561\n",
      "Iter 98/200 - Loss: 34.079   log_lengthscale: -3.564\n",
      "Iter 99/200 - Loss: 55.834   log_lengthscale: -3.566\n",
      "Iter 100/200 - Loss: 55.393   log_lengthscale: -3.569\n",
      "Iter 101/200 - Loss: 42.243   log_lengthscale: -3.572\n",
      "Iter 102/200 - Loss: 39.367   log_lengthscale: -3.575\n",
      "Iter 103/200 - Loss: 51.937   log_lengthscale: -3.578\n",
      "Iter 104/200 - Loss: 48.061   log_lengthscale: -3.581\n",
      "Iter 105/200 - Loss: 47.321   log_lengthscale: -3.584\n",
      "Iter 106/200 - Loss: 45.421   log_lengthscale: -3.587\n",
      "Iter 107/200 - Loss: 50.124   log_lengthscale: -3.590\n",
      "Iter 108/200 - Loss: 57.209   log_lengthscale: -3.592\n",
      "Iter 109/200 - Loss: 37.832   log_lengthscale: -3.595\n",
      "Iter 110/200 - Loss: 42.927   log_lengthscale: -3.598\n",
      "Iter 111/200 - Loss: 57.350   log_lengthscale: -3.601\n",
      "Iter 112/200 - Loss: 40.985   log_lengthscale: -3.604\n",
      "Iter 113/200 - Loss: 56.794   log_lengthscale: -3.607\n",
      "Iter 114/200 - Loss: 42.859   log_lengthscale: -3.610\n",
      "Iter 115/200 - Loss: 46.403   log_lengthscale: -3.614\n",
      "Iter 116/200 - Loss: 52.606   log_lengthscale: -3.617\n",
      "Iter 117/200 - Loss: 46.544   log_lengthscale: -3.620\n",
      "Iter 118/200 - Loss: 50.103   log_lengthscale: -3.623\n",
      "Iter 119/200 - Loss: 57.561   log_lengthscale: -3.626\n",
      "Iter 120/200 - Loss: 42.241   log_lengthscale: -3.629\n",
      "Iter 121/200 - Loss: 70.437   log_lengthscale: -3.632\n",
      "Iter 122/200 - Loss: 62.824   log_lengthscale: -3.634\n",
      "Iter 123/200 - Loss: 74.577   log_lengthscale: -3.636\n",
      "Iter 124/200 - Loss: 59.095   log_lengthscale: -3.639\n",
      "Iter 125/200 - Loss: 54.842   log_lengthscale: -3.642\n",
      "Iter 126/200 - Loss: 47.009   log_lengthscale: -3.645\n",
      "Iter 127/200 - Loss: 56.542   log_lengthscale: -3.648\n",
      "Iter 128/200 - Loss: 63.466   log_lengthscale: -3.652\n",
      "Iter 129/200 - Loss: 58.574   log_lengthscale: -3.655\n",
      "Iter 130/200 - Loss: 32.511   log_lengthscale: -3.658\n",
      "Iter 131/200 - Loss: 44.249   log_lengthscale: -3.662\n",
      "Iter 132/200 - Loss: 58.801   log_lengthscale: -3.666\n",
      "Iter 133/200 - Loss: 44.254   log_lengthscale: -3.670\n",
      "Iter 134/200 - Loss: 56.212   log_lengthscale: -3.674\n",
      "Iter 135/200 - Loss: 43.815   log_lengthscale: -3.678\n",
      "Iter 136/200 - Loss: 51.975   log_lengthscale: -3.682\n",
      "Iter 137/200 - Loss: 42.992   log_lengthscale: -3.685\n",
      "Iter 138/200 - Loss: 42.671   log_lengthscale: -3.689\n",
      "Iter 139/200 - Loss: 47.024   log_lengthscale: -3.692\n",
      "Iter 140/200 - Loss: 58.701   log_lengthscale: -3.696\n",
      "Iter 141/200 - Loss: 51.541   log_lengthscale: -3.699\n",
      "Iter 142/200 - Loss: 51.662   log_lengthscale: -3.701\n",
      "Iter 143/200 - Loss: 32.636   log_lengthscale: -3.704\n",
      "Iter 144/200 - Loss: 59.757   log_lengthscale: -3.707\n",
      "Iter 145/200 - Loss: 37.903   log_lengthscale: -3.711\n",
      "Iter 146/200 - Loss: 55.849   log_lengthscale: -3.714\n",
      "Iter 147/200 - Loss: 43.187   log_lengthscale: -3.718\n",
      "Iter 148/200 - Loss: 39.202   log_lengthscale: -3.721\n",
      "Iter 149/200 - Loss: 43.461   log_lengthscale: -3.725\n",
      "Iter 150/200 - Loss: 53.370   log_lengthscale: -3.728\n",
      "Iter 151/200 - Loss: 51.763   log_lengthscale: -3.731\n",
      "Iter 152/200 - Loss: 58.645   log_lengthscale: -3.734\n",
      "Iter 153/200 - Loss: 50.240   log_lengthscale: -3.737\n",
      "Iter 154/200 - Loss: 56.297   log_lengthscale: -3.739\n",
      "Iter 155/200 - Loss: 38.218   log_lengthscale: -3.741\n",
      "Iter 156/200 - Loss: 47.172   log_lengthscale: -3.744\n",
      "Iter 157/200 - Loss: 36.835   log_lengthscale: -3.746\n",
      "Iter 158/200 - Loss: 46.996   log_lengthscale: -3.748\n",
      "Iter 159/200 - Loss: 40.322   log_lengthscale: -3.751\n",
      "Iter 160/200 - Loss: 48.606   log_lengthscale: -3.753\n",
      "Iter 161/200 - Loss: 37.532   log_lengthscale: -3.756\n",
      "Iter 162/200 - Loss: 38.014   log_lengthscale: -3.758\n",
      "Iter 163/200 - Loss: 52.915   log_lengthscale: -3.760\n",
      "Iter 164/200 - Loss: 45.047   log_lengthscale: -3.762\n",
      "Iter 165/200 - Loss: 41.622   log_lengthscale: -3.764\n",
      "Iter 166/200 - Loss: 37.210   log_lengthscale: -3.766\n",
      "Iter 167/200 - Loss: 44.201   log_lengthscale: -3.768\n",
      "Iter 168/200 - Loss: 39.642   log_lengthscale: -3.770\n",
      "Iter 169/200 - Loss: 31.580   log_lengthscale: -3.771\n",
      "Iter 170/200 - Loss: 40.051   log_lengthscale: -3.773\n",
      "Iter 171/200 - Loss: 37.458   log_lengthscale: -3.775\n",
      "Iter 172/200 - Loss: 33.659   log_lengthscale: -3.777\n",
      "Iter 173/200 - Loss: 44.491   log_lengthscale: -3.779\n",
      "Iter 174/200 - Loss: 46.293   log_lengthscale: -3.781\n",
      "Iter 175/200 - Loss: 49.159   log_lengthscale: -3.783\n",
      "Iter 176/200 - Loss: 43.645   log_lengthscale: -3.785\n",
      "Iter 177/200 - Loss: 46.569   log_lengthscale: -3.787\n",
      "Iter 178/200 - Loss: 36.804   log_lengthscale: -3.788\n",
      "Iter 179/200 - Loss: 41.936   log_lengthscale: -3.790\n",
      "Iter 180/200 - Loss: 42.992   log_lengthscale: -3.791\n",
      "Iter 181/200 - Loss: 36.853   log_lengthscale: -3.793\n",
      "Iter 182/200 - Loss: 44.641   log_lengthscale: -3.794\n",
      "Iter 183/200 - Loss: 52.028   log_lengthscale: -3.796\n",
      "Iter 184/200 - Loss: 29.180   log_lengthscale: -3.797\n",
      "Iter 185/200 - Loss: 26.261   log_lengthscale: -3.798\n",
      "Iter 186/200 - Loss: 52.667   log_lengthscale: -3.799\n",
      "Iter 187/200 - Loss: 39.385   log_lengthscale: -3.801\n",
      "Iter 188/200 - Loss: 50.105   log_lengthscale: -3.802\n",
      "Iter 189/200 - Loss: 35.262   log_lengthscale: -3.803\n",
      "Iter 190/200 - Loss: 42.132   log_lengthscale: -3.804\n",
      "Iter 191/200 - Loss: 40.732   log_lengthscale: -3.806\n",
      "Iter 192/200 - Loss: 40.865   log_lengthscale: -3.807\n",
      "Iter 193/200 - Loss: 44.171   log_lengthscale: -3.808\n",
      "Iter 194/200 - Loss: 48.929   log_lengthscale: -3.809\n",
      "Iter 195/200 - Loss: 44.175   log_lengthscale: -3.810\n",
      "Iter 196/200 - Loss: 44.567   log_lengthscale: -3.811\n",
      "Iter 197/200 - Loss: 35.320   log_lengthscale: -3.812\n",
      "Iter 198/200 - Loss: 38.136   log_lengthscale: -3.813\n",
      "Iter 199/200 - Loss: 50.841   log_lengthscale: -3.814\n",
      "Iter 200/200 - Loss: 33.290   log_lengthscale: -3.816\n"
     ]
    }
   ],
   "source": [
    "# Find optimal model hyperparameters\n",
    "model.train()\n",
    "optimizer = optim.Adam(model.parameters(), lr=0.1)\n",
    "optimizer.n_iter = 0\n",
    "for i in range(200):\n",
    "    optimizer.zero_grad()\n",
    "    output = model.forward(train_x)\n",
    "    loss = -model.marginal_log_likelihood(output, train_y)\n",
    "    loss.backward()\n",
    "    optimizer.n_iter += 1\n",
    "    print('Iter %d/200 - Loss: %.3f   log_lengthscale: %.3f' % (\n",
    "        i + 1, loss.data[0],\n",
    "        model.latent_function.covar_module.base_kernel_module.log_lengthscale.data.squeeze()[0],\n",
    "    ))\n",
    "    optimizer.step()\n",
    "    \n",
    "# Set back to eval mode\n",
    "model.eval()\n",
    "None"
   ]
  },
  {
   "cell_type": "code",
   "execution_count": 8,
   "metadata": {
    "collapsed": false,
    "scrolled": false
   },
   "outputs": [
    {
     "data": {
      "image/png": "[encoded data removed]",
      "text/plain": [
       "<matplotlib.figure.Figure at 0x7f118e640b90>"
      ]
     },
     "metadata": {},
     "output_type": "display_data"
    }
   ],
   "source": [
    "f = plot_model_and_predictions(model)"
   ]
  },
  {
   "cell_type": "code",
   "execution_count": null,
   "metadata": {
    "collapsed": true
   },
   "outputs": [],
   "source": []
  }
 ],
 "metadata": {
  "anaconda-cloud": {},
  "kernelspec": {
   "display_name": "Python [default]",
   "language": "python",
   "name": "python2"
  },
  "language_info": {
   "codemirror_mode": {
    "name": "ipython",
    "version": 2
   },
   "file_extension": ".py",
   "mimetype": "text/x-python",
   "name": "python",
   "nbconvert_exporter": "python",
   "pygments_lexer": "ipython2",
   "version": "2.7.12"
  }
 },
 "nbformat": 4,
 "nbformat_minor": 1
}
