{
 "cells": [
  {
   "cell_type": "code",
   "execution_count": 1,
   "metadata": {
    "collapsed": true
   },
   "outputs": [],
   "source": [
    "import gpytorch\n",
    "import torch\n",
    "import torchvision\n",
    "from torch import nn\n",
    "from torch.autograd import Variable\n",
    "from torchvision import transforms\n",
    "\n",
    "gpytorch.functions.use_toeplitz = False"
   ]
  },
  {
   "cell_type": "code",
   "execution_count": 2,
   "metadata": {
    "collapsed": true
   },
   "outputs": [],
   "source": [
    "ways = 20\n",
    "shots = 5\n",
    "train_dir_str = \"way%dshot%d\" %(ways, shots)\n",
    "test_dir_str = \"way%dtest\" %ways"
   ]
  },
  {
   "cell_type": "code",
   "execution_count": 3,
   "metadata": {
    "scrolled": true
   },
   "outputs": [
    {
     "data": {
      "text/plain": [
       "\"\\ntest_mnist = torchvision.datasets.ImageFolder('/tmp', split='test',\\n                                        download=True, transform=transforms.Compose([\\n                       transforms.ToTensor()\\n                   ]))\\n\""
      ]
     },
     "execution_count": 3,
     "metadata": {},
     "output_type": "execute_result"
    }
   ],
   "source": [
    "train_base_omni = torchvision.datasets.ImageFolder('/scratch/bw462/omni_data/general', transform=transforms.Compose([\n",
    "                        transforms.Resize((28,28)),\n",
    "                        transforms.ToTensor()\n",
    "                   ]))                                              \n",
    "\"\"\"\n",
    "test_mnist = torchvision.datasets.ImageFolder('/tmp', split='test',\n",
    "                                        download=True, transform=transforms.Compose([\n",
    "                       transforms.ToTensor()\n",
    "                   ]))\n",
    "\"\"\""
   ]
  },
  {
   "cell_type": "code",
   "execution_count": 4,
   "metadata": {
    "collapsed": true
   },
   "outputs": [],
   "source": [
    "class FeatureExtractor(nn.Sequential):\n",
    "    \n",
    "    def __init__(self):\n",
    "        super(FeatureExtractor, self).__init__(nn.Conv2d(1, 32, kernel_size=5, padding=2),\n",
    "                                 nn.BatchNorm2d(32),\n",
    "                                 nn.ReLU(),\n",
    "                                 nn.MaxPool2d(2, 2),\n",
    "                                 nn.Conv2d(32, 64, kernel_size=5, padding=2),\n",
    "                                 nn.BatchNorm2d(64),\n",
    "                                 nn.ReLU(),\n",
    "                                 nn.MaxPool2d(2, 2))\n",
    "        \n",
    "class Bottleneck(nn.Sequential):\n",
    "    \n",
    "    def __init__(self):\n",
    "        super(Bottleneck, self).__init__(nn.Linear(64*7*7, 128),\n",
    "                                         nn.BatchNorm1d(128),\n",
    "                                 nn.ReLU(),\n",
    "                                 nn.Linear(128, 128),\n",
    "                                 nn.BatchNorm1d(128),\n",
    "                                 nn.ReLU(),\n",
    "                                 nn.Linear(128,64),\n",
    "                                 nn.BatchNorm1d(64))\n",
    "\n",
    "class LeNet(nn.Module):\n",
    "    \n",
    "    def __init__(self):\n",
    "        super(LeNet, self).__init__()\n",
    "        self.feature_extractor = FeatureExtractor()\n",
    "        self.bottleneck = Bottleneck()\n",
    "        self.final_layer = nn.Sequential(\n",
    "                                 nn.ReLU(),\n",
    "                                 nn.Linear(64,1319))\n",
    "    \n",
    "    def forward(self, x):\n",
    "        input_x = x[:,0,:,:].unsqueeze(1)\n",
    "        features = self.feature_extractor(input_x)\n",
    "        bottlenecked_features = self.bottleneck(features.view(-1, 64 * 7 * 7))\n",
    "        classification = self.final_layer(bottlenecked_features)\n",
    "        return classification\n",
    "        "
   ]
  },
  {
   "cell_type": "code",
   "execution_count": 5,
   "metadata": {
    "collapsed": true
   },
   "outputs": [],
   "source": [
    "train_data_loader = torch.utils.data.DataLoader(train_base_omni, shuffle=True, pin_memory=True, batch_size=256)"
   ]
  },
  {
   "cell_type": "code",
   "execution_count": 6,
   "metadata": {
    "collapsed": true
   },
   "outputs": [],
   "source": [
    "criterion = nn.CrossEntropyLoss().cuda()"
   ]
  },
  {
   "cell_type": "code",
   "execution_count": 7,
   "metadata": {
    "collapsed": true
   },
   "outputs": [],
   "source": [
    "model = LeNet().cuda() \n",
    "optimizer = torch.optim.SGD(model.parameters(), lr=0.5)"
   ]
  },
  {
   "cell_type": "code",
   "execution_count": 8,
   "metadata": {
    "collapsed": true
   },
   "outputs": [],
   "source": [
    "num_epochs = 0\n",
    "if num_epochs > 0:\n",
    "    model.train()\n",
    "    for i in range(num_epochs):\n",
    "        for x, y in train_data_loader:\n",
    "            optimizer.zero_grad()\n",
    "            x = Variable(x).cuda()\n",
    "            y = Variable(y).cuda()\n",
    "            output = model(x)\n",
    "            loss = criterion(output, y)\n",
    "            loss.backward()\n",
    "            optimizer.step()\n",
    "        print(\"Loss: %.3f\" % loss.data[0])\n",
    "    torch.save(model.state_dict(), '/scratch/bw462/omni_net.dat')\n",
    "else:\n",
    "    model.load_state_dict(torch.load('/scratch/bw462/omni_net.dat'))\n"
   ]
  },
  {
   "cell_type": "code",
   "execution_count": 9,
   "metadata": {},
   "outputs": [
    {
     "name": "stdout",
     "output_type": "stream",
     "text": [
      "Accuracy: 0.9992\n"
     ]
    }
   ],
   "source": [
    "model.eval()\n",
    "#test_data_loader = torch.utils.data.DataLoader(test_mnist, shuffle=False, pin_memory=True, batch_size=256)\n",
    "avg = 0.\n",
    "i = 0.\n",
    "for test_batch_x, test_batch_y in train_data_loader:\n",
    "    predictions = model(Variable(test_batch_x).cuda()).max(-1)[1]\n",
    "    test_batch_y = Variable(test_batch_y).cuda()\n",
    "    avg += torch.eq(predictions, test_batch_y).float().mean().data[0]\n",
    "    i += 1.\n",
    "print('Accuracy: %.4f' % (avg / i))"
   ]
  },
  {
   "cell_type": "code",
   "execution_count": 10,
   "metadata": {
    "collapsed": true
   },
   "outputs": [],
   "source": [
    "list(model.bottleneck.modules())[-1].weight.data.fill_(1)\n",
    "None"
   ]
  },
  {
   "cell_type": "code",
   "execution_count": 27,
   "metadata": {
    "collapsed": true
   },
   "outputs": [],
   "source": [
    "ways = 20\n",
    "shots = 5\n",
    "train_dir_str = \"way%dshot%d\" %(ways, shots)\n",
    "test_dir_str = \"way%dtest\" %ways"
   ]
  },
  {
   "cell_type": "code",
   "execution_count": 28,
   "metadata": {},
   "outputs": [],
   "source": [
    "train_shots_omni = torchvision.datasets.ImageFolder('/scratch/bw462/omni_data/' + train_dir_str, transform=transforms.Compose([\n",
    "                        transforms.Scale((28,28)),\n",
    "                        transforms.ToTensor()\n",
    "                   ]))    "
   ]
  },
  {
   "cell_type": "code",
   "execution_count": 29,
   "metadata": {},
   "outputs": [],
   "source": [
    "oneshot_model = LeNet().cuda()\n",
    "oneshot_model.feature_extractor = model.feature_extractor\n",
    "oneshot_model.bottleneck = model.bottleneck\n",
    "shots_loader = torch.utils.data.DataLoader(train_shots_omni, batch_size=512., pin_memory=True, shuffle=True)"
   ]
  },
  {
   "cell_type": "code",
   "execution_count": 30,
   "metadata": {},
   "outputs": [
    {
     "name": "stdout",
     "output_type": "stream",
     "text": [
      "Iter 1/200 - Loss: 7.256\n",
      "Iter 2/200 - Loss: 3.316\n",
      "Iter 3/200 - Loss: 3.147\n",
      "Iter 4/200 - Loss: 2.885\n",
      "Iter 5/200 - Loss: 2.110\n",
      "Iter 6/200 - Loss: 1.925\n",
      "Iter 7/200 - Loss: 1.148\n",
      "Iter 8/200 - Loss: 0.901\n",
      "Iter 9/200 - Loss: 0.789\n",
      "Iter 10/200 - Loss: 0.598\n",
      "Iter 11/200 - Loss: 0.334\n",
      "Iter 12/200 - Loss: 0.111\n",
      "Iter 13/200 - Loss: 0.062\n",
      "Iter 14/200 - Loss: 0.066\n",
      "Iter 15/200 - Loss: 0.111\n",
      "Iter 16/200 - Loss: 0.172\n",
      "Iter 17/200 - Loss: 0.183\n",
      "Iter 18/200 - Loss: 0.117\n",
      "Iter 19/200 - Loss: 0.053\n",
      "Iter 20/200 - Loss: 0.038\n",
      "Iter 21/200 - Loss: 0.045\n",
      "Iter 22/200 - Loss: 0.038\n",
      "Iter 23/200 - Loss: 0.023\n",
      "Iter 24/200 - Loss: 0.022\n",
      "Iter 25/200 - Loss: 0.029\n",
      "Iter 26/200 - Loss: 0.029\n",
      "Iter 27/200 - Loss: 0.020\n",
      "Iter 28/200 - Loss: 0.014\n",
      "Iter 29/200 - Loss: 0.017\n",
      "Iter 30/200 - Loss: 0.021\n",
      "Iter 31/200 - Loss: 0.017\n",
      "Iter 32/200 - Loss: 0.012\n",
      "Iter 33/200 - Loss: 0.012\n",
      "Iter 34/200 - Loss: 0.014\n",
      "Iter 35/200 - Loss: 0.013\n",
      "Iter 36/200 - Loss: 0.009\n",
      "Iter 37/200 - Loss: 0.007\n",
      "Iter 38/200 - Loss: 0.008\n",
      "Iter 39/200 - Loss: 0.008\n",
      "Iter 40/200 - Loss: 0.008\n",
      "Iter 41/200 - Loss: 0.006\n",
      "Iter 42/200 - Loss: 0.005\n",
      "Iter 43/200 - Loss: 0.006\n",
      "Iter 44/200 - Loss: 0.006\n",
      "Iter 45/200 - Loss: 0.006\n",
      "Iter 46/200 - Loss: 0.006\n",
      "Iter 47/200 - Loss: 0.005\n",
      "Iter 48/200 - Loss: 0.005\n",
      "Iter 49/200 - Loss: 0.005\n",
      "Iter 50/200 - Loss: 0.005\n",
      "Iter 51/200 - Loss: 0.005\n",
      "Iter 52/200 - Loss: 0.004\n",
      "Iter 53/200 - Loss: 0.004\n",
      "Iter 54/200 - Loss: 0.004\n",
      "Iter 55/200 - Loss: 0.004\n",
      "Iter 56/200 - Loss: 0.004\n",
      "Iter 57/200 - Loss: 0.004\n",
      "Iter 58/200 - Loss: 0.003\n",
      "Iter 59/200 - Loss: 0.003\n",
      "Iter 60/200 - Loss: 0.003\n",
      "Iter 61/200 - Loss: 0.003\n",
      "Iter 62/200 - Loss: 0.003\n",
      "Iter 63/200 - Loss: 0.003\n",
      "Iter 64/200 - Loss: 0.003\n",
      "Iter 65/200 - Loss: 0.003\n",
      "Iter 66/200 - Loss: 0.003\n",
      "Iter 67/200 - Loss: 0.003\n",
      "Iter 68/200 - Loss: 0.003\n",
      "Iter 69/200 - Loss: 0.003\n",
      "Iter 70/200 - Loss: 0.003\n",
      "Iter 71/200 - Loss: 0.003\n",
      "Iter 72/200 - Loss: 0.003\n",
      "Iter 73/200 - Loss: 0.003\n",
      "Iter 74/200 - Loss: 0.003\n",
      "Iter 75/200 - Loss: 0.003\n",
      "Iter 76/200 - Loss: 0.003\n",
      "Iter 77/200 - Loss: 0.002\n",
      "Iter 78/200 - Loss: 0.002\n",
      "Iter 79/200 - Loss: 0.002\n",
      "Iter 80/200 - Loss: 0.002\n",
      "Iter 81/200 - Loss: 0.002\n",
      "Iter 82/200 - Loss: 0.002\n",
      "Iter 83/200 - Loss: 0.002\n",
      "Iter 84/200 - Loss: 0.002\n",
      "Iter 85/200 - Loss: 0.002\n",
      "Iter 86/200 - Loss: 0.002\n",
      "Iter 87/200 - Loss: 0.002\n",
      "Iter 88/200 - Loss: 0.002\n",
      "Iter 89/200 - Loss: 0.002\n",
      "Iter 90/200 - Loss: 0.002\n",
      "Iter 91/200 - Loss: 0.002\n",
      "Iter 92/200 - Loss: 0.002\n",
      "Iter 93/200 - Loss: 0.002\n",
      "Iter 94/200 - Loss: 0.002\n",
      "Iter 95/200 - Loss: 0.002\n",
      "Iter 96/200 - Loss: 0.002\n",
      "Iter 97/200 - Loss: 0.002\n",
      "Iter 98/200 - Loss: 0.002\n",
      "Iter 99/200 - Loss: 0.002\n",
      "Iter 100/200 - Loss: 0.002\n",
      "Iter 101/200 - Loss: 0.002\n",
      "Iter 102/200 - Loss: 0.002\n",
      "Iter 103/200 - Loss: 0.002\n",
      "Iter 104/200 - Loss: 0.002\n",
      "Iter 105/200 - Loss: 0.002\n",
      "Iter 106/200 - Loss: 0.002\n",
      "Iter 107/200 - Loss: 0.002\n",
      "Iter 108/200 - Loss: 0.002\n",
      "Iter 109/200 - Loss: 0.002\n",
      "Iter 110/200 - Loss: 0.002\n",
      "Iter 111/200 - Loss: 0.002\n",
      "Iter 112/200 - Loss: 0.002\n",
      "Iter 113/200 - Loss: 0.002\n",
      "Iter 114/200 - Loss: 0.002\n",
      "Iter 115/200 - Loss: 0.002\n",
      "Iter 116/200 - Loss: 0.002\n",
      "Iter 117/200 - Loss: 0.002\n",
      "Iter 118/200 - Loss: 0.002\n",
      "Iter 119/200 - Loss: 0.002\n",
      "Iter 120/200 - Loss: 0.002\n",
      "Iter 121/200 - Loss: 0.002\n",
      "Iter 122/200 - Loss: 0.001\n",
      "Iter 123/200 - Loss: 0.001\n",
      "Iter 124/200 - Loss: 0.001\n",
      "Iter 125/200 - Loss: 0.001\n",
      "Iter 126/200 - Loss: 0.001\n",
      "Iter 127/200 - Loss: 0.001\n",
      "Iter 128/200 - Loss: 0.001\n",
      "Iter 129/200 - Loss: 0.001\n",
      "Iter 130/200 - Loss: 0.001\n",
      "Iter 131/200 - Loss: 0.001\n",
      "Iter 132/200 - Loss: 0.001\n",
      "Iter 133/200 - Loss: 0.001\n",
      "Iter 134/200 - Loss: 0.001\n",
      "Iter 135/200 - Loss: 0.001\n",
      "Iter 136/200 - Loss: 0.001\n",
      "Iter 137/200 - Loss: 0.001\n",
      "Iter 138/200 - Loss: 0.001\n",
      "Iter 139/200 - Loss: 0.001\n",
      "Iter 140/200 - Loss: 0.001\n",
      "Iter 141/200 - Loss: 0.001\n",
      "Iter 142/200 - Loss: 0.001\n",
      "Iter 143/200 - Loss: 0.001\n",
      "Iter 144/200 - Loss: 0.001\n",
      "Iter 145/200 - Loss: 0.001\n",
      "Iter 146/200 - Loss: 0.001\n",
      "Iter 147/200 - Loss: 0.001\n",
      "Iter 148/200 - Loss: 0.001\n",
      "Iter 149/200 - Loss: 0.001\n",
      "Iter 150/200 - Loss: 0.001\n",
      "Iter 151/200 - Loss: 0.001\n",
      "Iter 152/200 - Loss: 0.001\n",
      "Iter 153/200 - Loss: 0.001\n",
      "Iter 154/200 - Loss: 0.001\n",
      "Iter 155/200 - Loss: 0.001\n",
      "Iter 156/200 - Loss: 0.001\n",
      "Iter 157/200 - Loss: 0.001\n",
      "Iter 158/200 - Loss: 0.001\n",
      "Iter 159/200 - Loss: 0.001\n",
      "Iter 160/200 - Loss: 0.001\n",
      "Iter 161/200 - Loss: 0.001\n",
      "Iter 162/200 - Loss: 0.001\n",
      "Iter 163/200 - Loss: 0.001\n",
      "Iter 164/200 - Loss: 0.001\n",
      "Iter 165/200 - Loss: 0.001\n",
      "Iter 166/200 - Loss: 0.001\n",
      "Iter 167/200 - Loss: 0.001\n",
      "Iter 168/200 - Loss: 0.001\n",
      "Iter 169/200 - Loss: 0.001\n",
      "Iter 170/200 - Loss: 0.001\n",
      "Iter 171/200 - Loss: 0.001\n",
      "Iter 172/200 - Loss: 0.001\n",
      "Iter 173/200 - Loss: 0.001\n",
      "Iter 174/200 - Loss: 0.001\n",
      "Iter 175/200 - Loss: 0.001\n",
      "Iter 176/200 - Loss: 0.001\n",
      "Iter 177/200 - Loss: 0.001\n",
      "Iter 178/200 - Loss: 0.001\n",
      "Iter 179/200 - Loss: 0.001\n",
      "Iter 180/200 - Loss: 0.001\n",
      "Iter 181/200 - Loss: 0.001\n",
      "Iter 182/200 - Loss: 0.001\n",
      "Iter 183/200 - Loss: 0.001\n",
      "Iter 184/200 - Loss: 0.001\n",
      "Iter 185/200 - Loss: 0.001\n",
      "Iter 186/200 - Loss: 0.001\n",
      "Iter 187/200 - Loss: 0.001\n",
      "Iter 188/200 - Loss: 0.001\n",
      "Iter 189/200 - Loss: 0.001\n",
      "Iter 190/200 - Loss: 0.001\n",
      "Iter 191/200 - Loss: 0.001\n",
      "Iter 192/200 - Loss: 0.001\n",
      "Iter 193/200 - Loss: 0.001\n",
      "Iter 194/200 - Loss: 0.001\n",
      "Iter 195/200 - Loss: 0.001\n",
      "Iter 196/200 - Loss: 0.001\n",
      "Iter 197/200 - Loss: 0.001\n",
      "Iter 198/200 - Loss: 0.001\n",
      "Iter 199/200 - Loss: 0.001\n",
      "Iter 200/200 - Loss: 0.001\n",
      "Accuracy: 0.8964\n"
     ]
    }
   ],
   "source": [
    "# Find optimal model hyperparameters\n",
    "oneshot_model.train()\n",
    "\n",
    "optimizer = torch.optim.Adam(oneshot_model.final_layer.parameters(), lr=0.1)\n",
    "optimizer.n_iter = 0\n",
    "for i in range(200):\n",
    "    for j, (x, y) in enumerate(shots_loader):\n",
    "        optimizer.zero_grad()\n",
    "        x = Variable(x).cuda()\n",
    "        y = Variable(y).cuda()\n",
    "        output = oneshot_model(x)\n",
    "        loss = criterion(output, y)\n",
    "        loss.backward()\n",
    "        optimizer.n_iter += 1\n",
    "        print('Iter %d/200 - Loss: %.3f' % (\n",
    "            i + 1, loss.data[0],\n",
    "        ))\n",
    "        optimizer.step()\n",
    "\n",
    "oneshot_model.eval()\n",
    "test_shots_omni = torchvision.datasets.ImageFolder('/scratch/bw462/omni_data/' + test_dir_str, transform=transforms.Compose([\n",
    "                        transforms.Scale((28,28)),\n",
    "                        transforms.ToTensor()\n",
    "                   ]))    \n",
    "test_shots_loader = torch.utils.data.DataLoader(test_shots_omni, batch_size=512., pin_memory=True, shuffle=True)\n",
    "oneshot_model.eval()\n",
    "avg = 0.\n",
    "i = 0.\n",
    "for test_batch_x, test_batch_y in test_shots_loader:\n",
    "    predictions = oneshot_model(Variable(test_batch_x).cuda()).max(-1)[1]\n",
    "    test_batch_y = Variable(test_batch_y).cuda()\n",
    "    avg += torch.eq(predictions, test_batch_y).float().mean().data[0]\n",
    "    i += 1.\n",
    "print('Accuracy: %.4f' % (avg / i))"
   ]
  },
  {
   "cell_type": "code",
   "execution_count": null,
   "metadata": {
    "collapsed": true
   },
   "outputs": [],
   "source": [
    "#5 way 5 shot: 95.71\n",
    "# 5 way 1 shot: 58.57\n",
    "# 20 way 5 shot: 89.64%\n",
    "# 20 way 1 shot: 41.07"
   ]
  }
 ],
 "metadata": {
  "anaconda-cloud": {},
  "kernelspec": {
   "display_name": "Python 2",
   "language": "python",
   "name": "python2"
  },
  "language_info": {
   "codemirror_mode": {
    "name": "ipython",
    "version": 2
   },
   "file_extension": ".py",
   "mimetype": "text/x-python",
   "name": "python",
   "nbconvert_exporter": "python",
   "pygments_lexer": "ipython2",
   "version": "2.7.14"
  }
 },
 "nbformat": 4,
 "nbformat_minor": 1
}
