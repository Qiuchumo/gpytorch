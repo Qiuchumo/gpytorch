{
 "cells": [
  {
   "cell_type": "code",
   "execution_count": 1,
   "metadata": {
    "collapsed": true
   },
   "outputs": [],
   "source": [
    "import gpytorch\n",
    "import torch\n",
    "import torchvision\n",
    "from torch import nn\n",
    "from torch.autograd import Variable\n",
    "from torchvision import transforms\n",
    "from gpytorch.kernels import RBFKernel, GridInterpolationKernel\n",
    "\n",
    "\n",
    "gpytorch.functions.use_toeplitz = False"
   ]
  },
  {
   "cell_type": "code",
   "execution_count": 2,
   "metadata": {
    "scrolled": true
   },
   "outputs": [
    {
     "data": {
      "text/plain": [
       "\"\\ntest_mnist = torchvision.datasets.ImageFolder('/tmp', split='test',\\n                                        download=True, transform=transforms.Compose([\\n                       transforms.ToTensor()\\n                   ]))\\n\""
      ]
     },
     "execution_count": 2,
     "metadata": {},
     "output_type": "execute_result"
    }
   ],
   "source": [
    "train_omniglot = torchvision.datasets.ImageFolder('/scratch/bw462/', transform=transforms.Compose([\n",
    "                        transforms.Scale((28,28)),\n",
    "                        transforms.ToTensor()\n",
    "                   ]))                                              \n",
    "\"\"\"\n",
    "test_mnist = torchvision.datasets.ImageFolder('/tmp', split='test',\n",
    "                                        download=True, transform=transforms.Compose([\n",
    "                       transforms.ToTensor()\n",
    "                   ]))\n",
    "\"\"\""
   ]
  },
  {
   "cell_type": "code",
   "execution_count": 3,
   "metadata": {
    "collapsed": true
   },
   "outputs": [],
   "source": [
    "class FeatureExtractor(nn.Sequential):\n",
    "    \n",
    "    def __init__(self):\n",
    "        super(FeatureExtractor, self).__init__(nn.Conv2d(1, 32, kernel_size=5, padding=2),\n",
    "                                 nn.BatchNorm2d(32),\n",
    "                                 nn.ReLU(),\n",
    "                                 nn.MaxPool2d(2, 2),\n",
    "                                 nn.Conv2d(32, 64, kernel_size=5, padding=2),\n",
    "                                 nn.BatchNorm2d(64),\n",
    "                                 nn.ReLU(),\n",
    "                                 nn.MaxPool2d(2, 2))\n",
    "        \n",
    "class Bottleneck(nn.Sequential):\n",
    "    \n",
    "    def __init__(self):\n",
    "        super(Bottleneck, self).__init__(nn.Linear(64*7*7, 128),\n",
    "                                         nn.BatchNorm1d(128),\n",
    "                                 nn.ReLU(),\n",
    "                                 nn.Linear(128, 128),\n",
    "                                 nn.BatchNorm1d(128),\n",
    "                                 nn.ReLU(),\n",
    "                                 nn.Linear(128,64),\n",
    "                                 nn.BatchNorm1d(64))\n",
    "\n",
    "class LeBottleNet(nn.Module):\n",
    "    \n",
    "    def __init__(self):\n",
    "        super(LeBottleNet, self).__init__()\n",
    "        self.feature_extractor = FeatureExtractor()\n",
    "        self.bottleneck = Bottleneck()\n",
    "    \n",
    "    def forward(self, x):\n",
    "        input_x = x[:,0,:,:].unsqueeze(1)\n",
    "        features = self.feature_extractor(input_x)\n",
    "        bottlenecked_features = self.bottleneck(features.view(-1, 64 * 7 * 7))\n",
    "        return bottlenecked_features\n",
    "\n",
    "class SimilarityCompare(gpytorch.Module):\n",
    "    def __init__(self):\n",
    "        super(SimilarityCompare, self).__init__()\n",
    "        self.network = LeBottleNet()\n",
    "        self.gp_layer = GPLayer()\n",
    "    \n",
    "    def forward(self, x1, x2):\n",
    "        feature1 = self.network(x1)\n",
    "        feature2 = self.network(x2)\n",
    "        features_combined = torch.cat([feature1, feature2], dim=1)\n",
    "        gp_output = self.gp_layer(features_combined)\n",
    "        return gp_output\n",
    "\n",
    "class LatentFunction(gpytorch.AdditiveGridInducingPointModule):\n",
    "    def __init__(self):\n",
    "        super(LatentFunction, self).__init__(grid_size=256, grid_bounds=[(-10, 10)],\n",
    "                                             n_components=128, mixing_params=True)\n",
    "        cov_module = RBFKernel()\n",
    "        cov_module.initialize(log_lengthscale=2)\n",
    "        self.cov_module = cov_module\n",
    "        \n",
    "    def forward(self, x):\n",
    "        mean = Variable(x.data.new(len(x)).zero_())\n",
    "        covar = self.cov_module(x)\n",
    "        return gpytorch.random_variables.GaussianRandomVariable(mean, covar)\n",
    "\n",
    "    \n",
    "class GPLayer(gpytorch.GPModel):\n",
    "    def __init__(self, n_dims=128):\n",
    "        super(GPLayer, self).__init__(gpytorch.likelihoods.BernoulliLikelihood())\n",
    "        self.latent_function = LatentFunction()\n",
    "    \n",
    "    def forward(self, x):\n",
    "        res = self.latent_function(x)\n",
    "        return res"
   ]
  },
  {
   "cell_type": "code",
   "execution_count": 4,
   "metadata": {
    "collapsed": true
   },
   "outputs": [],
   "source": [
    "bs=256\n",
    "train_data_loader = torch.utils.data.DataLoader(train_omniglot, shuffle=True, pin_memory=True, batch_size=bs,\n",
    "                                               drop_last=True)"
   ]
  },
  {
   "cell_type": "code",
   "execution_count": 5,
   "metadata": {
    "collapsed": true
   },
   "outputs": [],
   "source": [
    "criterion = nn.L1Loss().cuda()"
   ]
  },
  {
   "cell_type": "code",
   "execution_count": null,
   "metadata": {
    "collapsed": true
   },
   "outputs": [],
   "source": [
    "similarity_model = SimilarityCompare().cuda()"
   ]
  },
  {
   "cell_type": "code",
   "execution_count": null,
   "metadata": {
    "scrolled": true
   },
   "outputs": [
    {
     "name": "stdout",
     "output_type": "stream",
     "text": [
      "Iter 1/1 - Loss: 106.028\n",
      "Iter 1/1 - Loss: 54.375\n",
      "Iter 1/1 - Loss: 30.812\n"
     ]
    }
   ],
   "source": [
    "\"\"\"\n",
    "Now need to get training going, thinking setup is good. Here we need to pair up the samples from the batch\n",
    "and then feed through with classifier of whether they're the same or not. Feel like might want to edit in some\n",
    "way to up frequency of same class to prevent dominant strategy of always -1 (for diff class)\n",
    "\"\"\"\n",
    "similarity_model.train()\n",
    "optimizer = torch.optim.Adam(similarity_model.parameters(), lr=0.1)\n",
    "optimizer.n_iter = 0\n",
    "num_epochs = 1\n",
    "for i in range(num_epochs):\n",
    "    for train_x_batch, train_y_batch in train_data_loader:\n",
    "        optimizer.zero_grad()\n",
    "        first_chunk_x, second_chunk_x = torch.chunk(train_x_batch, 2)\n",
    "        first_chunk_y, second_chunk_y = torch.chunk(train_y_batch, 2)\n",
    "        output = similarity_model(Variable(first_chunk_x).cuda(), \n",
    "                                  Variable(second_chunk_x).cuda())\n",
    "        train_targets = Variable(torch.eq(first_chunk_y, second_chunk_y).float() * 2 - 1).cuda()\n",
    "        loss = -similarity_model.gp_layer.marginal_log_likelihood(output, train_targets.float(),\n",
    "                                                                  n_data=len(train_omniglot)/2)\n",
    "        loss.backward()\n",
    "        optimizer.step()\n",
    "        optimizer.n_iter += 1\n",
    "        # Do each with itself to get matching\n",
    "        optimizer.zero_grad()\n",
    "        var_train_x_batch = Variable(train_x_batch).cuda()\n",
    "        output = similarity_model(var_train_x_batch, var_train_x_batch)\n",
    "        train_targets = Variable(torch.ones(bs).float()).cuda()\n",
    "        loss = -similarity_model.gp_layer.marginal_log_likelihood(output, train_targets,\n",
    "                                                                  n_data=len(train_omniglot))\n",
    "        loss.backward()\n",
    "        optimizer.step()\n",
    "        optimizer.n_iter += 1\n",
    "        print('Iter %d/%d - Loss: %.3f' % (\n",
    "            i + 1, num_epochs, loss.data[0],\n",
    "        ))"
   ]
  },
  {
   "cell_type": "code",
   "execution_count": null,
   "metadata": {
    "collapsed": true
   },
   "outputs": [],
   "source": [
    "similarity_model.eval()\n",
    "test_data_loader = train_data_loader#torch.utils.data.DataLoader(test_mnist, shuffle=False, pin_memory=True, batch_size=256)\n",
    "\n",
    "for test_batch_x, test_batch_y in test_data_loader:\n",
    "    predictions = deep_kernel(Variable(test_batch_x).cuda()).representation().max(-1)[1]\n",
    "    test_batch_y = Variable(test_batch_y).cuda()\n",
    "    avg += torch.eq(predictions, test_batch_y).float().mean().data[0]\n",
    "    i += 1.\n",
    "print('Accuracy: %.4f' % (avg / i))\n"
   ]
  },
  {
   "cell_type": "code",
   "execution_count": null,
   "metadata": {
    "collapsed": true
   },
   "outputs": [],
   "source": []
  },
  {
   "cell_type": "code",
   "execution_count": null,
   "metadata": {
    "collapsed": true
   },
   "outputs": [],
   "source": []
  }
 ],
 "metadata": {
  "anaconda-cloud": {},
  "kernelspec": {
   "display_name": "Python 2",
   "language": "python",
   "name": "python2"
  },
  "language_info": {
   "codemirror_mode": {
    "name": "ipython",
    "version": 2
   },
   "file_extension": ".py",
   "mimetype": "text/x-python",
   "name": "python",
   "nbconvert_exporter": "python",
   "pygments_lexer": "ipython2",
   "version": "2.7.14"
  }
 },
 "nbformat": 4,
 "nbformat_minor": 1
}
