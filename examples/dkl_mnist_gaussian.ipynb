{
 "cells": [
  {
   "cell_type": "code",
   "execution_count": 1,
   "metadata": {
    "collapsed": false
   },
   "outputs": [],
   "source": [
    "import gpytorch\n",
    "import torch\n",
    "import torchvision\n",
    "from torch import nn\n",
    "from torch.autograd import Variable\n",
    "from torchvision import transforms\n",
    "\n",
    "gpytorch.functions.use_toeplitz = False"
   ]
  },
  {
   "cell_type": "code",
   "execution_count": 2,
   "metadata": {
    "collapsed": false
   },
   "outputs": [],
   "source": [
    "class FeatureExtractor(nn.Sequential):\n",
    "    \n",
    "    def __init__(self):\n",
    "        super(FeatureExtractor, self).__init__(nn.Conv2d(1, 32, kernel_size=5, padding=2),\n",
    "                                 nn.BatchNorm2d(32),\n",
    "                                 nn.ReLU(),\n",
    "                                 nn.MaxPool2d(2, 2),\n",
    "                                 nn.Conv2d(32, 64, kernel_size=5, padding=2),\n",
    "                                 nn.BatchNorm2d(64),\n",
    "                                 nn.ReLU(),\n",
    "                                 nn.MaxPool2d(2, 2))\n",
    "        \n",
    "class Bottleneck(nn.Sequential):\n",
    "    \n",
    "    def __init__(self):\n",
    "        super(Bottleneck, self).__init__(nn.Linear(64*7*7, 128),\n",
    "                                         nn.BatchNorm1d(128),\n",
    "                                 nn.ReLU(),\n",
    "                                 nn.Linear(128, 128),\n",
    "                                 nn.BatchNorm1d(128),\n",
    "                                 nn.ReLU(),\n",
    "                                 nn.Linear(128,64),\n",
    "                                 nn.BatchNorm1d(64))\n",
    "\n",
    "class LeNet(nn.Module):\n",
    "    \n",
    "    def __init__(self):\n",
    "        super(LeNet, self).__init__()\n",
    "        self.feature_extractor = FeatureExtractor()\n",
    "        self.bottleneck = Bottleneck()\n",
    "        self.final_layer = nn.Sequential(\n",
    "                                 nn.ReLU(),\n",
    "                                 nn.Linear(64,10))\n",
    "    \n",
    "    def forward(self, x):\n",
    "        features = self.feature_extractor(x)\n",
    "        bottlenecked_features = self.bottleneck(features.view(-1, 64 * 7 * 7))\n",
    "        classification = self.final_layer(bottlenecked_features)\n",
    "        return classification\n",
    "        "
   ]
  },
  {
   "cell_type": "code",
   "execution_count": 3,
   "metadata": {
    "collapsed": false
   },
   "outputs": [],
   "source": [
    "train_mnist = torchvision.datasets.MNIST('/mnt/bigboi/datasets/mnist/', train=True,\n",
    "                                         download=True, transform=transforms.Compose([\n",
    "                       transforms.ToTensor(),\n",
    "                       transforms.Normalize((0.1307,), (0.3081,))\n",
    "                   ]))                                              \n",
    "test_mnist = torchvision.datasets.MNIST('/mnt/bigboi/datasets/mnist/', train=False,\n",
    "                                        download=True, transform=transforms.Compose([\n",
    "                       transforms.ToTensor(),\n",
    "                       transforms.Normalize((0.1307,), (0.3081,))\n",
    "                   ]))"
   ]
  },
  {
   "cell_type": "code",
   "execution_count": 4,
   "metadata": {
    "collapsed": false
   },
   "outputs": [],
   "source": [
    "train_data_loader = torch.utils.data.DataLoader(train_mnist, shuffle=True, pin_memory=True, batch_size=256)"
   ]
  },
  {
   "cell_type": "code",
   "execution_count": 5,
   "metadata": {
    "collapsed": true
   },
   "outputs": [],
   "source": [
    "criterion = nn.CrossEntropyLoss().cuda()"
   ]
  },
  {
   "cell_type": "code",
   "execution_count": 6,
   "metadata": {
    "collapsed": true
   },
   "outputs": [],
   "source": [
    "model = LeNet().cuda()\n",
    "optimizer = torch.optim.SGD(model.parameters(), lr=0.1)"
   ]
  },
  {
   "cell_type": "code",
   "execution_count": 7,
   "metadata": {
    "collapsed": false
   },
   "outputs": [
    {
     "name": "stdout",
     "output_type": "stream",
     "text": [
      "Accuracy: 0.9928\n"
     ]
    }
   ],
   "source": [
    "num_epochs = 0\n",
    "if num_epochs > 0:\n",
    "    for i in range(num_epochs):\n",
    "        for x, y in train_data_loader:\n",
    "            optimizer.zero_grad()\n",
    "            x = Variable(x.cuda())\n",
    "            y = Variable(y.cuda())\n",
    "            output = model(x)\n",
    "            loss = criterion(output, y)\n",
    "            loss.backward()\n",
    "            optimizer.step()\n",
    "        print(\"Loss: %.3f\" % loss.data[0])\n",
    "    torch.save(model.state_dict(), '/mnt/data/dkl/mnist/lenet.dat')\n",
    "else:\n",
    "    model.load_state_dict(torch.load('/mnt/data/dkl/mnist/lenet.dat'))\n",
    "    \n",
    "model.eval()\n",
    "test_data_loader = torch.utils.data.DataLoader(test_mnist, shuffle=False, pin_memory=True, batch_size=256)\n",
    "avg = 0.\n",
    "i = 0.\n",
    "for test_batch_x, test_batch_y in test_data_loader:\n",
    "    predictions = model(Variable(test_batch_x).cuda()).max(-1)[1]\n",
    "    test_batch_y = Variable(test_batch_y).cuda()\n",
    "    avg += torch.eq(predictions, test_batch_y).float().mean().data[0]\n",
    "    i += 1.\n",
    "print('Accuracy: %.4f' % (avg / i))"
   ]
  },
  {
   "cell_type": "code",
   "execution_count": 8,
   "metadata": {
    "collapsed": false
   },
   "outputs": [],
   "source": [
    "list(model.bottleneck.modules())[-1].weight.data.fill_(1)\n",
    "None"
   ]
  },
  {
   "cell_type": "code",
   "execution_count": 9,
   "metadata": {
    "collapsed": true
   },
   "outputs": [],
   "source": [
    "from gpytorch.kernels import RBFKernel, GridInterpolationKernel\n",
    "\n",
    "class DeepKernel(gpytorch.Module):\n",
    "    def __init__(self, model):\n",
    "        super(DeepKernel, self).__init__()\n",
    "        self.feature_extractor = model.feature_extractor\n",
    "        self.bottleneck = model.bottleneck\n",
    "        self.gp_layer = GPLayer()\n",
    "        \n",
    "    def forward(self, x):\n",
    "        features = self.feature_extractor(x)\n",
    "        bottlenecked_features = self.bottleneck(features.view(-1, 64 * 7 * 7))\n",
    "        gp_output = self.gp_layer(bottlenecked_features)\n",
    "        return gp_output\n",
    "    \n",
    "    \n",
    "class LatentFunction(gpytorch.AdditiveGridInducingPointModule):\n",
    "    def __init__(self):\n",
    "        super(LatentFunction, self).__init__(grid_size=256, grid_bounds=[(-7, 7)],\n",
    "                                             n_components=64, mixing_params=False, sum_output=False)\n",
    "        cov_module = RBFKernel()\n",
    "        cov_module.initialize(log_lengthscale=2)\n",
    "        self.cov_module = cov_module\n",
    "        \n",
    "    def forward(self, x):\n",
    "        mean = Variable(x.data.new(len(x)).zero_())\n",
    "        covar = self.cov_module(x)\n",
    "        return gpytorch.random_variables.GaussianRandomVariable(mean, covar)\n",
    "\n",
    "    \n",
    "class GPLayer(gpytorch.GPModel):\n",
    "    def __init__(self, n_dims=64):\n",
    "        super(GPLayer, self).__init__(gpytorch.likelihoods.SoftmaxGaussianLikelihood(n_features=64, n_classes=10, rank=5))\n",
    "        self.latent_function = LatentFunction()\n",
    "    \n",
    "    def forward(self, x):\n",
    "        res = self.latent_function(x)\n",
    "        return res\n",
    "    "
   ]
  },
  {
   "cell_type": "code",
   "execution_count": 10,
   "metadata": {
    "collapsed": false
   },
   "outputs": [
    {
     "data": {
      "text/plain": [
       "60000"
      ]
     },
     "execution_count": 10,
     "metadata": {},
     "output_type": "execute_result"
    }
   ],
   "source": [
    "len(train_mnist)"
   ]
  },
  {
   "cell_type": "code",
   "execution_count": 11,
   "metadata": {
    "collapsed": false
   },
   "outputs": [],
   "source": [
    "deep_kernel = DeepKernel(model).cuda()\n",
    "gp_data_loader = torch.utils.data.DataLoader(train_mnist, batch_size=2048., pin_memory=True, shuffle=True)"
   ]
  },
  {
   "cell_type": "code",
   "execution_count": 14,
   "metadata": {
    "collapsed": false,
    "scrolled": false
   },
   "outputs": [
    {
     "name": "stdout",
     "output_type": "stream",
     "text": [
      "Iter 1/200 - Loss: -0.193\n",
      "Iter 1/200 - Loss: -0.197\n",
      "Iter 1/200 - Loss: -0.220\n",
      "Iter 1/200 - Loss: 0.112\n",
      "Iter 1/200 - Loss: -0.307\n",
      "Iter 1/200 - Loss: -0.283\n",
      "Iter 1/200 - Loss: -0.297\n",
      "Iter 1/200 - Loss: -0.271\n",
      "Iter 1/200 - Loss: -0.278\n",
      "Iter 1/200 - Loss: -0.265\n",
      "Iter 1/200 - Loss: -0.272\n",
      "Iter 1/200 - Loss: -0.266\n",
      "Iter 1/200 - Loss: -0.178\n",
      "Iter 1/200 - Loss: -0.278\n",
      "Iter 1/200 - Loss: -0.319\n",
      "Iter 1/200 - Loss: -0.289\n",
      "Iter 1/200 - Loss: -0.276\n",
      "Iter 1/200 - Loss: -0.246\n",
      "Iter 1/200 - Loss: -0.206\n",
      "Iter 1/200 - Loss: -0.220\n",
      "Iter 1/200 - Loss: -0.227\n",
      "Iter 1/200 - Loss: -0.275\n",
      "Iter 1/200 - Loss: -0.295\n",
      "Iter 1/200 - Loss: -0.252\n",
      "Iter 1/200 - Loss: -0.226\n",
      "Iter 1/200 - Loss: -0.135\n",
      "Iter 1/200 - Loss: -0.226\n",
      "Iter 1/200 - Loss: -0.231\n",
      "Iter 1/200 - Loss: -0.246\n",
      "Iter 1/200 - Loss: -0.221\n",
      "Score\n",
      "0.99013671875\n",
      "Iter 2/200 - Loss: -0.217\n",
      "Iter 2/200 - Loss: -0.175\n",
      "Iter 2/200 - Loss: -0.171\n",
      "Iter 2/200 - Loss: -0.204\n",
      "Iter 2/200 - Loss: -0.219\n",
      "Iter 2/200 - Loss: -0.186\n",
      "Iter 2/200 - Loss: -0.198\n",
      "Iter 2/200 - Loss: -0.222\n",
      "Iter 2/200 - Loss: -0.186\n",
      "Iter 2/200 - Loss: -0.192\n",
      "Iter 2/200 - Loss: -0.211\n",
      "Iter 2/200 - Loss: -0.236\n",
      "Iter 2/200 - Loss: -0.194\n",
      "Iter 2/200 - Loss: -0.215\n",
      "Iter 2/200 - Loss: -0.201\n",
      "Iter 2/200 - Loss: -0.214\n",
      "Iter 2/200 - Loss: -0.221\n",
      "Iter 2/200 - Loss: -0.127\n",
      "Iter 2/200 - Loss: -0.181\n",
      "Iter 2/200 - Loss: -0.185\n",
      "Iter 2/200 - Loss: -0.210\n",
      "Iter 2/200 - Loss: -0.203\n",
      "Iter 2/200 - Loss: -0.208\n",
      "Iter 2/200 - Loss: -0.178\n",
      "Iter 2/200 - Loss: -0.169\n",
      "Iter 2/200 - Loss: -0.205\n",
      "Iter 2/200 - Loss: -0.217\n",
      "Iter 2/200 - Loss: -0.208\n",
      "Iter 2/200 - Loss: -0.202\n",
      "Iter 2/200 - Loss: -0.179\n",
      "Score\n",
      "0.99033203125\n",
      "Iter 3/200 - Loss: -0.178\n",
      "Iter 3/200 - Loss: -0.147\n",
      "Iter 3/200 - Loss: -0.199\n",
      "Iter 3/200 - Loss: -0.191\n",
      "Iter 3/200 - Loss: -0.211\n",
      "Iter 3/200 - Loss: -0.196\n",
      "Iter 3/200 - Loss: -0.150\n",
      "Iter 3/200 - Loss: -0.146\n",
      "Iter 3/200 - Loss: -0.182\n",
      "Iter 3/200 - Loss: -0.195\n",
      "Iter 3/200 - Loss: -0.181\n",
      "Iter 3/200 - Loss: -0.165\n",
      "Iter 3/200 - Loss: -0.156\n",
      "Iter 3/200 - Loss: -0.147\n",
      "Iter 3/200 - Loss: -0.149\n",
      "Iter 3/200 - Loss: -0.179\n",
      "Iter 3/200 - Loss: -0.198\n",
      "Iter 3/200 - Loss: -0.160\n",
      "Iter 3/200 - Loss: -0.167\n",
      "Iter 3/200 - Loss: -0.175\n",
      "Iter 3/200 - Loss: -0.178\n",
      "Iter 3/200 - Loss: -0.136\n",
      "Iter 3/200 - Loss: -0.160\n",
      "Iter 3/200 - Loss: -0.186\n",
      "Iter 3/200 - Loss: -0.177\n",
      "Iter 3/200 - Loss: -0.178\n",
      "Iter 3/200 - Loss: -0.159\n",
      "Iter 3/200 - Loss: -0.152\n",
      "Iter 3/200 - Loss: -0.177\n",
      "Iter 3/200 - Loss: -0.126\n",
      "Score\n",
      "0.9904296875\n",
      "Iter 4/200 - Loss: -0.164\n",
      "Iter 4/200 - Loss: -0.162\n",
      "Iter 4/200 - Loss: -0.154\n",
      "Iter 4/200 - Loss: -0.166\n",
      "Iter 4/200 - Loss: -0.162\n",
      "Iter 4/200 - Loss: -0.160\n",
      "Iter 4/200 - Loss: -0.119\n",
      "Iter 4/200 - Loss: -0.158\n",
      "Iter 4/200 - Loss: -0.156\n",
      "Iter 4/200 - Loss: -0.156\n",
      "Iter 4/200 - Loss: -0.154\n",
      "Iter 4/200 - Loss: -0.164\n",
      "Iter 4/200 - Loss: -0.152\n",
      "Iter 4/200 - Loss: -0.174\n",
      "Iter 4/200 - Loss: -0.165\n",
      "Iter 4/200 - Loss: -0.167\n",
      "Iter 4/200 - Loss: -0.155\n",
      "Iter 4/200 - Loss: -0.148\n",
      "Iter 4/200 - Loss: -0.179\n",
      "Iter 4/200 - Loss: -0.156\n",
      "Iter 4/200 - Loss: -0.180\n",
      "Iter 4/200 - Loss: -0.146\n",
      "Iter 4/200 - Loss: -0.149\n",
      "Iter 4/200 - Loss: -0.128\n",
      "Iter 4/200 - Loss: -0.136\n",
      "Iter 4/200 - Loss: -0.146\n",
      "Iter 4/200 - Loss: -0.150\n",
      "Iter 4/200 - Loss: -0.136\n",
      "Iter 4/200 - Loss: -0.117\n",
      "Iter 4/200 - Loss: -0.143\n",
      "Score\n",
      "0.990234375\n",
      "Iter 5/200 - Loss: -0.136\n",
      "Iter 5/200 - Loss: -0.097\n",
      "Iter 5/200 - Loss: -0.161\n",
      "Iter 5/200 - Loss: -0.162\n",
      "Iter 5/200 - Loss: -0.157\n",
      "Iter 5/200 - Loss: -0.143\n"
     ]
    },
    {
     "ename": "KeyboardInterrupt",
     "evalue": "",
     "output_type": "error",
     "traceback": [
      "\u001b[0;31m---------------------------------------------------------------------------\u001b[0m",
      "\u001b[0;31mKeyboardInterrupt\u001b[0m                         Traceback (most recent call last)",
      "\u001b[0;32m<ipython-input-14-0471e486c87b>\u001b[0m in \u001b[0;36m<module>\u001b[0;34m()\u001b[0m\n\u001b[1;32m     15\u001b[0m         \u001b[0moptimizer\u001b[0m\u001b[0;34m.\u001b[0m\u001b[0mn_iter\u001b[0m \u001b[0;34m+=\u001b[0m \u001b[0;36m1\u001b[0m\u001b[0;34m\u001b[0m\u001b[0m\n\u001b[1;32m     16\u001b[0m         print('Iter %d/200 - Loss: %.3f' % (\n\u001b[0;32m---> 17\u001b[0;31m             \u001b[0mi\u001b[0m \u001b[0;34m+\u001b[0m \u001b[0;36m1\u001b[0m\u001b[0;34m,\u001b[0m \u001b[0mloss\u001b[0m\u001b[0;34m.\u001b[0m\u001b[0mdata\u001b[0m\u001b[0;34m[\u001b[0m\u001b[0;36m0\u001b[0m\u001b[0;34m]\u001b[0m\u001b[0;34m,\u001b[0m\u001b[0;34m\u001b[0m\u001b[0m\n\u001b[0m\u001b[1;32m     18\u001b[0m         ))\n\u001b[1;32m     19\u001b[0m         \u001b[0moptimizer\u001b[0m\u001b[0;34m.\u001b[0m\u001b[0mstep\u001b[0m\u001b[0;34m(\u001b[0m\u001b[0;34m)\u001b[0m\u001b[0;34m\u001b[0m\u001b[0m\n",
      "\u001b[0;31mKeyboardInterrupt\u001b[0m: "
     ]
    }
   ],
   "source": [
    "# Find optimal model hyperparameters\n",
    "deep_kernel.train()\n",
    "optimizer = torch.optim.Adam(deep_kernel.gp_layer.parameters(), lr=0.01)\n",
    "optimizer.n_iter = 0\n",
    "for i in range(10):\n",
    "    for j, (train_x_batch, train_y_batch) in enumerate(gp_data_loader):\n",
    "        train_x_batch = Variable(train_x_batch).cuda()\n",
    "        train_y_batch = Variable(train_y_batch).cuda()\n",
    "        optimizer.zero_grad()\n",
    "        output = deep_kernel(train_x_batch)\n",
    "        loss = -deep_kernel.gp_layer.marginal_log_likelihood(output, train_y_batch, n_data=len(train_mnist))\n",
    "        kl = deep_kernel.gp_layer.likelihood.kl_div() / len(train_mnist)\n",
    "        loss = loss + kl\n",
    "        loss.backward()\n",
    "        optimizer.n_iter += 1\n",
    "        print('Iter %d/200 - Loss: %.3f' % (\n",
    "            i + 1, loss.data[0],\n",
    "        ))\n",
    "        optimizer.step()\n",
    "        \n",
    "    deep_kernel.eval()\n",
    "    test_data_loader = torch.utils.data.DataLoader(test_mnist, shuffle=False, pin_memory=True, batch_size=256)\n",
    "\n",
    "    avg = 0.\n",
    "    i = 0.\n",
    "    for test_batch_x, test_batch_y in test_data_loader:\n",
    "        predictions = deep_kernel(Variable(test_batch_x).cuda()).argmax()\n",
    "        test_batch_y = Variable(test_batch_y).cuda()\n",
    "        avg += torch.eq(predictions, test_batch_y).float().mean().data[0]\n",
    "        i += 1.\n",
    "\n",
    "    print('Score')\n",
    "    print(avg / i)\n",
    "    deep_kernel.train()\n"
   ]
  },
  {
   "cell_type": "code",
   "execution_count": 13,
   "metadata": {
    "collapsed": false
   },
   "outputs": [
    {
     "name": "stdout",
     "output_type": "stream",
     "text": [
      "Variable containing:\n",
      " 1.9288e-05  3.3848e-17  8.6510e-08  ...   9.9997e-01  1.8086e-08  5.9959e-06\n",
      " 6.9664e-07  1.9114e-05  9.7293e-01  ...   1.0703e-06  3.4917e-13  4.8554e-07\n",
      " 3.8917e-15  1.0000e+00  3.7779e-09  ...   1.2948e-16  3.3263e-07  1.4373e-09\n",
      "                ...                   ⋱                   ...                \n",
      " 3.6423e-11  3.7937e-08  1.5453e-07  ...   7.8897e-07  4.8839e-08  8.0079e-12\n",
      " 1.5432e-04  1.5667e-14  4.6644e-07  ...   9.9983e-01  7.7406e-07  1.2132e-05\n",
      " 6.3759e-05  5.4233e-13  1.6788e-07  ...   9.9982e-01  1.6971e-05  9.7698e-05\n",
      "[torch.cuda.FloatTensor of size 256x10 (GPU 0)]\n",
      "\n"
     ]
    },
    {
     "ename": "RuntimeError",
     "evalue": "Expected object of type Variable[torch.cuda.LongTensor] but found type Variable[torch.cuda.FloatTensor] for argument #1 'other'",
     "output_type": "error",
     "traceback": [
      "\u001b[0;31m---------------------------------------------------------------------------\u001b[0m",
      "\u001b[0;31mRuntimeError\u001b[0m                              Traceback (most recent call last)",
      "\u001b[0;32m<ipython-input-13-e7f756ce750d>\u001b[0m in \u001b[0;36m<module>\u001b[0;34m()\u001b[0m\n\u001b[1;32m      8\u001b[0m     \u001b[0mpredictions\u001b[0m \u001b[0;34m=\u001b[0m \u001b[0mdeep_kernel\u001b[0m\u001b[0;34m(\u001b[0m\u001b[0mVariable\u001b[0m\u001b[0;34m(\u001b[0m\u001b[0mtest_batch_x\u001b[0m\u001b[0;34m)\u001b[0m\u001b[0;34m.\u001b[0m\u001b[0mcuda\u001b[0m\u001b[0;34m(\u001b[0m\u001b[0;34m)\u001b[0m\u001b[0;34m)\u001b[0m\u001b[0;34m.\u001b[0m\u001b[0margmax\u001b[0m\u001b[0;34m(\u001b[0m\u001b[0;34m)\u001b[0m\u001b[0;34m\u001b[0m\u001b[0m\n\u001b[1;32m      9\u001b[0m     \u001b[0mtest_batch_y\u001b[0m \u001b[0;34m=\u001b[0m \u001b[0mVariable\u001b[0m\u001b[0;34m(\u001b[0m\u001b[0mtest_batch_y\u001b[0m\u001b[0;34m)\u001b[0m\u001b[0;34m.\u001b[0m\u001b[0mcuda\u001b[0m\u001b[0;34m(\u001b[0m\u001b[0;34m)\u001b[0m\u001b[0;34m.\u001b[0m\u001b[0mfloat\u001b[0m\u001b[0;34m(\u001b[0m\u001b[0;34m)\u001b[0m\u001b[0;34m\u001b[0m\u001b[0m\n\u001b[0;32m---> 10\u001b[0;31m     \u001b[0mavg\u001b[0m \u001b[0;34m+=\u001b[0m \u001b[0mtorch\u001b[0m\u001b[0;34m.\u001b[0m\u001b[0meq\u001b[0m\u001b[0;34m(\u001b[0m\u001b[0mpredictions\u001b[0m\u001b[0;34m,\u001b[0m \u001b[0mtest_batch_y\u001b[0m\u001b[0;34m)\u001b[0m\u001b[0;34m.\u001b[0m\u001b[0mfloat\u001b[0m\u001b[0;34m(\u001b[0m\u001b[0;34m)\u001b[0m\u001b[0;34m.\u001b[0m\u001b[0mmean\u001b[0m\u001b[0;34m(\u001b[0m\u001b[0;34m)\u001b[0m\u001b[0;34m.\u001b[0m\u001b[0mdata\u001b[0m\u001b[0;34m[\u001b[0m\u001b[0;36m0\u001b[0m\u001b[0;34m]\u001b[0m\u001b[0;34m\u001b[0m\u001b[0m\n\u001b[0m\u001b[1;32m     11\u001b[0m     \u001b[0mi\u001b[0m \u001b[0;34m+=\u001b[0m \u001b[0;36m1.\u001b[0m\u001b[0;34m\u001b[0m\u001b[0m\n\u001b[1;32m     12\u001b[0m \u001b[0;34m\u001b[0m\u001b[0m\n",
      "\u001b[0;31mRuntimeError\u001b[0m: Expected object of type Variable[torch.cuda.LongTensor] but found type Variable[torch.cuda.FloatTensor] for argument #1 'other'"
     ]
    }
   ],
   "source": [
    "deep_kernel.eval()\n",
    "test_data_loader = torch.utils.data.DataLoader(test_mnist, shuffle=False, pin_memory=True, batch_size=256)\n",
    "\n",
    "avg = 0.\n",
    "i = 0.\n",
    "for test_batch_x, test_batch_y in test_data_loader:\n",
    "    print(deep_kernel(Variable(test_batch_x).cuda()))\n",
    "    predictions = deep_kernel(Variable(test_batch_x).cuda()).argmax()\n",
    "    test_batch_y = Variable(test_batch_y).cuda().float()\n",
    "    avg += torch.eq(predictions, test_batch_y).float().mean().data[0]\n",
    "    i += 1.\n",
    "\n",
    "print(avg / i)\n"
   ]
  },
  {
   "cell_type": "code",
   "execution_count": null,
   "metadata": {
    "collapsed": true
   },
   "outputs": [],
   "source": []
  }
 ],
 "metadata": {
  "anaconda-cloud": {},
  "kernelspec": {
   "display_name": "Python [default]",
   "language": "python",
   "name": "python2"
  },
  "language_info": {
   "codemirror_mode": {
    "name": "ipython",
    "version": 2
   },
   "file_extension": ".py",
   "mimetype": "text/x-python",
   "name": "python",
   "nbconvert_exporter": "python",
   "pygments_lexer": "ipython2",
   "version": "2.7.12"
  }
 },
 "nbformat": 4,
 "nbformat_minor": 1
}
