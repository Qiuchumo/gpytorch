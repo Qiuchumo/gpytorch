{
 "cells": [
  {
   "cell_type": "code",
   "execution_count": 1,
   "metadata": {
    "collapsed": true
   },
   "outputs": [],
   "source": [
    "import math\n",
    "import torch\n",
    "import gpytorch\n",
    "from matplotlib import pyplot as plt\n",
    "\n",
    "%matplotlib inline\n",
    "%load_ext autoreload\n",
    "%autoreload 2"
   ]
  },
  {
   "cell_type": "code",
   "execution_count": 2,
   "metadata": {
    "collapsed": true
   },
   "outputs": [],
   "source": [
    "from torch.autograd import Variable\n",
    "train_x = Variable(torch.linspace(0, 0.75, 11))\n",
    "train_y = Variable(torch.sin(train_x.data * (2 * math.pi)) + torch.randn(train_x.size()) * 0.2)"
   ]
  },
  {
   "cell_type": "code",
   "execution_count": 3,
   "metadata": {
    "collapsed": true
   },
   "outputs": [],
   "source": [
    "from torch import optim\n",
    "from gpytorch.kernels import RBFKernel, SpectralMixtureKernel\n",
    "from gpytorch.means import ConstantMean\n",
    "from gpytorch.likelihoods import GaussianLikelihood\n",
    "from gpytorch.random_variables import GaussianRandomVariable"
   ]
  },
  {
   "cell_type": "code",
   "execution_count": 4,
   "metadata": {
    "collapsed": false
   },
   "outputs": [],
   "source": [
    "class SpectralMixtureGPModel(gpytorch.GPModel):\n",
    "    def __init__(self):\n",
    "        super(SpectralMixtureGPModel,self).__init__(GaussianLikelihood(log_noise_bounds=(-5, 5)))\n",
    "        self.mean_module = ConstantMean(constant_bounds=(-1, 1))\n",
    "        self.covar_module = SpectralMixtureKernel(n_mixtures=3)\n",
    "\n",
    "    def forward(self,x):\n",
    "        mean_x = self.mean_module(x)\n",
    "        covar_x = self.covar_module(x)\n",
    "        return GaussianRandomVariable(mean_x, covar_x)\n",
    "\n",
    "model = SpectralMixtureGPModel()"
   ]
  },
  {
   "cell_type": "code",
   "execution_count": 5,
   "metadata": {
    "collapsed": true
   },
   "outputs": [],
   "source": [
    "def plot_model_and_predictions(model, plot_train_data=True):\n",
    "    f, observed_ax = plt.subplots(1, 1, figsize=(4, 3))\n",
    "    test_x = Variable(torch.linspace(0, 5, 51))\n",
    "    observed_pred = model(test_x)\n",
    "\n",
    "    def ax_plot(ax, rand_var, title):\n",
    "        lower, upper = rand_var.confidence_region()\n",
    "        if plot_train_data:\n",
    "            ax.plot(train_x.data.numpy(), train_y.data.numpy(), 'k*')\n",
    "        ax.plot(test_x.data.numpy(), rand_var.mean().data.numpy(), 'b')\n",
    "        ax.fill_between(test_x.data.numpy(), lower.data.numpy(), upper.data.numpy(), alpha=0.5)\n",
    "        ax.set_ylim([-3, 3])\n",
    "        ax.legend(['Observed Data', 'Mean', 'Confidence'])\n",
    "        ax.set_title(title)\n",
    "    \n",
    "    ax_plot(observed_ax, observed_pred, 'Observed Values (Likelihood)')\n",
    "    \n",
    "    return f"
   ]
  },
  {
   "cell_type": "code",
   "execution_count": 6,
   "metadata": {
    "collapsed": false
   },
   "outputs": [
    {
     "data": {
      "image/png": "[encoded data removed]",
      "text/plain": [
       "<matplotlib.figure.Figure at 0x7efdaa6227d0>"
      ]
     },
     "metadata": {},
     "output_type": "display_data"
    }
   ],
   "source": [
    "fig = plot_model_and_predictions(model, plot_train_data=False)"
   ]
  },
  {
   "cell_type": "code",
   "execution_count": 7,
   "metadata": {
    "collapsed": false,
    "scrolled": false
   },
   "outputs": [
    {
     "name": "stdout",
     "output_type": "stream",
     "text": [
      "Iter 1/50 - Loss: 1.422\n",
      "Iter 2/50 - Loss: 1.176\n",
      "Iter 3/50 - Loss: 1.254\n",
      "Iter 4/50 - Loss: 1.236\n",
      "Iter 5/50 - Loss: 1.096\n",
      "Iter 6/50 - Loss: 1.014\n",
      "Iter 7/50 - Loss: 1.098\n",
      "Iter 8/50 - Loss: 0.946\n",
      "Iter 9/50 - Loss: 0.946\n",
      "Iter 10/50 - Loss: 0.869\n",
      "Iter 11/50 - Loss: 0.807\n",
      "Iter 12/50 - Loss: 0.907\n",
      "Iter 13/50 - Loss: 0.804\n",
      "Iter 14/50 - Loss: 0.750\n",
      "Iter 15/50 - Loss: 0.893\n",
      "Iter 16/50 - Loss: 0.782\n",
      "Iter 17/50 - Loss: 0.844\n",
      "Iter 18/50 - Loss: 0.587\n",
      "Iter 19/50 - Loss: 0.709\n",
      "Iter 20/50 - Loss: 0.548\n",
      "Iter 21/50 - Loss: 0.505\n",
      "Iter 22/50 - Loss: 0.443\n",
      "Iter 23/50 - Loss: 0.334\n",
      "Iter 24/50 - Loss: 0.542\n",
      "Iter 25/50 - Loss: 0.406\n",
      "Iter 26/50 - Loss: 0.364\n",
      "Iter 27/50 - Loss: 0.363\n",
      "Iter 28/50 - Loss: 0.457\n",
      "Iter 29/50 - Loss: 0.458\n",
      "Iter 30/50 - Loss: 0.443\n",
      "Iter 31/50 - Loss: 0.192\n",
      "Iter 32/50 - Loss: 0.138\n",
      "Iter 33/50 - Loss: 0.041\n",
      "Iter 34/50 - Loss: 0.307\n",
      "Iter 35/50 - Loss: 0.124\n",
      "Iter 36/50 - Loss: 0.206\n",
      "Iter 37/50 - Loss: -0.033\n",
      "Iter 38/50 - Loss: 0.028\n",
      "Iter 39/50 - Loss: 0.124\n",
      "Iter 40/50 - Loss: 0.216\n",
      "Iter 41/50 - Loss: 0.207\n",
      "Iter 42/50 - Loss: 0.222\n",
      "Iter 43/50 - Loss: -0.074\n",
      "Iter 44/50 - Loss: -0.017\n",
      "Iter 45/50 - Loss: 0.233\n",
      "Iter 46/50 - Loss: 0.066\n",
      "Iter 47/50 - Loss: 0.057\n",
      "Iter 48/50 - Loss: 0.151\n",
      "Iter 49/50 - Loss: 0.118\n",
      "Iter 50/50 - Loss: 0.041\n"
     ]
    }
   ],
   "source": [
    "# Find optimal model hyperparameters\n",
    "model.train()\n",
    "optimizer = optim.Adam(model.parameters(), lr=0.1)\n",
    "optimizer.n_iter = 0\n",
    "for i in range(50):\n",
    "    optimizer.zero_grad()\n",
    "    output = model(train_x)\n",
    "    loss = -model.marginal_log_likelihood(output, train_y)\n",
    "    loss.backward()\n",
    "    optimizer.n_iter += 1\n",
    "    print('Iter %d/50 - Loss: %.3f' % (i + 1, loss.data[0]))\n",
    "    optimizer.step()\n",
    "    \n",
    "# Set back to eval mode\n",
    "_ = model.eval()"
   ]
  },
  {
   "cell_type": "code",
   "execution_count": 8,
   "metadata": {
    "collapsed": false,
    "scrolled": false
   },
   "outputs": [
    {
     "data": {
      "image/png": "[encoded data removed]",
      "text/plain": [
       "<matplotlib.figure.Figure at 0x7efdfdfcd150>"
      ]
     },
     "metadata": {},
     "output_type": "display_data"
    }
   ],
   "source": [
    "model.condition(train_x, train_y)\n",
    "fig = plot_model_and_predictions(model)"
   ]
  },
  {
   "cell_type": "code",
   "execution_count": null,
   "metadata": {
    "collapsed": true
   },
   "outputs": [],
   "source": []
  }
 ],
 "metadata": {
  "anaconda-cloud": {},
  "kernelspec": {
   "display_name": "Python [default]",
   "language": "python",
   "name": "python2"
  },
  "language_info": {
   "codemirror_mode": {
    "name": "ipython",
    "version": 2
   },
   "file_extension": ".py",
   "mimetype": "text/x-python",
   "name": "python",
   "nbconvert_exporter": "python",
   "pygments_lexer": "ipython2",
   "version": "2.7.12"
  }
 },
 "nbformat": 4,
 "nbformat_minor": 1
}
