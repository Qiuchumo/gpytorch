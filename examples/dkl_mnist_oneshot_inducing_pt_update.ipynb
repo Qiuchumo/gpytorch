{
 "cells": [
  {
   "cell_type": "code",
   "execution_count": 34,
   "metadata": {
    "collapsed": false
   },
   "outputs": [],
   "source": [
    "import gpytorch\n",
    "import torch\n",
    "import torchvision\n",
    "from torch import nn\n",
    "from torch.autograd import Variable\n",
    "from torchvision import transforms\n",
    "\n",
    "gpytorch.functions.use_toeplitz = False"
   ]
  },
  {
   "cell_type": "code",
   "execution_count": 35,
   "metadata": {
    "collapsed": false
   },
   "outputs": [],
   "source": [
    "class FeatureExtractor(nn.Sequential):\n",
    "    \n",
    "    def __init__(self):\n",
    "        super(FeatureExtractor, self).__init__(nn.Conv2d(1, 32, kernel_size=5, padding=2),\n",
    "                                 nn.BatchNorm2d(32),\n",
    "                                 nn.ReLU(),\n",
    "                                 nn.MaxPool2d(2, 2),\n",
    "                                 nn.Conv2d(32, 64, kernel_size=5, padding=2),\n",
    "                                 nn.BatchNorm2d(64),\n",
    "                                 nn.ReLU(),\n",
    "                                 nn.MaxPool2d(2, 2))\n",
    "        \n",
    "class Bottleneck(nn.Sequential):\n",
    "    \n",
    "    def __init__(self):\n",
    "        super(Bottleneck, self).__init__(nn.Linear(64*7*7, 128),\n",
    "                                         nn.BatchNorm1d(128),\n",
    "                                 nn.ReLU(),\n",
    "                                 nn.Linear(128, 128),\n",
    "                                 nn.BatchNorm1d(128),\n",
    "                                 nn.ReLU(),\n",
    "                                 nn.Linear(128,64),\n",
    "                                 nn.BatchNorm1d(64))\n",
    "\n",
    "class LeNet(nn.Module):\n",
    "    \n",
    "    def __init__(self):\n",
    "        super(LeNet, self).__init__()\n",
    "        self.feature_extractor = FeatureExtractor()\n",
    "        self.bottleneck = Bottleneck()\n",
    "        self.final_layer = nn.Sequential(\n",
    "                                 nn.ReLU(),\n",
    "                                 nn.Linear(64,10))\n",
    "    \n",
    "    def forward(self, x):\n",
    "        features = self.feature_extractor(x)\n",
    "        bottlenecked_features = self.bottleneck(features.view(-1, 64 * 7 * 7))\n",
    "        classification = self.final_layer(bottlenecked_features)\n",
    "        return classification\n",
    "        "
   ]
  },
  {
   "cell_type": "code",
   "execution_count": 36,
   "metadata": {
    "collapsed": false
   },
   "outputs": [
    {
     "data": {
      "text/plain": [
       "(41935, 6989)"
      ]
     },
     "execution_count": 36,
     "metadata": {},
     "output_type": "execute_result"
    }
   ],
   "source": [
    "train_mnist = torchvision.datasets.MNIST('/mnt/bigboi/datasets/mnist/', train=True,\n",
    "                                         download=True, transform=transforms.Compose([\n",
    "                       transforms.ToTensor(),\n",
    "                       transforms.Normalize((0.1307,), (0.3081,))\n",
    "                   ]))                \n",
    "\n",
    "train_indices = train_mnist.train_labels.lt(7).nonzero().squeeze()\n",
    "train_mnist.train_data = train_mnist.train_data.index_select(0, train_indices)\n",
    "train_mnist.train_labels = train_mnist.train_labels.index_select(0, train_indices)\n",
    "\n",
    "test_mnist = torchvision.datasets.MNIST('/mnt/bigboi/datasets/mnist/', train=False,\n",
    "                                        download=True, transform=transforms.Compose([\n",
    "                       transforms.ToTensor(),\n",
    "                       transforms.Normalize((0.1307,), (0.3081,))\n",
    "                   ]))\n",
    "\n",
    "test_indices = test_mnist.test_labels.lt(7).nonzero().squeeze()\n",
    "test_mnist.test_data = test_mnist.test_data.index_select(0, test_indices)\n",
    "test_mnist.test_labels = test_mnist.test_labels.index_select(0, test_indices)\n",
    "\n",
    "len(train_mnist), len(test_mnist)"
   ]
  },
  {
   "cell_type": "code",
   "execution_count": 37,
   "metadata": {
    "collapsed": false
   },
   "outputs": [],
   "source": [
    "train_data_loader = torch.utils.data.DataLoader(train_mnist, shuffle=True, pin_memory=True, batch_size=256)"
   ]
  },
  {
   "cell_type": "code",
   "execution_count": 38,
   "metadata": {
    "collapsed": true
   },
   "outputs": [],
   "source": [
    "criterion = nn.CrossEntropyLoss().cuda()"
   ]
  },
  {
   "cell_type": "code",
   "execution_count": 39,
   "metadata": {
    "collapsed": true
   },
   "outputs": [],
   "source": [
    "model = LeNet().cuda()\n",
    "optimizer = torch.optim.SGD(model.parameters(), lr=0.1)"
   ]
  },
  {
   "cell_type": "code",
   "execution_count": 40,
   "metadata": {
    "collapsed": false
   },
   "outputs": [
    {
     "name": "stdout",
     "output_type": "stream",
     "text": [
      "Accuracy: 0.9953\n"
     ]
    }
   ],
   "source": [
    "num_epochs = 0\n",
    "if num_epochs > 0:\n",
    "    for i in range(num_epochs):\n",
    "        for x, y in train_data_loader:\n",
    "            optimizer.zero_grad()\n",
    "            x = Variable(x.cuda())\n",
    "            y = Variable(y.cuda())\n",
    "            output = model(x)\n",
    "            loss = criterion(output, y)\n",
    "            loss.backward()\n",
    "            optimizer.step()\n",
    "        print(\"Loss: %.3f\" % loss.data[0])\n",
    "    torch.save(model.state_dict(), '/mnt/data/dkl/mnist/lenet_oneshot.dat')\n",
    "else:\n",
    "    model.load_state_dict(torch.load('/mnt/data/dkl/mnist/lenet_oneshot.dat'))\n",
    "    \n",
    "model.eval()\n",
    "test_data_loader = torch.utils.data.DataLoader(test_mnist, shuffle=False, pin_memory=True, batch_size=256)\n",
    "avg = 0.\n",
    "i = 0.\n",
    "for test_batch_x, test_batch_y in test_data_loader:\n",
    "    predictions = model(Variable(test_batch_x).cuda()).max(-1)[1]\n",
    "    test_batch_y = Variable(test_batch_y).cuda()\n",
    "    avg += torch.eq(predictions, test_batch_y).float().mean().data[0]\n",
    "    i += 1.\n",
    "print('Accuracy: %.4f' % (avg / i))"
   ]
  },
  {
   "cell_type": "code",
   "execution_count": 41,
   "metadata": {
    "collapsed": false
   },
   "outputs": [],
   "source": [
    "list(model.bottleneck.modules())[-1].weight.data.fill_(1)\n",
    "None"
   ]
  },
  {
   "cell_type": "code",
   "execution_count": 42,
   "metadata": {
    "collapsed": true
   },
   "outputs": [],
   "source": [
    "from gpytorch.kernels import RBFKernel, GridInterpolationKernel\n",
    "\n",
    "class DeepKernel(gpytorch.Module):\n",
    "    def __init__(self, model):\n",
    "        super(DeepKernel, self).__init__()\n",
    "        self.feature_extractor = model.feature_extractor\n",
    "        self.bottleneck = model.bottleneck\n",
    "        self.gp_layer = GPLayer()\n",
    "        \n",
    "    def forward(self, x):\n",
    "        features = self.feature_extractor(x)\n",
    "        bottlenecked_features = self.bottleneck(features.view(-1, 64 * 7 * 7))\n",
    "        gp_output = self.gp_layer(bottlenecked_features)\n",
    "        return gp_output\n",
    "    \n",
    "    \n",
    "class LatentFunction(gpytorch.AdditiveGridInducingPointModule):\n",
    "    def __init__(self):\n",
    "        super(LatentFunction, self).__init__(grid_size=256, grid_bounds=[(-7, 7)],\n",
    "                                             n_components=64, mixing_params=False, sum_output=False)\n",
    "        cov_module = RBFKernel()\n",
    "        cov_module.initialize(log_lengthscale=2)\n",
    "        self.cov_module = cov_module\n",
    "        \n",
    "    def forward(self, x):\n",
    "        mean = Variable(x.data.new(len(x)).zero_())\n",
    "        covar = self.cov_module(x)\n",
    "        return gpytorch.random_variables.GaussianRandomVariable(mean, covar)\n",
    "\n",
    "    \n",
    "class GPLayer(gpytorch.GPModel):\n",
    "    def __init__(self, n_dims=64):\n",
    "        super(GPLayer, self).__init__(gpytorch.likelihoods.SoftmaxGaussianLikelihood(n_features=64, n_classes=10, rank=5))\n",
    "        self.latent_function = LatentFunction()\n",
    "    \n",
    "    def forward(self, x):\n",
    "        res = self.latent_function(x)\n",
    "        return res\n",
    "    "
   ]
  },
  {
   "cell_type": "code",
   "execution_count": 43,
   "metadata": {
    "collapsed": false
   },
   "outputs": [
    {
     "data": {
      "text/plain": [
       "41935"
      ]
     },
     "execution_count": 43,
     "metadata": {},
     "output_type": "execute_result"
    }
   ],
   "source": [
    "len(train_mnist)"
   ]
  },
  {
   "cell_type": "code",
   "execution_count": 44,
   "metadata": {
    "collapsed": false
   },
   "outputs": [],
   "source": [
    "deep_kernel = DeepKernel(model).cuda()\n",
    "gp_data_loader = torch.utils.data.DataLoader(train_mnist, batch_size=2048., pin_memory=True, shuffle=True)"
   ]
  },
  {
   "cell_type": "code",
   "execution_count": 45,
   "metadata": {
    "collapsed": false,
    "scrolled": true
   },
   "outputs": [],
   "source": [
    "# Find optimal model hyperparameters\n",
    "n_epochs = 0\n",
    "if n_epochs > 0:\n",
    "    deep_kernel.train()\n",
    "    optimizer = torch.optim.Adam(deep_kernel.gp_layer.parameters(), lr=0.01)\n",
    "    optimizer.n_iter = 0\n",
    "    for i in range(n_epochs):\n",
    "        for j, (train_x_batch, train_y_batch) in enumerate(gp_data_loader):\n",
    "            train_x_batch = Variable(train_x_batch).cuda()\n",
    "            train_y_batch = Variable(train_y_batch).cuda()\n",
    "            optimizer.zero_grad()\n",
    "            output = deep_kernel(train_x_batch)\n",
    "            loss = -deep_kernel.gp_layer.marginal_log_likelihood(output, train_y_batch, n_data=len(train_mnist))\n",
    "            kl = deep_kernel.gp_layer.likelihood.kl_div() / len(train_mnist)\n",
    "            loss = loss + kl\n",
    "            loss.backward()\n",
    "            optimizer.n_iter += 1\n",
    "            print('Iter %d/200 - Loss: %.3f' % (\n",
    "                i + 1, loss.data[0],\n",
    "            ))\n",
    "            optimizer.step()\n",
    "\n",
    "        deep_kernel.eval()\n",
    "        test_data_loader = torch.utils.data.DataLoader(test_mnist, shuffle=False, pin_memory=True, batch_size=256)\n",
    "\n",
    "        avg = 0.\n",
    "        i = 0.\n",
    "        for test_batch_x, test_batch_y in test_data_loader:\n",
    "            predictions = deep_kernel(Variable(test_batch_x).cuda()).argmax()\n",
    "            test_batch_y = Variable(test_batch_y).cuda()\n",
    "            avg += torch.eq(predictions, test_batch_y).float().mean().data[0]\n",
    "            i += 1.\n",
    "\n",
    "        print('Score')\n",
    "        print(avg / i)\n",
    "        deep_kernel.train()\n",
    "\n",
    "    torch.save(deep_kernel.state_dict(), '/mnt/data/dkl/mnist/gp_oneshot.dat')\n",
    "else:\n",
    "    deep_kernel.load_state_dict(torch.load('/mnt/data/dkl/mnist/gp_oneshot.dat'))"
   ]
  },
  {
   "cell_type": "code",
   "execution_count": 46,
   "metadata": {
    "collapsed": false
   },
   "outputs": [
    {
     "data": {
      "text/plain": [
       "(15, 3011)"
      ]
     },
     "execution_count": 46,
     "metadata": {},
     "output_type": "execute_result"
    }
   ],
   "source": [
    "train_mnist = torchvision.datasets.MNIST('/mnt/bigboi/datasets/mnist/', train=True,\n",
    "                                         download=True, transform=transforms.Compose([\n",
    "                       transforms.ToTensor(),\n",
    "                       transforms.Normalize((0.1307,), (0.3081,))\n",
    "                   ]))                \n",
    "\n",
    "train_indices = torch.cat([\n",
    "    train_mnist.train_labels.eq(7).nonzero().squeeze()[:5],\n",
    "    train_mnist.train_labels.eq(8).nonzero().squeeze()[:5],\n",
    "    train_mnist.train_labels.eq(9).nonzero().squeeze()[:5],\n",
    "])\n",
    "train_mnist.train_data = train_mnist.train_data.index_select(0, train_indices)\n",
    "train_mnist.train_labels = train_mnist.train_labels.index_select(0, train_indices) - 7\n",
    "\n",
    "test_mnist = torchvision.datasets.MNIST('/mnt/bigboi/datasets/mnist/', train=False,\n",
    "                                        download=True, transform=transforms.Compose([\n",
    "                       transforms.ToTensor(),\n",
    "                       transforms.Normalize((0.1307,), (0.3081,))\n",
    "                   ]))\n",
    "\n",
    "test_indices = test_mnist.test_labels.ge(7).nonzero().squeeze()\n",
    "test_mnist.test_data = test_mnist.test_data.index_select(0, test_indices)\n",
    "test_mnist.test_labels = test_mnist.test_labels.index_select(0, test_indices) - 7\n",
    "\n",
    "len(train_mnist), len(test_mnist)"
   ]
  },
  {
   "cell_type": "code",
   "execution_count": 47,
   "metadata": {
    "collapsed": true
   },
   "outputs": [],
   "source": [
    "gp_data_loader = torch.utils.data.DataLoader(train_mnist, batch_size=2048., pin_memory=True)"
   ]
  },
  {
   "cell_type": "code",
   "execution_count": 48,
   "metadata": {
    "collapsed": false
   },
   "outputs": [],
   "source": [
    "class FeatureExtractor(nn.Module):\n",
    "    def __init__(self, gp_model):\n",
    "        super(FeatureExtractor, self).__init__()\n",
    "        self.feature_extractor = gp_model.feature_extractor\n",
    "        self.bottleneck = gp_model.bottleneck\n",
    "        \n",
    "    def forward(self, x):\n",
    "        features = self.feature_extractor(x)\n",
    "        bottlenecked_features = self.bottleneck(features.view(-1, 64 * 7 * 7))\n",
    "        return bottlenecked_features\n",
    "    \n",
    "feature_extractor = FeatureExtractor(deep_kernel).cuda()\n",
    "feature_extractor.eval()\n",
    "\n",
    "data, _ = gp_data_loader.__iter__().next()\n",
    "inducing_points = feature_extractor(Variable(data).cuda()).data.unsqueeze(-1)"
   ]
  },
  {
   "cell_type": "code",
   "execution_count": 56,
   "metadata": {
    "collapsed": false
   },
   "outputs": [],
   "source": [
    "class OneShotGP(gpytorch.GPModel):\n",
    "    def __init__(self, gp_model, n_dims=64):\n",
    "        super(OneShotGP, self).__init__(gpytorch.likelihoods.SoftmaxGaussianLikelihood(n_features=64, n_classes=3, rank=5))\n",
    "        self.latent_function = OneShotLatent(gp_model)\n",
    "        self.likelihood.feature_mixing_weights.data.copy_(self.likelihood.feature_mixing_weights.data)\n",
    "    \n",
    "    def forward(self, x):\n",
    "        x = x.unsqueeze(-1)\n",
    "        res = self.latent_function(x)\n",
    "        return res\n",
    "    \n",
    "class OneShotLatent(gpytorch.AdditiveInducingPointModule):\n",
    "    def __init__(self, gp_model):\n",
    "        super(OneShotLatent, self).__init__(inducing_points=inducing_points, n_components=64, sum_output=False)\n",
    "        cov_module = RBFKernel()\n",
    "        cov_module.initialize(log_lengthscale=gp_model.gp_layer.latent_function.cov_module.base_kernel_module.log_lengthscale.data[0])\n",
    "        self.cov_module = cov_module\n",
    "        \n",
    "    def forward(self, x):\n",
    "        mean = Variable(x.data.new(x.size()).zero_()).squeeze(-1)\n",
    "        covar = self.cov_module(x)\n",
    "        return gpytorch.random_variables.GaussianRandomVariable(mean, covar)\n",
    "    \n",
    "oneshot_model = OneShotGP(deep_kernel).cuda()"
   ]
  },
  {
   "cell_type": "code",
   "execution_count": 63,
   "metadata": {
    "collapsed": false,
    "scrolled": true
   },
   "outputs": [
    {
     "name": "stdout",
     "output_type": "stream",
     "text": [
      "Iter 1/200 - Loss: 13.202\n",
      "Iter 2/200 - Loss: 45.852\n",
      "Iter 3/200 - Loss: 18.872\n",
      "Iter 4/200 - Loss: 18.822\n",
      "Iter 5/200 - Loss: 26.057\n",
      "Iter 6/200 - Loss: 35.513\n",
      "Iter 7/200 - Loss: 23.057\n",
      "Iter 8/200 - Loss: 24.311\n",
      "Iter 9/200 - Loss: 13.113\n",
      "Iter 10/200 - Loss: 22.351\n",
      "Iter 11/200 - Loss: 15.251\n",
      "Iter 12/200 - Loss: 24.996\n",
      "Iter 13/200 - Loss: 18.725\n",
      "Iter 14/200 - Loss: 15.128\n",
      "Iter 15/200 - Loss: 33.561\n",
      "Iter 16/200 - Loss: 26.322\n",
      "Iter 17/200 - Loss: 18.903\n",
      "Iter 18/200 - Loss: 14.173\n",
      "Iter 19/200 - Loss: 16.179\n",
      "Iter 20/200 - Loss: 28.193\n",
      "Iter 21/200 - Loss: 32.424\n",
      "Iter 22/200 - Loss: 28.202\n",
      "Iter 23/200 - Loss: 17.866\n",
      "Iter 24/200 - Loss: 12.721\n",
      "Iter 25/200 - Loss: 20.719\n",
      "Iter 26/200 - Loss: 24.609\n",
      "Iter 27/200 - Loss: 18.927\n",
      "Iter 28/200 - Loss: 27.055\n",
      "Iter 29/200 - Loss: 37.109\n",
      "Iter 30/200 - Loss: 14.354\n",
      "Iter 31/200 - Loss: 21.298\n",
      "Iter 32/200 - Loss: 15.195\n",
      "Iter 33/200 - Loss: 29.076\n",
      "Iter 34/200 - Loss: 20.184\n",
      "Iter 35/200 - Loss: 21.808\n",
      "Iter 36/200 - Loss: 41.396\n",
      "Iter 37/200 - Loss: 13.578\n",
      "Iter 38/200 - Loss: 15.211\n",
      "Iter 39/200 - Loss: 27.426\n",
      "Iter 40/200 - Loss: 32.348\n",
      "Iter 41/200 - Loss: 16.957\n",
      "Iter 42/200 - Loss: 12.546\n",
      "Iter 43/200 - Loss: 26.325\n",
      "Iter 44/200 - Loss: 15.574\n",
      "Iter 45/200 - Loss: 10.762\n",
      "Iter 46/200 - Loss: 8.848\n",
      "Iter 47/200 - Loss: 16.657\n",
      "Iter 48/200 - Loss: 19.450\n",
      "Iter 49/200 - Loss: 32.576\n",
      "Iter 50/200 - Loss: 32.485\n",
      "Iter 51/200 - Loss: 25.097\n",
      "Iter 52/200 - Loss: 32.374\n",
      "Iter 53/200 - Loss: 21.584\n",
      "Iter 54/200 - Loss: 21.340\n",
      "Iter 55/200 - Loss: 26.967\n",
      "Iter 56/200 - Loss: 17.461\n",
      "Iter 57/200 - Loss: 28.866\n",
      "Iter 58/200 - Loss: 22.885\n",
      "Iter 59/200 - Loss: 15.241\n",
      "Iter 60/200 - Loss: 37.980\n",
      "Iter 61/200 - Loss: 33.965\n",
      "Iter 62/200 - Loss: 33.604\n",
      "Iter 63/200 - Loss: 18.587\n",
      "Iter 64/200 - Loss: 29.349\n",
      "Iter 65/200 - Loss: 26.253\n",
      "Iter 66/200 - Loss: 30.778\n",
      "Iter 67/200 - Loss: 14.879\n",
      "Iter 68/200 - Loss: 23.096\n",
      "Iter 69/200 - Loss: 21.321\n",
      "Iter 70/200 - Loss: 12.956\n",
      "Iter 71/200 - Loss: 15.462\n",
      "Iter 72/200 - Loss: 27.394\n",
      "Iter 73/200 - Loss: 21.813\n",
      "Iter 74/200 - Loss: 16.889\n",
      "Iter 75/200 - Loss: 27.353\n",
      "Iter 76/200 - Loss: 20.446\n",
      "Iter 77/200 - Loss: 21.141\n",
      "Iter 78/200 - Loss: 28.999\n",
      "Iter 79/200 - Loss: 19.350\n",
      "Iter 80/200 - Loss: 31.550\n",
      "Iter 81/200 - Loss: 11.183\n",
      "Iter 82/200 - Loss: 14.871\n",
      "Iter 83/200 - Loss: 17.068\n",
      "Iter 84/200 - Loss: 15.485\n",
      "Iter 85/200 - Loss: 28.144\n",
      "Iter 86/200 - Loss: 11.428\n",
      "Iter 87/200 - Loss: 13.161\n",
      "Iter 88/200 - Loss: 18.793\n",
      "Iter 89/200 - Loss: 18.544\n",
      "Iter 90/200 - Loss: 15.883\n",
      "Iter 91/200 - Loss: 32.112\n",
      "Iter 92/200 - Loss: 17.070\n",
      "Iter 93/200 - Loss: 16.213\n",
      "Iter 94/200 - Loss: 31.638\n",
      "Iter 95/200 - Loss: 22.237\n",
      "Iter 96/200 - Loss: 28.541\n",
      "Iter 97/200 - Loss: 49.518\n",
      "Iter 98/200 - Loss: 18.739\n",
      "Iter 99/200 - Loss: 31.579\n",
      "Iter 100/200 - Loss: 30.662\n",
      "Score\n",
      "0.805151576797\n"
     ]
    }
   ],
   "source": [
    "# Find optimal model hyperparameters\n",
    "oneshot_model.train()\n",
    "\n",
    "train_x_batch, train_y_batch = gp_data_loader.__iter__().next()\n",
    "train_x_batch = feature_extractor(Variable(train_x_batch).cuda())\n",
    "train_y_batch = Variable(train_y_batch).cuda()\n",
    "\n",
    "optimizer = torch.optim.Adam(set(oneshot_model.parameters()), lr=0.01)\n",
    "optimizer.n_iter = 0\n",
    "for i in range(100):\n",
    "    optimizer.zero_grad()\n",
    "    output = oneshot_model(train_x_batch)\n",
    "    loss = -oneshot_model.marginal_log_likelihood(output, train_y_batch, n_data=len(train_mnist))\n",
    "    kl = oneshot_model.likelihood.kl_div() / len(train_mnist)\n",
    "    loss = loss + kl\n",
    "    loss.backward()\n",
    "    optimizer.n_iter += 1\n",
    "    print('Iter %d/200 - Loss: %.3f' % (\n",
    "        i + 1, loss.data[0],\n",
    "    ))\n",
    "    optimizer.step()\n",
    "\n",
    "oneshot_model.eval()\n",
    "test_data_loader = torch.utils.data.DataLoader(test_mnist, shuffle=False, pin_memory=True, batch_size=256)\n",
    "\n",
    "avg = 0.\n",
    "i = 0.\n",
    "for test_batch_x, test_batch_y in test_data_loader:\n",
    "    predictions = oneshot_model(feature_extractor(Variable(test_batch_x).cuda())).argmax()\n",
    "    test_batch_y = Variable(test_batch_y).cuda()\n",
    "    avg += torch.eq(predictions, test_batch_y).float().mean().data[0]\n",
    "    i += 1.\n",
    "\n",
    "print('Score')\n",
    "print(avg / i)"
   ]
  },
  {
   "cell_type": "code",
   "execution_count": null,
   "metadata": {
    "collapsed": true
   },
   "outputs": [],
   "source": []
  },
  {
   "cell_type": "code",
   "execution_count": null,
   "metadata": {
    "collapsed": true
   },
   "outputs": [],
   "source": []
  }
 ],
 "metadata": {
  "anaconda-cloud": {},
  "kernelspec": {
   "display_name": "Python [default]",
   "language": "python",
   "name": "python2"
  },
  "language_info": {
   "codemirror_mode": {
    "name": "ipython",
    "version": 2
   },
   "file_extension": ".py",
   "mimetype": "text/x-python",
   "name": "python",
   "nbconvert_exporter": "python",
   "pygments_lexer": "ipython2",
   "version": "2.7.12"
  }
 },
 "nbformat": 4,
 "nbformat_minor": 1
}
