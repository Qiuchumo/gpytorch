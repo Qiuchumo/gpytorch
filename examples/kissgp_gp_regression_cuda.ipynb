{
 "cells": [
  {
   "cell_type": "code",
   "execution_count": 1,
   "metadata": {
    "collapsed": true
   },
   "outputs": [],
   "source": [
    "import math\n",
    "import torch\n",
    "import gpytorch\n",
    "from matplotlib import pyplot as plt\n",
    "from torch import nn, optim\n",
    "from torch.autograd import Variable\n",
    "from gpytorch.kernels import RBFKernel, GridInterpolationKernel\n",
    "from gpytorch.means import ConstantMean\n",
    "from gpytorch.likelihoods import GaussianLikelihood\n",
    "from gpytorch.random_variables import GaussianRandomVariable\n",
    "\n",
    "%matplotlib inline"
   ]
  },
  {
   "cell_type": "code",
   "execution_count": 2,
   "metadata": {
    "collapsed": false
   },
   "outputs": [],
   "source": [
    "train_x = Variable(torch.linspace(0, 1, 1000))\n",
    "train_y = Variable(torch.sin(train_x.data * (4 * math.pi)) + torch.randn(train_x.size()) * 0.2)\n",
    "train_x = train_x.cuda()\n",
    "train_y = train_y.cuda()"
   ]
  },
  {
   "cell_type": "code",
   "execution_count": 3,
   "metadata": {
    "collapsed": false
   },
   "outputs": [],
   "source": [
    "class LatentFunction(gpytorch.GridInducingPointModule):\n",
    "    def __init__(self):\n",
    "        super(LatentFunction, self).__init__(grid_size=50, grid_bounds=[(0, 1)])\n",
    "        self.mean_module = ConstantMean(constant_bounds=[-1e-5,1e-5])\n",
    "        self.covar_module = RBFKernel(log_lengthscale_bounds=(-5, 6))\n",
    "        self.register_parameter('log_outputscale', nn.Parameter(torch.Tensor([0])), bounds=(-5,6))\n",
    "        \n",
    "    def forward(self,x):\n",
    "        mean_x = self.mean_module(x)\n",
    "        covar_x = self.covar_module(x)\n",
    "        covar_x = covar_x.mul(self.log_outputscale.exp())\n",
    "        latent_pred = GaussianRandomVariable(mean_x, covar_x)\n",
    "        return latent_pred\n",
    "\n",
    "class GPRegressionModel(gpytorch.GPModel):\n",
    "    def __init__(self):\n",
    "        super(GPRegressionModel,self).__init__(GaussianLikelihood())\n",
    "        self.latent_function = LatentFunction()\n",
    "        \n",
    "    def forward(self, x):\n",
    "        return self.latent_function(x)\n",
    "    \n",
    "model = GPRegressionModel()\n",
    "model = model.cuda()"
   ]
  },
  {
   "cell_type": "code",
   "execution_count": 4,
   "metadata": {
    "collapsed": false,
    "scrolled": false
   },
   "outputs": [
    {
     "name": "stdout",
     "output_type": "stream",
     "text": [
      "Iter 1/30 - Loss: 1.147\n",
      "Iter 2/30 - Loss: 1.117\n",
      "Iter 3/30 - Loss: 1.086\n",
      "Iter 4/30 - Loss: 1.054\n",
      "Iter 5/30 - Loss: 1.023\n",
      "Iter 6/30 - Loss: 0.993\n",
      "Iter 7/30 - Loss: 0.967\n",
      "Iter 8/30 - Loss: 0.941\n",
      "Iter 9/30 - Loss: 0.915\n",
      "Iter 10/30 - Loss: 0.882\n",
      "Iter 11/30 - Loss: 0.843\n",
      "Iter 12/30 - Loss: 0.780\n",
      "Iter 13/30 - Loss: 0.702\n",
      "Iter 14/30 - Loss: 0.615\n",
      "Iter 15/30 - Loss: 0.512\n",
      "Iter 16/30 - Loss: 0.422\n",
      "Iter 17/30 - Loss: 0.344\n",
      "Iter 18/30 - Loss: 0.271\n",
      "Iter 19/30 - Loss: 0.210\n",
      "Iter 20/30 - Loss: 0.159\n",
      "Iter 21/30 - Loss: 0.114\n",
      "Iter 22/30 - Loss: 0.067\n",
      "Iter 23/30 - Loss: 0.045\n",
      "Iter 24/30 - Loss: 0.003\n",
      "Iter 25/30 - Loss: -0.032\n",
      "Iter 26/30 - Loss: -0.057\n",
      "Iter 27/30 - Loss: -0.086\n",
      "Iter 28/30 - Loss: -0.111\n",
      "Iter 29/30 - Loss: -0.130\n",
      "Iter 30/30 - Loss: -0.145\n",
      "CPU times: user 4.82 s, sys: 7.45 s, total: 12.3 s\n",
      "Wall time: 12.2 s\n"
     ]
    }
   ],
   "source": [
    "# Optimize the model\n",
    "def train():\n",
    "    model.train()\n",
    "    optimizer = optim.Adam(model.parameters(), lr=0.1)\n",
    "    optimizer.n_iter = 0\n",
    "    for i in range(30):\n",
    "        optimizer.zero_grad()\n",
    "        output = model(train_x)\n",
    "        loss = -model.marginal_log_likelihood(output, train_y) * 1. / len(train_x)\n",
    "        loss.backward()\n",
    "        optimizer.n_iter += 1\n",
    "        print('Iter %d/30 - Loss: %.3f' % (i + 1, loss.data[0]))\n",
    "        optimizer.step()\n",
    "\n",
    "    _ = model.eval()\n",
    "    \n",
    "%time train()"
   ]
  },
  {
   "cell_type": "code",
   "execution_count": 5,
   "metadata": {
    "collapsed": true
   },
   "outputs": [],
   "source": [
    "def plot_model_and_predictions(model, plot_train_data=True):\n",
    "    f, observed_ax = plt.subplots(1, 1, figsize=(4, 3))\n",
    "    test_x = Variable(torch.linspace(0, 1, 51)).cuda()\n",
    "    observed_pred = model(test_x)\n",
    "\n",
    "    def ax_plot(ax, rand_var, title):\n",
    "        lower, upper = rand_var.confidence_region()\n",
    "        if plot_train_data:\n",
    "            ax.plot(train_x.data.cpu().numpy(), train_y.data.cpu().numpy(), 'k*')\n",
    "        ax.plot(test_x.data.cpu().numpy(), rand_var.mean().data.cpu().numpy(), 'b')\n",
    "        ax.fill_between(test_x.data.cpu().numpy(), lower.data.cpu().numpy(), upper.data.cpu().numpy(), alpha=0.5)\n",
    "        ax.set_ylim([-3, 3])\n",
    "        ax.legend(['Observed Data', 'Mean', 'Confidence'])\n",
    "        ax.set_title(title)\n",
    "    \n",
    "    ax_plot(observed_ax, observed_pred, 'Observed Values (Likelihood)')\n",
    "    \n",
    "    return f"
   ]
  },
  {
   "cell_type": "code",
   "execution_count": 6,
   "metadata": {
    "collapsed": false
   },
   "outputs": [
    {
     "data": {
      "image/png": "[encoded data removed]",
      "text/plain": [
       "<matplotlib.figure.Figure at 0x7f5fecd9ec50>"
      ]
     },
     "metadata": {},
     "output_type": "display_data"
    }
   ],
   "source": [
    "model.condition(train_x, train_y)\n",
    "f = plot_model_and_predictions(model, plot_train_data=True)"
   ]
  },
  {
   "cell_type": "code",
   "execution_count": null,
   "metadata": {
    "collapsed": true
   },
   "outputs": [],
   "source": []
  }
 ],
 "metadata": {
  "anaconda-cloud": {},
  "kernelspec": {
   "display_name": "Python [default]",
   "language": "python",
   "name": "python2"
  },
  "language_info": {
   "codemirror_mode": {
    "name": "ipython",
    "version": 2
   },
   "file_extension": ".py",
   "mimetype": "text/x-python",
   "name": "python",
   "nbconvert_exporter": "python",
   "pygments_lexer": "ipython2",
   "version": "2.7.12"
  }
 },
 "nbformat": 4,
 "nbformat_minor": 2
}
