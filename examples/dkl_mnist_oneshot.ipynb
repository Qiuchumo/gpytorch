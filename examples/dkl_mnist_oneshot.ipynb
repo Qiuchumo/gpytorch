{
 "cells": [
  {
   "cell_type": "code",
   "execution_count": 1,
   "metadata": {
    "collapsed": false
   },
   "outputs": [],
   "source": [
    "import gpytorch\n",
    "import torch\n",
    "import torchvision\n",
    "from torch import nn\n",
    "from torch.autograd import Variable\n",
    "from torchvision import transforms\n",
    "\n",
    "gpytorch.functions.use_toeplitz = False"
   ]
  },
  {
   "cell_type": "code",
   "execution_count": 2,
   "metadata": {
    "collapsed": false
   },
   "outputs": [],
   "source": [
    "class FeatureExtractor(nn.Sequential):\n",
    "    \n",
    "    def __init__(self):\n",
    "        super(FeatureExtractor, self).__init__(nn.Conv2d(1, 32, kernel_size=5, padding=2),\n",
    "                                 nn.BatchNorm2d(32),\n",
    "                                 nn.ReLU(),\n",
    "                                 nn.MaxPool2d(2, 2),\n",
    "                                 nn.Conv2d(32, 64, kernel_size=5, padding=2),\n",
    "                                 nn.BatchNorm2d(64),\n",
    "                                 nn.ReLU(),\n",
    "                                 nn.MaxPool2d(2, 2))\n",
    "        \n",
    "class Bottleneck(nn.Sequential):\n",
    "    \n",
    "    def __init__(self):\n",
    "        super(Bottleneck, self).__init__(nn.Linear(64*7*7, 128),\n",
    "                                         nn.BatchNorm1d(128),\n",
    "                                 nn.ReLU(),\n",
    "                                 nn.Linear(128, 128),\n",
    "                                 nn.BatchNorm1d(128),\n",
    "                                 nn.ReLU(),\n",
    "                                 nn.Linear(128,64),\n",
    "                                 nn.BatchNorm1d(64))\n",
    "\n",
    "class LeNet(nn.Module):\n",
    "    \n",
    "    def __init__(self):\n",
    "        super(LeNet, self).__init__()\n",
    "        self.feature_extractor = FeatureExtractor()\n",
    "        self.bottleneck = Bottleneck()\n",
    "        self.final_layer = nn.Sequential(\n",
    "                                 nn.ReLU(),\n",
    "                                 nn.Linear(64,10))\n",
    "    \n",
    "    def forward(self, x):\n",
    "        features = self.feature_extractor(x)\n",
    "        bottlenecked_features = self.bottleneck(features.view(-1, 64 * 7 * 7))\n",
    "        classification = self.final_layer(bottlenecked_features)\n",
    "        return classification\n",
    "        "
   ]
  },
  {
   "cell_type": "code",
   "execution_count": 15,
   "metadata": {
    "collapsed": false
   },
   "outputs": [
    {
     "data": {
      "text/plain": [
       "(41935, 6989)"
      ]
     },
     "execution_count": 15,
     "metadata": {},
     "output_type": "execute_result"
    }
   ],
   "source": [
    "train_mnist = torchvision.datasets.MNIST('/mnt/bigboi/datasets/mnist/', train=True,\n",
    "                                         download=True, transform=transforms.Compose([\n",
    "                       transforms.ToTensor(),\n",
    "                       transforms.Normalize((0.1307,), (0.3081,))\n",
    "                   ]))                \n",
    "\n",
    "train_indices = train_mnist.train_labels.lt(7).nonzero().squeeze()\n",
    "train_mnist.train_data = train_mnist.train_data.index_select(0, train_indices)\n",
    "train_mnist.train_labels = train_mnist.train_labels.index_select(0, train_indices)\n",
    "\n",
    "test_mnist = torchvision.datasets.MNIST('/mnt/bigboi/datasets/mnist/', train=False,\n",
    "                                        download=True, transform=transforms.Compose([\n",
    "                       transforms.ToTensor(),\n",
    "                       transforms.Normalize((0.1307,), (0.3081,))\n",
    "                   ]))\n",
    "\n",
    "test_indices = test_mnist.test_labels.lt(7).nonzero().squeeze()\n",
    "test_mnist.test_data = test_mnist.test_data.index_select(0, test_indices)\n",
    "test_mnist.test_labels = test_mnist.test_labels.index_select(0, test_indices)\n",
    "\n",
    "len(train_mnist), len(test_mnist)"
   ]
  },
  {
   "cell_type": "code",
   "execution_count": 16,
   "metadata": {
    "collapsed": false
   },
   "outputs": [],
   "source": [
    "train_data_loader = torch.utils.data.DataLoader(train_mnist, shuffle=True, pin_memory=True, batch_size=256)"
   ]
  },
  {
   "cell_type": "code",
   "execution_count": 17,
   "metadata": {
    "collapsed": true
   },
   "outputs": [],
   "source": [
    "criterion = nn.CrossEntropyLoss().cuda()"
   ]
  },
  {
   "cell_type": "code",
   "execution_count": 18,
   "metadata": {
    "collapsed": true
   },
   "outputs": [],
   "source": [
    "model = LeNet().cuda()\n",
    "optimizer = torch.optim.SGD(model.parameters(), lr=0.1)"
   ]
  },
  {
   "cell_type": "code",
   "execution_count": 19,
   "metadata": {
    "collapsed": false
   },
   "outputs": [
    {
     "name": "stdout",
     "output_type": "stream",
     "text": [
      "Loss: 0.060\n",
      "Loss: 0.010\n",
      "Loss: 0.012\n",
      "Loss: 0.006\n",
      "Loss: 0.003\n",
      "Loss: 0.002\n",
      "Loss: 0.008\n",
      "Loss: 0.003\n",
      "Loss: 0.002\n",
      "Loss: 0.005\n",
      "Accuracy: 0.9953\n"
     ]
    }
   ],
   "source": [
    "num_epochs = 0\n",
    "if num_epochs > 0:\n",
    "    for i in range(num_epochs):\n",
    "        for x, y in train_data_loader:\n",
    "            optimizer.zero_grad()\n",
    "            x = Variable(x.cuda())\n",
    "            y = Variable(y.cuda())\n",
    "            output = model(x)\n",
    "            loss = criterion(output, y)\n",
    "            loss.backward()\n",
    "            optimizer.step()\n",
    "        print(\"Loss: %.3f\" % loss.data[0])\n",
    "    torch.save(model.state_dict(), '/mnt/data/dkl/mnist/lenet_oneshot.dat')\n",
    "else:\n",
    "    model.load_state_dict(torch.load('/mnt/data/dkl/mnist/lenet_oneshot.dat'))\n",
    "    \n",
    "model.eval()\n",
    "test_data_loader = torch.utils.data.DataLoader(test_mnist, shuffle=False, pin_memory=True, batch_size=256)\n",
    "avg = 0.\n",
    "i = 0.\n",
    "for test_batch_x, test_batch_y in test_data_loader:\n",
    "    predictions = model(Variable(test_batch_x).cuda()).max(-1)[1]\n",
    "    test_batch_y = Variable(test_batch_y).cuda()\n",
    "    avg += torch.eq(predictions, test_batch_y).float().mean().data[0]\n",
    "    i += 1.\n",
    "print('Accuracy: %.4f' % (avg / i))"
   ]
  },
  {
   "cell_type": "code",
   "execution_count": 20,
   "metadata": {
    "collapsed": false
   },
   "outputs": [],
   "source": [
    "list(model.bottleneck.modules())[-1].weight.data.fill_(1)\n",
    "None"
   ]
  },
  {
   "cell_type": "code",
   "execution_count": 21,
   "metadata": {
    "collapsed": true
   },
   "outputs": [],
   "source": [
    "from gpytorch.kernels import RBFKernel, GridInterpolationKernel\n",
    "\n",
    "class DeepKernel(gpytorch.Module):\n",
    "    def __init__(self, model):\n",
    "        super(DeepKernel, self).__init__()\n",
    "        self.feature_extractor = model.feature_extractor\n",
    "        self.bottleneck = model.bottleneck\n",
    "        self.gp_layer = GPLayer()\n",
    "        \n",
    "    def forward(self, x):\n",
    "        features = self.feature_extractor(x)\n",
    "        bottlenecked_features = self.bottleneck(features.view(-1, 64 * 7 * 7))\n",
    "        gp_output = self.gp_layer(bottlenecked_features)\n",
    "        return gp_output\n",
    "    \n",
    "    \n",
    "class LatentFunction(gpytorch.AdditiveGridInducingPointModule):\n",
    "    def __init__(self):\n",
    "        super(LatentFunction, self).__init__(grid_size=256, grid_bounds=[(-7, 7)],\n",
    "                                             n_components=64, mixing_params=False, sum_output=False)\n",
    "        cov_module = RBFKernel()\n",
    "        cov_module.initialize(log_lengthscale=2)\n",
    "        self.cov_module = cov_module\n",
    "        \n",
    "    def forward(self, x):\n",
    "        mean = Variable(x.data.new(len(x)).zero_())\n",
    "        covar = self.cov_module(x)\n",
    "        return gpytorch.random_variables.GaussianRandomVariable(mean, covar)\n",
    "\n",
    "    \n",
    "class GPLayer(gpytorch.GPModel):\n",
    "    def __init__(self, n_dims=64):\n",
    "        super(GPLayer, self).__init__(gpytorch.likelihoods.SoftmaxGaussianLikelihood(n_features=64, n_classes=10, rank=5))\n",
    "        self.latent_function = LatentFunction()\n",
    "    \n",
    "    def forward(self, x):\n",
    "        res = self.latent_function(x)\n",
    "        return res\n",
    "    "
   ]
  },
  {
   "cell_type": "code",
   "execution_count": 22,
   "metadata": {
    "collapsed": false
   },
   "outputs": [
    {
     "data": {
      "text/plain": [
       "41935"
      ]
     },
     "execution_count": 22,
     "metadata": {},
     "output_type": "execute_result"
    }
   ],
   "source": [
    "len(train_mnist)"
   ]
  },
  {
   "cell_type": "code",
   "execution_count": 23,
   "metadata": {
    "collapsed": false
   },
   "outputs": [],
   "source": [
    "deep_kernel = DeepKernel(model).cuda()\n",
    "gp_data_loader = torch.utils.data.DataLoader(train_mnist, batch_size=2048., pin_memory=True, shuffle=True)"
   ]
  },
  {
   "cell_type": "code",
   "execution_count": 25,
   "metadata": {
    "collapsed": false,
    "scrolled": true
   },
   "outputs": [],
   "source": [
    "# Find optimal model hyperparameters\n",
    "n_epochs = 0\n",
    "if n_epochs > 0:\n",
    "    deep_kernel.train()\n",
    "    optimizer = torch.optim.Adam(deep_kernel.gp_layer.parameters(), lr=0.01)\n",
    "    optimizer.n_iter = 0\n",
    "    for i in range(n_epochs):\n",
    "        for j, (train_x_batch, train_y_batch) in enumerate(gp_data_loader):\n",
    "            train_x_batch = Variable(train_x_batch).cuda()\n",
    "            train_y_batch = Variable(train_y_batch).cuda()\n",
    "            optimizer.zero_grad()\n",
    "            output = deep_kernel(train_x_batch)\n",
    "            loss = -deep_kernel.gp_layer.marginal_log_likelihood(output, train_y_batch, n_data=len(train_mnist))\n",
    "            kl = deep_kernel.gp_layer.likelihood.kl_div() / len(train_mnist)\n",
    "            loss = loss + kl\n",
    "            loss.backward()\n",
    "            optimizer.n_iter += 1\n",
    "            print('Iter %d/200 - Loss: %.3f' % (\n",
    "                i + 1, loss.data[0],\n",
    "            ))\n",
    "            optimizer.step()\n",
    "\n",
    "        deep_kernel.eval()\n",
    "        test_data_loader = torch.utils.data.DataLoader(test_mnist, shuffle=False, pin_memory=True, batch_size=256)\n",
    "\n",
    "        avg = 0.\n",
    "        i = 0.\n",
    "        for test_batch_x, test_batch_y in test_data_loader:\n",
    "            predictions = deep_kernel(Variable(test_batch_x).cuda()).argmax()\n",
    "            test_batch_y = Variable(test_batch_y).cuda()\n",
    "            avg += torch.eq(predictions, test_batch_y).float().mean().data[0]\n",
    "            i += 1.\n",
    "\n",
    "        print('Score')\n",
    "        print(avg / i)\n",
    "        deep_kernel.train()\n",
    "\n",
    "    torch.save(deep_kernel.state_dict(), '/mnt/data/dkl/mnist/gp_oneshot.dat')\n",
    "else:\n",
    "    deep_kernel.load_state_dict(torch.load('/mnt/data/dkl/mnist/gp_oneshot.dat'))"
   ]
  },
  {
   "cell_type": "code",
   "execution_count": 29,
   "metadata": {
    "collapsed": false
   },
   "outputs": [
    {
     "data": {
      "text/plain": [
       "(15, 3011)"
      ]
     },
     "execution_count": 29,
     "metadata": {},
     "output_type": "execute_result"
    }
   ],
   "source": [
    "train_mnist = torchvision.datasets.MNIST('/mnt/bigboi/datasets/mnist/', train=True,\n",
    "                                         download=True, transform=transforms.Compose([\n",
    "                       transforms.ToTensor(),\n",
    "                       transforms.Normalize((0.1307,), (0.3081,))\n",
    "                   ]))                \n",
    "\n",
    "train_indices = torch.cat([\n",
    "    train_mnist.train_labels.eq(7).nonzero().squeeze()[:5],\n",
    "    train_mnist.train_labels.eq(8).nonzero().squeeze()[:5],\n",
    "    train_mnist.train_labels.eq(9).nonzero().squeeze()[:5],\n",
    "])\n",
    "train_mnist.train_data = train_mnist.train_data.index_select(0, train_indices)\n",
    "train_mnist.train_labels = train_mnist.train_labels.index_select(0, train_indices) - 7\n",
    "\n",
    "test_mnist = torchvision.datasets.MNIST('/mnt/bigboi/datasets/mnist/', train=False,\n",
    "                                        download=True, transform=transforms.Compose([\n",
    "                       transforms.ToTensor(),\n",
    "                       transforms.Normalize((0.1307,), (0.3081,))\n",
    "                   ]))\n",
    "\n",
    "test_indices = test_mnist.test_labels.ge(7).nonzero().squeeze()\n",
    "test_mnist.test_data = test_mnist.test_data.index_select(0, test_indices)\n",
    "test_mnist.test_labels = test_mnist.test_labels.index_select(0, test_indices) - 7\n",
    "\n",
    "len(train_mnist), len(test_mnist)"
   ]
  },
  {
   "cell_type": "code",
   "execution_count": 32,
   "metadata": {
    "collapsed": true
   },
   "outputs": [],
   "source": [
    "oneshot_model = DeepKernel(model).cuda()\n",
    "oneshot_model.load_state_dict(deep_kernel.state_dict())\n",
    "oneshot_model.gp_layer.likelihood = gpytorch.likelihoods.SoftmaxGaussianLikelihood(n_features=64, n_classes=10, rank=5).cuda()\n",
    "oneshot_model.gp_layer.likelihood.feature_mixing_weights.data.copy_(deep_kernel.gp_layer.likelihood.feature_mixing_weights.data)\n",
    "gp_data_loader = torch.utils.data.DataLoader(train_mnist, batch_size=2048., pin_memory=True, shuffle=True)"
   ]
  },
  {
   "cell_type": "code",
   "execution_count": 41,
   "metadata": {
    "collapsed": false
   },
   "outputs": [
    {
     "name": "stdout",
     "output_type": "stream",
     "text": [
      "Iter 1/200 - Loss: 191.454\n",
      "Iter 2/200 - Loss: -271.606\n",
      "Iter 3/200 - Loss: -526.156\n",
      "Iter 4/200 - Loss: 615.439\n",
      "Iter 5/200 - Loss: -315.562\n",
      "Iter 6/200 - Loss: -342.982\n",
      "Iter 7/200 - Loss: -563.135\n",
      "Iter 8/200 - Loss: -351.538\n",
      "Iter 9/200 - Loss: -546.044\n",
      "Iter 10/200 - Loss: -663.910\n",
      "Iter 11/200 - Loss: -412.758\n",
      "Iter 12/200 - Loss: -505.696\n",
      "Iter 13/200 - Loss: 5.316\n",
      "Iter 14/200 - Loss: 95.924\n",
      "Iter 15/200 - Loss: 85.519\n",
      "Iter 16/200 - Loss: -398.772\n",
      "Iter 17/200 - Loss: -313.777\n",
      "Iter 18/200 - Loss: -406.927\n",
      "Iter 19/200 - Loss: -449.902\n",
      "Iter 20/200 - Loss: -508.590\n",
      "Iter 21/200 - Loss: -333.222\n",
      "Iter 22/200 - Loss: -100.548\n",
      "Iter 23/200 - Loss: -633.926\n",
      "Iter 24/200 - Loss: -425.228\n",
      "Iter 25/200 - Loss: -288.740\n",
      "Iter 26/200 - Loss: -435.723\n",
      "Iter 27/200 - Loss: -476.137\n",
      "Iter 28/200 - Loss: -405.098\n",
      "Iter 29/200 - Loss: 1045.182\n",
      "Iter 30/200 - Loss: -211.708\n",
      "Iter 31/200 - Loss: -482.620\n",
      "Iter 32/200 - Loss: -381.929\n",
      "Iter 33/200 - Loss: -819.509\n",
      "Iter 34/200 - Loss: -685.152\n",
      "Iter 35/200 - Loss: -313.424\n",
      "Iter 36/200 - Loss: -375.797\n",
      "Iter 37/200 - Loss: -336.243\n",
      "Iter 38/200 - Loss: -114.364\n",
      "Iter 39/200 - Loss: -356.530\n",
      "Iter 40/200 - Loss: -274.005\n",
      "Iter 41/200 - Loss: -329.550\n",
      "Iter 42/200 - Loss: -432.568\n",
      "Iter 43/200 - Loss: -400.514\n",
      "Iter 44/200 - Loss: 327.711\n",
      "Iter 45/200 - Loss: -445.075\n",
      "Iter 46/200 - Loss: -349.405\n",
      "Iter 47/200 - Loss: -166.526\n",
      "Iter 48/200 - Loss: -206.480\n",
      "Iter 49/200 - Loss: -548.017\n",
      "Iter 50/200 - Loss: -410.256\n",
      "Iter 51/200 - Loss: -476.895\n",
      "Iter 52/200 - Loss: -554.344\n",
      "Iter 53/200 - Loss: -714.416\n",
      "Iter 54/200 - Loss: -114.763\n",
      "Iter 55/200 - Loss: -59.425\n",
      "Iter 56/200 - Loss: -485.631\n",
      "Iter 57/200 - Loss: -501.720\n",
      "Iter 58/200 - Loss: 984.997\n",
      "Iter 59/200 - Loss: -474.144\n",
      "Iter 60/200 - Loss: -381.505\n",
      "Iter 61/200 - Loss: 199.209\n",
      "Iter 62/200 - Loss: -578.941\n",
      "Iter 63/200 - Loss: -496.001\n",
      "Iter 64/200 - Loss: -382.019\n",
      "Iter 65/200 - Loss: -662.758\n",
      "Iter 66/200 - Loss: -671.503\n",
      "Iter 67/200 - Loss: -541.141\n",
      "Iter 68/200 - Loss: -61.519\n",
      "Iter 69/200 - Loss: -177.498\n",
      "Iter 70/200 - Loss: -338.995\n",
      "Iter 71/200 - Loss: -614.179\n",
      "Iter 72/200 - Loss: -124.908\n",
      "Iter 73/200 - Loss: -317.096\n",
      "Iter 74/200 - Loss: -683.289\n",
      "Iter 75/200 - Loss: -92.711\n",
      "Iter 76/200 - Loss: -61.901\n",
      "Iter 77/200 - Loss: -341.647\n",
      "Iter 78/200 - Loss: 221.284\n",
      "Iter 79/200 - Loss: 221.992\n",
      "Iter 80/200 - Loss: -174.527\n",
      "Iter 81/200 - Loss: -13.369\n",
      "Iter 82/200 - Loss: -335.463\n",
      "Iter 83/200 - Loss: 167.001\n",
      "Iter 84/200 - Loss: -609.368\n",
      "Iter 85/200 - Loss: -662.926\n",
      "Iter 86/200 - Loss: -639.198\n",
      "Iter 87/200 - Loss: -473.782\n",
      "Iter 88/200 - Loss: -362.429\n",
      "Iter 89/200 - Loss: -616.394\n",
      "Iter 90/200 - Loss: -446.294\n",
      "Iter 91/200 - Loss: -570.802\n",
      "Iter 92/200 - Loss: -665.896\n",
      "Iter 93/200 - Loss: -550.051\n",
      "Iter 94/200 - Loss: -234.351\n",
      "Iter 95/200 - Loss: -516.695\n",
      "Iter 96/200 - Loss: -590.838\n",
      "Iter 97/200 - Loss: -555.795\n",
      "Iter 98/200 - Loss: 1377.151\n",
      "Iter 99/200 - Loss: -764.386\n",
      "Iter 100/200 - Loss: -651.834\n",
      "Score\n",
      "0.835548544923\n"
     ]
    }
   ],
   "source": [
    "# Find optimal model hyperparameters\n",
    "oneshot_model.train()\n",
    "oneshot_model.feature_extractor.eval()\n",
    "oneshot_model.bottleneck.eval()\n",
    "\n",
    "optimizer = torch.optim.Adam(oneshot_model.gp_layer.likelihood.parameters(), lr=0.01)\n",
    "optimizer.n_iter = 0\n",
    "for i in range(100):\n",
    "    for j, (train_x_batch, train_y_batch) in enumerate(gp_data_loader):\n",
    "        train_x_batch = Variable(train_x_batch).cuda()\n",
    "        train_y_batch = Variable(train_y_batch).cuda()\n",
    "        optimizer.zero_grad()\n",
    "        output = oneshot_model(train_x_batch)\n",
    "        loss = -oneshot_model.gp_layer.marginal_log_likelihood(output, train_y_batch, n_data=len(train_mnist))\n",
    "        kl = oneshot_model.gp_layer.likelihood.kl_div() / len(train_mnist)\n",
    "        loss = loss + kl\n",
    "        loss.backward()\n",
    "        optimizer.n_iter += 1\n",
    "        print('Iter %d/200 - Loss: %.3f' % (\n",
    "            i + 1, loss.data[0],\n",
    "        ))\n",
    "        optimizer.step()\n",
    "\n",
    "oneshot_model.eval()\n",
    "test_data_loader = torch.utils.data.DataLoader(test_mnist, shuffle=False, pin_memory=True, batch_size=256)\n",
    "\n",
    "avg = 0.\n",
    "i = 0.\n",
    "for test_batch_x, test_batch_y in test_data_loader:\n",
    "    predictions = oneshot_model(Variable(test_batch_x).cuda()).argmax()\n",
    "    test_batch_y = Variable(test_batch_y).cuda()\n",
    "    avg += torch.eq(predictions, test_batch_y).float().mean().data[0]\n",
    "    i += 1.\n",
    "\n",
    "print('Score')\n",
    "print(avg / i)"
   ]
  },
  {
   "cell_type": "code",
   "execution_count": null,
   "metadata": {
    "collapsed": true
   },
   "outputs": [],
   "source": []
  }
 ],
 "metadata": {
  "anaconda-cloud": {},
  "kernelspec": {
   "display_name": "Python [default]",
   "language": "python",
   "name": "python2"
  },
  "language_info": {
   "codemirror_mode": {
    "name": "ipython",
    "version": 2
   },
   "file_extension": ".py",
   "mimetype": "text/x-python",
   "name": "python",
   "nbconvert_exporter": "python",
   "pygments_lexer": "ipython2",
   "version": "2.7.12"
  }
 },
 "nbformat": 4,
 "nbformat_minor": 1
}
