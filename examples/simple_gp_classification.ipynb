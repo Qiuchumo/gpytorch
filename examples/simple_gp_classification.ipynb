{
 "cells": [
  {
   "cell_type": "code",
   "execution_count": 1,
   "metadata": {
    "collapsed": false
   },
   "outputs": [],
   "source": [
    "import math\n",
    "import torch\n",
    "import gpytorch\n",
    "from matplotlib import pyplot as plt\n",
    "\n",
    "%matplotlib inline\n",
    "%load_ext autoreload\n",
    "%autoreload 2"
   ]
  },
  {
   "cell_type": "code",
   "execution_count": 2,
   "metadata": {
    "collapsed": true
   },
   "outputs": [],
   "source": [
    "from torch.autograd import Variable\n",
    "train_x = Variable(torch.linspace(0, 1, 10))\n",
    "train_y = Variable(torch.sign(torch.cos(train_x.data * (4 * math.pi))))"
   ]
  },
  {
   "cell_type": "code",
   "execution_count": 3,
   "metadata": {
    "collapsed": false
   },
   "outputs": [],
   "source": [
    "from torch import nn, optim\n",
    "from gpytorch.kernels import RBFKernel\n",
    "from gpytorch.means import ConstantMean\n",
    "from gpytorch.likelihoods import GaussianLikelihood, BernoulliLikelihood\n",
    "from gpytorch.random_variables import GaussianRandomVariable"
   ]
  },
  {
   "cell_type": "code",
   "execution_count": 4,
   "metadata": {
    "collapsed": false
   },
   "outputs": [],
   "source": [
    "class LatentFunction(gpytorch.InducingPointModule):\n",
    "    def __init__(self):\n",
    "        super(LatentFunction, self).__init__(inducing_points=train_x.data)\n",
    "        self.mean_module = ConstantMean(constant_bounds=[-1e-5,1e-5])\n",
    "        self.covar_module = RBFKernel(log_lengthscale_bounds=(-5, 6))\n",
    "        self.register_parameter('log_outputscale', nn.Parameter(torch.Tensor([0])), bounds=(-5,6))\n",
    "        \n",
    "    def forward(self,x):\n",
    "        mean_x = self.mean_module(x)\n",
    "        covar_x = self.covar_module(x)\n",
    "        covar_x = covar_x.mul(self.log_outputscale.exp().expand_as(covar_x))\n",
    "        latent_pred = GaussianRandomVariable(mean_x, covar_x)\n",
    "        return latent_pred\n",
    "\n",
    "class GPClassificationModel(gpytorch.GPModel):\n",
    "    def __init__(self):\n",
    "        super(GPClassificationModel,self).__init__(BernoulliLikelihood())\n",
    "        self.latent_function = LatentFunction()\n",
    "        \n",
    "    def forward(self, x):\n",
    "        return self.latent_function(x)\n",
    "    \n",
    "\n",
    "\n",
    "model = GPClassificationModel()\n",
    "# model.condition(train_x, train_y)"
   ]
  },
  {
   "cell_type": "code",
   "execution_count": 5,
   "metadata": {
    "collapsed": true
   },
   "outputs": [],
   "source": [
    "def plot_model_and_predictions(model, plot_train_data=True):\n",
    "    f, observed_ax = plt.subplots(1, 1, figsize=(4, 3))\n",
    "    test_x = Variable(torch.linspace(0, 1, 26))\n",
    "    observed_pred = model(test_x)\n",
    "\n",
    "    def ax_plot(ax, rand_var, title):\n",
    "        if plot_train_data:\n",
    "            ax.plot(train_x.data.numpy(), train_y.data.numpy(), 'k*')\n",
    "        pred_labels = rand_var.mean().ge(0.5).float().mul(2).sub(1)\n",
    "        ax.plot(test_x.data.numpy(), pred_labels.data.numpy(), 'b')\n",
    "        ax.set_ylim([-3, 3])\n",
    "        ax.legend(['Observed Data', 'Mean', 'Confidence'])\n",
    "        ax.set_title(title)\n",
    "    \n",
    "    ax_plot(observed_ax, observed_pred, 'Observed Values (Likelihood)')\n",
    "    \n",
    "    return f"
   ]
  },
  {
   "cell_type": "code",
   "execution_count": 6,
   "metadata": {
    "collapsed": false,
    "scrolled": true
   },
   "outputs": [
    {
     "data": {
      "image/png": "[encoded data removed]",
      "text/plain": [
       "<matplotlib.figure.Figure at 0x7f055f6755d0>"
      ]
     },
     "metadata": {},
     "output_type": "display_data"
    }
   ],
   "source": [
    "model.eval()\n",
    "f = plot_model_and_predictions(model, plot_train_data=False)"
   ]
  },
  {
   "cell_type": "code",
   "execution_count": 7,
   "metadata": {
    "collapsed": false,
    "scrolled": true
   },
   "outputs": [
    {
     "name": "stdout",
     "output_type": "stream",
     "text": [
      "Iter 1/100 - Loss: 315.186   log_lengthscale: 0.000\n",
      "Iter 2/100 - Loss: 201.537   log_lengthscale: -0.100\n",
      "Iter 3/100 - Loss: 129.577   log_lengthscale: -0.200\n",
      "Iter 4/100 - Loss: 90.342   log_lengthscale: -0.294\n",
      "Iter 5/100 - Loss: 53.995   log_lengthscale: -0.387\n",
      "Iter 6/100 - Loss: 27.512   log_lengthscale: -0.478\n",
      "Iter 7/100 - Loss: 26.134   log_lengthscale: -0.569\n",
      "Iter 8/100 - Loss: 8.635   log_lengthscale: -0.658\n",
      "Iter 9/100 - Loss: 16.435   log_lengthscale: -0.749\n",
      "Iter 10/100 - Loss: 17.795   log_lengthscale: -0.830\n",
      "Iter 11/100 - Loss: 13.820   log_lengthscale: -0.913\n",
      "Iter 12/100 - Loss: 16.706   log_lengthscale: -0.993\n",
      "Iter 13/100 - Loss: 16.943   log_lengthscale: -1.068\n",
      "Iter 14/100 - Loss: 14.546   log_lengthscale: -1.141\n",
      "Iter 15/100 - Loss: 16.193   log_lengthscale: -1.211\n",
      "Iter 16/100 - Loss: 13.991   log_lengthscale: -1.280\n",
      "Iter 17/100 - Loss: 6.882   log_lengthscale: -1.344\n",
      "Iter 18/100 - Loss: 7.796   log_lengthscale: -1.408\n",
      "Iter 19/100 - Loss: 9.274   log_lengthscale: -1.470\n",
      "Iter 20/100 - Loss: 5.477   log_lengthscale: -1.529\n",
      "Iter 21/100 - Loss: 8.444   log_lengthscale: -1.587\n",
      "Iter 22/100 - Loss: 4.538   log_lengthscale: -1.642\n",
      "Iter 23/100 - Loss: 5.370   log_lengthscale: -1.694\n",
      "Iter 24/100 - Loss: 2.204   log_lengthscale: -1.744\n",
      "Iter 25/100 - Loss: 2.805   log_lengthscale: -1.790\n",
      "Iter 26/100 - Loss: 2.806   log_lengthscale: -1.834\n",
      "Iter 27/100 - Loss: 4.062   log_lengthscale: -1.876\n",
      "Iter 28/100 - Loss: 1.546   log_lengthscale: -1.915\n",
      "Iter 29/100 - Loss: 3.986   log_lengthscale: -1.951\n",
      "Iter 30/100 - Loss: 2.173   log_lengthscale: -1.986\n",
      "Iter 31/100 - Loss: 2.222   log_lengthscale: -2.019\n",
      "Iter 32/100 - Loss: 2.534   log_lengthscale: -2.048\n",
      "Iter 33/100 - Loss: 2.203   log_lengthscale: -2.075\n",
      "Iter 34/100 - Loss: 2.696   log_lengthscale: -2.098\n",
      "Iter 35/100 - Loss: 2.142   log_lengthscale: -2.120\n",
      "Iter 36/100 - Loss: 2.752   log_lengthscale: -2.139\n",
      "Iter 37/100 - Loss: 1.961   log_lengthscale: -2.155\n",
      "Iter 38/100 - Loss: 1.958   log_lengthscale: -2.171\n",
      "Iter 39/100 - Loss: 2.340   log_lengthscale: -2.187\n",
      "Iter 40/100 - Loss: 2.232   log_lengthscale: -2.201\n",
      "Iter 41/100 - Loss: 2.169   log_lengthscale: -2.214\n",
      "Iter 42/100 - Loss: 2.934   log_lengthscale: -2.226\n",
      "Iter 43/100 - Loss: 1.841   log_lengthscale: -2.237\n",
      "Iter 44/100 - Loss: 3.088   log_lengthscale: -2.245\n",
      "Iter 45/100 - Loss: 2.613   log_lengthscale: -2.252\n",
      "Iter 46/100 - Loss: 1.336   log_lengthscale: -2.258\n",
      "Iter 47/100 - Loss: 2.739   log_lengthscale: -2.265\n",
      "Iter 48/100 - Loss: 2.189   log_lengthscale: -2.270\n",
      "Iter 49/100 - Loss: 2.479   log_lengthscale: -2.274\n",
      "Iter 50/100 - Loss: 0.880   log_lengthscale: -2.276\n",
      "Iter 51/100 - Loss: 1.529   log_lengthscale: -2.277\n",
      "Iter 52/100 - Loss: 2.113   log_lengthscale: -2.278\n",
      "Iter 53/100 - Loss: 1.762   log_lengthscale: -2.280\n",
      "Iter 54/100 - Loss: 1.105   log_lengthscale: -2.281\n",
      "Iter 55/100 - Loss: 1.629   log_lengthscale: -2.283\n",
      "Iter 56/100 - Loss: 2.329   log_lengthscale: -2.284\n",
      "Iter 57/100 - Loss: 1.709   log_lengthscale: -2.285\n",
      "Iter 58/100 - Loss: 1.224   log_lengthscale: -2.286\n",
      "Iter 59/100 - Loss: 1.585   log_lengthscale: -2.286\n",
      "Iter 60/100 - Loss: 1.628   log_lengthscale: -2.287\n",
      "Iter 61/100 - Loss: 1.358   log_lengthscale: -2.286\n",
      "Iter 62/100 - Loss: 1.756   log_lengthscale: -2.285\n",
      "Iter 63/100 - Loss: 1.933   log_lengthscale: -2.283\n",
      "Iter 64/100 - Loss: 2.395   log_lengthscale: -2.282\n",
      "Iter 65/100 - Loss: 1.685   log_lengthscale: -2.281\n",
      "Iter 66/100 - Loss: 1.452   log_lengthscale: -2.279\n",
      "Iter 67/100 - Loss: 1.401   log_lengthscale: -2.278\n",
      "Iter 68/100 - Loss: 1.843   log_lengthscale: -2.276\n",
      "Iter 69/100 - Loss: 1.543   log_lengthscale: -2.274\n",
      "Iter 70/100 - Loss: 1.447   log_lengthscale: -2.271\n",
      "Iter 71/100 - Loss: 1.388   log_lengthscale: -2.269\n",
      "Iter 72/100 - Loss: 1.600   log_lengthscale: -2.267\n",
      "Iter 73/100 - Loss: 1.578   log_lengthscale: -2.265\n",
      "Iter 74/100 - Loss: 1.742   log_lengthscale: -2.263\n",
      "Iter 75/100 - Loss: 1.644   log_lengthscale: -2.261\n",
      "Iter 76/100 - Loss: 1.140   log_lengthscale: -2.259\n",
      "Iter 77/100 - Loss: 1.925   log_lengthscale: -2.256\n",
      "Iter 78/100 - Loss: 1.768   log_lengthscale: -2.254\n",
      "Iter 79/100 - Loss: 1.475   log_lengthscale: -2.252\n",
      "Iter 80/100 - Loss: 1.942   log_lengthscale: -2.251\n",
      "Iter 81/100 - Loss: 1.340   log_lengthscale: -2.249\n",
      "Iter 82/100 - Loss: 1.502   log_lengthscale: -2.247\n",
      "Iter 83/100 - Loss: 1.051   log_lengthscale: -2.245\n",
      "Iter 84/100 - Loss: 1.451   log_lengthscale: -2.243\n",
      "Iter 85/100 - Loss: 1.918   log_lengthscale: -2.242\n",
      "Iter 86/100 - Loss: 1.368   log_lengthscale: -2.240\n",
      "Iter 87/100 - Loss: 1.142   log_lengthscale: -2.239\n",
      "Iter 88/100 - Loss: 1.401   log_lengthscale: -2.237\n",
      "Iter 89/100 - Loss: 1.297   log_lengthscale: -2.235\n",
      "Iter 90/100 - Loss: 1.134   log_lengthscale: -2.234\n",
      "Iter 91/100 - Loss: 1.465   log_lengthscale: -2.231\n",
      "Iter 92/100 - Loss: 1.701   log_lengthscale: -2.229\n",
      "Iter 93/100 - Loss: 1.430   log_lengthscale: -2.227\n",
      "Iter 94/100 - Loss: 1.197   log_lengthscale: -2.225\n",
      "Iter 95/100 - Loss: 0.725   log_lengthscale: -2.223\n",
      "Iter 96/100 - Loss: 1.016   log_lengthscale: -2.220\n",
      "Iter 97/100 - Loss: 1.154   log_lengthscale: -2.218\n",
      "Iter 98/100 - Loss: 1.431   log_lengthscale: -2.216\n",
      "Iter 99/100 - Loss: 1.288   log_lengthscale: -2.213\n",
      "Iter 100/100 - Loss: 1.243   log_lengthscale: -2.211\n"
     ]
    }
   ],
   "source": [
    "# Find optimal model hyperparameters\n",
    "model.train()\n",
    "optimizer = optim.Adam(model.parameters(), lr=0.1)\n",
    "optimizer.n_iter = 0\n",
    "for i in range(100):\n",
    "    optimizer.zero_grad()\n",
    "    output = model.forward(train_x)\n",
    "    loss = -model.marginal_log_likelihood(output, train_y)\n",
    "    loss.backward()\n",
    "    optimizer.n_iter += 1\n",
    "    print('Iter %d/100 - Loss: %.3f   log_lengthscale: %.3f' % (\n",
    "        i + 1, loss.data[0],\n",
    "        model.latent_function.covar_module.log_lengthscale.data.squeeze()[0],\n",
    "    ))\n",
    "    optimizer.step()\n",
    "    \n",
    "# Set back to eval mode\n",
    "model.eval()\n",
    "None"
   ]
  },
  {
   "cell_type": "code",
   "execution_count": 8,
   "metadata": {
    "collapsed": false
   },
   "outputs": [
    {
     "data": {
      "image/png": "[encoded data removed]",
      "text/plain": [
       "<matplotlib.figure.Figure at 0x7f055f0abd90>"
      ]
     },
     "metadata": {},
     "output_type": "display_data"
    }
   ],
   "source": [
    "f = plot_model_and_predictions(model)"
   ]
  }
 ],
 "metadata": {
  "anaconda-cloud": {},
  "kernelspec": {
   "display_name": "Python [default]",
   "language": "python",
   "name": "python2"
  },
  "language_info": {
   "codemirror_mode": {
    "name": "ipython",
    "version": 2
   },
   "file_extension": ".py",
   "mimetype": "text/x-python",
   "name": "python",
   "nbconvert_exporter": "python",
   "pygments_lexer": "ipython2",
   "version": "2.7.12"
  }
 },
 "nbformat": 4,
 "nbformat_minor": 1
}
