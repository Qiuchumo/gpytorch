{
 "cells": [
  {
   "cell_type": "code",
   "execution_count": 1,
   "metadata": {
    "collapsed": false
   },
   "outputs": [],
   "source": [
    "import math\n",
    "import torch\n",
    "import gpytorch\n",
    "from matplotlib import pyplot as plt\n",
    "\n",
    "%matplotlib inline\n",
    "%load_ext autoreload\n",
    "%autoreload 2"
   ]
  },
  {
   "cell_type": "code",
   "execution_count": 2,
   "metadata": {
    "collapsed": true
   },
   "outputs": [],
   "source": [
    "from torch.autograd import Variable\n",
    "train_x = Variable(torch.linspace(0, 1, 10))\n",
    "train_y = Variable(torch.sign(torch.cos(train_x.data * (4 * math.pi))))"
   ]
  },
  {
   "cell_type": "code",
   "execution_count": 3,
   "metadata": {
    "collapsed": false
   },
   "outputs": [],
   "source": [
    "from torch import nn, optim\n",
    "from gpytorch.kernels import RBFKernel\n",
    "from gpytorch.means import ConstantMean\n",
    "from gpytorch.likelihoods import GaussianLikelihood, BernoulliLikelihood\n",
    "from gpytorch.random_variables import GaussianRandomVariable"
   ]
  },
  {
   "cell_type": "code",
   "execution_count": 4,
   "metadata": {
    "collapsed": false
   },
   "outputs": [],
   "source": [
    "class LatentFunction(gpytorch.InducingPointModule):\n",
    "    def __init__(self):\n",
    "        super(LatentFunction, self).__init__(inducing_points=train_x.data)\n",
    "        self.mean_module = ConstantMean(constant_bounds=[-1e-5,1e-5])\n",
    "        self.covar_module = RBFKernel(log_lengthscale_bounds=(-5, 6))\n",
    "        self.register_parameter('log_outputscale', nn.Parameter(torch.Tensor([0])), bounds=(-5,6))\n",
    "        \n",
    "    def forward(self,x):\n",
    "        mean_x = self.mean_module(x)\n",
    "        covar_x = self.covar_module(x)\n",
    "        covar_x = covar_x.mul(self.log_outputscale.exp().expand_as(covar_x))\n",
    "        latent_pred = GaussianRandomVariable(mean_x, covar_x)\n",
    "        return latent_pred\n",
    "\n",
    "class GPClassificationModel(gpytorch.GPModel):\n",
    "    def __init__(self):\n",
    "        super(GPClassificationModel,self).__init__(BernoulliLikelihood())\n",
    "        self.latent_function = LatentFunction()\n",
    "        \n",
    "    def forward(self, x):\n",
    "        return self.latent_function(x)\n",
    "    \n",
    "\n",
    "\n",
    "model = GPClassificationModel()\n",
    "# model.condition(train_x, train_y)"
   ]
  },
  {
   "cell_type": "code",
   "execution_count": 5,
   "metadata": {
    "collapsed": true
   },
   "outputs": [],
   "source": [
    "def plot_model_and_predictions(model, plot_train_data=True):\n",
    "    f, observed_ax = plt.subplots(1, 1, figsize=(4, 3))\n",
    "    test_x = Variable(torch.linspace(0, 1, 26))\n",
    "    observed_pred = model(test_x)\n",
    "\n",
    "    def ax_plot(ax, rand_var, title):\n",
    "        if plot_train_data:\n",
    "            ax.plot(train_x.data.numpy(), train_y.data.numpy(), 'k*')\n",
    "        pred_labels = rand_var.mean().ge(0.5).float().mul(2).sub(1)\n",
    "        ax.plot(test_x.data.numpy(), pred_labels.data.numpy(), 'b')\n",
    "        ax.set_ylim([-3, 3])\n",
    "        ax.legend(['Observed Data', 'Mean', 'Confidence'])\n",
    "        ax.set_title(title)\n",
    "    \n",
    "    ax_plot(observed_ax, observed_pred, 'Observed Values (Likelihood)')\n",
    "    \n",
    "    return f"
   ]
  },
  {
   "cell_type": "code",
   "execution_count": 6,
   "metadata": {
    "collapsed": false,
    "scrolled": true
   },
   "outputs": [
    {
     "data": {
      "image/png": "[encoded data removed]",
      "text/plain": [
       "<matplotlib.figure.Figure at 0x7fdd94e5f490>"
      ]
     },
     "metadata": {},
     "output_type": "display_data"
    }
   ],
   "source": [
    "model.eval()\n",
    "f = plot_model_and_predictions(model, plot_train_data=False)"
   ]
  },
  {
   "cell_type": "code",
   "execution_count": 7,
   "metadata": {
    "collapsed": false,
    "scrolled": true
   },
   "outputs": [
    {
     "name": "stdout",
     "output_type": "stream",
     "text": [
      "Iter 1/100 - Loss: 3183.672   log_lengthscale: 0.000\n",
      "Iter 2/100 - Loss: 1660.873   log_lengthscale: -0.100\n",
      "Iter 3/100 - Loss: 1553.662   log_lengthscale: -0.188\n",
      "Iter 4/100 - Loss: 1066.883   log_lengthscale: -0.277\n",
      "Iter 5/100 - Loss: 634.144   log_lengthscale: -0.369\n",
      "Iter 6/100 - Loss: 519.901   log_lengthscale: -0.463\n",
      "Iter 7/100 - Loss: 392.543   log_lengthscale: -0.560\n",
      "Iter 8/100 - Loss: 279.355   log_lengthscale: -0.654\n",
      "Iter 9/100 - Loss: 388.696   log_lengthscale: -0.750\n",
      "Iter 10/100 - Loss: 501.933   log_lengthscale: -0.847\n",
      "Iter 11/100 - Loss: 382.194   log_lengthscale: -0.946\n",
      "Iter 12/100 - Loss: 387.684   log_lengthscale: -1.044\n",
      "Iter 13/100 - Loss: 384.426   log_lengthscale: -1.142\n",
      "Iter 14/100 - Loss: 319.579   log_lengthscale: -1.233\n",
      "Iter 15/100 - Loss: 155.749   log_lengthscale: -1.324\n",
      "Iter 16/100 - Loss: 203.153   log_lengthscale: -1.411\n",
      "Iter 17/100 - Loss: 218.060   log_lengthscale: -1.495\n",
      "Iter 18/100 - Loss: 108.632   log_lengthscale: -1.574\n",
      "Iter 19/100 - Loss: 140.705   log_lengthscale: -1.650\n",
      "Iter 20/100 - Loss: 177.158   log_lengthscale: -1.721\n",
      "Iter 21/100 - Loss: 156.014   log_lengthscale: -1.788\n",
      "Iter 22/100 - Loss: 118.034   log_lengthscale: -1.851\n",
      "Iter 23/100 - Loss: 122.903   log_lengthscale: -1.914\n",
      "Iter 24/100 - Loss: 99.934   log_lengthscale: -1.974\n",
      "Iter 25/100 - Loss: 44.844   log_lengthscale: -2.030\n",
      "Iter 26/100 - Loss: 85.057   log_lengthscale: -2.082\n",
      "Iter 27/100 - Loss: 84.544   log_lengthscale: -2.133\n",
      "Iter 28/100 - Loss: 25.594   log_lengthscale: -2.180\n",
      "Iter 29/100 - Loss: 68.965   log_lengthscale: -2.226\n",
      "Iter 30/100 - Loss: 81.939   log_lengthscale: -2.272\n",
      "Iter 31/100 - Loss: 40.993   log_lengthscale: -2.315\n",
      "Iter 32/100 - Loss: 44.438   log_lengthscale: -2.354\n",
      "Iter 33/100 - Loss: 85.482   log_lengthscale: -2.394\n",
      "Iter 34/100 - Loss: 31.087   log_lengthscale: -2.432\n",
      "Iter 35/100 - Loss: 7.384   log_lengthscale: -2.466\n",
      "Iter 36/100 - Loss: 73.775   log_lengthscale: -2.498\n",
      "Iter 37/100 - Loss: 61.525   log_lengthscale: -2.528\n",
      "Iter 38/100 - Loss: 25.253   log_lengthscale: -2.556\n",
      "Iter 39/100 - Loss: 22.653   log_lengthscale: -2.583\n",
      "Iter 40/100 - Loss: 55.528   log_lengthscale: -2.610\n",
      "Iter 41/100 - Loss: 36.176   log_lengthscale: -2.637\n",
      "Iter 42/100 - Loss: 33.082   log_lengthscale: -2.664\n",
      "Iter 43/100 - Loss: 22.060   log_lengthscale: -2.690\n",
      "Iter 44/100 - Loss: 21.637   log_lengthscale: -2.714\n",
      "Iter 45/100 - Loss: 35.816   log_lengthscale: -2.737\n",
      "Iter 46/100 - Loss: 24.961   log_lengthscale: -2.761\n",
      "Iter 47/100 - Loss: 32.537   log_lengthscale: -2.785\n",
      "Iter 48/100 - Loss: 31.675   log_lengthscale: -2.808\n",
      "Iter 49/100 - Loss: 23.023   log_lengthscale: -2.831\n",
      "Iter 50/100 - Loss: 27.313   log_lengthscale: -2.853\n",
      "Iter 51/100 - Loss: 26.328   log_lengthscale: -2.874\n",
      "Iter 52/100 - Loss: 27.919   log_lengthscale: -2.893\n",
      "Iter 53/100 - Loss: 26.072   log_lengthscale: -2.913\n",
      "Iter 54/100 - Loss: 19.421   log_lengthscale: -2.930\n",
      "Iter 55/100 - Loss: 25.385   log_lengthscale: -2.947\n",
      "Iter 56/100 - Loss: 28.226   log_lengthscale: -2.961\n",
      "Iter 57/100 - Loss: 25.415   log_lengthscale: -2.975\n",
      "Iter 58/100 - Loss: 18.482   log_lengthscale: -2.988\n",
      "Iter 59/100 - Loss: 19.058   log_lengthscale: -3.000\n",
      "Iter 60/100 - Loss: 24.312   log_lengthscale: -3.010\n",
      "Iter 61/100 - Loss: 23.101   log_lengthscale: -3.020\n",
      "Iter 62/100 - Loss: 21.951   log_lengthscale: -3.029\n",
      "Iter 63/100 - Loss: 23.489   log_lengthscale: -3.037\n",
      "Iter 64/100 - Loss: 21.047   log_lengthscale: -3.044\n",
      "Iter 65/100 - Loss: 24.778   log_lengthscale: -3.050\n",
      "Iter 66/100 - Loss: 22.395   log_lengthscale: -3.057\n",
      "Iter 67/100 - Loss: 19.653   log_lengthscale: -3.062\n",
      "Iter 68/100 - Loss: 21.806   log_lengthscale: -3.067\n",
      "Iter 69/100 - Loss: 18.375   log_lengthscale: -3.072\n",
      "Iter 70/100 - Loss: 23.416   log_lengthscale: -3.076\n",
      "Iter 71/100 - Loss: 20.125   log_lengthscale: -3.080\n",
      "Iter 72/100 - Loss: 22.123   log_lengthscale: -3.083\n",
      "Iter 73/100 - Loss: 22.268   log_lengthscale: -3.085\n",
      "Iter 74/100 - Loss: 20.606   log_lengthscale: -3.088\n",
      "Iter 75/100 - Loss: 24.978   log_lengthscale: -3.089\n",
      "Iter 76/100 - Loss: 24.773   log_lengthscale: -3.091\n",
      "Iter 77/100 - Loss: 19.639   log_lengthscale: -3.092\n",
      "Iter 78/100 - Loss: 16.785   log_lengthscale: -3.094\n",
      "Iter 79/100 - Loss: 17.794   log_lengthscale: -3.096\n",
      "Iter 80/100 - Loss: 19.995   log_lengthscale: -3.097\n",
      "Iter 81/100 - Loss: 20.328   log_lengthscale: -3.098\n",
      "Iter 82/100 - Loss: 18.986   log_lengthscale: -3.099\n",
      "Iter 83/100 - Loss: 17.997   log_lengthscale: -3.100\n",
      "Iter 84/100 - Loss: 18.612   log_lengthscale: -3.101\n",
      "Iter 85/100 - Loss: 16.827   log_lengthscale: -3.101\n",
      "Iter 86/100 - Loss: 22.040   log_lengthscale: -3.102\n",
      "Iter 87/100 - Loss: 18.750   log_lengthscale: -3.103\n",
      "Iter 88/100 - Loss: 19.255   log_lengthscale: -3.103\n",
      "Iter 89/100 - Loss: 15.398   log_lengthscale: -3.104\n",
      "Iter 90/100 - Loss: 19.778   log_lengthscale: -3.105\n",
      "Iter 91/100 - Loss: 19.206   log_lengthscale: -3.105\n",
      "Iter 92/100 - Loss: 17.566   log_lengthscale: -3.106\n",
      "Iter 93/100 - Loss: 19.888   log_lengthscale: -3.106\n",
      "Iter 94/100 - Loss: 18.377   log_lengthscale: -3.107\n",
      "Iter 95/100 - Loss: 16.614   log_lengthscale: -3.107\n",
      "Iter 96/100 - Loss: 18.993   log_lengthscale: -3.107\n",
      "Iter 97/100 - Loss: 19.421   log_lengthscale: -3.107\n",
      "Iter 98/100 - Loss: 18.162   log_lengthscale: -3.107\n",
      "Iter 99/100 - Loss: 15.516   log_lengthscale: -3.107\n",
      "Iter 100/100 - Loss: 19.996   log_lengthscale: -3.107\n"
     ]
    }
   ],
   "source": [
    "# Find optimal model hyperparameters\n",
    "model.train()\n",
    "optimizer = optim.Adam(model.parameters(), lr=0.1)\n",
    "optimizer.n_iter = 0\n",
    "for i in range(100):\n",
    "    optimizer.zero_grad()\n",
    "    output = model.forward(train_x)\n",
    "    loss = -model.marginal_log_likelihood(output, train_y)\n",
    "    loss.backward()\n",
    "    optimizer.n_iter += 1\n",
    "    print('Iter %d/100 - Loss: %.3f   log_lengthscale: %.3f' % (\n",
    "        i + 1, loss.data[0],\n",
    "        model.latent_function.covar_module.log_lengthscale.data.squeeze()[0],\n",
    "    ))\n",
    "    optimizer.step()\n",
    "    \n",
    "# Set back to eval mode\n",
    "model.eval()\n",
    "None"
   ]
  },
  {
   "cell_type": "code",
   "execution_count": 8,
   "metadata": {
    "collapsed": false
   },
   "outputs": [
    {
     "data": {
      "image/png": "[encoded data removed]",
      "text/plain": [
       "<matplotlib.figure.Figure at 0x7fdd94dcbb50>"
      ]
     },
     "metadata": {},
     "output_type": "display_data"
    }
   ],
   "source": [
    "model.condition(train_x, train_y)\n",
    "f = plot_model_and_predictions(model)"
   ]
  }
 ],
 "metadata": {
  "anaconda-cloud": {},
  "kernelspec": {
   "display_name": "Python [default]",
   "language": "python",
   "name": "python2"
  },
  "language_info": {
   "codemirror_mode": {
    "name": "ipython",
    "version": 2
   },
   "file_extension": ".py",
   "mimetype": "text/x-python",
   "name": "python",
   "nbconvert_exporter": "python",
   "pygments_lexer": "ipython2",
   "version": "2.7.12"
  }
 },
 "nbformat": 4,
 "nbformat_minor": 1
}
