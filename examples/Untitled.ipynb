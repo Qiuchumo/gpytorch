{
 "cells": [
  {
   "cell_type": "code",
   "execution_count": 3,
   "metadata": {
    "collapsed": true
   },
   "outputs": [],
   "source": [
    "import gpytorch\n",
    "import torch\n",
    "from gpytorch.kernels import RBFKernel\n",
    "\n",
    "%matplotlib inline\n",
    "%load_ext autoreload\n",
    "%autoreload 2"
   ]
  },
  {
   "cell_type": "code",
   "execution_count": 43,
   "metadata": {
    "collapsed": false
   },
   "outputs": [],
   "source": [
    "N = 10000\n",
    "s = 5000\n",
    "\n",
    "from torch.autograd import Variable\n",
    "x = Variable(torch.randn(N, 1))\n",
    "x2 = Variable(torch.randn(N, 1))\n",
    "covar_module = RBFKernel(log_lengthscale_bounds=(-2, -2))\n",
    "covar_module._set_conditioning_flag(True)\n",
    "covar_x1 = covar_module(x)\n",
    "covar_x2 = covar_module(x2)"
   ]
  },
  {
   "cell_type": "code",
   "execution_count": 44,
   "metadata": {
    "collapsed": false
   },
   "outputs": [],
   "source": [
    "v = Variable(torch.randn(N).abs())\n",
    "Dv = torch.diag(v)\n",
    "actual = (covar_x1 * covar_x2).matmul(v).data"
   ]
  },
  {
   "cell_type": "code",
   "execution_count": 52,
   "metadata": {
    "collapsed": false
   },
   "outputs": [],
   "source": [
    "samples = Variable(torch.randn(N, s))\n",
    "denominator = (samples * samples).sum(1)\n",
    "res = (samples * (covar_x1).matmul(samples)).sum(1) / denominator\n",
    "res_trace = 1./s * (samples * (covar_x1).matmul(samples)).sum()"
   ]
  },
  {
   "cell_type": "code",
   "execution_count": 51,
   "metadata": {
    "collapsed": false
   },
   "outputs": [
    {
     "data": {
      "text/plain": [
       "(Variable containing:\n",
       "  3.0005\n",
       " [torch.FloatTensor of size 1], Variable containing:\n",
       " -1.2049\n",
       " [torch.FloatTensor of size 1], Variable containing:\n",
       "  1.0025\n",
       " [torch.FloatTensor of size 1], Variable containing:\n",
       "  0.2601\n",
       " [torch.FloatTensor of size 1])"
      ]
     },
     "execution_count": 51,
     "metadata": {},
     "output_type": "execute_result"
    }
   ],
   "source": [
    "torch.max(res), torch.min(res), torch.mean(res),  .var(res)"
   ]
  },
  {
   "cell_type": "code",
   "execution_count": 53,
   "metadata": {
    "collapsed": false
   },
   "outputs": [
    {
     "name": "stdout",
     "output_type": "stream",
     "text": [
      "Variable containing:\n",
      " 9920.1396\n",
      "[torch.FloatTensor of size 1]\n",
      "\n"
     ]
    }
   ],
   "source": [
    "print res_trace"
   ]
  },
  {
   "cell_type": "code",
   "execution_count": 54,
   "metadata": {
    "collapsed": false
   },
   "outputs": [
    {
     "data": {
      "text/plain": [
       "Variable containing:\n",
       " 0\n",
       " 0\n",
       " 0\n",
       "⋮ \n",
       " 0\n",
       " 0\n",
       " 0\n",
       "[torch.FloatTensor of size 10000]"
      ]
     },
     "execution_count": 54,
     "metadata": {},
     "output_type": "execute_result"
    }
   ],
   "source": [
    "torch.diag(Dv.matmul(covar_x1)) - torch.diag(v * covar_x1)"
   ]
  },
  {
   "cell_type": "code",
   "execution_count": null,
   "metadata": {
    "collapsed": true
   },
   "outputs": [],
   "source": []
  }
 ],
 "metadata": {
  "kernelspec": {
   "display_name": "Python 2",
   "language": "python",
   "name": "python2"
  },
  "language_info": {
   "codemirror_mode": {
    "name": "ipython",
    "version": 2
   },
   "file_extension": ".py",
   "mimetype": "text/x-python",
   "name": "python",
   "nbconvert_exporter": "python",
   "pygments_lexer": "ipython2",
   "version": "2.7.13"
  }
 },
 "nbformat": 4,
 "nbformat_minor": 0
}
