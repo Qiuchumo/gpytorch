{
 "cells": [
  {
   "cell_type": "code",
   "execution_count": 1,
   "metadata": {
    "collapsed": true
   },
   "outputs": [],
   "source": [
    "import math\n",
    "import torch\n",
    "import gpytorch\n",
    "from matplotlib import pyplot as plt\n",
    "\n",
    "%matplotlib inline\n",
    "%load_ext autoreload\n",
    "%autoreload 2"
   ]
  },
  {
   "cell_type": "code",
   "execution_count": 2,
   "metadata": {
    "collapsed": true
   },
   "outputs": [],
   "source": [
    "from torch.autograd import Variable\n",
    "train_x = Variable(torch.linspace(0, 1, 11))\n",
    "train_y = Variable(torch.sin(train_x.data * (2 * math.pi)) + torch.randn(train_x.size()) * 0.2)"
   ]
  },
  {
   "cell_type": "code",
   "execution_count": 3,
   "metadata": {
    "collapsed": true
   },
   "outputs": [],
   "source": [
    "from torch import optim\n",
    "from gpytorch.kernels import RBFKernel\n",
    "from gpytorch.means import ConstantMean\n",
    "from gpytorch.likelihoods import GaussianLikelihood\n",
    "from gpytorch.random_variables import GaussianRandomVariable"
   ]
  },
  {
   "cell_type": "code",
   "execution_count": 4,
   "metadata": {
    "collapsed": false
   },
   "outputs": [],
   "source": [
    "class ExactGPModel(gpytorch.GPModel):\n",
    "    def __init__(self):\n",
    "        super(ExactGPModel,self).__init__(GaussianLikelihood(log_noise_bounds=(-5, 5)))\n",
    "        self.mean_module = ConstantMean(constant_bounds=(-1, 1))\n",
    "        self.covar_module = RBFKernel(log_lengthscale_bounds=(-5, 5))\n",
    "    \n",
    "    def forward(self,x):\n",
    "        mean_x = self.mean_module(x)\n",
    "        covar_x = self.covar_module(x)\n",
    "        return GaussianRandomVariable(mean_x, covar_x)\n",
    "\n",
    "model = ExactGPModel()"
   ]
  },
  {
   "cell_type": "code",
   "execution_count": 5,
   "metadata": {
    "collapsed": true
   },
   "outputs": [],
   "source": [
    "def plot_model_and_predictions(model, plot_train_data=True):\n",
    "    f, observed_ax = plt.subplots(1, 1, figsize=(4, 3))\n",
    "    test_x = Variable(torch.linspace(0, 1, 51))\n",
    "    observed_pred = model(test_x)\n",
    "\n",
    "    def ax_plot(ax, rand_var, title):\n",
    "        lower, upper = rand_var.confidence_region()\n",
    "        if plot_train_data:\n",
    "            ax.plot(train_x.data.numpy(), train_y.data.numpy(), 'k*')\n",
    "        ax.plot(test_x.data.numpy(), rand_var.mean().data.numpy(), 'b')\n",
    "        ax.fill_between(test_x.data.numpy(), lower.data.numpy(), upper.data.numpy(), alpha=0.5)\n",
    "        ax.set_ylim([-3, 3])\n",
    "        ax.legend(['Observed Data', 'Mean', 'Confidence'])\n",
    "        ax.set_title(title)\n",
    "    \n",
    "    ax_plot(observed_ax, observed_pred, 'Observed Values (Likelihood)')\n",
    "    \n",
    "    return f"
   ]
  },
  {
   "cell_type": "code",
   "execution_count": 6,
   "metadata": {
    "collapsed": false
   },
   "outputs": [
    {
     "data": {
      "image/png": "[encoded data removed]",
      "text/plain": [
       "<matplotlib.figure.Figure at 0x7f6662cdd850>"
      ]
     },
     "metadata": {},
     "output_type": "display_data"
    }
   ],
   "source": [
    "model.eval()\n",
    "fig = plot_model_and_predictions(model, plot_train_data=False)"
   ]
  },
  {
   "cell_type": "code",
   "execution_count": 7,
   "metadata": {
    "collapsed": false,
    "scrolled": false
   },
   "outputs": [
    {
     "name": "stdout",
     "output_type": "stream",
     "text": [
      "Iter 1/20 - Loss: 1.223   log_lengthscale: 0.000   log_noise: 0.000\n",
      "Iter 2/20 - Loss: 1.236   log_lengthscale: -0.100   log_noise: -0.100\n",
      "Iter 3/20 - Loss: 1.314   log_lengthscale: -0.192   log_noise: -0.200\n",
      "Iter 4/20 - Loss: 1.212   log_lengthscale: -0.288   log_noise: -0.299\n",
      "Iter 5/20 - Loss: 1.094   log_lengthscale: -0.385   log_noise: -0.398\n",
      "Iter 6/20 - Loss: 1.250   log_lengthscale: -0.482   log_noise: -0.496\n",
      "Iter 7/20 - Loss: 1.092   log_lengthscale: -0.580   log_noise: -0.593\n",
      "Iter 8/20 - Loss: 1.134   log_lengthscale: -0.679   log_noise: -0.689\n",
      "Iter 9/20 - Loss: 1.059   log_lengthscale: -0.779   log_noise: -0.783\n",
      "Iter 10/20 - Loss: 0.983   log_lengthscale: -0.878   log_noise: -0.876\n",
      "Iter 11/20 - Loss: 1.016   log_lengthscale: -0.977   log_noise: -0.967\n",
      "Iter 12/20 - Loss: 1.036   log_lengthscale: -1.077   log_noise: -1.057\n",
      "Iter 13/20 - Loss: 0.906   log_lengthscale: -1.177   log_noise: -1.147\n",
      "Iter 14/20 - Loss: 0.879   log_lengthscale: -1.278   log_noise: -1.237\n",
      "Iter 15/20 - Loss: 0.864   log_lengthscale: -1.381   log_noise: -1.327\n",
      "Iter 16/20 - Loss: 0.915   log_lengthscale: -1.486   log_noise: -1.418\n",
      "Iter 17/20 - Loss: 0.834   log_lengthscale: -1.592   log_noise: -1.511\n",
      "Iter 18/20 - Loss: 0.778   log_lengthscale: -1.701   log_noise: -1.606\n",
      "Iter 19/20 - Loss: 0.700   log_lengthscale: -1.811   log_noise: -1.702\n",
      "Iter 20/20 - Loss: 0.736   log_lengthscale: -1.920   log_noise: -1.799\n",
      "Iter 21/20 - Loss: 0.817   log_lengthscale: -2.025   log_noise: -1.898\n",
      "Iter 22/20 - Loss: 0.694   log_lengthscale: -2.120   log_noise: -1.998\n",
      "Iter 23/20 - Loss: 0.780   log_lengthscale: -2.206   log_noise: -2.099\n",
      "Iter 24/20 - Loss: 0.583   log_lengthscale: -2.281   log_noise: -2.199\n",
      "Iter 25/20 - Loss: 0.392   log_lengthscale: -2.349   log_noise: -2.301\n",
      "Iter 26/20 - Loss: 0.671   log_lengthscale: -2.406   log_noise: -2.401\n",
      "Iter 27/20 - Loss: 0.370   log_lengthscale: -2.457   log_noise: -2.503\n",
      "Iter 28/20 - Loss: 0.689   log_lengthscale: -2.497   log_noise: -2.604\n",
      "Iter 29/20 - Loss: 0.552   log_lengthscale: -2.530   log_noise: -2.704\n",
      "Iter 30/20 - Loss: 0.478   log_lengthscale: -2.554   log_noise: -2.803\n",
      "Iter 31/20 - Loss: 0.304   log_lengthscale: -2.560   log_noise: -2.902\n",
      "Iter 32/20 - Loss: 0.583   log_lengthscale: -2.550   log_noise: -3.001\n",
      "Iter 33/20 - Loss: 0.748   log_lengthscale: -2.532   log_noise: -3.099\n",
      "Iter 34/20 - Loss: 0.356   log_lengthscale: -2.507   log_noise: -3.196\n",
      "Iter 35/20 - Loss: 0.308   log_lengthscale: -2.478   log_noise: -3.293\n",
      "Iter 36/20 - Loss: 0.359   log_lengthscale: -2.448   log_noise: -3.389\n",
      "Iter 37/20 - Loss: 0.520   log_lengthscale: -2.417   log_noise: -3.485\n",
      "Iter 38/20 - Loss: 0.202   log_lengthscale: -2.381   log_noise: -3.578\n",
      "Iter 39/20 - Loss: 0.213   log_lengthscale: -2.344   log_noise: -3.669\n",
      "Iter 40/20 - Loss: 0.433   log_lengthscale: -2.310   log_noise: -3.760\n",
      "Iter 41/20 - Loss: 0.327   log_lengthscale: -2.287   log_noise: -3.849\n",
      "Iter 42/20 - Loss: 0.230   log_lengthscale: -2.275   log_noise: -3.935\n",
      "Iter 43/20 - Loss: 0.360   log_lengthscale: -2.278   log_noise: -4.019\n",
      "Iter 44/20 - Loss: 0.345   log_lengthscale: -2.290   log_noise: -4.101\n",
      "Iter 45/20 - Loss: 0.361   log_lengthscale: -2.321   log_noise: -4.181\n",
      "Iter 46/20 - Loss: 0.091   log_lengthscale: -2.358   log_noise: -4.258\n",
      "Iter 47/20 - Loss: 0.224   log_lengthscale: -2.395   log_noise: -4.333\n",
      "Iter 48/20 - Loss: 0.395   log_lengthscale: -2.443   log_noise: -4.405\n",
      "Iter 49/20 - Loss: 0.429   log_lengthscale: -2.499   log_noise: -4.478\n",
      "Iter 50/20 - Loss: 0.144   log_lengthscale: -2.547   log_noise: -4.549\n"
     ]
    }
   ],
   "source": [
    "# Find optimal model hyperparameters\n",
    "model.train()\n",
    "optimizer = optim.Adam(model.parameters(), lr=0.1)\n",
    "optimizer.n_iter = 0\n",
    "for i in range(50):\n",
    "    optimizer.zero_grad()\n",
    "    output = model(train_x)\n",
    "    loss = -model.marginal_log_likelihood(output, train_y)\n",
    "    loss.backward()\n",
    "    optimizer.n_iter += 1\n",
    "    print('Iter %d/20 - Loss: %.3f   log_lengthscale: %.3f   log_noise: %.3f' % (\n",
    "        i + 1, loss.data[0],\n",
    "        model.covar_module.log_lengthscale.data[0, 0],\n",
    "        model.likelihood.log_noise.data[0]\n",
    "    ))\n",
    "    optimizer.step()\n",
    "    \n",
    "# Set back to eval mode\n",
    "model.eval()\n",
    "None"
   ]
  },
  {
   "cell_type": "code",
   "execution_count": 8,
   "metadata": {
    "collapsed": false,
    "scrolled": false
   },
   "outputs": [
    {
     "data": {
      "image/png": "[encoded data removed]",
      "text/plain": [
       "<matplotlib.figure.Figure at 0x7f66ae7d8110>"
      ]
     },
     "metadata": {},
     "output_type": "display_data"
    }
   ],
   "source": [
    "model.condition(train_x, train_y)\n",
    "fig = plot_model_and_predictions(model)"
   ]
  },
  {
   "cell_type": "code",
   "execution_count": null,
   "metadata": {
    "collapsed": true
   },
   "outputs": [],
   "source": []
  }
 ],
 "metadata": {
  "anaconda-cloud": {},
  "kernelspec": {
   "display_name": "Python [default]",
   "language": "python",
   "name": "python2"
  },
  "language_info": {
   "codemirror_mode": {
    "name": "ipython",
    "version": 2
   },
   "file_extension": ".py",
   "mimetype": "text/x-python",
   "name": "python",
   "nbconvert_exporter": "python",
   "pygments_lexer": "ipython2",
   "version": "2.7.12"
  }
 },
 "nbformat": 4,
 "nbformat_minor": 1
}
