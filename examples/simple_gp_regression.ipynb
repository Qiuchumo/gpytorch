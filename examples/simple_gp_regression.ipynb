{
 "cells": [
  {
   "cell_type": "code",
   "execution_count": 1,
   "metadata": {
    "collapsed": true
   },
   "outputs": [],
   "source": [
    "import math\n",
    "import torch\n",
    "import gpytorch\n",
    "from matplotlib import pyplot as plt\n",
    "\n",
    "%matplotlib inline\n",
    "%load_ext autoreload\n",
    "%autoreload 2"
   ]
  },
  {
   "cell_type": "code",
   "execution_count": 2,
   "metadata": {
    "collapsed": true
   },
   "outputs": [],
   "source": [
    "from torch.autograd import Variable\n",
    "train_x = Variable(torch.linspace(0, 1, 11))\n",
    "train_y = Variable(torch.sin(train_x.data * (2 * math.pi)) + torch.randn(train_x.size()) * 0.2)"
   ]
  },
  {
   "cell_type": "code",
   "execution_count": 3,
   "metadata": {
    "collapsed": true
   },
   "outputs": [],
   "source": [
    "from torch import optim\n",
    "from gpytorch.kernels import RBFKernel\n",
    "from gpytorch.means import ConstantMean\n",
    "from gpytorch.likelihoods import GaussianLikelihood\n",
    "from gpytorch.random_variables import GaussianRandomVariable"
   ]
  },
  {
   "cell_type": "code",
   "execution_count": 4,
   "metadata": {
    "collapsed": false
   },
   "outputs": [],
   "source": [
    "class ExactGPModel(gpytorch.GPModel):\n",
    "    def __init__(self):\n",
    "        super(ExactGPModel,self).__init__(GaussianLikelihood(log_noise_bounds=(-5, 5)))\n",
    "        self.mean_module = ConstantMean(constant_bounds=(-1, 1))\n",
    "        self.covar_module = RBFKernel(log_lengthscale_bounds=(-5, 5))\n",
    "    \n",
    "    def forward(self,x):\n",
    "        mean_x = self.mean_module(x)\n",
    "        covar_x = self.covar_module(x)\n",
    "        return GaussianRandomVariable(mean_x, covar_x)\n",
    "\n",
    "model = ExactGPModel()"
   ]
  },
  {
   "cell_type": "code",
   "execution_count": 5,
   "metadata": {
    "collapsed": true
   },
   "outputs": [],
   "source": [
    "def plot_model_and_predictions(model, plot_train_data=True):\n",
    "    f, observed_ax = plt.subplots(1, 1, figsize=(4, 3))\n",
    "    test_x = Variable(torch.linspace(0, 1, 51))\n",
    "    observed_pred = model(test_x)\n",
    "\n",
    "    def ax_plot(ax, rand_var, title):\n",
    "        lower, upper = rand_var.confidence_region()\n",
    "        if plot_train_data:\n",
    "            ax.plot(train_x.data.numpy(), train_y.data.numpy(), 'k*')\n",
    "        ax.plot(test_x.data.numpy(), rand_var.mean().data.numpy(), 'b')\n",
    "        ax.fill_between(test_x.data.numpy(), lower.data.numpy(), upper.data.numpy(), alpha=0.5)\n",
    "        ax.set_ylim([-3, 3])\n",
    "        ax.legend(['Observed Data', 'Mean', 'Confidence'])\n",
    "        ax.set_title(title)\n",
    "    \n",
    "    ax_plot(observed_ax, observed_pred, 'Observed Values (Likelihood)')\n",
    "    \n",
    "    return f"
   ]
  },
  {
   "cell_type": "code",
   "execution_count": 6,
   "metadata": {
    "collapsed": false
   },
   "outputs": [
    {
     "data": {
      "image/png": "[encoded data removed]",
      "text/plain": [
       "<matplotlib.figure.Figure at 0x7f85528fa910>"
      ]
     },
     "metadata": {},
     "output_type": "display_data"
    }
   ],
   "source": [
    "model.eval()\n",
    "fig = plot_model_and_predictions(model, plot_train_data=False)"
   ]
  },
  {
   "cell_type": "code",
   "execution_count": 7,
   "metadata": {
    "collapsed": false,
    "scrolled": false
   },
   "outputs": [
    {
     "name": "stdout",
     "output_type": "stream",
     "text": [
      "Iter 1/20 - Loss: 12.732   log_lengthscale: 0.000   log_noise: 0.000\n",
      "Iter 2/20 - Loss: 13.129   log_lengthscale: -0.100   log_noise: -0.100\n",
      "Iter 3/20 - Loss: 12.678   log_lengthscale: -0.139   log_noise: -0.200\n",
      "Iter 4/20 - Loss: 13.679   log_lengthscale: -0.190   log_noise: -0.299\n",
      "Iter 5/20 - Loss: 13.036   log_lengthscale: -0.257   log_noise: -0.397\n",
      "Iter 6/20 - Loss: 11.755   log_lengthscale: -0.329   log_noise: -0.495\n",
      "Iter 7/20 - Loss: 10.730   log_lengthscale: -0.406   log_noise: -0.592\n",
      "Iter 8/20 - Loss: 10.270   log_lengthscale: -0.479   log_noise: -0.689\n",
      "Iter 9/20 - Loss: 11.610   log_lengthscale: -0.559   log_noise: -0.784\n",
      "Iter 10/20 - Loss: 10.746   log_lengthscale: -0.643   log_noise: -0.879\n",
      "Iter 11/20 - Loss: 11.566   log_lengthscale: -0.729   log_noise: -0.972\n",
      "Iter 12/20 - Loss: 9.554   log_lengthscale: -0.820   log_noise: -1.065\n",
      "Iter 13/20 - Loss: 11.409   log_lengthscale: -0.912   log_noise: -1.155\n",
      "Iter 14/20 - Loss: 9.887   log_lengthscale: -1.006   log_noise: -1.244\n",
      "Iter 15/20 - Loss: 8.548   log_lengthscale: -1.104   log_noise: -1.330\n",
      "Iter 16/20 - Loss: 9.731   log_lengthscale: -1.202   log_noise: -1.416\n",
      "Iter 17/20 - Loss: 9.095   log_lengthscale: -1.302   log_noise: -1.503\n",
      "Iter 18/20 - Loss: 7.949   log_lengthscale: -1.406   log_noise: -1.589\n",
      "Iter 19/20 - Loss: 8.568   log_lengthscale: -1.512   log_noise: -1.677\n",
      "Iter 20/20 - Loss: 7.076   log_lengthscale: -1.621   log_noise: -1.766\n",
      "Iter 21/20 - Loss: 6.793   log_lengthscale: -1.731   log_noise: -1.857\n",
      "Iter 22/20 - Loss: 7.562   log_lengthscale: -1.839   log_noise: -1.948\n",
      "Iter 23/20 - Loss: 5.826   log_lengthscale: -1.943   log_noise: -2.039\n",
      "Iter 24/20 - Loss: 8.438   log_lengthscale: -2.038   log_noise: -2.131\n",
      "Iter 25/20 - Loss: 6.071   log_lengthscale: -2.126   log_noise: -2.223\n",
      "Iter 26/20 - Loss: 9.377   log_lengthscale: -2.196   log_noise: -2.315\n",
      "Iter 27/20 - Loss: 5.756   log_lengthscale: -2.253   log_noise: -2.407\n",
      "Iter 28/20 - Loss: 8.551   log_lengthscale: -2.302   log_noise: -2.498\n",
      "Iter 29/20 - Loss: 5.356   log_lengthscale: -2.343   log_noise: -2.589\n",
      "Iter 30/20 - Loss: 4.451   log_lengthscale: -2.380   log_noise: -2.675\n",
      "Iter 31/20 - Loss: 6.667   log_lengthscale: -2.404   log_noise: -2.760\n",
      "Iter 32/20 - Loss: 6.266   log_lengthscale: -2.414   log_noise: -2.844\n",
      "Iter 33/20 - Loss: 5.614   log_lengthscale: -2.416   log_noise: -2.925\n",
      "Iter 34/20 - Loss: 4.579   log_lengthscale: -2.396   log_noise: -3.003\n",
      "Iter 35/20 - Loss: 4.294   log_lengthscale: -2.370   log_noise: -3.077\n",
      "Iter 36/20 - Loss: 5.743   log_lengthscale: -2.339   log_noise: -3.150\n",
      "Iter 37/20 - Loss: 7.602   log_lengthscale: -2.314   log_noise: -3.217\n",
      "Iter 38/20 - Loss: 6.578   log_lengthscale: -2.274   log_noise: -3.279\n",
      "Iter 39/20 - Loss: 6.053   log_lengthscale: -2.238   log_noise: -3.336\n",
      "Iter 40/20 - Loss: 6.128   log_lengthscale: -2.206   log_noise: -3.389\n",
      "Iter 41/20 - Loss: 5.620   log_lengthscale: -2.172   log_noise: -3.434\n",
      "Iter 42/20 - Loss: 3.675   log_lengthscale: -2.150   log_noise: -3.475\n",
      "Iter 43/20 - Loss: 4.036   log_lengthscale: -2.145   log_noise: -3.508\n",
      "Iter 44/20 - Loss: 7.084   log_lengthscale: -2.153   log_noise: -3.535\n",
      "Iter 45/20 - Loss: 7.090   log_lengthscale: -2.163   log_noise: -3.556\n",
      "Iter 46/20 - Loss: 6.961   log_lengthscale: -2.161   log_noise: -3.570\n",
      "Iter 47/20 - Loss: 6.008   log_lengthscale: -2.165   log_noise: -3.579\n",
      "Iter 48/20 - Loss: 5.642   log_lengthscale: -2.179   log_noise: -3.585\n",
      "Iter 49/20 - Loss: 3.294   log_lengthscale: -2.203   log_noise: -3.587\n",
      "Iter 50/20 - Loss: 5.403   log_lengthscale: -2.233   log_noise: -3.588\n"
     ]
    }
   ],
   "source": [
    "# Find optimal model hyperparameters\n",
    "model.train()\n",
    "optimizer = optim.Adam(model.parameters(), lr=0.1)\n",
    "optimizer.n_iter = 0\n",
    "for i in range(50):\n",
    "    optimizer.zero_grad()\n",
    "    output = model(train_x)\n",
    "    loss = -model.marginal_log_likelihood(output, train_y)\n",
    "    loss.backward()\n",
    "    optimizer.n_iter += 1\n",
    "    print('Iter %d/20 - Loss: %.3f   log_lengthscale: %.3f   log_noise: %.3f' % (\n",
    "        i + 1, loss.data[0],\n",
    "        model.covar_module.log_lengthscale.data[0, 0],\n",
    "        model.likelihood.log_noise.data[0]\n",
    "    ))\n",
    "    optimizer.step()\n",
    "    \n",
    "# Set back to eval mode\n",
    "model.eval()\n",
    "None"
   ]
  },
  {
   "cell_type": "code",
   "execution_count": 8,
   "metadata": {
    "collapsed": false,
    "scrolled": false
   },
   "outputs": [
    {
     "data": {
      "image/png": "[encoded data removed]",
      "text/plain": [
       "<matplotlib.figure.Figure at 0x7f85527ce4d0>"
      ]
     },
     "metadata": {},
     "output_type": "display_data"
    }
   ],
   "source": [
    "model.condition(train_x, train_y)\n",
    "fig = plot_model_and_predictions(model)"
   ]
  },
  {
   "cell_type": "code",
   "execution_count": null,
   "metadata": {
    "collapsed": true
   },
   "outputs": [],
   "source": []
  }
 ],
 "metadata": {
  "anaconda-cloud": {},
  "kernelspec": {
   "display_name": "Python [default]",
   "language": "python",
   "name": "python2"
  },
  "language_info": {
   "codemirror_mode": {
    "name": "ipython",
    "version": 2
   },
   "file_extension": ".py",
   "mimetype": "text/x-python",
   "name": "python",
   "nbconvert_exporter": "python",
   "pygments_lexer": "ipython2",
   "version": "2.7.12"
  }
 },
 "nbformat": 4,
 "nbformat_minor": 1
}
