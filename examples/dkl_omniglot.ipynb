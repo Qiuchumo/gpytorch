{
 "cells": [
  {
   "cell_type": "code",
   "execution_count": 1,
   "metadata": {
    "collapsed": true
   },
   "outputs": [],
   "source": [
    "import gpytorch\n",
    "import torch\n",
    "import torchvision\n",
    "from torch import nn\n",
    "from torch.autograd import Variable\n",
    "from torchvision import transforms\n",
    "\n",
    "gpytorch.functions.use_toeplitz = False"
   ]
  },
  {
   "cell_type": "code",
   "execution_count": 2,
   "metadata": {
    "scrolled": true
   },
   "outputs": [
    {
     "data": {
      "text/plain": [
       "\"\\ntest_mnist = torchvision.datasets.ImageFolder('/tmp', split='test',\\n                                        download=True, transform=transforms.Compose([\\n                       transforms.ToTensor()\\n                   ]))\\n\""
      ]
     },
     "execution_count": 2,
     "metadata": {},
     "output_type": "execute_result"
    }
   ],
   "source": [
    "train_mnist = torchvision.datasets.ImageFolder('/scratch/bw462/flattened/', transform=transforms.Compose([\n",
    "                        transforms.Scale((28,28)),\n",
    "                        transforms.ToTensor()\n",
    "                   ]))                                              \n",
    "\"\"\"\n",
    "test_mnist = torchvision.datasets.ImageFolder('/tmp', split='test',\n",
    "                                        download=True, transform=transforms.Compose([\n",
    "                       transforms.ToTensor()\n",
    "                   ]))\n",
    "\"\"\""
   ]
  },
  {
   "cell_type": "code",
   "execution_count": 3,
   "metadata": {},
   "outputs": [],
   "source": [
    "class FeatureExtractor(nn.Sequential):\n",
    "    \n",
    "    def __init__(self):\n",
    "        super(FeatureExtractor, self).__init__(nn.Conv2d(1, 32, kernel_size=5, padding=2),\n",
    "                                 nn.BatchNorm2d(32),\n",
    "                                 nn.ReLU(),\n",
    "                                 nn.MaxPool2d(2, 2),\n",
    "                                 nn.Conv2d(32, 64, kernel_size=5, padding=2),\n",
    "                                 nn.BatchNorm2d(64),\n",
    "                                 nn.ReLU(),\n",
    "                                 nn.MaxPool2d(2, 2))\n",
    "        \n",
    "class Bottleneck(nn.Sequential):\n",
    "    \n",
    "    def __init__(self):\n",
    "        super(Bottleneck, self).__init__(nn.Linear(64*7*7, 128),\n",
    "                                         nn.BatchNorm1d(128),\n",
    "                                 nn.ReLU(),\n",
    "                                 nn.Linear(128, 128),\n",
    "                                 nn.BatchNorm1d(128),\n",
    "                                 nn.ReLU(),\n",
    "                                 nn.Linear(128,64),\n",
    "                                 nn.BatchNorm1d(64))\n",
    "\n",
    "class LeNet(nn.Module):\n",
    "    \n",
    "    def __init__(self):\n",
    "        super(LeNet, self).__init__()\n",
    "        self.feature_extractor = FeatureExtractor()\n",
    "        self.bottleneck = Bottleneck()\n",
    "        self.final_layer = nn.Sequential(\n",
    "                                 nn.ReLU(),\n",
    "                                 nn.Linear(64,1319))\n",
    "    \n",
    "    def forward(self, x):\n",
    "        features = self.feature_extractor(x[:,0,:,:].unsqueeze(1))\n",
    "        bottlenecked_features = self.bottleneck(features.view(-1, 64 * 7 * 7))\n",
    "        classification = self.final_layer(bottlenecked_features)\n",
    "        return classification\n",
    "        "
   ]
  },
  {
   "cell_type": "code",
   "execution_count": 4,
   "metadata": {
    "collapsed": true
   },
   "outputs": [],
   "source": [
    "train_data_loader = torch.utils.data.DataLoader(train_mnist, shuffle=True, pin_memory=True, batch_size=256)"
   ]
  },
  {
   "cell_type": "code",
   "execution_count": 5,
   "metadata": {
    "collapsed": true
   },
   "outputs": [],
   "source": [
    "criterion = nn.CrossEntropyLoss().cuda()"
   ]
  },
  {
   "cell_type": "code",
   "execution_count": 6,
   "metadata": {
    "collapsed": true
   },
   "outputs": [],
   "source": [
    "model = LeNet().cuda()\n",
    "optimizer = torch.optim.SGD(model.parameters(), lr=0.01)"
   ]
  },
  {
   "cell_type": "code",
   "execution_count": 7,
   "metadata": {},
   "outputs": [
    {
     "name": "stdout",
     "output_type": "stream",
     "text": [
      "Loss: 7.084\n",
      "Accuracy: 0.0017\n"
     ]
    }
   ],
   "source": [
    "num_epochs = 1\n",
    "for i in range(num_epochs):\n",
    "    for x, y in train_data_loader:\n",
    "        optimizer.zero_grad()\n",
    "        x = Variable(x.cuda())\n",
    "        y = Variable(y.cuda())\n",
    "        output = model(x)\n",
    "        loss = criterion(output, y)\n",
    "        loss.backward()\n",
    "        optimizer.step()\n",
    "    print(\"Loss: %.3f\" % loss.data[0])\n",
    "    \n",
    "model.eval()\n",
    "\n",
    "# Currently don't have train/test split for this data so just testing on what we trained on to see overall accuracy\n",
    "test_data_loader = train_data_loader\n",
    "avg = 0.\n",
    "i = 0.\n",
    "for test_batch_x, test_batch_y in test_data_loader:\n",
    "    predictions = model(Variable(test_batch_x).cuda()).max(-1)[1]\n",
    "    test_batch_y = Variable(test_batch_y).cuda()\n",
    "    avg += torch.eq(predictions, test_batch_y).float().mean().data[0]\n",
    "    i += 1.\n",
    "print('Accuracy: %.4f' % (avg / i))\n"
   ]
  },
  {
   "cell_type": "code",
   "execution_count": 8,
   "metadata": {},
   "outputs": [],
   "source": [
    "list(model.bottleneck.modules())[-1].weight.data.fill_(1)\n",
    "None"
   ]
  },
  {
   "cell_type": "code",
   "execution_count": 9,
   "metadata": {
    "collapsed": true
   },
   "outputs": [],
   "source": [
    "from gpytorch.kernels import RBFKernel, GridInterpolationKernel\n",
    "\n",
    "class DeepKernel(gpytorch.Module):\n",
    "    def __init__(self, model):\n",
    "        super(DeepKernel, self).__init__()\n",
    "        self.feature_extractor = model.feature_extractor\n",
    "        self.bottleneck = model.bottleneck\n",
    "        self.gp_layer = GPLayer()\n",
    "        \n",
    "    def forward(self, x):\n",
    "        features = self.feature_extractor(x[:,0,:,:].unsqueeze(1))\n",
    "        bottlenecked_features = self.bottleneck(features.view(-1, 64 * 7 * 7))\n",
    "        gp_output = self.gp_layer(0.1*bottlenecked_features)\n",
    "        return gp_output\n",
    "    \n",
    "    \n",
    "class LatentFunction(gpytorch.AdditiveGridInducingPointModule):\n",
    "    def __init__(self):\n",
    "        super(LatentFunction, self).__init__(grid_size=256, grid_bounds=[(-7, 7)],\n",
    "                                             n_components=64, mixing_params=False, sum_output=False)\n",
    "        cov_module = RBFKernel()\n",
    "        cov_module.initialize(log_lengthscale=2)\n",
    "        self.cov_module = cov_module\n",
    "        \n",
    "    def forward(self, x):\n",
    "        mean = Variable(x.data.new(len(x)).zero_())\n",
    "        covar = self.cov_module(x)\n",
    "        return gpytorch.random_variables.GaussianRandomVariable(mean, covar)\n",
    "\n",
    "    \n",
    "class GPLayer(gpytorch.GPModel):\n",
    "    def __init__(self, n_dims=64):\n",
    "        super(GPLayer, self).__init__(gpytorch.likelihoods.SoftmaxLikelihood(n_features=64, n_classes=1319))\n",
    "        self.latent_function = LatentFunction()\n",
    "    \n",
    "    def forward(self, x):\n",
    "        res = self.latent_function(x)\n",
    "        return res\n",
    "    "
   ]
  },
  {
   "cell_type": "code",
   "execution_count": 10,
   "metadata": {},
   "outputs": [
    {
     "data": {
      "text/plain": [
       "26380"
      ]
     },
     "execution_count": 10,
     "metadata": {},
     "output_type": "execute_result"
    }
   ],
   "source": [
    "len(train_mnist)"
   ]
  },
  {
   "cell_type": "code",
   "execution_count": 11,
   "metadata": {
    "collapsed": true
   },
   "outputs": [],
   "source": [
    "deep_kernel = DeepKernel(model).cuda()\n",
    "gp_data_loader = torch.utils.data.DataLoader(train_mnist, batch_size=2048., pin_memory=True, shuffle=True)"
   ]
  },
  {
   "cell_type": "code",
   "execution_count": 12,
   "metadata": {
    "scrolled": false
   },
   "outputs": [
    {
     "name": "stdout",
     "output_type": "stream",
     "text": [
      "Iter 1/10 - Loss: 1875.496\n",
      "Iter 1/10 - Loss: 1492.441\n",
      "Iter 1/10 - Loss: 1302.330\n",
      "Iter 1/10 - Loss: 1048.258\n",
      "Iter 1/10 - Loss: 919.362\n",
      "Iter 1/10 - Loss: 556.504\n",
      "Iter 1/10 - Loss: 713.390\n",
      "Iter 1/10 - Loss: 717.512\n",
      "Iter 1/10 - Loss: 732.468\n",
      "Iter 1/10 - Loss: 701.619\n",
      "Iter 1/10 - Loss: 621.551\n",
      "Iter 1/10 - Loss: 447.613\n",
      "Iter 1/10 - Loss: 436.220\n",
      "Score\n",
      "0.0237004206731\n",
      "Iter 2/10 - Loss: 319.316\n",
      "Iter 2/10 - Loss: 390.998\n",
      "Iter 2/10 - Loss: 282.260\n",
      "Iter 2/10 - Loss: 365.043\n",
      "Iter 2/10 - Loss: 362.611\n",
      "Iter 2/10 - Loss: 264.848\n",
      "Iter 2/10 - Loss: 275.937\n",
      "Iter 2/10 - Loss: 314.745\n",
      "Iter 2/10 - Loss: 355.246\n",
      "Iter 2/10 - Loss: 277.249\n",
      "Iter 2/10 - Loss: 252.232\n",
      "Iter 2/10 - Loss: 245.348\n",
      "Iter 2/10 - Loss: 209.941\n",
      "Score\n",
      "0.0571038662098\n",
      "Iter 3/10 - Loss: 255.358\n",
      "Iter 3/10 - Loss: 252.622\n",
      "Iter 3/10 - Loss: 253.248\n",
      "Iter 3/10 - Loss: 246.488\n",
      "Iter 3/10 - Loss: 263.116\n",
      "Iter 3/10 - Loss: 244.566\n",
      "Iter 3/10 - Loss: 241.902\n",
      "Iter 3/10 - Loss: 253.940\n",
      "Iter 3/10 - Loss: 247.814\n",
      "Iter 3/10 - Loss: 234.368\n",
      "Iter 3/10 - Loss: 299.651\n",
      "Iter 3/10 - Loss: 286.855\n",
      "Iter 3/10 - Loss: 245.561\n",
      "Score\n",
      "0.103928786058\n",
      "Iter 4/10 - Loss: 272.344\n",
      "Iter 4/10 - Loss: 285.338\n",
      "Iter 4/10 - Loss: 393.788\n",
      "Iter 4/10 - Loss: 269.152\n",
      "Iter 4/10 - Loss: 262.968\n",
      "Iter 4/10 - Loss: 268.639\n",
      "Iter 4/10 - Loss: 220.159\n",
      "Iter 4/10 - Loss: 246.637\n",
      "Iter 4/10 - Loss: 220.189\n",
      "Iter 4/10 - Loss: 238.571\n",
      "Iter 4/10 - Loss: 236.219\n",
      "Iter 4/10 - Loss: 228.052\n",
      "Iter 4/10 - Loss: 205.165\n",
      "Score\n",
      "0.1515049079\n",
      "Iter 5/10 - Loss: 238.272\n",
      "Iter 5/10 - Loss: 220.984\n",
      "Iter 5/10 - Loss: 212.008\n",
      "Iter 5/10 - Loss: 245.030\n",
      "Iter 5/10 - Loss: 213.612\n",
      "Iter 5/10 - Loss: 218.229\n",
      "Iter 5/10 - Loss: 206.206\n",
      "Iter 5/10 - Loss: 209.802\n",
      "Iter 5/10 - Loss: 204.737\n",
      "Iter 5/10 - Loss: 231.839\n",
      "Iter 5/10 - Loss: 228.730\n",
      "Iter 5/10 - Loss: 213.681\n",
      "Iter 5/10 - Loss: 184.954\n",
      "Score\n",
      "0.178735977612\n",
      "Iter 6/10 - Loss: 208.415\n",
      "Iter 6/10 - Loss: 178.000\n",
      "Iter 6/10 - Loss: 218.150\n",
      "Iter 6/10 - Loss: 224.217\n",
      "Iter 6/10 - Loss: 206.538\n",
      "Iter 6/10 - Loss: 216.131\n",
      "Iter 6/10 - Loss: 185.323\n",
      "Iter 6/10 - Loss: 229.894\n",
      "Iter 6/10 - Loss: 201.361\n",
      "Iter 6/10 - Loss: 198.715\n",
      "Iter 6/10 - Loss: 204.081\n",
      "Iter 6/10 - Loss: 206.079\n",
      "Iter 6/10 - Loss: 203.962\n",
      "Score\n",
      "0.208696414287\n",
      "Iter 7/10 - Loss: 204.486\n",
      "Iter 7/10 - Loss: 231.027\n",
      "Iter 7/10 - Loss: 195.819\n",
      "Iter 7/10 - Loss: 177.414\n",
      "Iter 7/10 - Loss: 180.630\n",
      "Iter 7/10 - Loss: 220.366\n",
      "Iter 7/10 - Loss: 217.246\n",
      "Iter 7/10 - Loss: 195.537\n",
      "Iter 7/10 - Loss: 187.347\n",
      "Iter 7/10 - Loss: 177.286\n",
      "Iter 7/10 - Loss: 193.992\n",
      "Iter 7/10 - Loss: 199.698\n",
      "Iter 7/10 - Loss: 179.187\n",
      "Score\n",
      "0.226236979262\n",
      "Iter 8/10 - Loss: 198.628\n",
      "Iter 8/10 - Loss: 183.589\n",
      "Iter 8/10 - Loss: 201.244\n",
      "Iter 8/10 - Loss: 163.012\n",
      "Iter 8/10 - Loss: 203.214\n",
      "Iter 8/10 - Loss: 194.203\n",
      "Iter 8/10 - Loss: 195.481\n",
      "Iter 8/10 - Loss: 174.913\n",
      "Iter 8/10 - Loss: 176.656\n",
      "Iter 8/10 - Loss: 186.845\n",
      "Iter 8/10 - Loss: 191.914\n",
      "Iter 8/10 - Loss: 184.681\n",
      "Iter 8/10 - Loss: 175.332\n",
      "Score\n",
      "0.23739232782\n",
      "Iter 9/10 - Loss: 175.730\n",
      "Iter 9/10 - Loss: 207.642\n",
      "Iter 9/10 - Loss: 188.367\n",
      "Iter 9/10 - Loss: 166.091\n",
      "Iter 9/10 - Loss: 177.032\n",
      "Iter 9/10 - Loss: 188.831\n",
      "Iter 9/10 - Loss: 184.789\n",
      "Iter 9/10 - Loss: 163.553\n",
      "Iter 9/10 - Loss: 168.350\n",
      "Iter 9/10 - Loss: 169.151\n",
      "Iter 9/10 - Loss: 170.646\n",
      "Iter 9/10 - Loss: 180.016\n",
      "Iter 9/10 - Loss: 159.782\n",
      "Score\n",
      "0.249674479262\n",
      "Iter 10/10 - Loss: 163.838\n",
      "Iter 10/10 - Loss: 168.988\n",
      "Iter 10/10 - Loss: 155.547\n",
      "Iter 10/10 - Loss: 174.543\n",
      "Iter 10/10 - Loss: 183.081\n",
      "Iter 10/10 - Loss: 157.797\n",
      "Iter 10/10 - Loss: 163.743\n",
      "Iter 10/10 - Loss: 156.566\n",
      "Iter 10/10 - Loss: 173.695\n",
      "Iter 10/10 - Loss: 176.093\n",
      "Iter 10/10 - Loss: 159.547\n",
      "Iter 10/10 - Loss: 147.682\n",
      "Iter 10/10 - Loss: 152.400\n",
      "Score\n",
      "0.257449419166\n"
     ]
    }
   ],
   "source": [
    "# Find optimal model hyperparameters\n",
    "deep_kernel.train()\n",
    "optimizer = torch.optim.Adam(deep_kernel.gp_layer.parameters(), lr=0.01)\n",
    "optimizer.n_iter = 0\n",
    "num_epochs = 10\n",
    "for i in range(num_epochs):\n",
    "    for j, (train_x_batch, train_y_batch) in enumerate(gp_data_loader):\n",
    "        train_x_batch = Variable(train_x_batch).cuda()\n",
    "        train_y_batch = Variable(train_y_batch).cuda()\n",
    "        optimizer.zero_grad()\n",
    "        output = deep_kernel(train_x_batch)\n",
    "        loss = -deep_kernel.gp_layer.marginal_log_likelihood(output, train_y_batch, n_data=len(train_mnist))\n",
    "        loss.backward()\n",
    "        optimizer.n_iter += 1\n",
    "        print('Iter %d/%d - Loss: %.3f' % (\n",
    "            i + 1, num_epochs, loss.data[0],\n",
    "        ))\n",
    "        optimizer.step()\n",
    "        \n",
    "    deep_kernel.eval()\n",
    "    test_data_loader = train_data_loader#torch.utils.data.DataLoader(test_mnist, shuffle=False, pin_memory=True, batch_size=256)\n",
    "\n",
    "    avg = 0.\n",
    "    i = 0.\n",
    "    for test_batch_x, test_batch_y in test_data_loader:\n",
    "        predictions = deep_kernel(Variable(test_batch_x).cuda()).argmax()\n",
    "        test_batch_y = Variable(test_batch_y).cuda()\n",
    "        avg += torch.eq(predictions, test_batch_y).float().mean().data[0]\n",
    "        i += 1.\n",
    "\n",
    "    print('Score')\n",
    "    print(avg / i)\n",
    "    deep_kernel.train()\n"
   ]
  },
  {
   "cell_type": "code",
   "execution_count": 13,
   "metadata": {},
   "outputs": [
    {
     "ename": "NameError",
     "evalue": "name 'test_mnist' is not defined",
     "output_type": "error",
     "traceback": [
      "\u001b[0;31m---------------------------------------------------------------------------\u001b[0m",
      "\u001b[0;31mNameError\u001b[0m                                 Traceback (most recent call last)",
      "\u001b[0;32m<ipython-input-13-d723f523a1e2>\u001b[0m in \u001b[0;36m<module>\u001b[0;34m()\u001b[0m\n\u001b[1;32m      1\u001b[0m \u001b[0mdeep_kernel\u001b[0m\u001b[0;34m.\u001b[0m\u001b[0meval\u001b[0m\u001b[0;34m(\u001b[0m\u001b[0;34m)\u001b[0m\u001b[0;34m\u001b[0m\u001b[0m\n\u001b[0;32m----> 2\u001b[0;31m \u001b[0mtest_data_loader\u001b[0m \u001b[0;34m=\u001b[0m \u001b[0mtorch\u001b[0m\u001b[0;34m.\u001b[0m\u001b[0mutils\u001b[0m\u001b[0;34m.\u001b[0m\u001b[0mdata\u001b[0m\u001b[0;34m.\u001b[0m\u001b[0mDataLoader\u001b[0m\u001b[0;34m(\u001b[0m\u001b[0mtest_mnist\u001b[0m\u001b[0;34m,\u001b[0m \u001b[0mshuffle\u001b[0m\u001b[0;34m=\u001b[0m\u001b[0mFalse\u001b[0m\u001b[0;34m,\u001b[0m \u001b[0mpin_memory\u001b[0m\u001b[0;34m=\u001b[0m\u001b[0mTrue\u001b[0m\u001b[0;34m,\u001b[0m \u001b[0mbatch_size\u001b[0m\u001b[0;34m=\u001b[0m\u001b[0;36m256\u001b[0m\u001b[0;34m)\u001b[0m\u001b[0;34m\u001b[0m\u001b[0m\n\u001b[0m\u001b[1;32m      3\u001b[0m \u001b[0;34m\u001b[0m\u001b[0m\n\u001b[1;32m      4\u001b[0m \u001b[0;32mfor\u001b[0m \u001b[0mtest_batch_x\u001b[0m\u001b[0;34m,\u001b[0m \u001b[0mtest_batch_y\u001b[0m \u001b[0;32min\u001b[0m \u001b[0mtest_data_loader\u001b[0m\u001b[0;34m:\u001b[0m\u001b[0;34m\u001b[0m\u001b[0m\n\u001b[1;32m      5\u001b[0m     \u001b[0mpredictions\u001b[0m \u001b[0;34m=\u001b[0m \u001b[0mdeep_kernel\u001b[0m\u001b[0;34m(\u001b[0m\u001b[0mVariable\u001b[0m\u001b[0;34m(\u001b[0m\u001b[0mtest_batch_x\u001b[0m\u001b[0;34m)\u001b[0m\u001b[0;34m.\u001b[0m\u001b[0mcuda\u001b[0m\u001b[0;34m(\u001b[0m\u001b[0;34m)\u001b[0m\u001b[0;34m)\u001b[0m\u001b[0;34m.\u001b[0m\u001b[0mrepresentation\u001b[0m\u001b[0;34m(\u001b[0m\u001b[0;34m)\u001b[0m\u001b[0;34m.\u001b[0m\u001b[0mmax\u001b[0m\u001b[0;34m(\u001b[0m\u001b[0;34m-\u001b[0m\u001b[0;36m1\u001b[0m\u001b[0;34m)\u001b[0m\u001b[0;34m[\u001b[0m\u001b[0;36m1\u001b[0m\u001b[0;34m]\u001b[0m\u001b[0;34m\u001b[0m\u001b[0m\n",
      "\u001b[0;31mNameError\u001b[0m: name 'test_mnist' is not defined"
     ]
    }
   ],
   "source": [
    "deep_kernel.eval()\n",
    "test_data_loader = torch.utils.data.DataLoader(test_mnist, shuffle=False, pin_memory=True, batch_size=256)\n",
    "\n",
    "for test_batch_x, test_batch_y in test_data_loader:\n",
    "    predictions = deep_kernel(Variable(test_batch_x).cuda()).representation().max(-1)[1]\n",
    "    test_batch_y = Variable(test_batch_y).cuda()\n",
    "    avg += torch.eq(predictions, test_batch_y).float().mean().data[0]\n",
    "    i += 1.\n",
    "print('Accuracy: %.4f' % (avg / i))\n"
   ]
  },
  {
   "cell_type": "code",
   "execution_count": null,
   "metadata": {
    "collapsed": true
   },
   "outputs": [],
   "source": []
  },
  {
   "cell_type": "code",
   "execution_count": null,
   "metadata": {
    "collapsed": true
   },
   "outputs": [],
   "source": []
  }
 ],
 "metadata": {
  "anaconda-cloud": {},
  "kernelspec": {
   "display_name": "Python 2",
   "language": "python",
   "name": "python2"
  },
  "language_info": {
   "codemirror_mode": {
    "name": "ipython",
    "version": 2
   },
   "file_extension": ".py",
   "mimetype": "text/x-python",
   "name": "python",
   "nbconvert_exporter": "python",
   "pygments_lexer": "ipython2",
   "version": "2.7.14"
  }
 },
 "nbformat": 4,
 "nbformat_minor": 1
}
