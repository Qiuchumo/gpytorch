{
 "cells": [
  {
   "cell_type": "code",
   "execution_count": 1,
   "metadata": {
    "collapsed": true
   },
   "outputs": [],
   "source": [
    "import gpytorch\n",
    "import torch\n",
    "import torchvision\n",
    "from torch import nn\n",
    "from torch.autograd import Variable\n",
    "from torchvision import transforms\n",
    "\n",
    "gpytorch.functions.use_toeplitz = False"
   ]
  },
  {
   "cell_type": "code",
   "execution_count": 2,
   "metadata": {
    "scrolled": true
   },
   "outputs": [
    {
     "name": "stderr",
     "output_type": "stream",
     "text": [
      "/home/bw462/anaconda2/lib/python2.7/site-packages/torchvision-0.2.0-py2.7.egg/torchvision/transforms/transforms.py:156: UserWarning: The use of the transforms.Scale transform is deprecated, please use transforms.Resize instead.\n"
     ]
    },
    {
     "data": {
      "text/plain": [
       "\"\\ntest_mnist = torchvision.datasets.ImageFolder('/tmp', split='test',\\n                                        download=True, transform=transforms.Compose([\\n                       transforms.ToTensor()\\n                   ]))\\n\""
      ]
     },
     "execution_count": 2,
     "metadata": {},
     "output_type": "execute_result"
    }
   ],
   "source": [
    "train_mnist = torchvision.datasets.ImageFolder('/scratch/bw462/omni_data/general', transform=transforms.Compose([\n",
    "                        transforms.Scale((28,28)),\n",
    "                        transforms.ToTensor()\n",
    "                   ]))                                              \n",
    "\"\"\"\n",
    "test_mnist = torchvision.datasets.ImageFolder('/tmp', split='test',\n",
    "                                        download=True, transform=transforms.Compose([\n",
    "                       transforms.ToTensor()\n",
    "                   ]))\n",
    "\"\"\""
   ]
  },
  {
   "cell_type": "code",
   "execution_count": 3,
   "metadata": {
    "collapsed": true
   },
   "outputs": [],
   "source": [
    "class FeatureExtractor(nn.Sequential):\n",
    "    \n",
    "    def __init__(self):\n",
    "        super(FeatureExtractor, self).__init__(nn.Conv2d(1, 32, kernel_size=5, padding=2),\n",
    "                                 nn.BatchNorm2d(32),\n",
    "                                 nn.ReLU(),\n",
    "                                 nn.MaxPool2d(2, 2),\n",
    "                                 nn.Conv2d(32, 64, kernel_size=5, padding=2),\n",
    "                                 nn.BatchNorm2d(64),\n",
    "                                 nn.ReLU(),\n",
    "                                 nn.MaxPool2d(2, 2))\n",
    "        \n",
    "class Bottleneck(nn.Sequential):\n",
    "    \n",
    "    def __init__(self):\n",
    "        super(Bottleneck, self).__init__(nn.Linear(64*7*7, 128),\n",
    "                                         nn.BatchNorm1d(128),\n",
    "                                 nn.ReLU(),\n",
    "                                 nn.Linear(128, 128),\n",
    "                                 nn.BatchNorm1d(128),\n",
    "                                 nn.ReLU(),\n",
    "                                 nn.Linear(128,64),\n",
    "                                 nn.BatchNorm1d(64))\n",
    "\n",
    "class LeNet(nn.Module):\n",
    "    \n",
    "    def __init__(self):\n",
    "        super(LeNet, self).__init__()\n",
    "        self.feature_extractor = FeatureExtractor()\n",
    "        self.bottleneck = Bottleneck()\n",
    "        self.final_layer = nn.Sequential(\n",
    "                                 nn.ReLU(),\n",
    "                                 nn.Linear(64,1319))\n",
    "    \n",
    "    def forward(self, x):\n",
    "        input_x = x[:,0,:,:].unsqueeze(1)\n",
    "        features = self.feature_extractor(input_x)\n",
    "        bottlenecked_features = self.bottleneck(features.view(-1, 64 * 7 * 7))\n",
    "        classification = self.final_layer(bottlenecked_features)\n",
    "        return classification\n",
    "        "
   ]
  },
  {
   "cell_type": "code",
   "execution_count": 4,
   "metadata": {
    "collapsed": true
   },
   "outputs": [],
   "source": [
    "train_data_loader = torch.utils.data.DataLoader(train_mnist, shuffle=True, pin_memory=True, batch_size=256)"
   ]
  },
  {
   "cell_type": "code",
   "execution_count": 5,
   "metadata": {
    "collapsed": true
   },
   "outputs": [],
   "source": [
    "criterion = nn.CrossEntropyLoss().cuda()"
   ]
  },
  {
   "cell_type": "code",
   "execution_count": 6,
   "metadata": {
    "collapsed": true
   },
   "outputs": [],
   "source": [
    "model = LeNet().cuda() \n",
    "optimizer = torch.optim.SGD(model.parameters(), lr=0.5)"
   ]
  },
  {
   "cell_type": "code",
   "execution_count": 7,
   "metadata": {},
   "outputs": [
    {
     "name": "stdout",
     "output_type": "stream",
     "text": [
      "Loss: 6.836\n",
      "Loss: 5.965\n",
      "Loss: 4.553\n",
      "Loss: 3.425\n",
      "Loss: 1.973\n",
      "Loss: 1.507\n",
      "Loss: 1.185\n",
      "Loss: 0.822\n",
      "Loss: 0.586\n",
      "Loss: 0.400\n",
      "Loss: 0.427\n",
      "Loss: 0.294\n",
      "Loss: 0.209\n",
      "Loss: 0.124\n",
      "Loss: 0.097\n",
      "Loss: 0.073\n",
      "Loss: 0.063\n",
      "Loss: 0.038\n",
      "Loss: 0.045\n",
      "Loss: 0.058\n"
     ]
    }
   ],
   "source": [
    "model.train()\n",
    "num_epochs = 20\n",
    "for i in range(num_epochs):\n",
    "    for x, y in train_data_loader:\n",
    "        optimizer.zero_grad()\n",
    "        x = Variable(x).cuda()\n",
    "        y = Variable(y).cuda()\n",
    "        output = model(x)\n",
    "        loss = criterion(output, y)\n",
    "        loss.backward()\n",
    "        optimizer.step()\n",
    "    print(\"Loss: %.3f\" % loss.data[0])\n",
    "    \n"
   ]
  },
  {
   "cell_type": "code",
   "execution_count": 8,
   "metadata": {},
   "outputs": [
    {
     "name": "stdout",
     "output_type": "stream",
     "text": [
      "Accuracy: 0.9146\n"
     ]
    }
   ],
   "source": [
    "model.eval()\n",
    "test_data_loader = train_data_loader#torch.utils.data.DataLoader(test_mnist, shuffle=False, pin_memory=True, batch_size=256)\n",
    "avg = 0.\n",
    "i = 0.\n",
    "for test_batch_x, test_batch_y in test_data_loader:\n",
    "    predictions = model(Variable(test_batch_x).cuda()).max(-1)[1]\n",
    "    test_batch_y = Variable(test_batch_y).cuda()\n",
    "    avg += torch.eq(predictions, test_batch_y).float().mean().data[0]\n",
    "    i += 1.\n",
    "print('Accuracy: %.4f' % (avg / i))"
   ]
  },
  {
   "cell_type": "code",
   "execution_count": 9,
   "metadata": {
    "collapsed": true
   },
   "outputs": [],
   "source": [
    "list(model.bottleneck.modules())[-1].weight.data.fill_(1)\n",
    "None"
   ]
  },
  {
   "cell_type": "code",
   "execution_count": 10,
   "metadata": {
    "collapsed": true
   },
   "outputs": [],
   "source": [
    "from gpytorch.kernels import RBFKernel, GridInterpolationKernel\n",
    "\n",
    "class DeepKernel(gpytorch.Module):\n",
    "    def __init__(self, model):\n",
    "        super(DeepKernel, self).__init__()\n",
    "        self.feature_extractor = model.feature_extractor\n",
    "        self.bottleneck = model.bottleneck\n",
    "        self.gp_layer = GPLayer()\n",
    "        \n",
    "    def forward(self, x):\n",
    "        features = self.feature_extractor(x[:,0,:,:].unsqueeze(1))\n",
    "        bottlenecked_features = self.bottleneck(features.view(-1, 64 * 7 * 7))\n",
    "        gp_output = self.gp_layer(0.1*bottlenecked_features)\n",
    "        return gp_output\n",
    "    \n",
    "    \n",
    "class LatentFunction(gpytorch.AdditiveGridInducingPointModule):\n",
    "    def __init__(self):\n",
    "        super(LatentFunction, self).__init__(grid_size=256, grid_bounds=[(-7, 7)],\n",
    "                                             n_components=64, mixing_params=False, sum_output=False)\n",
    "        cov_module = RBFKernel()\n",
    "        cov_module.initialize(log_lengthscale=2)\n",
    "        self.cov_module = cov_module\n",
    "        \n",
    "    def forward(self, x):\n",
    "        mean = Variable(x.data.new(len(x)).zero_())\n",
    "        covar = self.cov_module(x)\n",
    "        return gpytorch.random_variables.GaussianRandomVariable(mean, covar)\n",
    "\n",
    "    \n",
    "class GPLayer(gpytorch.GPModel):\n",
    "    def __init__(self, n_dims=64):\n",
    "        super(GPLayer, self).__init__(gpytorch.likelihoods.SoftmaxGaussianLikelihood(n_features=64, n_classes=1319))\n",
    "        self.latent_function = LatentFunction()\n",
    "    \n",
    "    def forward(self, x):\n",
    "        res = self.latent_function(x)\n",
    "        return res\n",
    "    "
   ]
  },
  {
   "cell_type": "code",
   "execution_count": 11,
   "metadata": {},
   "outputs": [
    {
     "data": {
      "text/plain": [
       "18780"
      ]
     },
     "execution_count": 11,
     "metadata": {},
     "output_type": "execute_result"
    }
   ],
   "source": [
    "len(train_mnist)"
   ]
  },
  {
   "cell_type": "code",
   "execution_count": 12,
   "metadata": {
    "collapsed": true
   },
   "outputs": [],
   "source": [
    "deep_kernel = DeepKernel(model).cuda()\n",
    "gp_data_loader = torch.utils.data.DataLoader(train_mnist, batch_size=2048., pin_memory=True, shuffle=True)"
   ]
  },
  {
   "cell_type": "code",
   "execution_count": 13,
   "metadata": {
    "scrolled": false
   },
   "outputs": [
    {
     "ename": "RuntimeError",
     "evalue": "cuda runtime error (2) : out of memory at /opt/conda/conda-bld/pytorch_1512378360668/work/torch/lib/THC/generic/THCStorage.cu:58",
     "output_type": "error",
     "traceback": [
      "\u001b[0;31m---------------------------------------------------------------------------\u001b[0m",
      "\u001b[0;31mRuntimeError\u001b[0m                              Traceback (most recent call last)",
      "\u001b[0;32m<ipython-input-13-7d28a3b72d53>\u001b[0m in \u001b[0;36m<module>\u001b[0;34m()\u001b[0m\n\u001b[1;32m     10\u001b[0m         \u001b[0moptimizer\u001b[0m\u001b[0;34m.\u001b[0m\u001b[0mzero_grad\u001b[0m\u001b[0;34m(\u001b[0m\u001b[0;34m)\u001b[0m\u001b[0;34m\u001b[0m\u001b[0m\n\u001b[1;32m     11\u001b[0m         \u001b[0moutput\u001b[0m \u001b[0;34m=\u001b[0m \u001b[0mdeep_kernel\u001b[0m\u001b[0;34m(\u001b[0m\u001b[0mtrain_x_batch\u001b[0m\u001b[0;34m)\u001b[0m\u001b[0;34m\u001b[0m\u001b[0m\n\u001b[0;32m---> 12\u001b[0;31m         \u001b[0mloss\u001b[0m \u001b[0;34m=\u001b[0m \u001b[0;34m-\u001b[0m\u001b[0mdeep_kernel\u001b[0m\u001b[0;34m.\u001b[0m\u001b[0mgp_layer\u001b[0m\u001b[0;34m.\u001b[0m\u001b[0mmarginal_log_likelihood\u001b[0m\u001b[0;34m(\u001b[0m\u001b[0moutput\u001b[0m\u001b[0;34m,\u001b[0m \u001b[0mtrain_y_batch\u001b[0m\u001b[0;34m,\u001b[0m \u001b[0mn_data\u001b[0m\u001b[0;34m=\u001b[0m\u001b[0mlen\u001b[0m\u001b[0;34m(\u001b[0m\u001b[0mtrain_mnist\u001b[0m\u001b[0;34m)\u001b[0m\u001b[0;34m)\u001b[0m\u001b[0;34m\u001b[0m\u001b[0m\n\u001b[0m\u001b[1;32m     13\u001b[0m         \u001b[0mloss\u001b[0m\u001b[0;34m.\u001b[0m\u001b[0mbackward\u001b[0m\u001b[0;34m(\u001b[0m\u001b[0;34m)\u001b[0m\u001b[0;34m\u001b[0m\u001b[0m\n\u001b[1;32m     14\u001b[0m         \u001b[0moptimizer\u001b[0m\u001b[0;34m.\u001b[0m\u001b[0mn_iter\u001b[0m \u001b[0;34m+=\u001b[0m \u001b[0;36m1\u001b[0m\u001b[0;34m\u001b[0m\u001b[0m\n",
      "\u001b[0;32m/home/bw462/gpytorch/gpytorch/gp_model.pyc\u001b[0m in \u001b[0;36mmarginal_log_likelihood\u001b[0;34m(self, output, target, n_data)\u001b[0m\n\u001b[1;32m     69\u001b[0m         \u001b[0;32melse\u001b[0m\u001b[0;34m:\u001b[0m\u001b[0;34m\u001b[0m\u001b[0m\n\u001b[1;32m     70\u001b[0m             \u001b[0msamples\u001b[0m \u001b[0;34m=\u001b[0m \u001b[0moutput\u001b[0m\u001b[0;34m.\u001b[0m\u001b[0m_variational_strategy\u001b[0m\u001b[0;34m.\u001b[0m\u001b[0mvariational_samples\u001b[0m\u001b[0;34m(\u001b[0m\u001b[0moutput\u001b[0m\u001b[0;34m)\u001b[0m\u001b[0;34m\u001b[0m\u001b[0m\n\u001b[0;32m---> 71\u001b[0;31m             \u001b[0mlog_likelihood\u001b[0m \u001b[0;34m=\u001b[0m \u001b[0mself\u001b[0m\u001b[0;34m.\u001b[0m\u001b[0mlikelihood\u001b[0m\u001b[0;34m.\u001b[0m\u001b[0mlog_probability\u001b[0m\u001b[0;34m(\u001b[0m\u001b[0msamples\u001b[0m\u001b[0;34m,\u001b[0m \u001b[0mtarget\u001b[0m\u001b[0;34m)\u001b[0m\u001b[0;34m.\u001b[0m\u001b[0mdiv\u001b[0m\u001b[0;34m(\u001b[0m\u001b[0mn_batch\u001b[0m\u001b[0;34m)\u001b[0m\u001b[0;34m\u001b[0m\u001b[0m\n\u001b[0m\u001b[1;32m     72\u001b[0m             \u001b[0mkl_divergence\u001b[0m \u001b[0;34m=\u001b[0m \u001b[0moutput\u001b[0m\u001b[0;34m.\u001b[0m\u001b[0m_variational_strategy\u001b[0m\u001b[0;34m.\u001b[0m\u001b[0mmvn_kl_divergence\u001b[0m\u001b[0;34m(\u001b[0m\u001b[0;34m)\u001b[0m\u001b[0;34m.\u001b[0m\u001b[0mdiv\u001b[0m\u001b[0;34m(\u001b[0m\u001b[0mn_data\u001b[0m\u001b[0;34m)\u001b[0m\u001b[0;34m\u001b[0m\u001b[0m\n\u001b[1;32m     73\u001b[0m \u001b[0;34m\u001b[0m\u001b[0m\n",
      "\u001b[0;32m/home/bw462/gpytorch/gpytorch/likelihoods/softmax_gaussian_likelihood.pyc\u001b[0m in \u001b[0;36mlog_probability\u001b[0;34m(self, f, y)\u001b[0m\n\u001b[1;32m    145\u001b[0m         \u001b[0mclass_fs\u001b[0m \u001b[0;34m=\u001b[0m \u001b[0mclass_weight_samples\u001b[0m\u001b[0;34m.\u001b[0m\u001b[0mmatmul\u001b[0m\u001b[0;34m(\u001b[0m\u001b[0mmixed_fs\u001b[0m\u001b[0;34m.\u001b[0m\u001b[0munsqueeze\u001b[0m\u001b[0;34m(\u001b[0m\u001b[0;36m0\u001b[0m\u001b[0;34m)\u001b[0m\u001b[0;34m)\u001b[0m\u001b[0;34m.\u001b[0m\u001b[0mview\u001b[0m\u001b[0;34m(\u001b[0m\u001b[0mn_samples\u001b[0m\u001b[0;34m,\u001b[0m \u001b[0mself\u001b[0m\u001b[0;34m.\u001b[0m\u001b[0mn_classes\u001b[0m\u001b[0;34m,\u001b[0m \u001b[0mn_data\u001b[0m\u001b[0;34m,\u001b[0m \u001b[0mn_samples\u001b[0m\u001b[0;34m)\u001b[0m\u001b[0;34m\u001b[0m\u001b[0m\n\u001b[1;32m    146\u001b[0m         \u001b[0mclass_fs\u001b[0m \u001b[0;34m=\u001b[0m \u001b[0mclass_fs\u001b[0m\u001b[0;34m.\u001b[0m\u001b[0mpermute\u001b[0m\u001b[0;34m(\u001b[0m\u001b[0;36m0\u001b[0m\u001b[0;34m,\u001b[0m \u001b[0;36m3\u001b[0m\u001b[0;34m,\u001b[0m \u001b[0;36m2\u001b[0m\u001b[0;34m,\u001b[0m \u001b[0;36m1\u001b[0m\u001b[0;34m)\u001b[0m\u001b[0;34m\u001b[0m\u001b[0m\n\u001b[0;32m--> 147\u001b[0;31m         \u001b[0msoftmax\u001b[0m \u001b[0;34m=\u001b[0m \u001b[0mnn\u001b[0m\u001b[0;34m.\u001b[0m\u001b[0mfunctional\u001b[0m\u001b[0;34m.\u001b[0m\u001b[0msoftmax\u001b[0m\u001b[0;34m(\u001b[0m\u001b[0mclass_fs\u001b[0m\u001b[0;34m,\u001b[0m \u001b[0;36m3\u001b[0m\u001b[0;34m)\u001b[0m\u001b[0;34m.\u001b[0m\u001b[0mmean\u001b[0m\u001b[0;34m(\u001b[0m\u001b[0;36m1\u001b[0m\u001b[0;34m)\u001b[0m\u001b[0;34m.\u001b[0m\u001b[0mmean\u001b[0m\u001b[0;34m(\u001b[0m\u001b[0;36m0\u001b[0m\u001b[0;34m)\u001b[0m\u001b[0;34m\u001b[0m\u001b[0m\n\u001b[0m\u001b[1;32m    148\u001b[0m         \u001b[0mlog_prob\u001b[0m \u001b[0;34m=\u001b[0m \u001b[0;34m-\u001b[0m\u001b[0mnn\u001b[0m\u001b[0;34m.\u001b[0m\u001b[0mfunctional\u001b[0m\u001b[0;34m.\u001b[0m\u001b[0mnll_loss\u001b[0m\u001b[0;34m(\u001b[0m\u001b[0msoftmax\u001b[0m\u001b[0;34m.\u001b[0m\u001b[0mlog\u001b[0m\u001b[0;34m(\u001b[0m\u001b[0;34m)\u001b[0m\u001b[0;34m,\u001b[0m \u001b[0my\u001b[0m\u001b[0;34m,\u001b[0m \u001b[0msize_average\u001b[0m\u001b[0;34m=\u001b[0m\u001b[0mFalse\u001b[0m\u001b[0;34m)\u001b[0m\u001b[0;34m\u001b[0m\u001b[0m\n\u001b[1;32m    149\u001b[0m         \u001b[0;32mreturn\u001b[0m \u001b[0mlog_prob\u001b[0m\u001b[0;34m\u001b[0m\u001b[0m\n",
      "\u001b[0;32m/home/bw462/anaconda2/lib/python2.7/site-packages/torch/nn/functional.pyc\u001b[0m in \u001b[0;36msoftmax\u001b[0;34m(input, dim, _stacklevel)\u001b[0m\n\u001b[1;32m    766\u001b[0m     \u001b[0;32mif\u001b[0m \u001b[0mdim\u001b[0m \u001b[0;32mis\u001b[0m \u001b[0mNone\u001b[0m\u001b[0;34m:\u001b[0m\u001b[0;34m\u001b[0m\u001b[0m\n\u001b[1;32m    767\u001b[0m         \u001b[0mdim\u001b[0m \u001b[0;34m=\u001b[0m \u001b[0m_get_softmax_dim\u001b[0m\u001b[0;34m(\u001b[0m\u001b[0;34m'softmax'\u001b[0m\u001b[0;34m,\u001b[0m \u001b[0minput\u001b[0m\u001b[0;34m.\u001b[0m\u001b[0mdim\u001b[0m\u001b[0;34m(\u001b[0m\u001b[0;34m)\u001b[0m\u001b[0;34m,\u001b[0m \u001b[0m_stacklevel\u001b[0m\u001b[0;34m)\u001b[0m\u001b[0;34m\u001b[0m\u001b[0m\n\u001b[0;32m--> 768\u001b[0;31m     \u001b[0;32mreturn\u001b[0m \u001b[0mtorch\u001b[0m\u001b[0;34m.\u001b[0m\u001b[0m_C\u001b[0m\u001b[0;34m.\u001b[0m\u001b[0m_nn\u001b[0m\u001b[0;34m.\u001b[0m\u001b[0msoftmax\u001b[0m\u001b[0;34m(\u001b[0m\u001b[0minput\u001b[0m\u001b[0;34m,\u001b[0m \u001b[0mdim\u001b[0m\u001b[0;34m)\u001b[0m\u001b[0;34m\u001b[0m\u001b[0m\n\u001b[0m\u001b[1;32m    769\u001b[0m \u001b[0;34m\u001b[0m\u001b[0m\n\u001b[1;32m    770\u001b[0m \u001b[0;34m\u001b[0m\u001b[0m\n",
      "\u001b[0;31mRuntimeError\u001b[0m: cuda runtime error (2) : out of memory at /opt/conda/conda-bld/pytorch_1512378360668/work/torch/lib/THC/generic/THCStorage.cu:58"
     ]
    }
   ],
   "source": [
    "# Find optimal model hyperparameters\n",
    "deep_kernel.train()\n",
    "optimizer = torch.optim.Adam(deep_kernel.gp_layer.parameters(), lr=0.01)\n",
    "optimizer.n_iter = 0\n",
    "num_epochs = 20\n",
    "for i in range(num_epochs):\n",
    "    for j, (train_x_batch, train_y_batch) in enumerate(gp_data_loader):\n",
    "        train_x_batch = Variable(train_x_batch).cuda()\n",
    "        train_y_batch = Variable(train_y_batch).cuda()\n",
    "        optimizer.zero_grad()\n",
    "        output = deep_kernel(train_x_batch)\n",
    "        loss = -deep_kernel.gp_layer.marginal_log_likelihood(output, train_y_batch, n_data=len(train_mnist))\n",
    "        loss.backward()\n",
    "        optimizer.n_iter += 1\n",
    "        print('Iter %d/%d - Loss: %.3f' % (\n",
    "            i + 1, num_epochs, loss.data[0],\n",
    "        ))\n",
    "        optimizer.step()\n",
    "        \n",
    "    deep_kernel.eval()\n",
    "    test_data_loader = train_data_loader#torch.utils.data.DataLoader(test_mnist, shuffle=False, pin_memory=True, batch_size=256)\n",
    "\n",
    "    avg = 0.\n",
    "    i = 0.\n",
    "    for test_batch_x, test_batch_y in test_data_loader:\n",
    "        predictions = deep_kernel(Variable(test_batch_x).cuda()).argmax()\n",
    "        test_batch_y = Variable(test_batch_y).cuda()\n",
    "        avg += torch.eq(predictions, test_batch_y).float().mean().data[0]\n",
    "        i += 1.\n",
    "\n",
    "    print('Score')\n",
    "    print(avg / i)\n",
    "    deep_kernel.train()\n"
   ]
  },
  {
   "cell_type": "code",
   "execution_count": null,
   "metadata": {},
   "outputs": [],
   "source": [
    "deep_kernel.eval()\n",
    "test_data_loader = train_data_loader#torch.utils.data.DataLoader(test_mnist, shuffle=False, pin_memory=True, batch_size=256)\n",
    "avg = 0.\n",
    "i = 0.\n",
    "for test_batch_x, test_batch_y in test_data_loader:\n",
    "    predictions = deep_kernel(Variable(test_batch_x).cuda()).representation().max(-1)[1]\n",
    "    test_batch_y = Variable(test_batch_y).cuda()\n",
    "    avg += torch.eq(predictions, test_batch_y).float().mean().data[0]\n",
    "    i += 1.\n",
    "print('Accuracy: %.4f' % (avg / i))\n"
   ]
  },
  {
   "cell_type": "code",
   "execution_count": null,
   "metadata": {
    "collapsed": true
   },
   "outputs": [],
   "source": []
  },
  {
   "cell_type": "code",
   "execution_count": null,
   "metadata": {
    "collapsed": true
   },
   "outputs": [],
   "source": []
  }
 ],
 "metadata": {
  "anaconda-cloud": {},
  "kernelspec": {
   "display_name": "Python 2",
   "language": "python",
   "name": "python2"
  },
  "language_info": {
   "codemirror_mode": {
    "name": "ipython",
    "version": 2
   },
   "file_extension": ".py",
   "mimetype": "text/x-python",
   "name": "python",
   "nbconvert_exporter": "python",
   "pygments_lexer": "ipython2",
   "version": "2.7.14"
  }
 },
 "nbformat": 4,
 "nbformat_minor": 1
}
