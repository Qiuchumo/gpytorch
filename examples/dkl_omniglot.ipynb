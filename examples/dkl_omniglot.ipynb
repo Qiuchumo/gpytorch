{
 "cells": [
  {
   "cell_type": "code",
   "execution_count": 1,
   "metadata": {
    "collapsed": true
   },
   "outputs": [],
   "source": [
    "import gpytorch\n",
    "import torch\n",
    "import torchvision\n",
    "from torch import nn\n",
    "from torch.autograd import Variable\n",
    "from torchvision import transforms\n",
    "\n",
    "gpytorch.functions.use_toeplitz = False"
   ]
  },
  {
   "cell_type": "code",
   "execution_count": 2,
   "metadata": {
    "scrolled": true
   },
   "outputs": [
    {
     "data": {
      "text/plain": [
       "\"\\ntest_mnist = torchvision.datasets.ImageFolder('/tmp', split='test',\\n                                        download=True, transform=transforms.Compose([\\n                       transforms.ToTensor()\\n                   ]))\\n\""
      ]
     },
     "execution_count": 2,
     "metadata": {},
     "output_type": "execute_result"
    }
   ],
   "source": [
    "train_mnist = torchvision.datasets.ImageFolder('/scratch/bw462/', transform=transforms.Compose([\n",
    "                        transforms.Scale((28,28)),\n",
    "                        transforms.ToTensor()\n",
    "                   ]))                                              \n",
    "\"\"\"\n",
    "test_mnist = torchvision.datasets.ImageFolder('/tmp', split='test',\n",
    "                                        download=True, transform=transforms.Compose([\n",
    "                       transforms.ToTensor()\n",
    "                   ]))\n",
    "\"\"\""
   ]
  },
  {
   "cell_type": "code",
   "execution_count": 3,
   "metadata": {
    "collapsed": true
   },
   "outputs": [],
   "source": [
    "class FeatureExtractor(nn.Sequential):\n",
    "    \n",
    "    def __init__(self):\n",
    "        super(FeatureExtractor, self).__init__(nn.Conv2d(1, 32, kernel_size=5, padding=2),\n",
    "                                 nn.BatchNorm2d(32),\n",
    "                                 nn.ReLU(),\n",
    "                                 nn.MaxPool2d(2, 2),\n",
    "                                 nn.Conv2d(32, 64, kernel_size=5, padding=2),\n",
    "                                 nn.BatchNorm2d(64),\n",
    "                                 nn.ReLU(),\n",
    "                                 nn.MaxPool2d(2, 2))\n",
    "        \n",
    "class Bottleneck(nn.Sequential):\n",
    "    \n",
    "    def __init__(self):\n",
    "        super(Bottleneck, self).__init__(nn.Linear(64*7*7, 128),\n",
    "                                         nn.BatchNorm1d(128),\n",
    "                                 nn.ReLU(),\n",
    "                                 nn.Linear(128, 128),\n",
    "                                 nn.BatchNorm1d(128),\n",
    "                                 nn.ReLU(),\n",
    "                                 nn.Linear(128,64),\n",
    "                                 nn.BatchNorm1d(64))\n",
    "\n",
    "class LeNet(nn.Module):\n",
    "    \n",
    "    def __init__(self):\n",
    "        super(LeNet, self).__init__()\n",
    "        self.feature_extractor = FeatureExtractor()\n",
    "        self.bottleneck = Bottleneck()\n",
    "        self.final_layer = nn.Sequential(\n",
    "                                 nn.ReLU(),\n",
    "                                 nn.Linear(64,1319))\n",
    "    \n",
    "    def forward(self, x):\n",
    "        input_x = x[:,0,:,:].unsqueeze(1)\n",
    "        features = self.feature_extractor(input_x)\n",
    "        bottlenecked_features = self.bottleneck(features.view(-1, 64 * 7 * 7))\n",
    "        classification = self.final_layer(bottlenecked_features)\n",
    "        return classification\n",
    "        "
   ]
  },
  {
   "cell_type": "code",
   "execution_count": 4,
   "metadata": {
    "collapsed": true
   },
   "outputs": [],
   "source": [
    "train_data_loader = torch.utils.data.DataLoader(train_mnist, shuffle=True, pin_memory=True, batch_size=256)"
   ]
  },
  {
   "cell_type": "code",
   "execution_count": 5,
   "metadata": {
    "collapsed": true
   },
   "outputs": [],
   "source": [
    "criterion = nn.CrossEntropyLoss().cuda()"
   ]
  },
  {
   "cell_type": "code",
   "execution_count": 6,
   "metadata": {
    "collapsed": true
   },
   "outputs": [],
   "source": [
    "model = LeNet().cuda() \n",
    "optimizer = torch.optim.SGD(model.parameters(), lr=0.5)"
   ]
  },
  {
   "cell_type": "code",
   "execution_count": 17,
   "metadata": {},
   "outputs": [
    {
     "name": "stdout",
     "output_type": "stream",
     "text": [
      "Loss: 2.019\n",
      "Loss: 2.009\n",
      "Loss: 1.951\n",
      "Loss: 1.967\n",
      "Loss: 1.969\n",
      "Loss: 1.823\n",
      "Loss: 1.990\n",
      "Loss: 1.897\n",
      "Loss: 1.890\n",
      "Loss: 1.943\n",
      "Loss: 1.881\n",
      "Loss: 2.012\n",
      "Loss: 1.864\n",
      "Loss: 1.959\n",
      "Loss: 1.932\n",
      "Loss: 1.959\n",
      "Loss: 1.848\n"
     ]
    },
    {
     "ename": "KeyboardInterrupt",
     "evalue": "",
     "output_type": "error",
     "traceback": [
      "\u001b[0;31m---------------------------------------------------------------------------\u001b[0m",
      "\u001b[0;31mKeyboardInterrupt\u001b[0m                         Traceback (most recent call last)",
      "\u001b[0;32m<ipython-input-17-5c4606ec249c>\u001b[0m in \u001b[0;36m<module>\u001b[0;34m()\u001b[0m\n\u001b[1;32m      6\u001b[0m         \u001b[0mx\u001b[0m \u001b[0;34m=\u001b[0m \u001b[0mVariable\u001b[0m\u001b[0;34m(\u001b[0m\u001b[0mx\u001b[0m\u001b[0;34m)\u001b[0m\u001b[0;34m.\u001b[0m\u001b[0mcuda\u001b[0m\u001b[0;34m(\u001b[0m\u001b[0;34m)\u001b[0m\u001b[0;34m\u001b[0m\u001b[0m\n\u001b[1;32m      7\u001b[0m         \u001b[0my\u001b[0m \u001b[0;34m=\u001b[0m \u001b[0mVariable\u001b[0m\u001b[0;34m(\u001b[0m\u001b[0my\u001b[0m\u001b[0;34m)\u001b[0m\u001b[0;34m.\u001b[0m\u001b[0mcuda\u001b[0m\u001b[0;34m(\u001b[0m\u001b[0;34m)\u001b[0m\u001b[0;34m\u001b[0m\u001b[0m\n\u001b[0;32m----> 8\u001b[0;31m         \u001b[0moutput\u001b[0m \u001b[0;34m=\u001b[0m \u001b[0mmodel\u001b[0m\u001b[0;34m(\u001b[0m\u001b[0mx\u001b[0m\u001b[0;34m)\u001b[0m\u001b[0;34m\u001b[0m\u001b[0m\n\u001b[0m\u001b[1;32m      9\u001b[0m         \u001b[0mloss\u001b[0m \u001b[0;34m=\u001b[0m \u001b[0mcriterion\u001b[0m\u001b[0;34m(\u001b[0m\u001b[0moutput\u001b[0m\u001b[0;34m,\u001b[0m \u001b[0my\u001b[0m\u001b[0;34m)\u001b[0m\u001b[0;34m\u001b[0m\u001b[0m\n\u001b[1;32m     10\u001b[0m         \u001b[0mloss\u001b[0m\u001b[0;34m.\u001b[0m\u001b[0mbackward\u001b[0m\u001b[0;34m(\u001b[0m\u001b[0;34m)\u001b[0m\u001b[0;34m\u001b[0m\u001b[0m\n",
      "\u001b[0;32m/home/bw462/anaconda2/lib/python2.7/site-packages/torch/nn/modules/module.pyc\u001b[0m in \u001b[0;36m__call__\u001b[0;34m(self, *input, **kwargs)\u001b[0m\n\u001b[1;32m    222\u001b[0m         \u001b[0;32mfor\u001b[0m \u001b[0mhook\u001b[0m \u001b[0;32min\u001b[0m \u001b[0mself\u001b[0m\u001b[0;34m.\u001b[0m\u001b[0m_forward_pre_hooks\u001b[0m\u001b[0;34m.\u001b[0m\u001b[0mvalues\u001b[0m\u001b[0;34m(\u001b[0m\u001b[0;34m)\u001b[0m\u001b[0;34m:\u001b[0m\u001b[0;34m\u001b[0m\u001b[0m\n\u001b[1;32m    223\u001b[0m             \u001b[0mhook\u001b[0m\u001b[0;34m(\u001b[0m\u001b[0mself\u001b[0m\u001b[0;34m,\u001b[0m \u001b[0minput\u001b[0m\u001b[0;34m)\u001b[0m\u001b[0;34m\u001b[0m\u001b[0m\n\u001b[0;32m--> 224\u001b[0;31m         \u001b[0mresult\u001b[0m \u001b[0;34m=\u001b[0m \u001b[0mself\u001b[0m\u001b[0;34m.\u001b[0m\u001b[0mforward\u001b[0m\u001b[0;34m(\u001b[0m\u001b[0;34m*\u001b[0m\u001b[0minput\u001b[0m\u001b[0;34m,\u001b[0m \u001b[0;34m**\u001b[0m\u001b[0mkwargs\u001b[0m\u001b[0;34m)\u001b[0m\u001b[0;34m\u001b[0m\u001b[0m\n\u001b[0m\u001b[1;32m    225\u001b[0m         \u001b[0;32mfor\u001b[0m \u001b[0mhook\u001b[0m \u001b[0;32min\u001b[0m \u001b[0mself\u001b[0m\u001b[0;34m.\u001b[0m\u001b[0m_forward_hooks\u001b[0m\u001b[0;34m.\u001b[0m\u001b[0mvalues\u001b[0m\u001b[0;34m(\u001b[0m\u001b[0;34m)\u001b[0m\u001b[0;34m:\u001b[0m\u001b[0;34m\u001b[0m\u001b[0m\n\u001b[1;32m    226\u001b[0m             \u001b[0mhook_result\u001b[0m \u001b[0;34m=\u001b[0m \u001b[0mhook\u001b[0m\u001b[0;34m(\u001b[0m\u001b[0mself\u001b[0m\u001b[0;34m,\u001b[0m \u001b[0minput\u001b[0m\u001b[0;34m,\u001b[0m \u001b[0mresult\u001b[0m\u001b[0;34m)\u001b[0m\u001b[0;34m\u001b[0m\u001b[0m\n",
      "\u001b[0;32m<ipython-input-3-e0f5bddaa469>\u001b[0m in \u001b[0;36mforward\u001b[0;34m(self, x)\u001b[0m\n\u001b[1;32m     35\u001b[0m     \u001b[0;32mdef\u001b[0m \u001b[0mforward\u001b[0m\u001b[0;34m(\u001b[0m\u001b[0mself\u001b[0m\u001b[0;34m,\u001b[0m \u001b[0mx\u001b[0m\u001b[0;34m)\u001b[0m\u001b[0;34m:\u001b[0m\u001b[0;34m\u001b[0m\u001b[0m\n\u001b[1;32m     36\u001b[0m         \u001b[0minput_x\u001b[0m \u001b[0;34m=\u001b[0m \u001b[0mx\u001b[0m\u001b[0;34m[\u001b[0m\u001b[0;34m:\u001b[0m\u001b[0;34m,\u001b[0m\u001b[0;36m0\u001b[0m\u001b[0;34m,\u001b[0m\u001b[0;34m:\u001b[0m\u001b[0;34m,\u001b[0m\u001b[0;34m:\u001b[0m\u001b[0;34m]\u001b[0m\u001b[0;34m.\u001b[0m\u001b[0munsqueeze\u001b[0m\u001b[0;34m(\u001b[0m\u001b[0;36m1\u001b[0m\u001b[0;34m)\u001b[0m\u001b[0;34m\u001b[0m\u001b[0m\n\u001b[0;32m---> 37\u001b[0;31m         \u001b[0mfeatures\u001b[0m \u001b[0;34m=\u001b[0m \u001b[0mself\u001b[0m\u001b[0;34m.\u001b[0m\u001b[0mfeature_extractor\u001b[0m\u001b[0;34m(\u001b[0m\u001b[0minput_x\u001b[0m\u001b[0;34m)\u001b[0m\u001b[0;34m\u001b[0m\u001b[0m\n\u001b[0m\u001b[1;32m     38\u001b[0m         \u001b[0mbottlenecked_features\u001b[0m \u001b[0;34m=\u001b[0m \u001b[0mself\u001b[0m\u001b[0;34m.\u001b[0m\u001b[0mbottleneck\u001b[0m\u001b[0;34m(\u001b[0m\u001b[0mfeatures\u001b[0m\u001b[0;34m.\u001b[0m\u001b[0mview\u001b[0m\u001b[0;34m(\u001b[0m\u001b[0;34m-\u001b[0m\u001b[0;36m1\u001b[0m\u001b[0;34m,\u001b[0m \u001b[0;36m64\u001b[0m \u001b[0;34m*\u001b[0m \u001b[0;36m7\u001b[0m \u001b[0;34m*\u001b[0m \u001b[0;36m7\u001b[0m\u001b[0;34m)\u001b[0m\u001b[0;34m)\u001b[0m\u001b[0;34m\u001b[0m\u001b[0m\n\u001b[1;32m     39\u001b[0m         \u001b[0mclassification\u001b[0m \u001b[0;34m=\u001b[0m \u001b[0mself\u001b[0m\u001b[0;34m.\u001b[0m\u001b[0mfinal_layer\u001b[0m\u001b[0;34m(\u001b[0m\u001b[0mbottlenecked_features\u001b[0m\u001b[0;34m)\u001b[0m\u001b[0;34m\u001b[0m\u001b[0m\n",
      "\u001b[0;32m/home/bw462/anaconda2/lib/python2.7/site-packages/torch/nn/modules/module.pyc\u001b[0m in \u001b[0;36m__call__\u001b[0;34m(self, *input, **kwargs)\u001b[0m\n\u001b[1;32m    222\u001b[0m         \u001b[0;32mfor\u001b[0m \u001b[0mhook\u001b[0m \u001b[0;32min\u001b[0m \u001b[0mself\u001b[0m\u001b[0;34m.\u001b[0m\u001b[0m_forward_pre_hooks\u001b[0m\u001b[0;34m.\u001b[0m\u001b[0mvalues\u001b[0m\u001b[0;34m(\u001b[0m\u001b[0;34m)\u001b[0m\u001b[0;34m:\u001b[0m\u001b[0;34m\u001b[0m\u001b[0m\n\u001b[1;32m    223\u001b[0m             \u001b[0mhook\u001b[0m\u001b[0;34m(\u001b[0m\u001b[0mself\u001b[0m\u001b[0;34m,\u001b[0m \u001b[0minput\u001b[0m\u001b[0;34m)\u001b[0m\u001b[0;34m\u001b[0m\u001b[0m\n\u001b[0;32m--> 224\u001b[0;31m         \u001b[0mresult\u001b[0m \u001b[0;34m=\u001b[0m \u001b[0mself\u001b[0m\u001b[0;34m.\u001b[0m\u001b[0mforward\u001b[0m\u001b[0;34m(\u001b[0m\u001b[0;34m*\u001b[0m\u001b[0minput\u001b[0m\u001b[0;34m,\u001b[0m \u001b[0;34m**\u001b[0m\u001b[0mkwargs\u001b[0m\u001b[0;34m)\u001b[0m\u001b[0;34m\u001b[0m\u001b[0m\n\u001b[0m\u001b[1;32m    225\u001b[0m         \u001b[0;32mfor\u001b[0m \u001b[0mhook\u001b[0m \u001b[0;32min\u001b[0m \u001b[0mself\u001b[0m\u001b[0;34m.\u001b[0m\u001b[0m_forward_hooks\u001b[0m\u001b[0;34m.\u001b[0m\u001b[0mvalues\u001b[0m\u001b[0;34m(\u001b[0m\u001b[0;34m)\u001b[0m\u001b[0;34m:\u001b[0m\u001b[0;34m\u001b[0m\u001b[0m\n\u001b[1;32m    226\u001b[0m             \u001b[0mhook_result\u001b[0m \u001b[0;34m=\u001b[0m \u001b[0mhook\u001b[0m\u001b[0;34m(\u001b[0m\u001b[0mself\u001b[0m\u001b[0;34m,\u001b[0m \u001b[0minput\u001b[0m\u001b[0;34m,\u001b[0m \u001b[0mresult\u001b[0m\u001b[0;34m)\u001b[0m\u001b[0;34m\u001b[0m\u001b[0m\n",
      "\u001b[0;32m/home/bw462/anaconda2/lib/python2.7/site-packages/torch/nn/modules/container.pyc\u001b[0m in \u001b[0;36mforward\u001b[0;34m(self, input)\u001b[0m\n\u001b[1;32m     65\u001b[0m     \u001b[0;32mdef\u001b[0m \u001b[0mforward\u001b[0m\u001b[0;34m(\u001b[0m\u001b[0mself\u001b[0m\u001b[0;34m,\u001b[0m \u001b[0minput\u001b[0m\u001b[0;34m)\u001b[0m\u001b[0;34m:\u001b[0m\u001b[0;34m\u001b[0m\u001b[0m\n\u001b[1;32m     66\u001b[0m         \u001b[0;32mfor\u001b[0m \u001b[0mmodule\u001b[0m \u001b[0;32min\u001b[0m \u001b[0mself\u001b[0m\u001b[0;34m.\u001b[0m\u001b[0m_modules\u001b[0m\u001b[0;34m.\u001b[0m\u001b[0mvalues\u001b[0m\u001b[0;34m(\u001b[0m\u001b[0;34m)\u001b[0m\u001b[0;34m:\u001b[0m\u001b[0;34m\u001b[0m\u001b[0m\n\u001b[0;32m---> 67\u001b[0;31m             \u001b[0minput\u001b[0m \u001b[0;34m=\u001b[0m \u001b[0mmodule\u001b[0m\u001b[0;34m(\u001b[0m\u001b[0minput\u001b[0m\u001b[0;34m)\u001b[0m\u001b[0;34m\u001b[0m\u001b[0m\n\u001b[0m\u001b[1;32m     68\u001b[0m         \u001b[0;32mreturn\u001b[0m \u001b[0minput\u001b[0m\u001b[0;34m\u001b[0m\u001b[0m\n\u001b[1;32m     69\u001b[0m \u001b[0;34m\u001b[0m\u001b[0m\n",
      "\u001b[0;32m/home/bw462/anaconda2/lib/python2.7/site-packages/torch/nn/modules/module.pyc\u001b[0m in \u001b[0;36m__call__\u001b[0;34m(self, *input, **kwargs)\u001b[0m\n\u001b[1;32m    222\u001b[0m         \u001b[0;32mfor\u001b[0m \u001b[0mhook\u001b[0m \u001b[0;32min\u001b[0m \u001b[0mself\u001b[0m\u001b[0;34m.\u001b[0m\u001b[0m_forward_pre_hooks\u001b[0m\u001b[0;34m.\u001b[0m\u001b[0mvalues\u001b[0m\u001b[0;34m(\u001b[0m\u001b[0;34m)\u001b[0m\u001b[0;34m:\u001b[0m\u001b[0;34m\u001b[0m\u001b[0m\n\u001b[1;32m    223\u001b[0m             \u001b[0mhook\u001b[0m\u001b[0;34m(\u001b[0m\u001b[0mself\u001b[0m\u001b[0;34m,\u001b[0m \u001b[0minput\u001b[0m\u001b[0;34m)\u001b[0m\u001b[0;34m\u001b[0m\u001b[0m\n\u001b[0;32m--> 224\u001b[0;31m         \u001b[0mresult\u001b[0m \u001b[0;34m=\u001b[0m \u001b[0mself\u001b[0m\u001b[0;34m.\u001b[0m\u001b[0mforward\u001b[0m\u001b[0;34m(\u001b[0m\u001b[0;34m*\u001b[0m\u001b[0minput\u001b[0m\u001b[0;34m,\u001b[0m \u001b[0;34m**\u001b[0m\u001b[0mkwargs\u001b[0m\u001b[0;34m)\u001b[0m\u001b[0;34m\u001b[0m\u001b[0m\n\u001b[0m\u001b[1;32m    225\u001b[0m         \u001b[0;32mfor\u001b[0m \u001b[0mhook\u001b[0m \u001b[0;32min\u001b[0m \u001b[0mself\u001b[0m\u001b[0;34m.\u001b[0m\u001b[0m_forward_hooks\u001b[0m\u001b[0;34m.\u001b[0m\u001b[0mvalues\u001b[0m\u001b[0;34m(\u001b[0m\u001b[0;34m)\u001b[0m\u001b[0;34m:\u001b[0m\u001b[0;34m\u001b[0m\u001b[0m\n\u001b[1;32m    226\u001b[0m             \u001b[0mhook_result\u001b[0m \u001b[0;34m=\u001b[0m \u001b[0mhook\u001b[0m\u001b[0;34m(\u001b[0m\u001b[0mself\u001b[0m\u001b[0;34m,\u001b[0m \u001b[0minput\u001b[0m\u001b[0;34m,\u001b[0m \u001b[0mresult\u001b[0m\u001b[0;34m)\u001b[0m\u001b[0;34m\u001b[0m\u001b[0m\n",
      "\u001b[0;32m/home/bw462/anaconda2/lib/python2.7/site-packages/torch/nn/modules/pooling.pyc\u001b[0m in \u001b[0;36mforward\u001b[0;34m(self, input)\u001b[0m\n\u001b[1;32m    141\u001b[0m         return F.max_pool2d(input, self.kernel_size, self.stride,\n\u001b[1;32m    142\u001b[0m                             \u001b[0mself\u001b[0m\u001b[0;34m.\u001b[0m\u001b[0mpadding\u001b[0m\u001b[0;34m,\u001b[0m \u001b[0mself\u001b[0m\u001b[0;34m.\u001b[0m\u001b[0mdilation\u001b[0m\u001b[0;34m,\u001b[0m \u001b[0mself\u001b[0m\u001b[0;34m.\u001b[0m\u001b[0mceil_mode\u001b[0m\u001b[0;34m,\u001b[0m\u001b[0;34m\u001b[0m\u001b[0m\n\u001b[0;32m--> 143\u001b[0;31m                             self.return_indices)\n\u001b[0m\u001b[1;32m    144\u001b[0m \u001b[0;34m\u001b[0m\u001b[0m\n\u001b[1;32m    145\u001b[0m     \u001b[0;32mdef\u001b[0m \u001b[0m__repr__\u001b[0m\u001b[0;34m(\u001b[0m\u001b[0mself\u001b[0m\u001b[0;34m)\u001b[0m\u001b[0;34m:\u001b[0m\u001b[0;34m\u001b[0m\u001b[0m\n",
      "\u001b[0;32m/home/bw462/anaconda2/lib/python2.7/site-packages/torch/nn/functional.pyc\u001b[0m in \u001b[0;36mmax_pool2d\u001b[0;34m(input, kernel_size, stride, padding, dilation, ceil_mode, return_indices)\u001b[0m\n\u001b[1;32m    284\u001b[0m                ceil_mode=False, return_indices=False):\n\u001b[1;32m    285\u001b[0m     ret = _functions.thnn.MaxPool2d.apply(input, kernel_size, stride, padding, dilation,\n\u001b[0;32m--> 286\u001b[0;31m                                           ceil_mode)\n\u001b[0m\u001b[1;32m    287\u001b[0m     \u001b[0;32mreturn\u001b[0m \u001b[0mret\u001b[0m \u001b[0;32mif\u001b[0m \u001b[0mreturn_indices\u001b[0m \u001b[0;32melse\u001b[0m \u001b[0mret\u001b[0m\u001b[0;34m[\u001b[0m\u001b[0;36m0\u001b[0m\u001b[0;34m]\u001b[0m\u001b[0;34m\u001b[0m\u001b[0m\n\u001b[1;32m    288\u001b[0m \u001b[0;34m\u001b[0m\u001b[0m\n",
      "\u001b[0;32m/home/bw462/anaconda2/lib/python2.7/site-packages/torch/nn/_functions/thnn/pooling.pyc\u001b[0m in \u001b[0;36mforward\u001b[0;34m(ctx, input, kernel_size, stride, padding, dilation, ceil_mode)\u001b[0m\n\u001b[1;32m     87\u001b[0m         \u001b[0mctx\u001b[0m\u001b[0;34m.\u001b[0m\u001b[0mpadding\u001b[0m \u001b[0;34m=\u001b[0m \u001b[0m_pair\u001b[0m\u001b[0;34m(\u001b[0m\u001b[0mpadding\u001b[0m\u001b[0;34m)\u001b[0m\u001b[0;34m\u001b[0m\u001b[0m\n\u001b[1;32m     88\u001b[0m         \u001b[0mctx\u001b[0m\u001b[0;34m.\u001b[0m\u001b[0mdilation\u001b[0m \u001b[0;34m=\u001b[0m \u001b[0m_pair\u001b[0m\u001b[0;34m(\u001b[0m\u001b[0mdilation\u001b[0m\u001b[0;34m)\u001b[0m\u001b[0;34m\u001b[0m\u001b[0m\n\u001b[0;32m---> 89\u001b[0;31m         \u001b[0mctx\u001b[0m\u001b[0;34m.\u001b[0m\u001b[0mceil_mode\u001b[0m \u001b[0;34m=\u001b[0m \u001b[0mceil_mode\u001b[0m\u001b[0;34m\u001b[0m\u001b[0m\n\u001b[0m\u001b[1;32m     90\u001b[0m         \u001b[0mbackend\u001b[0m \u001b[0;34m=\u001b[0m \u001b[0mtype2backend\u001b[0m\u001b[0;34m[\u001b[0m\u001b[0mtype\u001b[0m\u001b[0;34m(\u001b[0m\u001b[0minput\u001b[0m\u001b[0;34m)\u001b[0m\u001b[0;34m]\u001b[0m\u001b[0;34m\u001b[0m\u001b[0m\n\u001b[1;32m     91\u001b[0m         \u001b[0mindices\u001b[0m\u001b[0;34m,\u001b[0m \u001b[0moutput\u001b[0m \u001b[0;34m=\u001b[0m \u001b[0minput\u001b[0m\u001b[0;34m.\u001b[0m\u001b[0mnew\u001b[0m\u001b[0;34m(\u001b[0m\u001b[0;34m)\u001b[0m\u001b[0;34m.\u001b[0m\u001b[0mlong\u001b[0m\u001b[0;34m(\u001b[0m\u001b[0;34m)\u001b[0m\u001b[0;34m,\u001b[0m \u001b[0minput\u001b[0m\u001b[0;34m.\u001b[0m\u001b[0mnew\u001b[0m\u001b[0;34m(\u001b[0m\u001b[0;34m)\u001b[0m\u001b[0;34m\u001b[0m\u001b[0m\n",
      "\u001b[0;31mKeyboardInterrupt\u001b[0m: "
     ]
    }
   ],
   "source": [
    "model.train()\n",
    "num_epochs = 20\n",
    "for i in range(num_epochs):\n",
    "    for x, y in train_data_loader:\n",
    "        optimizer.zero_grad()\n",
    "        x = Variable(x).cuda()\n",
    "        y = Variable(y).cuda()\n",
    "        output = model(x)\n",
    "        loss = criterion(output, y)\n",
    "        loss.backward()\n",
    "        optimizer.step()\n",
    "    print(\"Loss: %.3f\" % loss.data[0])\n",
    "    \n"
   ]
  },
  {
   "cell_type": "code",
   "execution_count": 18,
   "metadata": {},
   "outputs": [
    {
     "name": "stdout",
     "output_type": "stream",
     "text": [
      "Accuracy: 0.9697\n"
     ]
    }
   ],
   "source": [
    "model.eval()\n",
    "test_data_loader = train_data_loader#torch.utils.data.DataLoader(test_mnist, shuffle=False, pin_memory=True, batch_size=256)\n",
    "avg = 0.\n",
    "i = 0.\n",
    "for test_batch_x, test_batch_y in test_data_loader:\n",
    "    predictions = model(Variable(test_batch_x).cuda()).max(-1)[1]\n",
    "    test_batch_y = Variable(test_batch_y).cuda()\n",
    "    avg += torch.eq(predictions, test_batch_y).float().mean().data[0]\n",
    "    i += 1.\n",
    "print('Accuracy: %.4f' % (avg / i))"
   ]
  },
  {
   "cell_type": "code",
   "execution_count": 19,
   "metadata": {
    "collapsed": true
   },
   "outputs": [],
   "source": [
    "list(model.bottleneck.modules())[-1].weight.data.fill_(1)\n",
    "None"
   ]
  },
  {
   "cell_type": "code",
   "execution_count": 20,
   "metadata": {
    "collapsed": true
   },
   "outputs": [],
   "source": [
    "from gpytorch.kernels import RBFKernel, GridInterpolationKernel\n",
    "\n",
    "class DeepKernel(gpytorch.Module):\n",
    "    def __init__(self, model):\n",
    "        super(DeepKernel, self).__init__()\n",
    "        self.feature_extractor = model.feature_extractor\n",
    "        self.bottleneck = model.bottleneck\n",
    "        self.gp_layer = GPLayer()\n",
    "        \n",
    "    def forward(self, x):\n",
    "        features = self.feature_extractor(x[:,0,:,:].unsqueeze(1))\n",
    "        bottlenecked_features = self.bottleneck(features.view(-1, 64 * 7 * 7))\n",
    "        gp_output = self.gp_layer(0.1*bottlenecked_features)\n",
    "        return gp_output\n",
    "    \n",
    "    \n",
    "class LatentFunction(gpytorch.AdditiveGridInducingPointModule):\n",
    "    def __init__(self):\n",
    "        super(LatentFunction, self).__init__(grid_size=256, grid_bounds=[(-7, 7)],\n",
    "                                             n_components=64, mixing_params=False, sum_output=False)\n",
    "        cov_module = RBFKernel()\n",
    "        cov_module.initialize(log_lengthscale=2)\n",
    "        self.cov_module = cov_module\n",
    "        \n",
    "    def forward(self, x):\n",
    "        mean = Variable(x.data.new(len(x)).zero_())\n",
    "        covar = self.cov_module(x)\n",
    "        return gpytorch.random_variables.GaussianRandomVariable(mean, covar)\n",
    "\n",
    "    \n",
    "class GPLayer(gpytorch.GPModel):\n",
    "    def __init__(self, n_dims=64):\n",
    "        super(GPLayer, self).__init__(gpytorch.likelihoods.SoftmaxLikelihood(n_features=64, n_classes=1319))\n",
    "        self.latent_function = LatentFunction()\n",
    "    \n",
    "    def forward(self, x):\n",
    "        res = self.latent_function(x)\n",
    "        return res\n",
    "    "
   ]
  },
  {
   "cell_type": "code",
   "execution_count": 21,
   "metadata": {},
   "outputs": [
    {
     "data": {
      "text/plain": [
       "19280"
      ]
     },
     "execution_count": 21,
     "metadata": {},
     "output_type": "execute_result"
    }
   ],
   "source": [
    "len(train_mnist)"
   ]
  },
  {
   "cell_type": "code",
   "execution_count": 22,
   "metadata": {
    "collapsed": true
   },
   "outputs": [],
   "source": [
    "deep_kernel = DeepKernel(model).cuda()\n",
    "gp_data_loader = torch.utils.data.DataLoader(train_mnist, batch_size=2048., pin_memory=True, shuffle=True)"
   ]
  },
  {
   "cell_type": "code",
   "execution_count": 23,
   "metadata": {
    "scrolled": false
   },
   "outputs": [
    {
     "name": "stdout",
     "output_type": "stream",
     "text": [
      "Iter 1/10 - Loss: 2567.996\n",
      "Iter 1/10 - Loss: 2011.958\n",
      "Iter 1/10 - Loss: 1379.622\n",
      "Iter 1/10 - Loss: 1285.654\n",
      "Iter 1/10 - Loss: 1154.769\n",
      "Iter 1/10 - Loss: 1170.810\n",
      "Iter 1/10 - Loss: 864.588\n",
      "Iter 1/10 - Loss: 627.519\n",
      "Iter 1/10 - Loss: 891.106\n",
      "Iter 1/10 - Loss: 274.155\n",
      "Score\n",
      "0.0255962171053\n",
      "Iter 2/10 - Loss: 613.794\n",
      "Iter 2/10 - Loss: 488.776\n",
      "Iter 2/10 - Loss: 518.569\n",
      "Iter 2/10 - Loss: 403.257\n",
      "Iter 2/10 - Loss: 410.769\n",
      "Iter 2/10 - Loss: 377.608\n",
      "Iter 2/10 - Loss: 532.310\n",
      "Iter 2/10 - Loss: 312.674\n",
      "Iter 2/10 - Loss: 359.862\n",
      "Iter 2/10 - Loss: 179.385\n",
      "Score\n",
      "0.0514597039498\n",
      "Iter 3/10 - Loss: 294.417\n",
      "Iter 3/10 - Loss: 250.878\n",
      "Iter 3/10 - Loss: 270.639\n",
      "Iter 3/10 - Loss: 246.919\n",
      "Iter 3/10 - Loss: 265.805\n",
      "Iter 3/10 - Loss: 290.214\n",
      "Iter 3/10 - Loss: 247.692\n",
      "Iter 3/10 - Loss: 276.708\n",
      "Iter 3/10 - Loss: 412.912\n",
      "Iter 3/10 - Loss: 134.223\n",
      "Score\n",
      "0.355530427475\n",
      "Iter 4/10 - Loss: 274.747\n",
      "Iter 4/10 - Loss: 270.341\n",
      "Iter 4/10 - Loss: 272.364\n",
      "Iter 4/10 - Loss: 248.340\n",
      "Iter 4/10 - Loss: 251.085\n",
      "Iter 4/10 - Loss: 305.882\n",
      "Iter 4/10 - Loss: 237.344\n",
      "Iter 4/10 - Loss: 322.522\n",
      "Iter 4/10 - Loss: 267.749\n",
      "Iter 4/10 - Loss: 127.824\n",
      "Score\n",
      "0.682565789474\n",
      "Iter 5/10 - Loss: 312.196\n",
      "Iter 5/10 - Loss: 448.931\n",
      "Iter 5/10 - Loss: 283.115\n",
      "Iter 5/10 - Loss: 184.629\n",
      "Iter 5/10 - Loss: 216.819\n",
      "Iter 5/10 - Loss: 226.421\n",
      "Iter 5/10 - Loss: 209.221\n",
      "Iter 5/10 - Loss: 213.518\n",
      "Iter 5/10 - Loss: 223.676\n",
      "Iter 5/10 - Loss: 99.095\n",
      "Score\n",
      "0.870590049185\n",
      "Iter 6/10 - Loss: 218.818\n",
      "Iter 6/10 - Loss: 166.895\n",
      "Iter 6/10 - Loss: 240.837\n",
      "Iter 6/10 - Loss: 175.531\n",
      "Iter 6/10 - Loss: 185.269\n",
      "Iter 6/10 - Loss: 145.095\n",
      "Iter 6/10 - Loss: 246.875\n",
      "Iter 6/10 - Loss: 229.036\n",
      "Iter 6/10 - Loss: 180.231\n",
      "Iter 6/10 - Loss: 97.494\n",
      "Score\n",
      "0.960197368735\n",
      "Iter 7/10 - Loss: 205.543\n",
      "Iter 7/10 - Loss: 125.686\n",
      "Iter 7/10 - Loss: 200.648\n",
      "Iter 7/10 - Loss: 129.091\n",
      "Iter 7/10 - Loss: 123.489\n",
      "Iter 7/10 - Loss: 197.649\n",
      "Iter 7/10 - Loss: 147.326\n",
      "Iter 7/10 - Loss: 184.633\n",
      "Iter 7/10 - Loss: 66.822\n",
      "Iter 7/10 - Loss: 75.210\n",
      "Score\n",
      "0.985300164474\n",
      "Iter 8/10 - Loss: 231.407\n",
      "Iter 8/10 - Loss: 98.317\n",
      "Iter 8/10 - Loss: 125.797\n",
      "Iter 8/10 - Loss: 159.936\n",
      "Iter 8/10 - Loss: 173.804\n",
      "Iter 8/10 - Loss: 123.559\n",
      "Iter 8/10 - Loss: 162.114\n",
      "Iter 8/10 - Loss: 139.472\n",
      "Iter 8/10 - Loss: 102.280\n",
      "Iter 8/10 - Loss: 59.520\n",
      "Score\n",
      "0.990337171053\n",
      "Iter 9/10 - Loss: 167.499\n",
      "Iter 9/10 - Loss: 168.643\n",
      "Iter 9/10 - Loss: 83.597\n",
      "Iter 9/10 - Loss: 134.603\n",
      "Iter 9/10 - Loss: 164.265\n",
      "Iter 9/10 - Loss: 71.538\n",
      "Iter 9/10 - Loss: 107.572\n",
      "Iter 9/10 - Loss: 81.213\n",
      "Iter 9/10 - Loss: 56.808\n",
      "Iter 9/10 - Loss: 72.004\n",
      "Score\n",
      "0.993780838816\n",
      "Iter 10/10 - Loss: 86.699\n",
      "Iter 10/10 - Loss: 130.877\n",
      "Iter 10/10 - Loss: 100.687\n",
      "Iter 10/10 - Loss: 120.170\n",
      "Iter 10/10 - Loss: 74.617\n",
      "Iter 10/10 - Loss: 102.418\n",
      "Iter 10/10 - Loss: 127.822\n",
      "Iter 10/10 - Loss: 98.925\n",
      "Iter 10/10 - Loss: 142.671\n",
      "Iter 10/10 - Loss: 47.388\n",
      "Score\n",
      "0.995466694236\n"
     ]
    }
   ],
   "source": [
    "# Find optimal model hyperparameters\n",
    "deep_kernel.train()\n",
    "optimizer = torch.optim.Adam(deep_kernel.gp_layer.parameters(), lr=0.01)\n",
    "optimizer.n_iter = 0\n",
    "num_epochs = 10\n",
    "for i in range(num_epochs):\n",
    "    for j, (train_x_batch, train_y_batch) in enumerate(gp_data_loader):\n",
    "        train_x_batch = Variable(train_x_batch).cuda()\n",
    "        train_y_batch = Variable(train_y_batch).cuda()\n",
    "        optimizer.zero_grad()\n",
    "        output = deep_kernel(train_x_batch)\n",
    "        loss = -deep_kernel.gp_layer.marginal_log_likelihood(output, train_y_batch, n_data=len(train_mnist))\n",
    "        loss.backward()\n",
    "        optimizer.n_iter += 1\n",
    "        print('Iter %d/%d - Loss: %.3f' % (\n",
    "            i + 1, num_epochs, loss.data[0],\n",
    "        ))\n",
    "        optimizer.step()\n",
    "        \n",
    "    deep_kernel.eval()\n",
    "    test_data_loader = train_data_loader#torch.utils.data.DataLoader(test_mnist, shuffle=False, pin_memory=True, batch_size=256)\n",
    "\n",
    "    avg = 0.\n",
    "    i = 0.\n",
    "    for test_batch_x, test_batch_y in test_data_loader:\n",
    "        predictions = deep_kernel(Variable(test_batch_x).cuda()).argmax()\n",
    "        test_batch_y = Variable(test_batch_y).cuda()\n",
    "        avg += torch.eq(predictions, test_batch_y).float().mean().data[0]\n",
    "        i += 1.\n",
    "\n",
    "    print('Score')\n",
    "    print(avg / i)\n",
    "    deep_kernel.train()\n"
   ]
  },
  {
   "cell_type": "code",
   "execution_count": null,
   "metadata": {
    "collapsed": true
   },
   "outputs": [],
   "source": [
    "deep_kernel.eval()\n",
    "test_data_loader = torch.utils.data.DataLoader(test_mnist, shuffle=False, pin_memory=True, batch_size=256)\n",
    "\n",
    "for test_batch_x, test_batch_y in test_data_loader:\n",
    "    predictions = deep_kernel(Variable(test_batch_x).cuda()).representation().max(-1)[1]\n",
    "    test_batch_y = Variable(test_batch_y).cuda()\n",
    "    avg += torch.eq(predictions, test_batch_y).float().mean().data[0]\n",
    "    i += 1.\n",
    "print('Accuracy: %.4f' % (avg / i))\n"
   ]
  },
  {
   "cell_type": "code",
   "execution_count": null,
   "metadata": {
    "collapsed": true
   },
   "outputs": [],
   "source": []
  },
  {
   "cell_type": "code",
   "execution_count": null,
   "metadata": {
    "collapsed": true
   },
   "outputs": [],
   "source": []
  }
 ],
 "metadata": {
  "anaconda-cloud": {},
  "kernelspec": {
   "display_name": "Python 2",
   "language": "python",
   "name": "python2"
  },
  "language_info": {
   "codemirror_mode": {
    "name": "ipython",
    "version": 2
   },
   "file_extension": ".py",
   "mimetype": "text/x-python",
   "name": "python",
   "nbconvert_exporter": "python",
   "pygments_lexer": "ipython2",
   "version": "2.7.14"
  }
 },
 "nbformat": 4,
 "nbformat_minor": 1
}
